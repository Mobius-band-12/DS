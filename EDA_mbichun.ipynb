{
  "cells": [
    {
      "cell_type": "code",
      "execution_count": 3,
      "metadata": {
        "id": "b0L9fA0aLXTB"
      },
      "outputs": [],
      "source": [
        "import pandas as pd\n",
        "import numpy as np\n",
        "import matplotlib.pyplot as plt\n",
        "import seaborn as sns"
      ]
    },
    {
      "cell_type": "code",
      "execution_count": 4,
      "metadata": {
        "colab": {
          "base_uri": "https://localhost:8080/",
          "height": 206
        },
        "id": "f5sZ9i9XS36X",
        "outputId": "e3f313d7-283e-47a7-82d1-3c81b4d14594"
      },
      "outputs": [
        {
          "data": {
            "text/html": [
              "<div>\n",
              "<style scoped>\n",
              "    .dataframe tbody tr th:only-of-type {\n",
              "        vertical-align: middle;\n",
              "    }\n",
              "\n",
              "    .dataframe tbody tr th {\n",
              "        vertical-align: top;\n",
              "    }\n",
              "\n",
              "    .dataframe thead th {\n",
              "        text-align: right;\n",
              "    }\n",
              "</style>\n",
              "<table border=\"1\" class=\"dataframe\">\n",
              "  <thead>\n",
              "    <tr style=\"text-align: right;\">\n",
              "      <th></th>\n",
              "      <th>st_id</th>\n",
              "      <th>pr_sku_id</th>\n",
              "      <th>date</th>\n",
              "      <th>target</th>\n",
              "    </tr>\n",
              "  </thead>\n",
              "  <tbody>\n",
              "    <tr>\n",
              "      <th>0</th>\n",
              "      <td>16a5cdae362b8d27a1d8f8c7b78b4330</td>\n",
              "      <td>0045ebdb1069ff4b3dd3efe628c39cd3</td>\n",
              "      <td>2023-07-20</td>\n",
              "      <td>0</td>\n",
              "    </tr>\n",
              "    <tr>\n",
              "      <th>1</th>\n",
              "      <td>16a5cdae362b8d27a1d8f8c7b78b4330</td>\n",
              "      <td>00661699f543753ec7e911a64b9fd2f6</td>\n",
              "      <td>2023-07-20</td>\n",
              "      <td>0</td>\n",
              "    </tr>\n",
              "    <tr>\n",
              "      <th>2</th>\n",
              "      <td>16a5cdae362b8d27a1d8f8c7b78b4330</td>\n",
              "      <td>0094042bfeae507dc7f62acc8e5ed03a</td>\n",
              "      <td>2023-07-20</td>\n",
              "      <td>0</td>\n",
              "    </tr>\n",
              "    <tr>\n",
              "      <th>3</th>\n",
              "      <td>16a5cdae362b8d27a1d8f8c7b78b4330</td>\n",
              "      <td>0169529ff660adcac9b7e354e0c4b882</td>\n",
              "      <td>2023-07-20</td>\n",
              "      <td>0</td>\n",
              "    </tr>\n",
              "    <tr>\n",
              "      <th>4</th>\n",
              "      <td>16a5cdae362b8d27a1d8f8c7b78b4330</td>\n",
              "      <td>01e4734745e97e52d3213449e1a05dd7</td>\n",
              "      <td>2023-07-20</td>\n",
              "      <td>0</td>\n",
              "    </tr>\n",
              "  </tbody>\n",
              "</table>\n",
              "</div>"
            ],
            "text/plain": [
              "                              st_id                         pr_sku_id  \\\n",
              "0  16a5cdae362b8d27a1d8f8c7b78b4330  0045ebdb1069ff4b3dd3efe628c39cd3   \n",
              "1  16a5cdae362b8d27a1d8f8c7b78b4330  00661699f543753ec7e911a64b9fd2f6   \n",
              "2  16a5cdae362b8d27a1d8f8c7b78b4330  0094042bfeae507dc7f62acc8e5ed03a   \n",
              "3  16a5cdae362b8d27a1d8f8c7b78b4330  0169529ff660adcac9b7e354e0c4b882   \n",
              "4  16a5cdae362b8d27a1d8f8c7b78b4330  01e4734745e97e52d3213449e1a05dd7   \n",
              "\n",
              "         date  target  \n",
              "0  2023-07-20       0  \n",
              "1  2023-07-20       0  \n",
              "2  2023-07-20       0  \n",
              "3  2023-07-20       0  \n",
              "4  2023-07-20       0  "
            ]
          },
          "execution_count": 4,
          "metadata": {},
          "output_type": "execute_result"
        }
      ],
      "source": [
        "sample_sub = pd.read_csv('sales_submission.csv')\n",
        "sample_sub.head()"
      ]
    },
    {
      "cell_type": "code",
      "execution_count": 6,
      "metadata": {},
      "outputs": [
        {
          "data": {
            "text/plain": [
              "count                  43694\n",
              "mean     2023-07-25 12:00:00\n",
              "min      2023-07-19 00:00:00\n",
              "25%      2023-07-22 00:00:00\n",
              "50%      2023-07-25 12:00:00\n",
              "75%      2023-07-29 00:00:00\n",
              "max      2023-08-01 00:00:00\n",
              "Name: date, dtype: object"
            ]
          },
          "execution_count": 6,
          "metadata": {},
          "output_type": "execute_result"
        }
      ],
      "source": [
        "sample_sub['date'] = pd.to_datetime(sample_sub['date']).dt.normalize()\n",
        "sample_sub['date'].describe()"
      ]
    },
    {
      "cell_type": "code",
      "execution_count": 7,
      "metadata": {},
      "outputs": [
        {
          "data": {
            "text/plain": [
              "date\n",
              "2023-07-20    3121\n",
              "2023-07-21    3121\n",
              "2023-07-22    3121\n",
              "2023-07-24    3121\n",
              "2023-07-25    3121\n",
              "2023-07-26    3121\n",
              "2023-07-27    3121\n",
              "2023-07-28    3121\n",
              "2023-07-19    3121\n",
              "2023-07-23    3121\n",
              "2023-07-29    3121\n",
              "2023-07-30    3121\n",
              "2023-07-31    3121\n",
              "2023-08-01    3121\n",
              "Name: count, dtype: int64"
            ]
          },
          "execution_count": 7,
          "metadata": {},
          "output_type": "execute_result"
        }
      ],
      "source": [
        "sample_sub['date'].value_counts()"
      ]
    },
    {
      "cell_type": "code",
      "execution_count": 4,
      "metadata": {
        "colab": {
          "base_uri": "https://localhost:8080/"
        },
        "id": "iZn88Z0yTChk",
        "outputId": "b1b55ce6-7b10-4ff3-92c2-292b41139930"
      },
      "outputs": [
        {
          "data": {
            "text/plain": [
              "(43694, 4)"
            ]
          },
          "execution_count": 4,
          "metadata": {},
          "output_type": "execute_result"
        }
      ],
      "source": [
        "sample_sub.shape"
      ]
    },
    {
      "cell_type": "code",
      "execution_count": 5,
      "metadata": {
        "colab": {
          "base_uri": "https://localhost:8080/"
        },
        "id": "iB4AWEs3TF6w",
        "outputId": "5f95684e-f05a-4225-c744-189d6bd581f2"
      },
      "outputs": [
        {
          "data": {
            "text/plain": [
              "(8, 1087, 14)"
            ]
          },
          "execution_count": 5,
          "metadata": {},
          "output_type": "execute_result"
        }
      ],
      "source": [
        "sample_sub['st_id'].nunique(), sample_sub['pr_sku_id'].nunique(), sample_sub['date'].nunique()"
      ]
    },
    {
      "cell_type": "markdown",
      "metadata": {
        "id": "qTebKWA2TaBg"
      },
      "source": [
        "Прогноз для 8 магазинов и 1087 товаров на две недели. Не все товары есть во всех магазинах (в этом случае строк было бы в три раза больше)"
      ]
    },
    {
      "cell_type": "code",
      "execution_count": 6,
      "metadata": {
        "colab": {
          "base_uri": "https://localhost:8080/",
          "height": 226
        },
        "id": "ttGUIfbJTU1h",
        "outputId": "c0431066-9574-4421-a266-e20a4601cc7a"
      },
      "outputs": [
        {
          "data": {
            "text/html": [
              "<div>\n",
              "<style scoped>\n",
              "    .dataframe tbody tr th:only-of-type {\n",
              "        vertical-align: middle;\n",
              "    }\n",
              "\n",
              "    .dataframe tbody tr th {\n",
              "        vertical-align: top;\n",
              "    }\n",
              "\n",
              "    .dataframe thead th {\n",
              "        text-align: right;\n",
              "    }\n",
              "</style>\n",
              "<table border=\"1\" class=\"dataframe\">\n",
              "  <thead>\n",
              "    <tr style=\"text-align: right;\">\n",
              "      <th></th>\n",
              "      <th>st_id</th>\n",
              "      <th>st_city_id</th>\n",
              "      <th>st_division_code</th>\n",
              "      <th>st_type_format_id</th>\n",
              "      <th>st_type_loc_id</th>\n",
              "      <th>st_type_size_id</th>\n",
              "      <th>st_is_active</th>\n",
              "    </tr>\n",
              "  </thead>\n",
              "  <tbody>\n",
              "    <tr>\n",
              "      <th>0</th>\n",
              "      <td>1aa057313c28fa4a40c5bc084b11d276</td>\n",
              "      <td>1587965fb4d4b5afe8428a4a024feb0d</td>\n",
              "      <td>81b4dd343f5880df806d4c5d4a846c64</td>\n",
              "      <td>4</td>\n",
              "      <td>3</td>\n",
              "      <td>19</td>\n",
              "      <td>0</td>\n",
              "    </tr>\n",
              "    <tr>\n",
              "      <th>1</th>\n",
              "      <td>bd470ca955d9497bbcb808e59952fffc</td>\n",
              "      <td>955d864a62659945cc9434898e275deb</td>\n",
              "      <td>e26072c92d8fe0738df44d571d5f5e8b</td>\n",
              "      <td>4</td>\n",
              "      <td>3</td>\n",
              "      <td>19</td>\n",
              "      <td>1</td>\n",
              "    </tr>\n",
              "    <tr>\n",
              "      <th>2</th>\n",
              "      <td>6364d3f0f495b6ab9dcf8d3b5c6e0b01</td>\n",
              "      <td>b8b4b727d6f5d1b61fff7be687f7970f</td>\n",
              "      <td>da742b3cfca5388aaf9af28a726a3c30</td>\n",
              "      <td>1</td>\n",
              "      <td>1</td>\n",
              "      <td>12</td>\n",
              "      <td>1</td>\n",
              "    </tr>\n",
              "    <tr>\n",
              "      <th>3</th>\n",
              "      <td>1ecfb463472ec9115b10c292ef8bc986</td>\n",
              "      <td>908c9a564a86426585b29f5335b619bc</td>\n",
              "      <td>429a86ff6336c144ddaf6144f52ab52c</td>\n",
              "      <td>2</td>\n",
              "      <td>1</td>\n",
              "      <td>28</td>\n",
              "      <td>1</td>\n",
              "    </tr>\n",
              "    <tr>\n",
              "      <th>4</th>\n",
              "      <td>16a5cdae362b8d27a1d8f8c7b78b4330</td>\n",
              "      <td>c1f75cc0f7fe269dd0fd9bd5e24f9586</td>\n",
              "      <td>296bd0cc6e735f9d7488ebc8fbc19130</td>\n",
              "      <td>1</td>\n",
              "      <td>2</td>\n",
              "      <td>8</td>\n",
              "      <td>1</td>\n",
              "    </tr>\n",
              "  </tbody>\n",
              "</table>\n",
              "</div>"
            ],
            "text/plain": [
              "                              st_id                        st_city_id  \\\n",
              "0  1aa057313c28fa4a40c5bc084b11d276  1587965fb4d4b5afe8428a4a024feb0d   \n",
              "1  bd470ca955d9497bbcb808e59952fffc  955d864a62659945cc9434898e275deb   \n",
              "2  6364d3f0f495b6ab9dcf8d3b5c6e0b01  b8b4b727d6f5d1b61fff7be687f7970f   \n",
              "3  1ecfb463472ec9115b10c292ef8bc986  908c9a564a86426585b29f5335b619bc   \n",
              "4  16a5cdae362b8d27a1d8f8c7b78b4330  c1f75cc0f7fe269dd0fd9bd5e24f9586   \n",
              "\n",
              "                   st_division_code  st_type_format_id  st_type_loc_id  \\\n",
              "0  81b4dd343f5880df806d4c5d4a846c64                  4               3   \n",
              "1  e26072c92d8fe0738df44d571d5f5e8b                  4               3   \n",
              "2  da742b3cfca5388aaf9af28a726a3c30                  1               1   \n",
              "3  429a86ff6336c144ddaf6144f52ab52c                  2               1   \n",
              "4  296bd0cc6e735f9d7488ebc8fbc19130                  1               2   \n",
              "\n",
              "   st_type_size_id  st_is_active  \n",
              "0               19             0  \n",
              "1               19             1  \n",
              "2               12             1  \n",
              "3               28             1  \n",
              "4                8             1  "
            ]
          },
          "execution_count": 6,
          "metadata": {},
          "output_type": "execute_result"
        }
      ],
      "source": [
        "stores = pd.read_csv('st_df.csv')\n",
        "stores.head()"
      ]
    },
    {
      "cell_type": "code",
      "execution_count": 7,
      "metadata": {
        "colab": {
          "base_uri": "https://localhost:8080/"
        },
        "id": "oCq2-YnzUIXp",
        "outputId": "0b527d70-7ef2-4fb4-9fba-74e82c5fac20"
      },
      "outputs": [
        {
          "name": "stdout",
          "output_type": "stream",
          "text": [
            "st_id - 12\n",
            "st_city_id - 7\n",
            "st_division_code - 6\n",
            "st_type_format_id - 3\n",
            "st_type_loc_id - 3\n",
            "st_type_size_id - 6\n",
            "st_is_active - 2\n"
          ]
        }
      ],
      "source": [
        "for col in stores.columns:\n",
        "  print(col, '-', stores[col].nunique())"
      ]
    },
    {
      "cell_type": "code",
      "execution_count": 58,
      "metadata": {},
      "outputs": [],
      "source": [
        "def check_sets(df1, col1, df2, col2, name1='first', name2='second'):\n",
        "    set1 = set(df1[col1].unique())\n",
        "    set2 = set(df2[col2].unique())\n",
        "    print('in both files:', len(set1 & set2))\n",
        "    print(f'in {name1} but not in {name2}:', len(set1 - set2))\n",
        "    print(f'in {name2} but not in {name1}:', len(set2 - set1))"
      ]
    },
    {
      "cell_type": "code",
      "execution_count": 8,
      "metadata": {
        "colab": {
          "base_uri": "https://localhost:8080/"
        },
        "id": "0igRVPE-Ubq7",
        "outputId": "9a71ff4d-d155-4ba1-9eae-99ceba6ff5da"
      },
      "outputs": [
        {
          "name": "stdout",
          "output_type": "stream",
          "text": [
            "in both files: 8 \n",
            " {'53e19f3dbb211f20b20b45668303c1b6', '16a5cdae362b8d27a1d8f8c7b78b4330', 'fa7cdfad1a5aaf8370ebeda47a1ff1c3', '6364d3f0f495b6ab9dcf8d3b5c6e0b01', 'c81e728d9d4c2f636f067f89cc14862c', '42a0e188f5033bc65bf8d78622277c4e', 'f7e6c85504ce6e82442c770f7c8606f0', '1ecfb463472ec9115b10c292ef8bc986'}\n",
            "in total but not in sub: 4 \n",
            " {'084a8a9aa8cced9175bd07bc44998e75', 'bd470ca955d9497bbcb808e59952fffc', '1aa057313c28fa4a40c5bc084b11d276', '62f91ce9b820a491ee78c108636db089'}\n"
          ]
        }
      ],
      "source": [
        "stores_sub = set(sample_sub['st_id'].unique())\n",
        "stores_total = set(stores['st_id'].unique())\n",
        "print('in both files:', len(stores_sub & stores_total), '\\n', stores_sub & stores_total)\n",
        "print('in total but not in sub:', len(stores_total - stores_sub), '\\n', stores_total - stores_sub)"
      ]
    },
    {
      "cell_type": "code",
      "execution_count": 59,
      "metadata": {},
      "outputs": [
        {
          "name": "stdout",
          "output_type": "stream",
          "text": [
            "in both files: 8\n",
            "in total but not in sub: 4\n",
            "in sub but not in total: 0\n"
          ]
        }
      ],
      "source": [
        "check_sets(stores, 'st_id', sample_sub, 'st_id', 'total', 'sub')"
      ]
    },
    {
      "cell_type": "code",
      "execution_count": 9,
      "metadata": {
        "colab": {
          "base_uri": "https://localhost:8080/",
          "height": 132
        },
        "id": "EYXemVXJVygN",
        "outputId": "a1074d10-2b0d-4faf-8628-cead2349c652"
      },
      "outputs": [
        {
          "data": {
            "text/html": [
              "<div>\n",
              "<style scoped>\n",
              "    .dataframe tbody tr th:only-of-type {\n",
              "        vertical-align: middle;\n",
              "    }\n",
              "\n",
              "    .dataframe tbody tr th {\n",
              "        vertical-align: top;\n",
              "    }\n",
              "\n",
              "    .dataframe thead th {\n",
              "        text-align: right;\n",
              "    }\n",
              "</style>\n",
              "<table border=\"1\" class=\"dataframe\">\n",
              "  <thead>\n",
              "    <tr style=\"text-align: right;\">\n",
              "      <th></th>\n",
              "      <th>st_id</th>\n",
              "      <th>st_city_id</th>\n",
              "      <th>st_division_code</th>\n",
              "      <th>st_type_format_id</th>\n",
              "      <th>st_type_loc_id</th>\n",
              "      <th>st_type_size_id</th>\n",
              "      <th>st_is_active</th>\n",
              "    </tr>\n",
              "  </thead>\n",
              "  <tbody>\n",
              "    <tr>\n",
              "      <th>0</th>\n",
              "      <td>1aa057313c28fa4a40c5bc084b11d276</td>\n",
              "      <td>1587965fb4d4b5afe8428a4a024feb0d</td>\n",
              "      <td>81b4dd343f5880df806d4c5d4a846c64</td>\n",
              "      <td>4</td>\n",
              "      <td>3</td>\n",
              "      <td>19</td>\n",
              "      <td>0</td>\n",
              "    </tr>\n",
              "    <tr>\n",
              "      <th>10</th>\n",
              "      <td>62f91ce9b820a491ee78c108636db089</td>\n",
              "      <td>1587965fb4d4b5afe8428a4a024feb0d</td>\n",
              "      <td>81b4dd343f5880df806d4c5d4a846c64</td>\n",
              "      <td>4</td>\n",
              "      <td>3</td>\n",
              "      <td>32</td>\n",
              "      <td>0</td>\n",
              "    </tr>\n",
              "  </tbody>\n",
              "</table>\n",
              "</div>"
            ],
            "text/plain": [
              "                               st_id                        st_city_id  \\\n",
              "0   1aa057313c28fa4a40c5bc084b11d276  1587965fb4d4b5afe8428a4a024feb0d   \n",
              "10  62f91ce9b820a491ee78c108636db089  1587965fb4d4b5afe8428a4a024feb0d   \n",
              "\n",
              "                    st_division_code  st_type_format_id  st_type_loc_id  \\\n",
              "0   81b4dd343f5880df806d4c5d4a846c64                  4               3   \n",
              "10  81b4dd343f5880df806d4c5d4a846c64                  4               3   \n",
              "\n",
              "    st_type_size_id  st_is_active  \n",
              "0                19             0  \n",
              "10               32             0  "
            ]
          },
          "execution_count": 9,
          "metadata": {},
          "output_type": "execute_result"
        }
      ],
      "source": [
        "stores[stores['st_is_active'] == 0]"
      ]
    },
    {
      "cell_type": "markdown",
      "metadata": {
        "id": "HgZ0nknzW6BA"
      },
      "source": [
        "Из 12 магазинов 8 попали в прогноз. Из оставшихся четырех два неактивны\n",
        "\n",
        "Магазины расположены в 7 городах 6 разных дивизонов"
      ]
    },
    {
      "cell_type": "code",
      "execution_count": 10,
      "metadata": {
        "colab": {
          "base_uri": "https://localhost:8080/",
          "height": 741
        },
        "id": "ApOVY_vPWurA",
        "outputId": "db5fa834-be87-455f-8351-c3648c125adf"
      },
      "outputs": [
        {
          "name": "stdout",
          "output_type": "stream",
          "text": [
            "1587965fb4d4b5afe8428a4a024feb0d\n"
          ]
        },
        {
          "data": {
            "text/html": [
              "<div>\n",
              "<style scoped>\n",
              "    .dataframe tbody tr th:only-of-type {\n",
              "        vertical-align: middle;\n",
              "    }\n",
              "\n",
              "    .dataframe tbody tr th {\n",
              "        vertical-align: top;\n",
              "    }\n",
              "\n",
              "    .dataframe thead th {\n",
              "        text-align: right;\n",
              "    }\n",
              "</style>\n",
              "<table border=\"1\" class=\"dataframe\">\n",
              "  <thead>\n",
              "    <tr style=\"text-align: right;\">\n",
              "      <th></th>\n",
              "      <th>st_type_format_id</th>\n",
              "      <th>st_type_loc_id</th>\n",
              "      <th>st_type_size_id</th>\n",
              "      <th>st_is_active</th>\n",
              "    </tr>\n",
              "  </thead>\n",
              "  <tbody>\n",
              "    <tr>\n",
              "      <th>0</th>\n",
              "      <td>4</td>\n",
              "      <td>3</td>\n",
              "      <td>19</td>\n",
              "      <td>0</td>\n",
              "    </tr>\n",
              "    <tr>\n",
              "      <th>10</th>\n",
              "      <td>4</td>\n",
              "      <td>3</td>\n",
              "      <td>32</td>\n",
              "      <td>0</td>\n",
              "    </tr>\n",
              "  </tbody>\n",
              "</table>\n",
              "</div>"
            ],
            "text/plain": [
              "    st_type_format_id  st_type_loc_id  st_type_size_id  st_is_active\n",
              "0                   4               3               19             0\n",
              "10                  4               3               32             0"
            ]
          },
          "metadata": {},
          "output_type": "display_data"
        },
        {
          "name": "stdout",
          "output_type": "stream",
          "text": [
            "955d864a62659945cc9434898e275deb\n"
          ]
        },
        {
          "data": {
            "text/html": [
              "<div>\n",
              "<style scoped>\n",
              "    .dataframe tbody tr th:only-of-type {\n",
              "        vertical-align: middle;\n",
              "    }\n",
              "\n",
              "    .dataframe tbody tr th {\n",
              "        vertical-align: top;\n",
              "    }\n",
              "\n",
              "    .dataframe thead th {\n",
              "        text-align: right;\n",
              "    }\n",
              "</style>\n",
              "<table border=\"1\" class=\"dataframe\">\n",
              "  <thead>\n",
              "    <tr style=\"text-align: right;\">\n",
              "      <th></th>\n",
              "      <th>st_type_format_id</th>\n",
              "      <th>st_type_loc_id</th>\n",
              "      <th>st_type_size_id</th>\n",
              "      <th>st_is_active</th>\n",
              "    </tr>\n",
              "  </thead>\n",
              "  <tbody>\n",
              "    <tr>\n",
              "      <th>1</th>\n",
              "      <td>4</td>\n",
              "      <td>3</td>\n",
              "      <td>19</td>\n",
              "      <td>1</td>\n",
              "    </tr>\n",
              "    <tr>\n",
              "      <th>5</th>\n",
              "      <td>4</td>\n",
              "      <td>3</td>\n",
              "      <td>20</td>\n",
              "      <td>1</td>\n",
              "    </tr>\n",
              "  </tbody>\n",
              "</table>\n",
              "</div>"
            ],
            "text/plain": [
              "   st_type_format_id  st_type_loc_id  st_type_size_id  st_is_active\n",
              "1                  4               3               19             1\n",
              "5                  4               3               20             1"
            ]
          },
          "metadata": {},
          "output_type": "display_data"
        },
        {
          "name": "stdout",
          "output_type": "stream",
          "text": [
            "b8b4b727d6f5d1b61fff7be687f7970f\n"
          ]
        },
        {
          "data": {
            "text/html": [
              "<div>\n",
              "<style scoped>\n",
              "    .dataframe tbody tr th:only-of-type {\n",
              "        vertical-align: middle;\n",
              "    }\n",
              "\n",
              "    .dataframe tbody tr th {\n",
              "        vertical-align: top;\n",
              "    }\n",
              "\n",
              "    .dataframe thead th {\n",
              "        text-align: right;\n",
              "    }\n",
              "</style>\n",
              "<table border=\"1\" class=\"dataframe\">\n",
              "  <thead>\n",
              "    <tr style=\"text-align: right;\">\n",
              "      <th></th>\n",
              "      <th>st_type_format_id</th>\n",
              "      <th>st_type_loc_id</th>\n",
              "      <th>st_type_size_id</th>\n",
              "      <th>st_is_active</th>\n",
              "    </tr>\n",
              "  </thead>\n",
              "  <tbody>\n",
              "    <tr>\n",
              "      <th>2</th>\n",
              "      <td>1</td>\n",
              "      <td>1</td>\n",
              "      <td>12</td>\n",
              "      <td>1</td>\n",
              "    </tr>\n",
              "    <tr>\n",
              "      <th>6</th>\n",
              "      <td>1</td>\n",
              "      <td>1</td>\n",
              "      <td>12</td>\n",
              "      <td>1</td>\n",
              "    </tr>\n",
              "  </tbody>\n",
              "</table>\n",
              "</div>"
            ],
            "text/plain": [
              "   st_type_format_id  st_type_loc_id  st_type_size_id  st_is_active\n",
              "2                  1               1               12             1\n",
              "6                  1               1               12             1"
            ]
          },
          "metadata": {},
          "output_type": "display_data"
        },
        {
          "name": "stdout",
          "output_type": "stream",
          "text": [
            "908c9a564a86426585b29f5335b619bc\n"
          ]
        },
        {
          "data": {
            "text/html": [
              "<div>\n",
              "<style scoped>\n",
              "    .dataframe tbody tr th:only-of-type {\n",
              "        vertical-align: middle;\n",
              "    }\n",
              "\n",
              "    .dataframe tbody tr th {\n",
              "        vertical-align: top;\n",
              "    }\n",
              "\n",
              "    .dataframe thead th {\n",
              "        text-align: right;\n",
              "    }\n",
              "</style>\n",
              "<table border=\"1\" class=\"dataframe\">\n",
              "  <thead>\n",
              "    <tr style=\"text-align: right;\">\n",
              "      <th></th>\n",
              "      <th>st_type_format_id</th>\n",
              "      <th>st_type_loc_id</th>\n",
              "      <th>st_type_size_id</th>\n",
              "      <th>st_is_active</th>\n",
              "    </tr>\n",
              "  </thead>\n",
              "  <tbody>\n",
              "    <tr>\n",
              "      <th>3</th>\n",
              "      <td>2</td>\n",
              "      <td>1</td>\n",
              "      <td>28</td>\n",
              "      <td>1</td>\n",
              "    </tr>\n",
              "    <tr>\n",
              "      <th>7</th>\n",
              "      <td>1</td>\n",
              "      <td>1</td>\n",
              "      <td>8</td>\n",
              "      <td>1</td>\n",
              "    </tr>\n",
              "  </tbody>\n",
              "</table>\n",
              "</div>"
            ],
            "text/plain": [
              "   st_type_format_id  st_type_loc_id  st_type_size_id  st_is_active\n",
              "3                  2               1               28             1\n",
              "7                  1               1                8             1"
            ]
          },
          "metadata": {},
          "output_type": "display_data"
        },
        {
          "name": "stdout",
          "output_type": "stream",
          "text": [
            "c1f75cc0f7fe269dd0fd9bd5e24f9586\n"
          ]
        },
        {
          "data": {
            "text/html": [
              "<div>\n",
              "<style scoped>\n",
              "    .dataframe tbody tr th:only-of-type {\n",
              "        vertical-align: middle;\n",
              "    }\n",
              "\n",
              "    .dataframe tbody tr th {\n",
              "        vertical-align: top;\n",
              "    }\n",
              "\n",
              "    .dataframe thead th {\n",
              "        text-align: right;\n",
              "    }\n",
              "</style>\n",
              "<table border=\"1\" class=\"dataframe\">\n",
              "  <thead>\n",
              "    <tr style=\"text-align: right;\">\n",
              "      <th></th>\n",
              "      <th>st_type_format_id</th>\n",
              "      <th>st_type_loc_id</th>\n",
              "      <th>st_type_size_id</th>\n",
              "      <th>st_is_active</th>\n",
              "    </tr>\n",
              "  </thead>\n",
              "  <tbody>\n",
              "    <tr>\n",
              "      <th>4</th>\n",
              "      <td>1</td>\n",
              "      <td>2</td>\n",
              "      <td>8</td>\n",
              "      <td>1</td>\n",
              "    </tr>\n",
              "  </tbody>\n",
              "</table>\n",
              "</div>"
            ],
            "text/plain": [
              "   st_type_format_id  st_type_loc_id  st_type_size_id  st_is_active\n",
              "4                  1               2                8             1"
            ]
          },
          "metadata": {},
          "output_type": "display_data"
        },
        {
          "name": "stdout",
          "output_type": "stream",
          "text": [
            "885fe656777008c335ac96072a45be15\n"
          ]
        },
        {
          "data": {
            "text/html": [
              "<div>\n",
              "<style scoped>\n",
              "    .dataframe tbody tr th:only-of-type {\n",
              "        vertical-align: middle;\n",
              "    }\n",
              "\n",
              "    .dataframe tbody tr th {\n",
              "        vertical-align: top;\n",
              "    }\n",
              "\n",
              "    .dataframe thead th {\n",
              "        text-align: right;\n",
              "    }\n",
              "</style>\n",
              "<table border=\"1\" class=\"dataframe\">\n",
              "  <thead>\n",
              "    <tr style=\"text-align: right;\">\n",
              "      <th></th>\n",
              "      <th>st_type_format_id</th>\n",
              "      <th>st_type_loc_id</th>\n",
              "      <th>st_type_size_id</th>\n",
              "      <th>st_is_active</th>\n",
              "    </tr>\n",
              "  </thead>\n",
              "  <tbody>\n",
              "    <tr>\n",
              "      <th>8</th>\n",
              "      <td>1</td>\n",
              "      <td>1</td>\n",
              "      <td>12</td>\n",
              "      <td>1</td>\n",
              "    </tr>\n",
              "  </tbody>\n",
              "</table>\n",
              "</div>"
            ],
            "text/plain": [
              "   st_type_format_id  st_type_loc_id  st_type_size_id  st_is_active\n",
              "8                  1               1               12             1"
            ]
          },
          "metadata": {},
          "output_type": "display_data"
        },
        {
          "name": "stdout",
          "output_type": "stream",
          "text": [
            "3202111cf90e7c816a472aaceb72b0df\n"
          ]
        },
        {
          "data": {
            "text/html": [
              "<div>\n",
              "<style scoped>\n",
              "    .dataframe tbody tr th:only-of-type {\n",
              "        vertical-align: middle;\n",
              "    }\n",
              "\n",
              "    .dataframe tbody tr th {\n",
              "        vertical-align: top;\n",
              "    }\n",
              "\n",
              "    .dataframe thead th {\n",
              "        text-align: right;\n",
              "    }\n",
              "</style>\n",
              "<table border=\"1\" class=\"dataframe\">\n",
              "  <thead>\n",
              "    <tr style=\"text-align: right;\">\n",
              "      <th></th>\n",
              "      <th>st_type_format_id</th>\n",
              "      <th>st_type_loc_id</th>\n",
              "      <th>st_type_size_id</th>\n",
              "      <th>st_is_active</th>\n",
              "    </tr>\n",
              "  </thead>\n",
              "  <tbody>\n",
              "    <tr>\n",
              "      <th>9</th>\n",
              "      <td>1</td>\n",
              "      <td>1</td>\n",
              "      <td>12</td>\n",
              "      <td>1</td>\n",
              "    </tr>\n",
              "    <tr>\n",
              "      <th>11</th>\n",
              "      <td>4</td>\n",
              "      <td>3</td>\n",
              "      <td>19</td>\n",
              "      <td>1</td>\n",
              "    </tr>\n",
              "  </tbody>\n",
              "</table>\n",
              "</div>"
            ],
            "text/plain": [
              "    st_type_format_id  st_type_loc_id  st_type_size_id  st_is_active\n",
              "9                   1               1               12             1\n",
              "11                  4               3               19             1"
            ]
          },
          "metadata": {},
          "output_type": "display_data"
        }
      ],
      "source": [
        "for city in stores['st_city_id'].unique():\n",
        "  print(city)\n",
        "  display(stores[stores['st_city_id'] == city][['st_type_format_id', 'st_type_loc_id', 'st_type_size_id', 'st_is_active']])"
      ]
    },
    {
      "cell_type": "markdown",
      "metadata": {
        "id": "5hoKPPDBYYal"
      },
      "source": [
        "В каждом городе 1 либо 2 магазина\n",
        "\n",
        "Оба неактивных магазина - в одном городе\n",
        "\n",
        "Формат 2 и тип локации 2 представлены только по одному разу\n",
        "\n",
        "Размеры 20, 28 и 32 (очевидно более крупные) представлены по одному разу"
      ]
    },
    {
      "cell_type": "code",
      "execution_count": 11,
      "metadata": {
        "colab": {
          "base_uri": "https://localhost:8080/",
          "height": 206
        },
        "id": "9hD5lr-xbFty",
        "outputId": "07f78a21-2b0a-412d-b745-8bab9f51aece"
      },
      "outputs": [
        {
          "data": {
            "text/html": [
              "<div>\n",
              "<style scoped>\n",
              "    .dataframe tbody tr th:only-of-type {\n",
              "        vertical-align: middle;\n",
              "    }\n",
              "\n",
              "    .dataframe tbody tr th {\n",
              "        vertical-align: top;\n",
              "    }\n",
              "\n",
              "    .dataframe thead th {\n",
              "        text-align: right;\n",
              "    }\n",
              "</style>\n",
              "<table border=\"1\" class=\"dataframe\">\n",
              "  <thead>\n",
              "    <tr style=\"text-align: right;\">\n",
              "      <th></th>\n",
              "      <th>pr_sku_id</th>\n",
              "      <th>pr_group_id</th>\n",
              "      <th>pr_cat_id</th>\n",
              "      <th>pr_subcat_id</th>\n",
              "      <th>pr_uom_id</th>\n",
              "    </tr>\n",
              "  </thead>\n",
              "  <tbody>\n",
              "    <tr>\n",
              "      <th>0</th>\n",
              "      <td>fd064933250b0bfe4f926b867b0a5ec8</td>\n",
              "      <td>c74d97b01eae257e44aa9d5bade97baf</td>\n",
              "      <td>1bc0249a6412ef49b07fe6f62e6dc8de</td>\n",
              "      <td>ca34f669ae367c87f0e75dcae0f61ee5</td>\n",
              "      <td>17</td>\n",
              "    </tr>\n",
              "    <tr>\n",
              "      <th>1</th>\n",
              "      <td>71c9661741caf40a92a32d1cc8206c04</td>\n",
              "      <td>c74d97b01eae257e44aa9d5bade97baf</td>\n",
              "      <td>c559da2ba967eb820766939a658022c8</td>\n",
              "      <td>e06f5ed77191826c212c30722f2cc5a2</td>\n",
              "      <td>17</td>\n",
              "    </tr>\n",
              "    <tr>\n",
              "      <th>2</th>\n",
              "      <td>00b72c2f01a1512cbb1d3f33319bac93</td>\n",
              "      <td>c74d97b01eae257e44aa9d5bade97baf</td>\n",
              "      <td>1bc0249a6412ef49b07fe6f62e6dc8de</td>\n",
              "      <td>d407a3ebb4ab9b0d68b224486f8b8dad</td>\n",
              "      <td>17</td>\n",
              "    </tr>\n",
              "    <tr>\n",
              "      <th>3</th>\n",
              "      <td>9bc40cd2fe4f188f402bb41548c5e15c</td>\n",
              "      <td>c74d97b01eae257e44aa9d5bade97baf</td>\n",
              "      <td>1bc0249a6412ef49b07fe6f62e6dc8de</td>\n",
              "      <td>ca34f669ae367c87f0e75dcae0f61ee5</td>\n",
              "      <td>17</td>\n",
              "    </tr>\n",
              "    <tr>\n",
              "      <th>4</th>\n",
              "      <td>3a74a370c8eb032acb11ad9119242b8f</td>\n",
              "      <td>c74d97b01eae257e44aa9d5bade97baf</td>\n",
              "      <td>c559da2ba967eb820766939a658022c8</td>\n",
              "      <td>e06f5ed77191826c212c30722f2cc5a2</td>\n",
              "      <td>17</td>\n",
              "    </tr>\n",
              "  </tbody>\n",
              "</table>\n",
              "</div>"
            ],
            "text/plain": [
              "                          pr_sku_id                       pr_group_id  \\\n",
              "0  fd064933250b0bfe4f926b867b0a5ec8  c74d97b01eae257e44aa9d5bade97baf   \n",
              "1  71c9661741caf40a92a32d1cc8206c04  c74d97b01eae257e44aa9d5bade97baf   \n",
              "2  00b72c2f01a1512cbb1d3f33319bac93  c74d97b01eae257e44aa9d5bade97baf   \n",
              "3  9bc40cd2fe4f188f402bb41548c5e15c  c74d97b01eae257e44aa9d5bade97baf   \n",
              "4  3a74a370c8eb032acb11ad9119242b8f  c74d97b01eae257e44aa9d5bade97baf   \n",
              "\n",
              "                          pr_cat_id                      pr_subcat_id  \\\n",
              "0  1bc0249a6412ef49b07fe6f62e6dc8de  ca34f669ae367c87f0e75dcae0f61ee5   \n",
              "1  c559da2ba967eb820766939a658022c8  e06f5ed77191826c212c30722f2cc5a2   \n",
              "2  1bc0249a6412ef49b07fe6f62e6dc8de  d407a3ebb4ab9b0d68b224486f8b8dad   \n",
              "3  1bc0249a6412ef49b07fe6f62e6dc8de  ca34f669ae367c87f0e75dcae0f61ee5   \n",
              "4  c559da2ba967eb820766939a658022c8  e06f5ed77191826c212c30722f2cc5a2   \n",
              "\n",
              "   pr_uom_id  \n",
              "0         17  \n",
              "1         17  \n",
              "2         17  \n",
              "3         17  \n",
              "4         17  "
            ]
          },
          "execution_count": 11,
          "metadata": {},
          "output_type": "execute_result"
        }
      ],
      "source": [
        "items = pd.read_csv('pr_df.csv')\n",
        "items.head()"
      ]
    },
    {
      "cell_type": "code",
      "execution_count": 12,
      "metadata": {
        "colab": {
          "base_uri": "https://localhost:8080/"
        },
        "id": "9flbA_GzbwZF",
        "outputId": "3c5ee0e3-79a4-4c8e-8fe0-130e96693843"
      },
      "outputs": [
        {
          "name": "stdout",
          "output_type": "stream",
          "text": [
            "pr_sku_id - 2050\n",
            "pr_group_id - 9\n",
            "pr_cat_id - 43\n",
            "pr_subcat_id - 170\n",
            "pr_uom_id - 2\n"
          ]
        }
      ],
      "source": [
        "for col in items.columns:\n",
        "  print(col, '-', items[col].nunique())"
      ]
    },
    {
      "cell_type": "code",
      "execution_count": 13,
      "metadata": {
        "colab": {
          "base_uri": "https://localhost:8080/"
        },
        "id": "oeYlenVxcGKd",
        "outputId": "44b2cb0d-6819-417e-9ece-b0e8264197dc"
      },
      "outputs": [
        {
          "data": {
            "text/plain": [
              "array([17,  1], dtype=int64)"
            ]
          },
          "execution_count": 13,
          "metadata": {},
          "output_type": "execute_result"
        }
      ],
      "source": [
        "items['pr_uom_id'].unique()"
      ]
    },
    {
      "cell_type": "code",
      "execution_count": 14,
      "metadata": {
        "colab": {
          "base_uri": "https://localhost:8080/"
        },
        "id": "pexK96hxcbR6",
        "outputId": "68935aa9-72bd-4f2b-bbbb-61e4d60cf80b"
      },
      "outputs": [
        {
          "name": "stdout",
          "output_type": "stream",
          "text": [
            "771 ids in type 17, 1279 ids in type 1\n"
          ]
        }
      ],
      "source": [
        "type17 = items[items['pr_uom_id']==17]['pr_sku_id'].unique()\n",
        "type1 = items[items['pr_uom_id']==1]['pr_sku_id'].unique()\n",
        "print(f'{len(type17)} ids in type 17, {len(type1)} ids in type 1')"
      ]
    },
    {
      "cell_type": "code",
      "execution_count": 15,
      "metadata": {
        "colab": {
          "base_uri": "https://localhost:8080/"
        },
        "id": "16vSo8UBckLE",
        "outputId": "6539e0dc-52f7-4c57-afbb-7706737308e2"
      },
      "outputs": [
        {
          "name": "stdout",
          "output_type": "stream",
          "text": [
            "Out of 771 items in type 17 416 (54%) are in sample submission\n",
            "Out of 1279 items in type 1 671 (52%) are in sample submission\n"
          ]
        }
      ],
      "source": [
        "items_insub = sample_sub['pr_sku_id'].unique()\n",
        "insub_type17 = sum([1 for id in type17 if id in items_insub])\n",
        "insub_type1 = sum([1 for id in type1 if id in items_insub])\n",
        "print(f'Out of {len(type17)} items in type 17 {insub_type17} ({round(insub_type17 * 100 / len(type17))}%) are in sample submission')\n",
        "print(f'Out of {len(type1)} items in type 1 {insub_type1} ({round(insub_type1 * 100 / len(type1))}%) are in sample submission')"
      ]
    },
    {
      "cell_type": "markdown",
      "metadata": {
        "id": "7UUdKLhtdB5i"
      },
      "source": [
        "В задании сказано, что мы предсказываем спрос в штуках, но в тестовой выборке примерно поровну товаров, продающихся в штуках и на вес\n",
        "\n",
        "Понять, какой из кодов 17 и 1 штуки, а какой на вес, пока невозможно. Нужно посмотреть на продажи"
      ]
    },
    {
      "cell_type": "code",
      "execution_count": 16,
      "metadata": {
        "colab": {
          "base_uri": "https://localhost:8080/"
        },
        "id": "wW24BI-Nfbin",
        "outputId": "d51b85a3-d33c-411b-c580-3a0efdd52e67"
      },
      "outputs": [
        {
          "name": "stdout",
          "output_type": "stream",
          "text": [
            "group 0 contains 10 categories, 57 subcategories and 806 items\n",
            "group 1 contains 6 categories, 14 subcategories and 203 items\n",
            "group 2 contains 9 categories, 46 subcategories and 717 items\n",
            "group 3 contains 2 categories, 9 subcategories and 73 items\n",
            "group 4 contains 9 categories, 30 subcategories and 182 items\n",
            "group 5 contains 3 categories, 5 subcategories and 27 items\n",
            "group 6 contains 1 categories, 6 subcategories and 37 items\n",
            "group 7 contains 2 categories, 2 subcategories and 4 items\n",
            "group 8 contains 1 categories, 1 subcategories and 1 items\n"
          ]
        }
      ],
      "source": [
        "gr_cat_sub_it = []\n",
        "for groupnum, group in enumerate(items['pr_group_id'].unique()):\n",
        "  cat_sub_it = []\n",
        "  cats = items[items['pr_group_id'] == group]['pr_cat_id'].unique()\n",
        "  for catnum, cat in enumerate(cats):\n",
        "    sub_it = []\n",
        "    subcats = items[(items['pr_group_id'] == group) & (items['pr_cat_id'] == cat)]['pr_subcat_id'].unique()\n",
        "    for subnum, subcat in enumerate(subcats):\n",
        "      skus = items[(items['pr_group_id'] == group) & (items['pr_cat_id'] == cat) &\n",
        "       (items['pr_subcat_id'] == subcat)]['pr_sku_id'].unique()\n",
        "      sub_it.append(len(skus))\n",
        "    cat_sub_it.append(sub_it)\n",
        "  gr_cat_sub_it.append(cat_sub_it)\n",
        "for groupnum, group in enumerate(items['pr_group_id'].unique()):\n",
        "  cats = len(gr_cat_sub_it[groupnum])\n",
        "  subcats = sum(len(x) for x in gr_cat_sub_it[groupnum])\n",
        "  skus = sum(sum(x) for x in gr_cat_sub_it[groupnum])\n",
        "  print(f'group {groupnum} contains {cats} categories, {subcats} subcategories and {skus} items')"
      ]
    },
    {
      "cell_type": "code",
      "execution_count": 57,
      "metadata": {},
      "outputs": [
        {
          "data": {
            "text/plain": [
              "43"
            ]
          },
          "execution_count": 57,
          "metadata": {},
          "output_type": "execute_result"
        }
      ],
      "source": [
        "gr_cat_sub_it[0][0][0]"
      ]
    },
    {
      "cell_type": "code",
      "execution_count": 17,
      "metadata": {
        "colab": {
          "base_uri": "https://localhost:8080/"
        },
        "id": "mCemAFdbhicF",
        "outputId": "26ebaea6-3260-49f4-e978-82b9378a81d3"
      },
      "outputs": [
        {
          "data": {
            "text/plain": [
              "array(['98f13708210194c475687be6106a3b84',\n",
              "       '3c59dc048e8850243be8079a5c74d079'], dtype=object)"
            ]
          },
          "execution_count": 17,
          "metadata": {},
          "output_type": "execute_result"
        }
      ],
      "source": [
        "items['pr_group_id'].unique()[-2:]"
      ]
    },
    {
      "cell_type": "code",
      "execution_count": 18,
      "metadata": {
        "colab": {
          "base_uri": "https://localhost:8080/"
        },
        "id": "uZsqxLFro1IX",
        "outputId": "ce87b4e9-714e-4d5f-b3f3-e24e6d970d52"
      },
      "outputs": [
        {
          "data": {
            "text/plain": [
              "[True, False, False, False, False]"
            ]
          },
          "execution_count": 18,
          "metadata": {},
          "output_type": "execute_result"
        }
      ],
      "source": [
        "group7and8_items = items[items['pr_group_id'].isin(['98f13708210194c475687be6106a3b84',\n",
        "       '3c59dc048e8850243be8079a5c74d079'])]['pr_sku_id'].unique()\n",
        "[(item in items_insub) for item in group7and8_items]"
      ]
    },
    {
      "cell_type": "markdown",
      "metadata": {
        "id": "usE4dyoFpJEH"
      },
      "source": [
        "Я просто подумала, что если нам не нужно предсказывать товары редких 7 и 8 групп, можно их вообще не учитывать. Но один из 5 есть в сабмишне. Кроме того, заказчик может в дальнейшем запросить прогноз для этих товаров. Плохая идея что-то выбрасывать"
      ]
    },
    {
      "cell_type": "code",
      "execution_count": 19,
      "metadata": {
        "colab": {
          "base_uri": "https://localhost:8080/"
        },
        "id": "EyUuYSSyqQpW",
        "outputId": "f9bfe25c-e178-491f-bd8d-edb475d89794"
      },
      "outputs": [
        {
          "data": {
            "text/plain": [
              "(883015, 8)"
            ]
          },
          "execution_count": 19,
          "metadata": {},
          "output_type": "execute_result"
        }
      ],
      "source": [
        "sales = pd.read_csv('sales_df_train.csv')\n",
        "sales.shape"
      ]
    },
    {
      "cell_type": "code",
      "execution_count": 20,
      "metadata": {
        "colab": {
          "base_uri": "https://localhost:8080/",
          "height": 313
        },
        "id": "tPgPkYmyNc86",
        "outputId": "b41558ae-7385-43ad-96be-61ea592fa987"
      },
      "outputs": [
        {
          "data": {
            "text/html": [
              "<div>\n",
              "<style scoped>\n",
              "    .dataframe tbody tr th:only-of-type {\n",
              "        vertical-align: middle;\n",
              "    }\n",
              "\n",
              "    .dataframe tbody tr th {\n",
              "        vertical-align: top;\n",
              "    }\n",
              "\n",
              "    .dataframe thead th {\n",
              "        text-align: right;\n",
              "    }\n",
              "</style>\n",
              "<table border=\"1\" class=\"dataframe\">\n",
              "  <thead>\n",
              "    <tr style=\"text-align: right;\">\n",
              "      <th></th>\n",
              "      <th>st_id</th>\n",
              "      <th>pr_sku_id</th>\n",
              "      <th>date</th>\n",
              "      <th>pr_sales_type_id</th>\n",
              "      <th>pr_sales_in_units</th>\n",
              "      <th>pr_promo_sales_in_units</th>\n",
              "      <th>pr_sales_in_rub</th>\n",
              "      <th>pr_promo_sales_in_rub</th>\n",
              "    </tr>\n",
              "  </thead>\n",
              "  <tbody>\n",
              "    <tr>\n",
              "      <th>0</th>\n",
              "      <td>c81e728d9d4c2f636f067f89cc14862c</td>\n",
              "      <td>c7b711619071c92bef604c7ad68380dd</td>\n",
              "      <td>2022-10-20</td>\n",
              "      <td>1</td>\n",
              "      <td>5.0</td>\n",
              "      <td>5.0</td>\n",
              "      <td>825.0</td>\n",
              "      <td>825.0</td>\n",
              "    </tr>\n",
              "    <tr>\n",
              "      <th>1</th>\n",
              "      <td>42a0e188f5033bc65bf8d78622277c4e</td>\n",
              "      <td>68f441429e73dbd33b81f95da31576e9</td>\n",
              "      <td>2023-01-29</td>\n",
              "      <td>0</td>\n",
              "      <td>4.0</td>\n",
              "      <td>0.0</td>\n",
              "      <td>196.0</td>\n",
              "      <td>0.0</td>\n",
              "    </tr>\n",
              "    <tr>\n",
              "      <th>2</th>\n",
              "      <td>1ecfb463472ec9115b10c292ef8bc986</td>\n",
              "      <td>22988026fe85fde60d8bf777ab6bc3b4</td>\n",
              "      <td>2023-03-02</td>\n",
              "      <td>0</td>\n",
              "      <td>1.0</td>\n",
              "      <td>0.0</td>\n",
              "      <td>78.0</td>\n",
              "      <td>0.0</td>\n",
              "    </tr>\n",
              "    <tr>\n",
              "      <th>3</th>\n",
              "      <td>42a0e188f5033bc65bf8d78622277c4e</td>\n",
              "      <td>8e887cf8e64ab8e7173701a979476567</td>\n",
              "      <td>2023-04-05</td>\n",
              "      <td>1</td>\n",
              "      <td>0.0</td>\n",
              "      <td>0.0</td>\n",
              "      <td>69.0</td>\n",
              "      <td>69.0</td>\n",
              "    </tr>\n",
              "    <tr>\n",
              "      <th>4</th>\n",
              "      <td>16a5cdae362b8d27a1d8f8c7b78b4330</td>\n",
              "      <td>e6fc24ca846339d204b0b50e9f772484</td>\n",
              "      <td>2023-02-17</td>\n",
              "      <td>0</td>\n",
              "      <td>1.0</td>\n",
              "      <td>0.0</td>\n",
              "      <td>161.0</td>\n",
              "      <td>0.0</td>\n",
              "    </tr>\n",
              "  </tbody>\n",
              "</table>\n",
              "</div>"
            ],
            "text/plain": [
              "                              st_id                         pr_sku_id  \\\n",
              "0  c81e728d9d4c2f636f067f89cc14862c  c7b711619071c92bef604c7ad68380dd   \n",
              "1  42a0e188f5033bc65bf8d78622277c4e  68f441429e73dbd33b81f95da31576e9   \n",
              "2  1ecfb463472ec9115b10c292ef8bc986  22988026fe85fde60d8bf777ab6bc3b4   \n",
              "3  42a0e188f5033bc65bf8d78622277c4e  8e887cf8e64ab8e7173701a979476567   \n",
              "4  16a5cdae362b8d27a1d8f8c7b78b4330  e6fc24ca846339d204b0b50e9f772484   \n",
              "\n",
              "         date  pr_sales_type_id  pr_sales_in_units  pr_promo_sales_in_units  \\\n",
              "0  2022-10-20                 1                5.0                      5.0   \n",
              "1  2023-01-29                 0                4.0                      0.0   \n",
              "2  2023-03-02                 0                1.0                      0.0   \n",
              "3  2023-04-05                 1                0.0                      0.0   \n",
              "4  2023-02-17                 0                1.0                      0.0   \n",
              "\n",
              "   pr_sales_in_rub  pr_promo_sales_in_rub  \n",
              "0            825.0                  825.0  \n",
              "1            196.0                    0.0  \n",
              "2             78.0                    0.0  \n",
              "3             69.0                   69.0  \n",
              "4            161.0                    0.0  "
            ]
          },
          "execution_count": 20,
          "metadata": {},
          "output_type": "execute_result"
        }
      ],
      "source": [
        "sales.head()"
      ]
    },
    {
      "cell_type": "code",
      "execution_count": 21,
      "metadata": {
        "colab": {
          "base_uri": "https://localhost:8080/"
        },
        "id": "GJsZLKW3Njmh",
        "outputId": "0fa36750-9b7d-4159-f4d4-e12a09a17a26"
      },
      "outputs": [
        {
          "name": "stdout",
          "output_type": "stream",
          "text": [
            "st_id - 12\n",
            "pr_sku_id - 1991\n",
            "date - 352\n"
          ]
        }
      ],
      "source": [
        "for col in sales.columns[:3]:\n",
        "  print(col, '-', sales[col].nunique())"
      ]
    },
    {
      "cell_type": "code",
      "execution_count": 61,
      "metadata": {
        "colab": {
          "base_uri": "https://localhost:8080/"
        },
        "id": "CXsoN-GdOxDP",
        "outputId": "b5a7e204-09cc-413f-8d46-89ceae6856f9"
      },
      "outputs": [
        {
          "name": "stdout",
          "output_type": "stream",
          "text": [
            "in both files: 12\n",
            "in total but not in sales: 0\n",
            "in sales but not in total: 0\n"
          ]
        }
      ],
      "source": [
        "check_sets(stores, 'st_id', sales, 'st_id', 'total', 'sales')"
      ]
    },
    {
      "cell_type": "code",
      "execution_count": 63,
      "metadata": {
        "colab": {
          "base_uri": "https://localhost:8080/"
        },
        "id": "l4o28mRuPYS_",
        "outputId": "e44dd009-5206-4c4a-ab6e-4f22810f0b34"
      },
      "outputs": [
        {
          "name": "stdout",
          "output_type": "stream",
          "text": [
            "in both files: 1991\n",
            "in total but not in sales: 59\n",
            "in sales but not in total: 0\n"
          ]
        }
      ],
      "source": [
        "check_sets(items, 'pr_sku_id', sales, 'pr_sku_id', 'total', 'sales')"
      ]
    },
    {
      "cell_type": "markdown",
      "metadata": {
        "id": "BGf-zZIdP3RP"
      },
      "source": [
        "У нас есть неполный год наблюдений, те же 12 магазинов, что в таблице с магазинами, и 1991 товар из 2050"
      ]
    },
    {
      "cell_type": "code",
      "execution_count": 24,
      "metadata": {
        "colab": {
          "base_uri": "https://localhost:8080/"
        },
        "id": "24u2zVBhQ7Dm",
        "outputId": "10ecaccc-e135-43b1-8b25-7012ad7e5fb5"
      },
      "outputs": [
        {
          "data": {
            "text/plain": [
              "0.4064857335379354"
            ]
          },
          "execution_count": 24,
          "metadata": {},
          "output_type": "execute_result"
        }
      ],
      "source": [
        "sales['pr_sales_type_id'].mean()"
      ]
    },
    {
      "cell_type": "markdown",
      "metadata": {
        "id": "s36P6yhARRTl"
      },
      "source": [
        "41% наблюдений (день-товар-магазин) - по промо"
      ]
    },
    {
      "cell_type": "code",
      "execution_count": 25,
      "metadata": {
        "colab": {
          "base_uri": "https://localhost:8080/",
          "height": 320
        },
        "id": "Mguhhf6vRex4",
        "outputId": "9b2db8e8-97ac-46e3-cdf2-ba8ad81161c5"
      },
      "outputs": [
        {
          "data": {
            "text/html": [
              "<div>\n",
              "<style scoped>\n",
              "    .dataframe tbody tr th:only-of-type {\n",
              "        vertical-align: middle;\n",
              "    }\n",
              "\n",
              "    .dataframe tbody tr th {\n",
              "        vertical-align: top;\n",
              "    }\n",
              "\n",
              "    .dataframe thead th {\n",
              "        text-align: right;\n",
              "    }\n",
              "</style>\n",
              "<table border=\"1\" class=\"dataframe\">\n",
              "  <thead>\n",
              "    <tr style=\"text-align: right;\">\n",
              "      <th></th>\n",
              "      <th>pr_sales_type_id</th>\n",
              "      <th>pr_sales_in_units</th>\n",
              "      <th>pr_promo_sales_in_units</th>\n",
              "      <th>pr_sales_in_rub</th>\n",
              "      <th>pr_promo_sales_in_rub</th>\n",
              "      <th>total_promo_diff_in_units</th>\n",
              "      <th>total_promo_diff_in_rub</th>\n",
              "    </tr>\n",
              "  </thead>\n",
              "  <tbody>\n",
              "    <tr>\n",
              "      <th>count</th>\n",
              "      <td>883015.000000</td>\n",
              "      <td>883015.000000</td>\n",
              "      <td>883015.000000</td>\n",
              "      <td>883015.000000</td>\n",
              "      <td>883015.000000</td>\n",
              "      <td>883015.000000</td>\n",
              "      <td>883015.000000</td>\n",
              "    </tr>\n",
              "    <tr>\n",
              "      <th>mean</th>\n",
              "      <td>0.406486</td>\n",
              "      <td>5.037956</td>\n",
              "      <td>2.230010</td>\n",
              "      <td>596.705181</td>\n",
              "      <td>294.766561</td>\n",
              "      <td>2.807947</td>\n",
              "      <td>301.938619</td>\n",
              "    </tr>\n",
              "    <tr>\n",
              "      <th>std</th>\n",
              "      <td>0.491178</td>\n",
              "      <td>13.402984</td>\n",
              "      <td>11.063288</td>\n",
              "      <td>1577.366179</td>\n",
              "      <td>1402.764168</td>\n",
              "      <td>8.352673</td>\n",
              "      <td>835.667260</td>\n",
              "    </tr>\n",
              "    <tr>\n",
              "      <th>min</th>\n",
              "      <td>0.000000</td>\n",
              "      <td>-39.000000</td>\n",
              "      <td>-39.000000</td>\n",
              "      <td>-3373.000000</td>\n",
              "      <td>-3373.000000</td>\n",
              "      <td>-27.000000</td>\n",
              "      <td>-2068.000000</td>\n",
              "    </tr>\n",
              "    <tr>\n",
              "      <th>25%</th>\n",
              "      <td>0.000000</td>\n",
              "      <td>1.000000</td>\n",
              "      <td>0.000000</td>\n",
              "      <td>98.000000</td>\n",
              "      <td>0.000000</td>\n",
              "      <td>0.000000</td>\n",
              "      <td>0.000000</td>\n",
              "    </tr>\n",
              "    <tr>\n",
              "      <th>50%</th>\n",
              "      <td>0.000000</td>\n",
              "      <td>2.000000</td>\n",
              "      <td>0.000000</td>\n",
              "      <td>224.000000</td>\n",
              "      <td>0.000000</td>\n",
              "      <td>1.000000</td>\n",
              "      <td>81.000000</td>\n",
              "    </tr>\n",
              "    <tr>\n",
              "      <th>75%</th>\n",
              "      <td>1.000000</td>\n",
              "      <td>4.000000</td>\n",
              "      <td>1.000000</td>\n",
              "      <td>540.000000</td>\n",
              "      <td>127.000000</td>\n",
              "      <td>3.000000</td>\n",
              "      <td>305.000000</td>\n",
              "    </tr>\n",
              "    <tr>\n",
              "      <th>max</th>\n",
              "      <td>1.000000</td>\n",
              "      <td>2348.000000</td>\n",
              "      <td>2348.000000</td>\n",
              "      <td>183265.000000</td>\n",
              "      <td>183265.000000</td>\n",
              "      <td>1033.000000</td>\n",
              "      <td>169379.000000</td>\n",
              "    </tr>\n",
              "  </tbody>\n",
              "</table>\n",
              "</div>"
            ],
            "text/plain": [
              "       pr_sales_type_id  pr_sales_in_units  pr_promo_sales_in_units  \\\n",
              "count     883015.000000      883015.000000            883015.000000   \n",
              "mean           0.406486           5.037956                 2.230010   \n",
              "std            0.491178          13.402984                11.063288   \n",
              "min            0.000000         -39.000000               -39.000000   \n",
              "25%            0.000000           1.000000                 0.000000   \n",
              "50%            0.000000           2.000000                 0.000000   \n",
              "75%            1.000000           4.000000                 1.000000   \n",
              "max            1.000000        2348.000000              2348.000000   \n",
              "\n",
              "       pr_sales_in_rub  pr_promo_sales_in_rub  total_promo_diff_in_units  \\\n",
              "count    883015.000000          883015.000000              883015.000000   \n",
              "mean        596.705181             294.766561                   2.807947   \n",
              "std        1577.366179            1402.764168                   8.352673   \n",
              "min       -3373.000000           -3373.000000                 -27.000000   \n",
              "25%          98.000000               0.000000                   0.000000   \n",
              "50%         224.000000               0.000000                   1.000000   \n",
              "75%         540.000000             127.000000                   3.000000   \n",
              "max      183265.000000          183265.000000                1033.000000   \n",
              "\n",
              "       total_promo_diff_in_rub  \n",
              "count            883015.000000  \n",
              "mean                301.938619  \n",
              "std                 835.667260  \n",
              "min               -2068.000000  \n",
              "25%                   0.000000  \n",
              "50%                  81.000000  \n",
              "75%                 305.000000  \n",
              "max              169379.000000  "
            ]
          },
          "execution_count": 25,
          "metadata": {},
          "output_type": "execute_result"
        }
      ],
      "source": [
        "sales['total_promo_diff_in_units'] = sales['pr_sales_in_units'] - sales['pr_promo_sales_in_units']\n",
        "sales['total_promo_diff_in_rub'] = sales['pr_sales_in_rub'] - sales['pr_promo_sales_in_rub']\n",
        "sales.describe()"
      ]
    },
    {
      "cell_type": "code",
      "execution_count": 26,
      "metadata": {
        "colab": {
          "base_uri": "https://localhost:8080/",
          "height": 1000
        },
        "id": "a262TFaNSA-L",
        "outputId": "f8ae5df3-bb26-40a1-8e18-3f46abf2d08e"
      },
      "outputs": [
        {
          "data": {
            "text/html": [
              "<div>\n",
              "<style scoped>\n",
              "    .dataframe tbody tr th:only-of-type {\n",
              "        vertical-align: middle;\n",
              "    }\n",
              "\n",
              "    .dataframe tbody tr th {\n",
              "        vertical-align: top;\n",
              "    }\n",
              "\n",
              "    .dataframe thead th {\n",
              "        text-align: right;\n",
              "    }\n",
              "</style>\n",
              "<table border=\"1\" class=\"dataframe\">\n",
              "  <thead>\n",
              "    <tr style=\"text-align: right;\">\n",
              "      <th></th>\n",
              "      <th>st_id</th>\n",
              "      <th>pr_sku_id</th>\n",
              "      <th>date</th>\n",
              "      <th>pr_sales_type_id</th>\n",
              "      <th>pr_sales_in_units</th>\n",
              "      <th>pr_promo_sales_in_units</th>\n",
              "      <th>pr_sales_in_rub</th>\n",
              "      <th>pr_promo_sales_in_rub</th>\n",
              "      <th>total_promo_diff_in_units</th>\n",
              "      <th>total_promo_diff_in_rub</th>\n",
              "    </tr>\n",
              "  </thead>\n",
              "  <tbody>\n",
              "    <tr>\n",
              "      <th>7919</th>\n",
              "      <td>6364d3f0f495b6ab9dcf8d3b5c6e0b01</td>\n",
              "      <td>13928e132e7e0e55a0a8a6f0fd539758</td>\n",
              "      <td>2022-09-29</td>\n",
              "      <td>0</td>\n",
              "      <td>-1.0</td>\n",
              "      <td>0.0</td>\n",
              "      <td>-763.0</td>\n",
              "      <td>0.0</td>\n",
              "      <td>-1.0</td>\n",
              "      <td>-763.0</td>\n",
              "    </tr>\n",
              "    <tr>\n",
              "      <th>21385</th>\n",
              "      <td>fa7cdfad1a5aaf8370ebeda47a1ff1c3</td>\n",
              "      <td>9aa7008fa27151bf77be5f4c9d023d5f</td>\n",
              "      <td>2023-04-06</td>\n",
              "      <td>0</td>\n",
              "      <td>-2.0</td>\n",
              "      <td>0.0</td>\n",
              "      <td>-48.0</td>\n",
              "      <td>0.0</td>\n",
              "      <td>-2.0</td>\n",
              "      <td>-48.0</td>\n",
              "    </tr>\n",
              "    <tr>\n",
              "      <th>30000</th>\n",
              "      <td>6364d3f0f495b6ab9dcf8d3b5c6e0b01</td>\n",
              "      <td>364196813f3b746270a9b27bd76149c9</td>\n",
              "      <td>2023-04-21</td>\n",
              "      <td>0</td>\n",
              "      <td>-1.0</td>\n",
              "      <td>0.0</td>\n",
              "      <td>-182.0</td>\n",
              "      <td>0.0</td>\n",
              "      <td>-1.0</td>\n",
              "      <td>-182.0</td>\n",
              "    </tr>\n",
              "    <tr>\n",
              "      <th>48802</th>\n",
              "      <td>16a5cdae362b8d27a1d8f8c7b78b4330</td>\n",
              "      <td>f2be582e5deaaa8558adfdcd1c92a6ac</td>\n",
              "      <td>2022-08-30</td>\n",
              "      <td>0</td>\n",
              "      <td>-2.0</td>\n",
              "      <td>0.0</td>\n",
              "      <td>-424.0</td>\n",
              "      <td>0.0</td>\n",
              "      <td>-2.0</td>\n",
              "      <td>-424.0</td>\n",
              "    </tr>\n",
              "    <tr>\n",
              "      <th>51808</th>\n",
              "      <td>16a5cdae362b8d27a1d8f8c7b78b4330</td>\n",
              "      <td>7d3f2fed7faf3501554970cd3c0d724e</td>\n",
              "      <td>2022-10-03</td>\n",
              "      <td>0</td>\n",
              "      <td>-2.0</td>\n",
              "      <td>0.0</td>\n",
              "      <td>-1037.0</td>\n",
              "      <td>0.0</td>\n",
              "      <td>-2.0</td>\n",
              "      <td>-1037.0</td>\n",
              "    </tr>\n",
              "    <tr>\n",
              "      <th>55593</th>\n",
              "      <td>c81e728d9d4c2f636f067f89cc14862c</td>\n",
              "      <td>6f95fb5868092aeebc6331ac1bdee85d</td>\n",
              "      <td>2022-12-24</td>\n",
              "      <td>0</td>\n",
              "      <td>-2.0</td>\n",
              "      <td>0.0</td>\n",
              "      <td>-509.0</td>\n",
              "      <td>0.0</td>\n",
              "      <td>-2.0</td>\n",
              "      <td>-509.0</td>\n",
              "    </tr>\n",
              "    <tr>\n",
              "      <th>64874</th>\n",
              "      <td>16a5cdae362b8d27a1d8f8c7b78b4330</td>\n",
              "      <td>1b554caad50131478083eb6e4f7845d6</td>\n",
              "      <td>2023-04-14</td>\n",
              "      <td>0</td>\n",
              "      <td>-1.0</td>\n",
              "      <td>0.0</td>\n",
              "      <td>-262.0</td>\n",
              "      <td>0.0</td>\n",
              "      <td>-1.0</td>\n",
              "      <td>-262.0</td>\n",
              "    </tr>\n",
              "    <tr>\n",
              "      <th>69660</th>\n",
              "      <td>6364d3f0f495b6ab9dcf8d3b5c6e0b01</td>\n",
              "      <td>b7ef3f85be23f591802b735971941c77</td>\n",
              "      <td>2023-05-19</td>\n",
              "      <td>0</td>\n",
              "      <td>-27.0</td>\n",
              "      <td>0.0</td>\n",
              "      <td>-2068.0</td>\n",
              "      <td>0.0</td>\n",
              "      <td>-27.0</td>\n",
              "      <td>-2068.0</td>\n",
              "    </tr>\n",
              "    <tr>\n",
              "      <th>70133</th>\n",
              "      <td>f7e6c85504ce6e82442c770f7c8606f0</td>\n",
              "      <td>dfd80a3b31af0d718536639325a69242</td>\n",
              "      <td>2023-01-21</td>\n",
              "      <td>0</td>\n",
              "      <td>-3.0</td>\n",
              "      <td>0.0</td>\n",
              "      <td>-440.0</td>\n",
              "      <td>0.0</td>\n",
              "      <td>-3.0</td>\n",
              "      <td>-440.0</td>\n",
              "    </tr>\n",
              "    <tr>\n",
              "      <th>124457</th>\n",
              "      <td>6364d3f0f495b6ab9dcf8d3b5c6e0b01</td>\n",
              "      <td>378c316db093b61efe233ff52ad97bbb</td>\n",
              "      <td>2022-10-09</td>\n",
              "      <td>0</td>\n",
              "      <td>-1.0</td>\n",
              "      <td>0.0</td>\n",
              "      <td>-817.0</td>\n",
              "      <td>0.0</td>\n",
              "      <td>-1.0</td>\n",
              "      <td>-817.0</td>\n",
              "    </tr>\n",
              "    <tr>\n",
              "      <th>188192</th>\n",
              "      <td>16a5cdae362b8d27a1d8f8c7b78b4330</td>\n",
              "      <td>502862e895172c8b1bb580c34a8c3575</td>\n",
              "      <td>2023-06-03</td>\n",
              "      <td>0</td>\n",
              "      <td>-1.0</td>\n",
              "      <td>0.0</td>\n",
              "      <td>-37.0</td>\n",
              "      <td>0.0</td>\n",
              "      <td>-1.0</td>\n",
              "      <td>-37.0</td>\n",
              "    </tr>\n",
              "    <tr>\n",
              "      <th>207105</th>\n",
              "      <td>c81e728d9d4c2f636f067f89cc14862c</td>\n",
              "      <td>b258929d0c76d4deef822e63eecd91ec</td>\n",
              "      <td>2023-06-05</td>\n",
              "      <td>0</td>\n",
              "      <td>-2.0</td>\n",
              "      <td>0.0</td>\n",
              "      <td>-155.0</td>\n",
              "      <td>0.0</td>\n",
              "      <td>-2.0</td>\n",
              "      <td>-155.0</td>\n",
              "    </tr>\n",
              "    <tr>\n",
              "      <th>219621</th>\n",
              "      <td>c81e728d9d4c2f636f067f89cc14862c</td>\n",
              "      <td>50246ace502699a00ce8f94e8fc3e37d</td>\n",
              "      <td>2022-11-24</td>\n",
              "      <td>0</td>\n",
              "      <td>-3.0</td>\n",
              "      <td>0.0</td>\n",
              "      <td>-258.0</td>\n",
              "      <td>0.0</td>\n",
              "      <td>-3.0</td>\n",
              "      <td>-258.0</td>\n",
              "    </tr>\n",
              "    <tr>\n",
              "      <th>223953</th>\n",
              "      <td>6364d3f0f495b6ab9dcf8d3b5c6e0b01</td>\n",
              "      <td>420f64a4fd57fd93e1fc45a0c9c5aa85</td>\n",
              "      <td>2023-01-21</td>\n",
              "      <td>0</td>\n",
              "      <td>-2.0</td>\n",
              "      <td>0.0</td>\n",
              "      <td>-307.0</td>\n",
              "      <td>0.0</td>\n",
              "      <td>-2.0</td>\n",
              "      <td>-307.0</td>\n",
              "    </tr>\n",
              "    <tr>\n",
              "      <th>243182</th>\n",
              "      <td>c81e728d9d4c2f636f067f89cc14862c</td>\n",
              "      <td>68fe6e93944b69dea947fcf9a7ac2f97</td>\n",
              "      <td>2023-07-09</td>\n",
              "      <td>0</td>\n",
              "      <td>-1.0</td>\n",
              "      <td>0.0</td>\n",
              "      <td>-62.0</td>\n",
              "      <td>0.0</td>\n",
              "      <td>-1.0</td>\n",
              "      <td>-62.0</td>\n",
              "    </tr>\n",
              "    <tr>\n",
              "      <th>309667</th>\n",
              "      <td>c81e728d9d4c2f636f067f89cc14862c</td>\n",
              "      <td>a5d9e1b0ca160dcfaf18a21928709e48</td>\n",
              "      <td>2023-05-08</td>\n",
              "      <td>0</td>\n",
              "      <td>-1.0</td>\n",
              "      <td>0.0</td>\n",
              "      <td>-525.0</td>\n",
              "      <td>0.0</td>\n",
              "      <td>-1.0</td>\n",
              "      <td>-525.0</td>\n",
              "    </tr>\n",
              "    <tr>\n",
              "      <th>427484</th>\n",
              "      <td>f7e6c85504ce6e82442c770f7c8606f0</td>\n",
              "      <td>634781c60ee669e92f10c95f55c37b0e</td>\n",
              "      <td>2023-01-28</td>\n",
              "      <td>0</td>\n",
              "      <td>-1.0</td>\n",
              "      <td>0.0</td>\n",
              "      <td>-202.0</td>\n",
              "      <td>0.0</td>\n",
              "      <td>-1.0</td>\n",
              "      <td>-202.0</td>\n",
              "    </tr>\n",
              "    <tr>\n",
              "      <th>443746</th>\n",
              "      <td>c81e728d9d4c2f636f067f89cc14862c</td>\n",
              "      <td>48879b7e88dfc566582ac21fb3c8151b</td>\n",
              "      <td>2022-12-26</td>\n",
              "      <td>0</td>\n",
              "      <td>-14.0</td>\n",
              "      <td>0.0</td>\n",
              "      <td>-1911.0</td>\n",
              "      <td>0.0</td>\n",
              "      <td>-14.0</td>\n",
              "      <td>-1911.0</td>\n",
              "    </tr>\n",
              "    <tr>\n",
              "      <th>491736</th>\n",
              "      <td>c81e728d9d4c2f636f067f89cc14862c</td>\n",
              "      <td>634781c60ee669e92f10c95f55c37b0e</td>\n",
              "      <td>2023-01-11</td>\n",
              "      <td>0</td>\n",
              "      <td>-1.0</td>\n",
              "      <td>0.0</td>\n",
              "      <td>-269.0</td>\n",
              "      <td>0.0</td>\n",
              "      <td>-1.0</td>\n",
              "      <td>-269.0</td>\n",
              "    </tr>\n",
              "    <tr>\n",
              "      <th>497224</th>\n",
              "      <td>16a5cdae362b8d27a1d8f8c7b78b4330</td>\n",
              "      <td>40c651c778ea5ff2c54b164483dbae9c</td>\n",
              "      <td>2023-07-06</td>\n",
              "      <td>0</td>\n",
              "      <td>-2.0</td>\n",
              "      <td>0.0</td>\n",
              "      <td>-402.0</td>\n",
              "      <td>0.0</td>\n",
              "      <td>-2.0</td>\n",
              "      <td>-402.0</td>\n",
              "    </tr>\n",
              "    <tr>\n",
              "      <th>498173</th>\n",
              "      <td>42a0e188f5033bc65bf8d78622277c4e</td>\n",
              "      <td>9f4893b1a3d6ea138951c96663bdd3ed</td>\n",
              "      <td>2023-06-13</td>\n",
              "      <td>0</td>\n",
              "      <td>-2.0</td>\n",
              "      <td>0.0</td>\n",
              "      <td>-284.0</td>\n",
              "      <td>0.0</td>\n",
              "      <td>-2.0</td>\n",
              "      <td>-284.0</td>\n",
              "    </tr>\n",
              "    <tr>\n",
              "      <th>534498</th>\n",
              "      <td>16a5cdae362b8d27a1d8f8c7b78b4330</td>\n",
              "      <td>7d3f2fed7faf3501554970cd3c0d724e</td>\n",
              "      <td>2022-10-09</td>\n",
              "      <td>0</td>\n",
              "      <td>-1.0</td>\n",
              "      <td>0.0</td>\n",
              "      <td>-708.0</td>\n",
              "      <td>0.0</td>\n",
              "      <td>-1.0</td>\n",
              "      <td>-708.0</td>\n",
              "    </tr>\n",
              "    <tr>\n",
              "      <th>542326</th>\n",
              "      <td>16a5cdae362b8d27a1d8f8c7b78b4330</td>\n",
              "      <td>d6c2e7c74cad027b49b4369a0548ddfb</td>\n",
              "      <td>2023-05-09</td>\n",
              "      <td>0</td>\n",
              "      <td>-2.0</td>\n",
              "      <td>0.0</td>\n",
              "      <td>-143.0</td>\n",
              "      <td>0.0</td>\n",
              "      <td>-2.0</td>\n",
              "      <td>-143.0</td>\n",
              "    </tr>\n",
              "    <tr>\n",
              "      <th>551565</th>\n",
              "      <td>1ecfb463472ec9115b10c292ef8bc986</td>\n",
              "      <td>9bad2c2a4f7ab2873152eed9a099d7b0</td>\n",
              "      <td>2023-02-15</td>\n",
              "      <td>0</td>\n",
              "      <td>-1.0</td>\n",
              "      <td>0.0</td>\n",
              "      <td>-130.0</td>\n",
              "      <td>0.0</td>\n",
              "      <td>-1.0</td>\n",
              "      <td>-130.0</td>\n",
              "    </tr>\n",
              "    <tr>\n",
              "      <th>556324</th>\n",
              "      <td>c81e728d9d4c2f636f067f89cc14862c</td>\n",
              "      <td>6464ba75236f5928023d75e46ea8a328</td>\n",
              "      <td>2023-05-09</td>\n",
              "      <td>0</td>\n",
              "      <td>-1.0</td>\n",
              "      <td>0.0</td>\n",
              "      <td>-478.0</td>\n",
              "      <td>0.0</td>\n",
              "      <td>-1.0</td>\n",
              "      <td>-478.0</td>\n",
              "    </tr>\n",
              "    <tr>\n",
              "      <th>590250</th>\n",
              "      <td>6364d3f0f495b6ab9dcf8d3b5c6e0b01</td>\n",
              "      <td>c24c65259d90ed4a19ab37b6fd6fe716</td>\n",
              "      <td>2023-03-07</td>\n",
              "      <td>0</td>\n",
              "      <td>-4.0</td>\n",
              "      <td>0.0</td>\n",
              "      <td>-881.0</td>\n",
              "      <td>0.0</td>\n",
              "      <td>-4.0</td>\n",
              "      <td>-881.0</td>\n",
              "    </tr>\n",
              "    <tr>\n",
              "      <th>600638</th>\n",
              "      <td>f7e6c85504ce6e82442c770f7c8606f0</td>\n",
              "      <td>e5d867b2770e0aade8653a4893ec6160</td>\n",
              "      <td>2023-04-16</td>\n",
              "      <td>0</td>\n",
              "      <td>-3.0</td>\n",
              "      <td>0.0</td>\n",
              "      <td>-540.0</td>\n",
              "      <td>0.0</td>\n",
              "      <td>-3.0</td>\n",
              "      <td>-540.0</td>\n",
              "    </tr>\n",
              "    <tr>\n",
              "      <th>619440</th>\n",
              "      <td>fa7cdfad1a5aaf8370ebeda47a1ff1c3</td>\n",
              "      <td>be2eb3bcc9ebeba04e0441004e9a674b</td>\n",
              "      <td>2022-08-09</td>\n",
              "      <td>0</td>\n",
              "      <td>-2.0</td>\n",
              "      <td>0.0</td>\n",
              "      <td>-411.0</td>\n",
              "      <td>0.0</td>\n",
              "      <td>-2.0</td>\n",
              "      <td>-411.0</td>\n",
              "    </tr>\n",
              "    <tr>\n",
              "      <th>636860</th>\n",
              "      <td>c81e728d9d4c2f636f067f89cc14862c</td>\n",
              "      <td>4cbdf8b7992ce95ea95bee76db0c7156</td>\n",
              "      <td>2023-02-21</td>\n",
              "      <td>0</td>\n",
              "      <td>-11.0</td>\n",
              "      <td>0.0</td>\n",
              "      <td>-491.0</td>\n",
              "      <td>0.0</td>\n",
              "      <td>-11.0</td>\n",
              "      <td>-491.0</td>\n",
              "    </tr>\n",
              "    <tr>\n",
              "      <th>656747</th>\n",
              "      <td>c81e728d9d4c2f636f067f89cc14862c</td>\n",
              "      <td>e79eb35132023b80bd8610a4ee16e52d</td>\n",
              "      <td>2022-08-07</td>\n",
              "      <td>0</td>\n",
              "      <td>-1.0</td>\n",
              "      <td>0.0</td>\n",
              "      <td>-312.0</td>\n",
              "      <td>0.0</td>\n",
              "      <td>-1.0</td>\n",
              "      <td>-312.0</td>\n",
              "    </tr>\n",
              "    <tr>\n",
              "      <th>662450</th>\n",
              "      <td>f7e6c85504ce6e82442c770f7c8606f0</td>\n",
              "      <td>e983f56659b43d6691446b013c0b9ef1</td>\n",
              "      <td>2023-04-08</td>\n",
              "      <td>0</td>\n",
              "      <td>-1.0</td>\n",
              "      <td>0.0</td>\n",
              "      <td>-117.0</td>\n",
              "      <td>0.0</td>\n",
              "      <td>-1.0</td>\n",
              "      <td>-117.0</td>\n",
              "    </tr>\n",
              "    <tr>\n",
              "      <th>688092</th>\n",
              "      <td>6364d3f0f495b6ab9dcf8d3b5c6e0b01</td>\n",
              "      <td>6f95fb5868092aeebc6331ac1bdee85d</td>\n",
              "      <td>2022-11-26</td>\n",
              "      <td>0</td>\n",
              "      <td>-3.0</td>\n",
              "      <td>0.0</td>\n",
              "      <td>-552.0</td>\n",
              "      <td>0.0</td>\n",
              "      <td>-3.0</td>\n",
              "      <td>-552.0</td>\n",
              "    </tr>\n",
              "    <tr>\n",
              "      <th>715343</th>\n",
              "      <td>c81e728d9d4c2f636f067f89cc14862c</td>\n",
              "      <td>9a3e6ab0f0e9396f7af956fe6e45b407</td>\n",
              "      <td>2022-09-29</td>\n",
              "      <td>0</td>\n",
              "      <td>-2.0</td>\n",
              "      <td>0.0</td>\n",
              "      <td>-46.0</td>\n",
              "      <td>0.0</td>\n",
              "      <td>-2.0</td>\n",
              "      <td>-46.0</td>\n",
              "    </tr>\n",
              "    <tr>\n",
              "      <th>730625</th>\n",
              "      <td>f7e6c85504ce6e82442c770f7c8606f0</td>\n",
              "      <td>fe50ae64d08d4f8245aaabc55d1baf79</td>\n",
              "      <td>2023-04-08</td>\n",
              "      <td>0</td>\n",
              "      <td>-1.0</td>\n",
              "      <td>0.0</td>\n",
              "      <td>-119.0</td>\n",
              "      <td>0.0</td>\n",
              "      <td>-1.0</td>\n",
              "      <td>-119.0</td>\n",
              "    </tr>\n",
              "    <tr>\n",
              "      <th>789268</th>\n",
              "      <td>c81e728d9d4c2f636f067f89cc14862c</td>\n",
              "      <td>b5f95dc9fce7c3181497a01d26836700</td>\n",
              "      <td>2022-11-23</td>\n",
              "      <td>0</td>\n",
              "      <td>-1.0</td>\n",
              "      <td>0.0</td>\n",
              "      <td>-242.0</td>\n",
              "      <td>0.0</td>\n",
              "      <td>-1.0</td>\n",
              "      <td>-242.0</td>\n",
              "    </tr>\n",
              "    <tr>\n",
              "      <th>856454</th>\n",
              "      <td>42a0e188f5033bc65bf8d78622277c4e</td>\n",
              "      <td>5ca106c323e777ec8b42dbbab099932c</td>\n",
              "      <td>2022-10-21</td>\n",
              "      <td>0</td>\n",
              "      <td>-8.0</td>\n",
              "      <td>0.0</td>\n",
              "      <td>-409.0</td>\n",
              "      <td>0.0</td>\n",
              "      <td>-8.0</td>\n",
              "      <td>-409.0</td>\n",
              "    </tr>\n",
              "  </tbody>\n",
              "</table>\n",
              "</div>"
            ],
            "text/plain": [
              "                                   st_id                         pr_sku_id  \\\n",
              "7919    6364d3f0f495b6ab9dcf8d3b5c6e0b01  13928e132e7e0e55a0a8a6f0fd539758   \n",
              "21385   fa7cdfad1a5aaf8370ebeda47a1ff1c3  9aa7008fa27151bf77be5f4c9d023d5f   \n",
              "30000   6364d3f0f495b6ab9dcf8d3b5c6e0b01  364196813f3b746270a9b27bd76149c9   \n",
              "48802   16a5cdae362b8d27a1d8f8c7b78b4330  f2be582e5deaaa8558adfdcd1c92a6ac   \n",
              "51808   16a5cdae362b8d27a1d8f8c7b78b4330  7d3f2fed7faf3501554970cd3c0d724e   \n",
              "55593   c81e728d9d4c2f636f067f89cc14862c  6f95fb5868092aeebc6331ac1bdee85d   \n",
              "64874   16a5cdae362b8d27a1d8f8c7b78b4330  1b554caad50131478083eb6e4f7845d6   \n",
              "69660   6364d3f0f495b6ab9dcf8d3b5c6e0b01  b7ef3f85be23f591802b735971941c77   \n",
              "70133   f7e6c85504ce6e82442c770f7c8606f0  dfd80a3b31af0d718536639325a69242   \n",
              "124457  6364d3f0f495b6ab9dcf8d3b5c6e0b01  378c316db093b61efe233ff52ad97bbb   \n",
              "188192  16a5cdae362b8d27a1d8f8c7b78b4330  502862e895172c8b1bb580c34a8c3575   \n",
              "207105  c81e728d9d4c2f636f067f89cc14862c  b258929d0c76d4deef822e63eecd91ec   \n",
              "219621  c81e728d9d4c2f636f067f89cc14862c  50246ace502699a00ce8f94e8fc3e37d   \n",
              "223953  6364d3f0f495b6ab9dcf8d3b5c6e0b01  420f64a4fd57fd93e1fc45a0c9c5aa85   \n",
              "243182  c81e728d9d4c2f636f067f89cc14862c  68fe6e93944b69dea947fcf9a7ac2f97   \n",
              "309667  c81e728d9d4c2f636f067f89cc14862c  a5d9e1b0ca160dcfaf18a21928709e48   \n",
              "427484  f7e6c85504ce6e82442c770f7c8606f0  634781c60ee669e92f10c95f55c37b0e   \n",
              "443746  c81e728d9d4c2f636f067f89cc14862c  48879b7e88dfc566582ac21fb3c8151b   \n",
              "491736  c81e728d9d4c2f636f067f89cc14862c  634781c60ee669e92f10c95f55c37b0e   \n",
              "497224  16a5cdae362b8d27a1d8f8c7b78b4330  40c651c778ea5ff2c54b164483dbae9c   \n",
              "498173  42a0e188f5033bc65bf8d78622277c4e  9f4893b1a3d6ea138951c96663bdd3ed   \n",
              "534498  16a5cdae362b8d27a1d8f8c7b78b4330  7d3f2fed7faf3501554970cd3c0d724e   \n",
              "542326  16a5cdae362b8d27a1d8f8c7b78b4330  d6c2e7c74cad027b49b4369a0548ddfb   \n",
              "551565  1ecfb463472ec9115b10c292ef8bc986  9bad2c2a4f7ab2873152eed9a099d7b0   \n",
              "556324  c81e728d9d4c2f636f067f89cc14862c  6464ba75236f5928023d75e46ea8a328   \n",
              "590250  6364d3f0f495b6ab9dcf8d3b5c6e0b01  c24c65259d90ed4a19ab37b6fd6fe716   \n",
              "600638  f7e6c85504ce6e82442c770f7c8606f0  e5d867b2770e0aade8653a4893ec6160   \n",
              "619440  fa7cdfad1a5aaf8370ebeda47a1ff1c3  be2eb3bcc9ebeba04e0441004e9a674b   \n",
              "636860  c81e728d9d4c2f636f067f89cc14862c  4cbdf8b7992ce95ea95bee76db0c7156   \n",
              "656747  c81e728d9d4c2f636f067f89cc14862c  e79eb35132023b80bd8610a4ee16e52d   \n",
              "662450  f7e6c85504ce6e82442c770f7c8606f0  e983f56659b43d6691446b013c0b9ef1   \n",
              "688092  6364d3f0f495b6ab9dcf8d3b5c6e0b01  6f95fb5868092aeebc6331ac1bdee85d   \n",
              "715343  c81e728d9d4c2f636f067f89cc14862c  9a3e6ab0f0e9396f7af956fe6e45b407   \n",
              "730625  f7e6c85504ce6e82442c770f7c8606f0  fe50ae64d08d4f8245aaabc55d1baf79   \n",
              "789268  c81e728d9d4c2f636f067f89cc14862c  b5f95dc9fce7c3181497a01d26836700   \n",
              "856454  42a0e188f5033bc65bf8d78622277c4e  5ca106c323e777ec8b42dbbab099932c   \n",
              "\n",
              "              date  pr_sales_type_id  pr_sales_in_units  \\\n",
              "7919    2022-09-29                 0               -1.0   \n",
              "21385   2023-04-06                 0               -2.0   \n",
              "30000   2023-04-21                 0               -1.0   \n",
              "48802   2022-08-30                 0               -2.0   \n",
              "51808   2022-10-03                 0               -2.0   \n",
              "55593   2022-12-24                 0               -2.0   \n",
              "64874   2023-04-14                 0               -1.0   \n",
              "69660   2023-05-19                 0              -27.0   \n",
              "70133   2023-01-21                 0               -3.0   \n",
              "124457  2022-10-09                 0               -1.0   \n",
              "188192  2023-06-03                 0               -1.0   \n",
              "207105  2023-06-05                 0               -2.0   \n",
              "219621  2022-11-24                 0               -3.0   \n",
              "223953  2023-01-21                 0               -2.0   \n",
              "243182  2023-07-09                 0               -1.0   \n",
              "309667  2023-05-08                 0               -1.0   \n",
              "427484  2023-01-28                 0               -1.0   \n",
              "443746  2022-12-26                 0              -14.0   \n",
              "491736  2023-01-11                 0               -1.0   \n",
              "497224  2023-07-06                 0               -2.0   \n",
              "498173  2023-06-13                 0               -2.0   \n",
              "534498  2022-10-09                 0               -1.0   \n",
              "542326  2023-05-09                 0               -2.0   \n",
              "551565  2023-02-15                 0               -1.0   \n",
              "556324  2023-05-09                 0               -1.0   \n",
              "590250  2023-03-07                 0               -4.0   \n",
              "600638  2023-04-16                 0               -3.0   \n",
              "619440  2022-08-09                 0               -2.0   \n",
              "636860  2023-02-21                 0              -11.0   \n",
              "656747  2022-08-07                 0               -1.0   \n",
              "662450  2023-04-08                 0               -1.0   \n",
              "688092  2022-11-26                 0               -3.0   \n",
              "715343  2022-09-29                 0               -2.0   \n",
              "730625  2023-04-08                 0               -1.0   \n",
              "789268  2022-11-23                 0               -1.0   \n",
              "856454  2022-10-21                 0               -8.0   \n",
              "\n",
              "        pr_promo_sales_in_units  pr_sales_in_rub  pr_promo_sales_in_rub  \\\n",
              "7919                        0.0           -763.0                    0.0   \n",
              "21385                       0.0            -48.0                    0.0   \n",
              "30000                       0.0           -182.0                    0.0   \n",
              "48802                       0.0           -424.0                    0.0   \n",
              "51808                       0.0          -1037.0                    0.0   \n",
              "55593                       0.0           -509.0                    0.0   \n",
              "64874                       0.0           -262.0                    0.0   \n",
              "69660                       0.0          -2068.0                    0.0   \n",
              "70133                       0.0           -440.0                    0.0   \n",
              "124457                      0.0           -817.0                    0.0   \n",
              "188192                      0.0            -37.0                    0.0   \n",
              "207105                      0.0           -155.0                    0.0   \n",
              "219621                      0.0           -258.0                    0.0   \n",
              "223953                      0.0           -307.0                    0.0   \n",
              "243182                      0.0            -62.0                    0.0   \n",
              "309667                      0.0           -525.0                    0.0   \n",
              "427484                      0.0           -202.0                    0.0   \n",
              "443746                      0.0          -1911.0                    0.0   \n",
              "491736                      0.0           -269.0                    0.0   \n",
              "497224                      0.0           -402.0                    0.0   \n",
              "498173                      0.0           -284.0                    0.0   \n",
              "534498                      0.0           -708.0                    0.0   \n",
              "542326                      0.0           -143.0                    0.0   \n",
              "551565                      0.0           -130.0                    0.0   \n",
              "556324                      0.0           -478.0                    0.0   \n",
              "590250                      0.0           -881.0                    0.0   \n",
              "600638                      0.0           -540.0                    0.0   \n",
              "619440                      0.0           -411.0                    0.0   \n",
              "636860                      0.0           -491.0                    0.0   \n",
              "656747                      0.0           -312.0                    0.0   \n",
              "662450                      0.0           -117.0                    0.0   \n",
              "688092                      0.0           -552.0                    0.0   \n",
              "715343                      0.0            -46.0                    0.0   \n",
              "730625                      0.0           -119.0                    0.0   \n",
              "789268                      0.0           -242.0                    0.0   \n",
              "856454                      0.0           -409.0                    0.0   \n",
              "\n",
              "        total_promo_diff_in_units  total_promo_diff_in_rub  \n",
              "7919                         -1.0                   -763.0  \n",
              "21385                        -2.0                    -48.0  \n",
              "30000                        -1.0                   -182.0  \n",
              "48802                        -2.0                   -424.0  \n",
              "51808                        -2.0                  -1037.0  \n",
              "55593                        -2.0                   -509.0  \n",
              "64874                        -1.0                   -262.0  \n",
              "69660                       -27.0                  -2068.0  \n",
              "70133                        -3.0                   -440.0  \n",
              "124457                       -1.0                   -817.0  \n",
              "188192                       -1.0                    -37.0  \n",
              "207105                       -2.0                   -155.0  \n",
              "219621                       -3.0                   -258.0  \n",
              "223953                       -2.0                   -307.0  \n",
              "243182                       -1.0                    -62.0  \n",
              "309667                       -1.0                   -525.0  \n",
              "427484                       -1.0                   -202.0  \n",
              "443746                      -14.0                  -1911.0  \n",
              "491736                       -1.0                   -269.0  \n",
              "497224                       -2.0                   -402.0  \n",
              "498173                       -2.0                   -284.0  \n",
              "534498                       -1.0                   -708.0  \n",
              "542326                       -2.0                   -143.0  \n",
              "551565                       -1.0                   -130.0  \n",
              "556324                       -1.0                   -478.0  \n",
              "590250                       -4.0                   -881.0  \n",
              "600638                       -3.0                   -540.0  \n",
              "619440                       -2.0                   -411.0  \n",
              "636860                      -11.0                   -491.0  \n",
              "656747                       -1.0                   -312.0  \n",
              "662450                       -1.0                   -117.0  \n",
              "688092                       -3.0                   -552.0  \n",
              "715343                       -2.0                    -46.0  \n",
              "730625                       -1.0                   -119.0  \n",
              "789268                       -1.0                   -242.0  \n",
              "856454                       -8.0                   -409.0  "
            ]
          },
          "execution_count": 26,
          "metadata": {},
          "output_type": "execute_result"
        }
      ],
      "source": [
        "sales[sales['total_promo_diff_in_units'] < 0]"
      ]
    },
    {
      "cell_type": "code",
      "execution_count": 27,
      "metadata": {
        "colab": {
          "base_uri": "https://localhost:8080/",
          "height": 73
        },
        "id": "AnAd14H7Sm1y",
        "outputId": "c9dbfb89-aae9-471f-fbc9-91e9315449fb"
      },
      "outputs": [
        {
          "data": {
            "text/html": [
              "<div>\n",
              "<style scoped>\n",
              "    .dataframe tbody tr th:only-of-type {\n",
              "        vertical-align: middle;\n",
              "    }\n",
              "\n",
              "    .dataframe tbody tr th {\n",
              "        vertical-align: top;\n",
              "    }\n",
              "\n",
              "    .dataframe thead th {\n",
              "        text-align: right;\n",
              "    }\n",
              "</style>\n",
              "<table border=\"1\" class=\"dataframe\">\n",
              "  <thead>\n",
              "    <tr style=\"text-align: right;\">\n",
              "      <th></th>\n",
              "      <th>st_id</th>\n",
              "      <th>pr_sku_id</th>\n",
              "      <th>date</th>\n",
              "      <th>pr_sales_type_id</th>\n",
              "      <th>pr_sales_in_units</th>\n",
              "      <th>pr_promo_sales_in_units</th>\n",
              "      <th>pr_sales_in_rub</th>\n",
              "      <th>pr_promo_sales_in_rub</th>\n",
              "      <th>total_promo_diff_in_units</th>\n",
              "      <th>total_promo_diff_in_rub</th>\n",
              "    </tr>\n",
              "  </thead>\n",
              "  <tbody>\n",
              "  </tbody>\n",
              "</table>\n",
              "</div>"
            ],
            "text/plain": [
              "Empty DataFrame\n",
              "Columns: [st_id, pr_sku_id, date, pr_sales_type_id, pr_sales_in_units, pr_promo_sales_in_units, pr_sales_in_rub, pr_promo_sales_in_rub, total_promo_diff_in_units, total_promo_diff_in_rub]\n",
              "Index: []"
            ]
          },
          "execution_count": 27,
          "metadata": {},
          "output_type": "execute_result"
        }
      ],
      "source": [
        "sales[(sales['total_promo_diff_in_units'] > 0) & (sales['pr_sales_type_id'] == 1)]"
      ]
    },
    {
      "cell_type": "markdown",
      "metadata": {
        "id": "JW13DZ3M6aL_"
      },
      "source": [
        "Результат пустая таблица означает, что нет таких случаев, что промо действует, а общие продажи больше продаж по промо. Нельзя продать по обычной цене в дель промо. Если действует промо, продажи по нему дублируют общие продажи\n",
        "\n",
        "Поэтому предлагаю в дальнейшем рассматривать и предсказывать только общие продажи"
      ]
    },
    {
      "cell_type": "code",
      "execution_count": 28,
      "metadata": {
        "id": "RhHmWTQvURgG"
      },
      "outputs": [],
      "source": [
        "minus_sales = sales[(sales['pr_sales_in_rub'] < 0) | (sales['pr_sales_in_units'] < 0) | (sales['pr_promo_sales_in_rub'] < 0) |(sales['pr_promo_sales_in_units'] < 0)]"
      ]
    },
    {
      "cell_type": "code",
      "execution_count": 29,
      "metadata": {
        "colab": {
          "base_uri": "https://localhost:8080/"
        },
        "id": "sag1L6YqVRTe",
        "outputId": "75b75f6c-fcf7-4bca-feed-457ada54aad2"
      },
      "outputs": [
        {
          "data": {
            "text/plain": [
              "((79, 10), 0.00894662038583716)"
            ]
          },
          "execution_count": 29,
          "metadata": {},
          "output_type": "execute_result"
        }
      ],
      "source": [
        "minus_sales.shape, minus_sales.shape[0] / sales.shape[0] * 100"
      ]
    },
    {
      "cell_type": "markdown",
      "metadata": {
        "id": "Xvt5dvlC6Nos"
      },
      "source": [
        "Выше - процент строк, где хотя бы одно из значений продаж отрицательно. Их меньше 1%, и их можно удалить или обнулить"
      ]
    },
    {
      "cell_type": "code",
      "execution_count": 30,
      "metadata": {
        "colab": {
          "base_uri": "https://localhost:8080/",
          "height": 452
        },
        "id": "5MWYvK0CVj0N",
        "outputId": "e2baf8ab-60ec-4a48-e984-89ee08e8327b"
      },
      "outputs": [
        {
          "data": {
            "image/png": "[encoded data removed]",
            "text/plain": [
              "<Figure size 640x480 with 1 Axes>"
            ]
          },
          "metadata": {},
          "output_type": "display_data"
        }
      ],
      "source": [
        "sales['pr_sales_in_units'].hist(bins=100)\n",
        "plt.title('Sales distribution');"
      ]
    },
    {
      "cell_type": "code",
      "execution_count": 31,
      "metadata": {
        "colab": {
          "base_uri": "https://localhost:8080/",
          "height": 557
        },
        "id": "u90xf5H97CGE",
        "outputId": "1d227779-7ecd-4c74-b068-a2ad7b9575a3"
      },
      "outputs": [
        {
          "data": {
            "text/html": [
              "<div>\n",
              "<style scoped>\n",
              "    .dataframe tbody tr th:only-of-type {\n",
              "        vertical-align: middle;\n",
              "    }\n",
              "\n",
              "    .dataframe tbody tr th {\n",
              "        vertical-align: top;\n",
              "    }\n",
              "\n",
              "    .dataframe thead th {\n",
              "        text-align: right;\n",
              "    }\n",
              "</style>\n",
              "<table border=\"1\" class=\"dataframe\">\n",
              "  <thead>\n",
              "    <tr style=\"text-align: right;\">\n",
              "      <th></th>\n",
              "      <th>st_id</th>\n",
              "      <th>pr_sku_id</th>\n",
              "      <th>date</th>\n",
              "      <th>pr_sales_type_id</th>\n",
              "      <th>pr_sales_in_units</th>\n",
              "      <th>pr_promo_sales_in_units</th>\n",
              "      <th>pr_sales_in_rub</th>\n",
              "      <th>pr_promo_sales_in_rub</th>\n",
              "      <th>total_promo_diff_in_units</th>\n",
              "      <th>total_promo_diff_in_rub</th>\n",
              "      <th>avg_price</th>\n",
              "    </tr>\n",
              "  </thead>\n",
              "  <tbody>\n",
              "    <tr>\n",
              "      <th>0</th>\n",
              "      <td>c81e728d9d4c2f636f067f89cc14862c</td>\n",
              "      <td>c7b711619071c92bef604c7ad68380dd</td>\n",
              "      <td>2022-10-20</td>\n",
              "      <td>1</td>\n",
              "      <td>5.0</td>\n",
              "      <td>5.0</td>\n",
              "      <td>825.0</td>\n",
              "      <td>825.0</td>\n",
              "      <td>0.0</td>\n",
              "      <td>0.0</td>\n",
              "      <td>165.0</td>\n",
              "    </tr>\n",
              "    <tr>\n",
              "      <th>1</th>\n",
              "      <td>42a0e188f5033bc65bf8d78622277c4e</td>\n",
              "      <td>68f441429e73dbd33b81f95da31576e9</td>\n",
              "      <td>2023-01-29</td>\n",
              "      <td>0</td>\n",
              "      <td>4.0</td>\n",
              "      <td>0.0</td>\n",
              "      <td>196.0</td>\n",
              "      <td>0.0</td>\n",
              "      <td>4.0</td>\n",
              "      <td>196.0</td>\n",
              "      <td>49.0</td>\n",
              "    </tr>\n",
              "    <tr>\n",
              "      <th>2</th>\n",
              "      <td>1ecfb463472ec9115b10c292ef8bc986</td>\n",
              "      <td>22988026fe85fde60d8bf777ab6bc3b4</td>\n",
              "      <td>2023-03-02</td>\n",
              "      <td>0</td>\n",
              "      <td>1.0</td>\n",
              "      <td>0.0</td>\n",
              "      <td>78.0</td>\n",
              "      <td>0.0</td>\n",
              "      <td>1.0</td>\n",
              "      <td>78.0</td>\n",
              "      <td>78.0</td>\n",
              "    </tr>\n",
              "    <tr>\n",
              "      <th>3</th>\n",
              "      <td>42a0e188f5033bc65bf8d78622277c4e</td>\n",
              "      <td>8e887cf8e64ab8e7173701a979476567</td>\n",
              "      <td>2023-04-05</td>\n",
              "      <td>1</td>\n",
              "      <td>0.0</td>\n",
              "      <td>0.0</td>\n",
              "      <td>69.0</td>\n",
              "      <td>69.0</td>\n",
              "      <td>0.0</td>\n",
              "      <td>0.0</td>\n",
              "      <td>inf</td>\n",
              "    </tr>\n",
              "    <tr>\n",
              "      <th>4</th>\n",
              "      <td>16a5cdae362b8d27a1d8f8c7b78b4330</td>\n",
              "      <td>e6fc24ca846339d204b0b50e9f772484</td>\n",
              "      <td>2023-02-17</td>\n",
              "      <td>0</td>\n",
              "      <td>1.0</td>\n",
              "      <td>0.0</td>\n",
              "      <td>161.0</td>\n",
              "      <td>0.0</td>\n",
              "      <td>1.0</td>\n",
              "      <td>161.0</td>\n",
              "      <td>161.0</td>\n",
              "    </tr>\n",
              "    <tr>\n",
              "      <th>5</th>\n",
              "      <td>42a0e188f5033bc65bf8d78622277c4e</td>\n",
              "      <td>3474f0e025c7deb7e127a35763bc5512</td>\n",
              "      <td>2022-11-03</td>\n",
              "      <td>0</td>\n",
              "      <td>3.0</td>\n",
              "      <td>0.0</td>\n",
              "      <td>123.0</td>\n",
              "      <td>0.0</td>\n",
              "      <td>3.0</td>\n",
              "      <td>123.0</td>\n",
              "      <td>41.0</td>\n",
              "    </tr>\n",
              "    <tr>\n",
              "      <th>6</th>\n",
              "      <td>f7e6c85504ce6e82442c770f7c8606f0</td>\n",
              "      <td>b75c7cbf7accdaea8a1a14781bb29870</td>\n",
              "      <td>2023-02-15</td>\n",
              "      <td>0</td>\n",
              "      <td>0.0</td>\n",
              "      <td>0.0</td>\n",
              "      <td>171.0</td>\n",
              "      <td>0.0</td>\n",
              "      <td>0.0</td>\n",
              "      <td>171.0</td>\n",
              "      <td>inf</td>\n",
              "    </tr>\n",
              "    <tr>\n",
              "      <th>7</th>\n",
              "      <td>1ecfb463472ec9115b10c292ef8bc986</td>\n",
              "      <td>f5c4b08ce07d102062c2947967ad750e</td>\n",
              "      <td>2023-02-05</td>\n",
              "      <td>0</td>\n",
              "      <td>2.0</td>\n",
              "      <td>0.0</td>\n",
              "      <td>65.0</td>\n",
              "      <td>0.0</td>\n",
              "      <td>2.0</td>\n",
              "      <td>65.0</td>\n",
              "      <td>32.5</td>\n",
              "    </tr>\n",
              "    <tr>\n",
              "      <th>8</th>\n",
              "      <td>1ecfb463472ec9115b10c292ef8bc986</td>\n",
              "      <td>c2155d600945587d417fe45ba5bf6d57</td>\n",
              "      <td>2023-05-09</td>\n",
              "      <td>0</td>\n",
              "      <td>1.0</td>\n",
              "      <td>0.0</td>\n",
              "      <td>124.0</td>\n",
              "      <td>0.0</td>\n",
              "      <td>1.0</td>\n",
              "      <td>124.0</td>\n",
              "      <td>124.0</td>\n",
              "    </tr>\n",
              "    <tr>\n",
              "      <th>9</th>\n",
              "      <td>16a5cdae362b8d27a1d8f8c7b78b4330</td>\n",
              "      <td>de37768f69fca7176ecddcb7e2b320ac</td>\n",
              "      <td>2023-04-13</td>\n",
              "      <td>0</td>\n",
              "      <td>1.0</td>\n",
              "      <td>0.0</td>\n",
              "      <td>34.0</td>\n",
              "      <td>0.0</td>\n",
              "      <td>1.0</td>\n",
              "      <td>34.0</td>\n",
              "      <td>34.0</td>\n",
              "    </tr>\n",
              "  </tbody>\n",
              "</table>\n",
              "</div>"
            ],
            "text/plain": [
              "                              st_id                         pr_sku_id  \\\n",
              "0  c81e728d9d4c2f636f067f89cc14862c  c7b711619071c92bef604c7ad68380dd   \n",
              "1  42a0e188f5033bc65bf8d78622277c4e  68f441429e73dbd33b81f95da31576e9   \n",
              "2  1ecfb463472ec9115b10c292ef8bc986  22988026fe85fde60d8bf777ab6bc3b4   \n",
              "3  42a0e188f5033bc65bf8d78622277c4e  8e887cf8e64ab8e7173701a979476567   \n",
              "4  16a5cdae362b8d27a1d8f8c7b78b4330  e6fc24ca846339d204b0b50e9f772484   \n",
              "5  42a0e188f5033bc65bf8d78622277c4e  3474f0e025c7deb7e127a35763bc5512   \n",
              "6  f7e6c85504ce6e82442c770f7c8606f0  b75c7cbf7accdaea8a1a14781bb29870   \n",
              "7  1ecfb463472ec9115b10c292ef8bc986  f5c4b08ce07d102062c2947967ad750e   \n",
              "8  1ecfb463472ec9115b10c292ef8bc986  c2155d600945587d417fe45ba5bf6d57   \n",
              "9  16a5cdae362b8d27a1d8f8c7b78b4330  de37768f69fca7176ecddcb7e2b320ac   \n",
              "\n",
              "         date  pr_sales_type_id  pr_sales_in_units  pr_promo_sales_in_units  \\\n",
              "0  2022-10-20                 1                5.0                      5.0   \n",
              "1  2023-01-29                 0                4.0                      0.0   \n",
              "2  2023-03-02                 0                1.0                      0.0   \n",
              "3  2023-04-05                 1                0.0                      0.0   \n",
              "4  2023-02-17                 0                1.0                      0.0   \n",
              "5  2022-11-03                 0                3.0                      0.0   \n",
              "6  2023-02-15                 0                0.0                      0.0   \n",
              "7  2023-02-05                 0                2.0                      0.0   \n",
              "8  2023-05-09                 0                1.0                      0.0   \n",
              "9  2023-04-13                 0                1.0                      0.0   \n",
              "\n",
              "   pr_sales_in_rub  pr_promo_sales_in_rub  total_promo_diff_in_units  \\\n",
              "0            825.0                  825.0                        0.0   \n",
              "1            196.0                    0.0                        4.0   \n",
              "2             78.0                    0.0                        1.0   \n",
              "3             69.0                   69.0                        0.0   \n",
              "4            161.0                    0.0                        1.0   \n",
              "5            123.0                    0.0                        3.0   \n",
              "6            171.0                    0.0                        0.0   \n",
              "7             65.0                    0.0                        2.0   \n",
              "8            124.0                    0.0                        1.0   \n",
              "9             34.0                    0.0                        1.0   \n",
              "\n",
              "   total_promo_diff_in_rub  avg_price  \n",
              "0                      0.0      165.0  \n",
              "1                    196.0       49.0  \n",
              "2                     78.0       78.0  \n",
              "3                      0.0        inf  \n",
              "4                    161.0      161.0  \n",
              "5                    123.0       41.0  \n",
              "6                    171.0        inf  \n",
              "7                     65.0       32.5  \n",
              "8                    124.0      124.0  \n",
              "9                     34.0       34.0  "
            ]
          },
          "execution_count": 31,
          "metadata": {},
          "output_type": "execute_result"
        }
      ],
      "source": [
        "sales['avg_price'] = sales['pr_sales_in_rub'] / sales['pr_sales_in_units']\n",
        "sales.head(10)"
      ]
    },
    {
      "cell_type": "code",
      "execution_count": 32,
      "metadata": {
        "colab": {
          "base_uri": "https://localhost:8080/",
          "height": 617
        },
        "id": "8LoHY6SS8yTG",
        "outputId": "f7cf70ee-ae6d-4a4a-8723-25ceb79eed49"
      },
      "outputs": [
        {
          "data": {
            "text/html": [
              "<div>\n",
              "<style scoped>\n",
              "    .dataframe tbody tr th:only-of-type {\n",
              "        vertical-align: middle;\n",
              "    }\n",
              "\n",
              "    .dataframe tbody tr th {\n",
              "        vertical-align: top;\n",
              "    }\n",
              "\n",
              "    .dataframe thead th {\n",
              "        text-align: right;\n",
              "    }\n",
              "</style>\n",
              "<table border=\"1\" class=\"dataframe\">\n",
              "  <thead>\n",
              "    <tr style=\"text-align: right;\">\n",
              "      <th></th>\n",
              "      <th>st_id</th>\n",
              "      <th>pr_sku_id</th>\n",
              "      <th>date</th>\n",
              "      <th>pr_sales_type_id</th>\n",
              "      <th>pr_sales_in_units</th>\n",
              "      <th>pr_promo_sales_in_units</th>\n",
              "      <th>pr_sales_in_rub</th>\n",
              "      <th>pr_promo_sales_in_rub</th>\n",
              "      <th>total_promo_diff_in_units</th>\n",
              "      <th>total_promo_diff_in_rub</th>\n",
              "      <th>avg_price</th>\n",
              "    </tr>\n",
              "  </thead>\n",
              "  <tbody>\n",
              "    <tr>\n",
              "      <th>3</th>\n",
              "      <td>42a0e188f5033bc65bf8d78622277c4e</td>\n",
              "      <td>8e887cf8e64ab8e7173701a979476567</td>\n",
              "      <td>2023-04-05</td>\n",
              "      <td>1</td>\n",
              "      <td>0.0</td>\n",
              "      <td>0.0</td>\n",
              "      <td>69.0</td>\n",
              "      <td>69.0</td>\n",
              "      <td>0.0</td>\n",
              "      <td>0.0</td>\n",
              "      <td>inf</td>\n",
              "    </tr>\n",
              "    <tr>\n",
              "      <th>6</th>\n",
              "      <td>f7e6c85504ce6e82442c770f7c8606f0</td>\n",
              "      <td>b75c7cbf7accdaea8a1a14781bb29870</td>\n",
              "      <td>2023-02-15</td>\n",
              "      <td>0</td>\n",
              "      <td>0.0</td>\n",
              "      <td>0.0</td>\n",
              "      <td>171.0</td>\n",
              "      <td>0.0</td>\n",
              "      <td>0.0</td>\n",
              "      <td>171.0</td>\n",
              "      <td>inf</td>\n",
              "    </tr>\n",
              "    <tr>\n",
              "      <th>27</th>\n",
              "      <td>42a0e188f5033bc65bf8d78622277c4e</td>\n",
              "      <td>cfb54b1ce12bb3f9b6b9e2ea0b57414b</td>\n",
              "      <td>2022-11-10</td>\n",
              "      <td>0</td>\n",
              "      <td>0.0</td>\n",
              "      <td>0.0</td>\n",
              "      <td>91.0</td>\n",
              "      <td>0.0</td>\n",
              "      <td>0.0</td>\n",
              "      <td>91.0</td>\n",
              "      <td>inf</td>\n",
              "    </tr>\n",
              "    <tr>\n",
              "      <th>28</th>\n",
              "      <td>f7e6c85504ce6e82442c770f7c8606f0</td>\n",
              "      <td>88d7313785c97631bf3df61e70636491</td>\n",
              "      <td>2022-11-30</td>\n",
              "      <td>0</td>\n",
              "      <td>0.0</td>\n",
              "      <td>0.0</td>\n",
              "      <td>79.0</td>\n",
              "      <td>0.0</td>\n",
              "      <td>0.0</td>\n",
              "      <td>79.0</td>\n",
              "      <td>inf</td>\n",
              "    </tr>\n",
              "    <tr>\n",
              "      <th>32</th>\n",
              "      <td>fa7cdfad1a5aaf8370ebeda47a1ff1c3</td>\n",
              "      <td>b610088ddf586449793d3c6da70d4c56</td>\n",
              "      <td>2023-02-26</td>\n",
              "      <td>0</td>\n",
              "      <td>0.0</td>\n",
              "      <td>0.0</td>\n",
              "      <td>83.0</td>\n",
              "      <td>0.0</td>\n",
              "      <td>0.0</td>\n",
              "      <td>83.0</td>\n",
              "      <td>inf</td>\n",
              "    </tr>\n",
              "    <tr>\n",
              "      <th>...</th>\n",
              "      <td>...</td>\n",
              "      <td>...</td>\n",
              "      <td>...</td>\n",
              "      <td>...</td>\n",
              "      <td>...</td>\n",
              "      <td>...</td>\n",
              "      <td>...</td>\n",
              "      <td>...</td>\n",
              "      <td>...</td>\n",
              "      <td>...</td>\n",
              "      <td>...</td>\n",
              "    </tr>\n",
              "    <tr>\n",
              "      <th>882978</th>\n",
              "      <td>fa7cdfad1a5aaf8370ebeda47a1ff1c3</td>\n",
              "      <td>a1f93a1aeb02759147d69276c70217db</td>\n",
              "      <td>2023-06-07</td>\n",
              "      <td>1</td>\n",
              "      <td>0.0</td>\n",
              "      <td>0.0</td>\n",
              "      <td>30.0</td>\n",
              "      <td>30.0</td>\n",
              "      <td>0.0</td>\n",
              "      <td>0.0</td>\n",
              "      <td>inf</td>\n",
              "    </tr>\n",
              "    <tr>\n",
              "      <th>882979</th>\n",
              "      <td>6364d3f0f495b6ab9dcf8d3b5c6e0b01</td>\n",
              "      <td>cda72490a16c471e7a192a956f476e95</td>\n",
              "      <td>2023-04-11</td>\n",
              "      <td>0</td>\n",
              "      <td>0.0</td>\n",
              "      <td>0.0</td>\n",
              "      <td>62.0</td>\n",
              "      <td>0.0</td>\n",
              "      <td>0.0</td>\n",
              "      <td>62.0</td>\n",
              "      <td>inf</td>\n",
              "    </tr>\n",
              "    <tr>\n",
              "      <th>882991</th>\n",
              "      <td>16a5cdae362b8d27a1d8f8c7b78b4330</td>\n",
              "      <td>7d945116ed12c2807d081df6f666ba37</td>\n",
              "      <td>2023-07-01</td>\n",
              "      <td>1</td>\n",
              "      <td>0.0</td>\n",
              "      <td>0.0</td>\n",
              "      <td>70.0</td>\n",
              "      <td>70.0</td>\n",
              "      <td>0.0</td>\n",
              "      <td>0.0</td>\n",
              "      <td>inf</td>\n",
              "    </tr>\n",
              "    <tr>\n",
              "      <th>883004</th>\n",
              "      <td>42a0e188f5033bc65bf8d78622277c4e</td>\n",
              "      <td>143f62003066d8d4cc33d3e9161d114d</td>\n",
              "      <td>2022-12-25</td>\n",
              "      <td>1</td>\n",
              "      <td>0.0</td>\n",
              "      <td>0.0</td>\n",
              "      <td>41.0</td>\n",
              "      <td>41.0</td>\n",
              "      <td>0.0</td>\n",
              "      <td>0.0</td>\n",
              "      <td>inf</td>\n",
              "    </tr>\n",
              "    <tr>\n",
              "      <th>883005</th>\n",
              "      <td>fa7cdfad1a5aaf8370ebeda47a1ff1c3</td>\n",
              "      <td>d2d8c0f1e97017883799eeb270accbf4</td>\n",
              "      <td>2022-10-25</td>\n",
              "      <td>1</td>\n",
              "      <td>0.0</td>\n",
              "      <td>0.0</td>\n",
              "      <td>130.0</td>\n",
              "      <td>130.0</td>\n",
              "      <td>0.0</td>\n",
              "      <td>0.0</td>\n",
              "      <td>inf</td>\n",
              "    </tr>\n",
              "  </tbody>\n",
              "</table>\n",
              "<p>66089 rows × 11 columns</p>\n",
              "</div>"
            ],
            "text/plain": [
              "                                   st_id                         pr_sku_id  \\\n",
              "3       42a0e188f5033bc65bf8d78622277c4e  8e887cf8e64ab8e7173701a979476567   \n",
              "6       f7e6c85504ce6e82442c770f7c8606f0  b75c7cbf7accdaea8a1a14781bb29870   \n",
              "27      42a0e188f5033bc65bf8d78622277c4e  cfb54b1ce12bb3f9b6b9e2ea0b57414b   \n",
              "28      f7e6c85504ce6e82442c770f7c8606f0  88d7313785c97631bf3df61e70636491   \n",
              "32      fa7cdfad1a5aaf8370ebeda47a1ff1c3  b610088ddf586449793d3c6da70d4c56   \n",
              "...                                  ...                               ...   \n",
              "882978  fa7cdfad1a5aaf8370ebeda47a1ff1c3  a1f93a1aeb02759147d69276c70217db   \n",
              "882979  6364d3f0f495b6ab9dcf8d3b5c6e0b01  cda72490a16c471e7a192a956f476e95   \n",
              "882991  16a5cdae362b8d27a1d8f8c7b78b4330  7d945116ed12c2807d081df6f666ba37   \n",
              "883004  42a0e188f5033bc65bf8d78622277c4e  143f62003066d8d4cc33d3e9161d114d   \n",
              "883005  fa7cdfad1a5aaf8370ebeda47a1ff1c3  d2d8c0f1e97017883799eeb270accbf4   \n",
              "\n",
              "              date  pr_sales_type_id  pr_sales_in_units  \\\n",
              "3       2023-04-05                 1                0.0   \n",
              "6       2023-02-15                 0                0.0   \n",
              "27      2022-11-10                 0                0.0   \n",
              "28      2022-11-30                 0                0.0   \n",
              "32      2023-02-26                 0                0.0   \n",
              "...            ...               ...                ...   \n",
              "882978  2023-06-07                 1                0.0   \n",
              "882979  2023-04-11                 0                0.0   \n",
              "882991  2023-07-01                 1                0.0   \n",
              "883004  2022-12-25                 1                0.0   \n",
              "883005  2022-10-25                 1                0.0   \n",
              "\n",
              "        pr_promo_sales_in_units  pr_sales_in_rub  pr_promo_sales_in_rub  \\\n",
              "3                           0.0             69.0                   69.0   \n",
              "6                           0.0            171.0                    0.0   \n",
              "27                          0.0             91.0                    0.0   \n",
              "28                          0.0             79.0                    0.0   \n",
              "32                          0.0             83.0                    0.0   \n",
              "...                         ...              ...                    ...   \n",
              "882978                      0.0             30.0                   30.0   \n",
              "882979                      0.0             62.0                    0.0   \n",
              "882991                      0.0             70.0                   70.0   \n",
              "883004                      0.0             41.0                   41.0   \n",
              "883005                      0.0            130.0                  130.0   \n",
              "\n",
              "        total_promo_diff_in_units  total_promo_diff_in_rub  avg_price  \n",
              "3                             0.0                      0.0        inf  \n",
              "6                             0.0                    171.0        inf  \n",
              "27                            0.0                     91.0        inf  \n",
              "28                            0.0                     79.0        inf  \n",
              "32                            0.0                     83.0        inf  \n",
              "...                           ...                      ...        ...  \n",
              "882978                        0.0                      0.0        inf  \n",
              "882979                        0.0                     62.0        inf  \n",
              "882991                        0.0                      0.0        inf  \n",
              "883004                        0.0                      0.0        inf  \n",
              "883005                        0.0                      0.0        inf  \n",
              "\n",
              "[66089 rows x 11 columns]"
            ]
          },
          "execution_count": 32,
          "metadata": {},
          "output_type": "execute_result"
        }
      ],
      "source": [
        "sales[(sales['pr_sales_in_units'] == 0) & (sales['pr_sales_in_rub'] != 0)]"
      ]
    },
    {
      "cell_type": "markdown",
      "metadata": {
        "id": "LBfFJ7Aq-C2k"
      },
      "source": [
        "66 тысяч строк, где продажи в штуках нулевые, а в рублях нет. Я думаю, это из-за округления: товара куплено меньше 0.5 - в штуках будет 0, а рубли с продажи есть\n",
        "\n",
        "Для прогнозирования спроса нули нам подходят - они отражают очень низкий спрос. Но это портит расчет цен (деление на ноль). Исправим эти строки"
      ]
    },
    {
      "cell_type": "code",
      "execution_count": 33,
      "metadata": {
        "colab": {
          "base_uri": "https://localhost:8080/",
          "height": 557
        },
        "id": "RJ7itHju9M9I",
        "outputId": "c651a3fb-8040-424e-920b-4637ff1a9c23"
      },
      "outputs": [
        {
          "data": {
            "text/html": [
              "<div>\n",
              "<style scoped>\n",
              "    .dataframe tbody tr th:only-of-type {\n",
              "        vertical-align: middle;\n",
              "    }\n",
              "\n",
              "    .dataframe tbody tr th {\n",
              "        vertical-align: top;\n",
              "    }\n",
              "\n",
              "    .dataframe thead th {\n",
              "        text-align: right;\n",
              "    }\n",
              "</style>\n",
              "<table border=\"1\" class=\"dataframe\">\n",
              "  <thead>\n",
              "    <tr style=\"text-align: right;\">\n",
              "      <th></th>\n",
              "      <th>st_id</th>\n",
              "      <th>pr_sku_id</th>\n",
              "      <th>date</th>\n",
              "      <th>pr_sales_type_id</th>\n",
              "      <th>pr_sales_in_units</th>\n",
              "      <th>pr_promo_sales_in_units</th>\n",
              "      <th>pr_sales_in_rub</th>\n",
              "      <th>pr_promo_sales_in_rub</th>\n",
              "      <th>total_promo_diff_in_units</th>\n",
              "      <th>total_promo_diff_in_rub</th>\n",
              "      <th>avg_price</th>\n",
              "    </tr>\n",
              "  </thead>\n",
              "  <tbody>\n",
              "    <tr>\n",
              "      <th>0</th>\n",
              "      <td>c81e728d9d4c2f636f067f89cc14862c</td>\n",
              "      <td>c7b711619071c92bef604c7ad68380dd</td>\n",
              "      <td>2022-10-20</td>\n",
              "      <td>1</td>\n",
              "      <td>5.0</td>\n",
              "      <td>5.0</td>\n",
              "      <td>825.0</td>\n",
              "      <td>825.0</td>\n",
              "      <td>0.0</td>\n",
              "      <td>0.0</td>\n",
              "      <td>165.0</td>\n",
              "    </tr>\n",
              "    <tr>\n",
              "      <th>1</th>\n",
              "      <td>42a0e188f5033bc65bf8d78622277c4e</td>\n",
              "      <td>68f441429e73dbd33b81f95da31576e9</td>\n",
              "      <td>2023-01-29</td>\n",
              "      <td>0</td>\n",
              "      <td>4.0</td>\n",
              "      <td>0.0</td>\n",
              "      <td>196.0</td>\n",
              "      <td>0.0</td>\n",
              "      <td>4.0</td>\n",
              "      <td>196.0</td>\n",
              "      <td>49.0</td>\n",
              "    </tr>\n",
              "    <tr>\n",
              "      <th>2</th>\n",
              "      <td>1ecfb463472ec9115b10c292ef8bc986</td>\n",
              "      <td>22988026fe85fde60d8bf777ab6bc3b4</td>\n",
              "      <td>2023-03-02</td>\n",
              "      <td>0</td>\n",
              "      <td>1.0</td>\n",
              "      <td>0.0</td>\n",
              "      <td>78.0</td>\n",
              "      <td>0.0</td>\n",
              "      <td>1.0</td>\n",
              "      <td>78.0</td>\n",
              "      <td>78.0</td>\n",
              "    </tr>\n",
              "    <tr>\n",
              "      <th>3</th>\n",
              "      <td>42a0e188f5033bc65bf8d78622277c4e</td>\n",
              "      <td>8e887cf8e64ab8e7173701a979476567</td>\n",
              "      <td>2023-04-05</td>\n",
              "      <td>1</td>\n",
              "      <td>0.0</td>\n",
              "      <td>0.0</td>\n",
              "      <td>69.0</td>\n",
              "      <td>69.0</td>\n",
              "      <td>0.0</td>\n",
              "      <td>0.0</td>\n",
              "      <td>NaN</td>\n",
              "    </tr>\n",
              "    <tr>\n",
              "      <th>4</th>\n",
              "      <td>16a5cdae362b8d27a1d8f8c7b78b4330</td>\n",
              "      <td>e6fc24ca846339d204b0b50e9f772484</td>\n",
              "      <td>2023-02-17</td>\n",
              "      <td>0</td>\n",
              "      <td>1.0</td>\n",
              "      <td>0.0</td>\n",
              "      <td>161.0</td>\n",
              "      <td>0.0</td>\n",
              "      <td>1.0</td>\n",
              "      <td>161.0</td>\n",
              "      <td>161.0</td>\n",
              "    </tr>\n",
              "    <tr>\n",
              "      <th>5</th>\n",
              "      <td>42a0e188f5033bc65bf8d78622277c4e</td>\n",
              "      <td>3474f0e025c7deb7e127a35763bc5512</td>\n",
              "      <td>2022-11-03</td>\n",
              "      <td>0</td>\n",
              "      <td>3.0</td>\n",
              "      <td>0.0</td>\n",
              "      <td>123.0</td>\n",
              "      <td>0.0</td>\n",
              "      <td>3.0</td>\n",
              "      <td>123.0</td>\n",
              "      <td>41.0</td>\n",
              "    </tr>\n",
              "    <tr>\n",
              "      <th>6</th>\n",
              "      <td>f7e6c85504ce6e82442c770f7c8606f0</td>\n",
              "      <td>b75c7cbf7accdaea8a1a14781bb29870</td>\n",
              "      <td>2023-02-15</td>\n",
              "      <td>0</td>\n",
              "      <td>0.0</td>\n",
              "      <td>0.0</td>\n",
              "      <td>171.0</td>\n",
              "      <td>0.0</td>\n",
              "      <td>0.0</td>\n",
              "      <td>171.0</td>\n",
              "      <td>NaN</td>\n",
              "    </tr>\n",
              "    <tr>\n",
              "      <th>7</th>\n",
              "      <td>1ecfb463472ec9115b10c292ef8bc986</td>\n",
              "      <td>f5c4b08ce07d102062c2947967ad750e</td>\n",
              "      <td>2023-02-05</td>\n",
              "      <td>0</td>\n",
              "      <td>2.0</td>\n",
              "      <td>0.0</td>\n",
              "      <td>65.0</td>\n",
              "      <td>0.0</td>\n",
              "      <td>2.0</td>\n",
              "      <td>65.0</td>\n",
              "      <td>32.5</td>\n",
              "    </tr>\n",
              "    <tr>\n",
              "      <th>8</th>\n",
              "      <td>1ecfb463472ec9115b10c292ef8bc986</td>\n",
              "      <td>c2155d600945587d417fe45ba5bf6d57</td>\n",
              "      <td>2023-05-09</td>\n",
              "      <td>0</td>\n",
              "      <td>1.0</td>\n",
              "      <td>0.0</td>\n",
              "      <td>124.0</td>\n",
              "      <td>0.0</td>\n",
              "      <td>1.0</td>\n",
              "      <td>124.0</td>\n",
              "      <td>124.0</td>\n",
              "    </tr>\n",
              "    <tr>\n",
              "      <th>9</th>\n",
              "      <td>16a5cdae362b8d27a1d8f8c7b78b4330</td>\n",
              "      <td>de37768f69fca7176ecddcb7e2b320ac</td>\n",
              "      <td>2023-04-13</td>\n",
              "      <td>0</td>\n",
              "      <td>1.0</td>\n",
              "      <td>0.0</td>\n",
              "      <td>34.0</td>\n",
              "      <td>0.0</td>\n",
              "      <td>1.0</td>\n",
              "      <td>34.0</td>\n",
              "      <td>34.0</td>\n",
              "    </tr>\n",
              "  </tbody>\n",
              "</table>\n",
              "</div>"
            ],
            "text/plain": [
              "                              st_id                         pr_sku_id  \\\n",
              "0  c81e728d9d4c2f636f067f89cc14862c  c7b711619071c92bef604c7ad68380dd   \n",
              "1  42a0e188f5033bc65bf8d78622277c4e  68f441429e73dbd33b81f95da31576e9   \n",
              "2  1ecfb463472ec9115b10c292ef8bc986  22988026fe85fde60d8bf777ab6bc3b4   \n",
              "3  42a0e188f5033bc65bf8d78622277c4e  8e887cf8e64ab8e7173701a979476567   \n",
              "4  16a5cdae362b8d27a1d8f8c7b78b4330  e6fc24ca846339d204b0b50e9f772484   \n",
              "5  42a0e188f5033bc65bf8d78622277c4e  3474f0e025c7deb7e127a35763bc5512   \n",
              "6  f7e6c85504ce6e82442c770f7c8606f0  b75c7cbf7accdaea8a1a14781bb29870   \n",
              "7  1ecfb463472ec9115b10c292ef8bc986  f5c4b08ce07d102062c2947967ad750e   \n",
              "8  1ecfb463472ec9115b10c292ef8bc986  c2155d600945587d417fe45ba5bf6d57   \n",
              "9  16a5cdae362b8d27a1d8f8c7b78b4330  de37768f69fca7176ecddcb7e2b320ac   \n",
              "\n",
              "         date  pr_sales_type_id  pr_sales_in_units  pr_promo_sales_in_units  \\\n",
              "0  2022-10-20                 1                5.0                      5.0   \n",
              "1  2023-01-29                 0                4.0                      0.0   \n",
              "2  2023-03-02                 0                1.0                      0.0   \n",
              "3  2023-04-05                 1                0.0                      0.0   \n",
              "4  2023-02-17                 0                1.0                      0.0   \n",
              "5  2022-11-03                 0                3.0                      0.0   \n",
              "6  2023-02-15                 0                0.0                      0.0   \n",
              "7  2023-02-05                 0                2.0                      0.0   \n",
              "8  2023-05-09                 0                1.0                      0.0   \n",
              "9  2023-04-13                 0                1.0                      0.0   \n",
              "\n",
              "   pr_sales_in_rub  pr_promo_sales_in_rub  total_promo_diff_in_units  \\\n",
              "0            825.0                  825.0                        0.0   \n",
              "1            196.0                    0.0                        4.0   \n",
              "2             78.0                    0.0                        1.0   \n",
              "3             69.0                   69.0                        0.0   \n",
              "4            161.0                    0.0                        1.0   \n",
              "5            123.0                    0.0                        3.0   \n",
              "6            171.0                    0.0                        0.0   \n",
              "7             65.0                    0.0                        2.0   \n",
              "8            124.0                    0.0                        1.0   \n",
              "9             34.0                    0.0                        1.0   \n",
              "\n",
              "   total_promo_diff_in_rub  avg_price  \n",
              "0                      0.0      165.0  \n",
              "1                    196.0       49.0  \n",
              "2                     78.0       78.0  \n",
              "3                      0.0        NaN  \n",
              "4                    161.0      161.0  \n",
              "5                    123.0       41.0  \n",
              "6                    171.0        NaN  \n",
              "7                     65.0       32.5  \n",
              "8                    124.0      124.0  \n",
              "9                     34.0       34.0  "
            ]
          },
          "execution_count": 33,
          "metadata": {},
          "output_type": "execute_result"
        }
      ],
      "source": [
        "sales['avg_price'] = sales['avg_price'].replace({np.inf: np.nan, -np.inf: np.nan})\n",
        "sales.head(10)"
      ]
    },
    {
      "cell_type": "code",
      "execution_count": 34,
      "metadata": {
        "colab": {
          "base_uri": "https://localhost:8080/"
        },
        "id": "m6zUd9-08gx_",
        "outputId": "3dd08a31-7253-4014-d533-eca8ae1f4ad7"
      },
      "outputs": [
        {
          "data": {
            "text/plain": [
              "count    816472.000000\n",
              "mean        138.726821\n",
              "std         127.117552\n",
              "min           0.000000\n",
              "25%          49.000000\n",
              "50%         113.000000\n",
              "75%         187.666667\n",
              "max        4729.000000\n",
              "Name: avg_price, dtype: float64"
            ]
          },
          "execution_count": 34,
          "metadata": {},
          "output_type": "execute_result"
        }
      ],
      "source": [
        "sales['avg_price'].describe()"
      ]
    },
    {
      "cell_type": "markdown",
      "metadata": {
        "id": "v90B8sa0MNPG"
      },
      "source": [
        "Интересно, откуда взялись нулевые цены. Для этого продажи в рублях должны быть 0, а в штуках нет (нет деления на ноль)"
      ]
    },
    {
      "cell_type": "code",
      "execution_count": 35,
      "metadata": {
        "colab": {
          "base_uri": "https://localhost:8080/",
          "height": 617
        },
        "id": "mYdppCcP98Na",
        "outputId": "0785b837-1c9f-4d47-e99d-2c98327d6141"
      },
      "outputs": [
        {
          "data": {
            "text/html": [
              "<div>\n",
              "<style scoped>\n",
              "    .dataframe tbody tr th:only-of-type {\n",
              "        vertical-align: middle;\n",
              "    }\n",
              "\n",
              "    .dataframe tbody tr th {\n",
              "        vertical-align: top;\n",
              "    }\n",
              "\n",
              "    .dataframe thead th {\n",
              "        text-align: right;\n",
              "    }\n",
              "</style>\n",
              "<table border=\"1\" class=\"dataframe\">\n",
              "  <thead>\n",
              "    <tr style=\"text-align: right;\">\n",
              "      <th></th>\n",
              "      <th>st_id</th>\n",
              "      <th>pr_sku_id</th>\n",
              "      <th>date</th>\n",
              "      <th>pr_sales_type_id</th>\n",
              "      <th>pr_sales_in_units</th>\n",
              "      <th>pr_promo_sales_in_units</th>\n",
              "      <th>pr_sales_in_rub</th>\n",
              "      <th>pr_promo_sales_in_rub</th>\n",
              "      <th>total_promo_diff_in_units</th>\n",
              "      <th>total_promo_diff_in_rub</th>\n",
              "      <th>avg_price</th>\n",
              "    </tr>\n",
              "  </thead>\n",
              "  <tbody>\n",
              "    <tr>\n",
              "      <th>30</th>\n",
              "      <td>f7e6c85504ce6e82442c770f7c8606f0</td>\n",
              "      <td>3474f0e025c7deb7e127a35763bc5512</td>\n",
              "      <td>2023-06-06</td>\n",
              "      <td>1</td>\n",
              "      <td>8.0</td>\n",
              "      <td>8.0</td>\n",
              "      <td>0.0</td>\n",
              "      <td>0.0</td>\n",
              "      <td>0.0</td>\n",
              "      <td>0.0</td>\n",
              "      <td>0.0</td>\n",
              "    </tr>\n",
              "    <tr>\n",
              "      <th>6313</th>\n",
              "      <td>53e19f3dbb211f20b20b45668303c1b6</td>\n",
              "      <td>ee21c04f96ab30a8b3ca761e57e016ca</td>\n",
              "      <td>2022-11-09</td>\n",
              "      <td>1</td>\n",
              "      <td>1.0</td>\n",
              "      <td>1.0</td>\n",
              "      <td>0.0</td>\n",
              "      <td>0.0</td>\n",
              "      <td>0.0</td>\n",
              "      <td>0.0</td>\n",
              "      <td>0.0</td>\n",
              "    </tr>\n",
              "    <tr>\n",
              "      <th>7432</th>\n",
              "      <td>c81e728d9d4c2f636f067f89cc14862c</td>\n",
              "      <td>90252502ab29331e94fd3113f11c58e0</td>\n",
              "      <td>2022-12-27</td>\n",
              "      <td>1</td>\n",
              "      <td>2.0</td>\n",
              "      <td>2.0</td>\n",
              "      <td>0.0</td>\n",
              "      <td>0.0</td>\n",
              "      <td>0.0</td>\n",
              "      <td>0.0</td>\n",
              "      <td>0.0</td>\n",
              "    </tr>\n",
              "    <tr>\n",
              "      <th>8153</th>\n",
              "      <td>f7e6c85504ce6e82442c770f7c8606f0</td>\n",
              "      <td>4e3d5c9fab3fc51a4857846fea3d2e57</td>\n",
              "      <td>2022-12-19</td>\n",
              "      <td>1</td>\n",
              "      <td>1.0</td>\n",
              "      <td>1.0</td>\n",
              "      <td>0.0</td>\n",
              "      <td>0.0</td>\n",
              "      <td>0.0</td>\n",
              "      <td>0.0</td>\n",
              "      <td>0.0</td>\n",
              "    </tr>\n",
              "    <tr>\n",
              "      <th>8931</th>\n",
              "      <td>f7e6c85504ce6e82442c770f7c8606f0</td>\n",
              "      <td>0f152427918d29bb1081834c1d375a48</td>\n",
              "      <td>2022-10-28</td>\n",
              "      <td>1</td>\n",
              "      <td>2.0</td>\n",
              "      <td>2.0</td>\n",
              "      <td>0.0</td>\n",
              "      <td>0.0</td>\n",
              "      <td>0.0</td>\n",
              "      <td>0.0</td>\n",
              "      <td>0.0</td>\n",
              "    </tr>\n",
              "    <tr>\n",
              "      <th>...</th>\n",
              "      <td>...</td>\n",
              "      <td>...</td>\n",
              "      <td>...</td>\n",
              "      <td>...</td>\n",
              "      <td>...</td>\n",
              "      <td>...</td>\n",
              "      <td>...</td>\n",
              "      <td>...</td>\n",
              "      <td>...</td>\n",
              "      <td>...</td>\n",
              "      <td>...</td>\n",
              "    </tr>\n",
              "    <tr>\n",
              "      <th>876801</th>\n",
              "      <td>1ecfb463472ec9115b10c292ef8bc986</td>\n",
              "      <td>525526d5b2169462195c44d49fff4a44</td>\n",
              "      <td>2022-10-22</td>\n",
              "      <td>1</td>\n",
              "      <td>1.0</td>\n",
              "      <td>1.0</td>\n",
              "      <td>0.0</td>\n",
              "      <td>0.0</td>\n",
              "      <td>0.0</td>\n",
              "      <td>0.0</td>\n",
              "      <td>0.0</td>\n",
              "    </tr>\n",
              "    <tr>\n",
              "      <th>878163</th>\n",
              "      <td>fa7cdfad1a5aaf8370ebeda47a1ff1c3</td>\n",
              "      <td>27e8978c9e8b7146c462feb7d24f5637</td>\n",
              "      <td>2022-10-27</td>\n",
              "      <td>1</td>\n",
              "      <td>9.0</td>\n",
              "      <td>9.0</td>\n",
              "      <td>0.0</td>\n",
              "      <td>0.0</td>\n",
              "      <td>0.0</td>\n",
              "      <td>0.0</td>\n",
              "      <td>0.0</td>\n",
              "    </tr>\n",
              "    <tr>\n",
              "      <th>882360</th>\n",
              "      <td>6364d3f0f495b6ab9dcf8d3b5c6e0b01</td>\n",
              "      <td>2dc922d957188fb51dd2bd50ec9b555a</td>\n",
              "      <td>2022-10-29</td>\n",
              "      <td>1</td>\n",
              "      <td>12.0</td>\n",
              "      <td>12.0</td>\n",
              "      <td>0.0</td>\n",
              "      <td>0.0</td>\n",
              "      <td>0.0</td>\n",
              "      <td>0.0</td>\n",
              "      <td>0.0</td>\n",
              "    </tr>\n",
              "    <tr>\n",
              "      <th>882380</th>\n",
              "      <td>f7e6c85504ce6e82442c770f7c8606f0</td>\n",
              "      <td>9da31b9d3cf407cd724c65b7dfed00ee</td>\n",
              "      <td>2022-11-27</td>\n",
              "      <td>1</td>\n",
              "      <td>3.0</td>\n",
              "      <td>3.0</td>\n",
              "      <td>0.0</td>\n",
              "      <td>0.0</td>\n",
              "      <td>0.0</td>\n",
              "      <td>0.0</td>\n",
              "      <td>0.0</td>\n",
              "    </tr>\n",
              "    <tr>\n",
              "      <th>882394</th>\n",
              "      <td>6364d3f0f495b6ab9dcf8d3b5c6e0b01</td>\n",
              "      <td>0f152427918d29bb1081834c1d375a48</td>\n",
              "      <td>2022-10-22</td>\n",
              "      <td>1</td>\n",
              "      <td>11.0</td>\n",
              "      <td>11.0</td>\n",
              "      <td>0.0</td>\n",
              "      <td>0.0</td>\n",
              "      <td>0.0</td>\n",
              "      <td>0.0</td>\n",
              "      <td>0.0</td>\n",
              "    </tr>\n",
              "  </tbody>\n",
              "</table>\n",
              "<p>795 rows × 11 columns</p>\n",
              "</div>"
            ],
            "text/plain": [
              "                                   st_id                         pr_sku_id  \\\n",
              "30      f7e6c85504ce6e82442c770f7c8606f0  3474f0e025c7deb7e127a35763bc5512   \n",
              "6313    53e19f3dbb211f20b20b45668303c1b6  ee21c04f96ab30a8b3ca761e57e016ca   \n",
              "7432    c81e728d9d4c2f636f067f89cc14862c  90252502ab29331e94fd3113f11c58e0   \n",
              "8153    f7e6c85504ce6e82442c770f7c8606f0  4e3d5c9fab3fc51a4857846fea3d2e57   \n",
              "8931    f7e6c85504ce6e82442c770f7c8606f0  0f152427918d29bb1081834c1d375a48   \n",
              "...                                  ...                               ...   \n",
              "876801  1ecfb463472ec9115b10c292ef8bc986  525526d5b2169462195c44d49fff4a44   \n",
              "878163  fa7cdfad1a5aaf8370ebeda47a1ff1c3  27e8978c9e8b7146c462feb7d24f5637   \n",
              "882360  6364d3f0f495b6ab9dcf8d3b5c6e0b01  2dc922d957188fb51dd2bd50ec9b555a   \n",
              "882380  f7e6c85504ce6e82442c770f7c8606f0  9da31b9d3cf407cd724c65b7dfed00ee   \n",
              "882394  6364d3f0f495b6ab9dcf8d3b5c6e0b01  0f152427918d29bb1081834c1d375a48   \n",
              "\n",
              "              date  pr_sales_type_id  pr_sales_in_units  \\\n",
              "30      2023-06-06                 1                8.0   \n",
              "6313    2022-11-09                 1                1.0   \n",
              "7432    2022-12-27                 1                2.0   \n",
              "8153    2022-12-19                 1                1.0   \n",
              "8931    2022-10-28                 1                2.0   \n",
              "...            ...               ...                ...   \n",
              "876801  2022-10-22                 1                1.0   \n",
              "878163  2022-10-27                 1                9.0   \n",
              "882360  2022-10-29                 1               12.0   \n",
              "882380  2022-11-27                 1                3.0   \n",
              "882394  2022-10-22                 1               11.0   \n",
              "\n",
              "        pr_promo_sales_in_units  pr_sales_in_rub  pr_promo_sales_in_rub  \\\n",
              "30                          8.0              0.0                    0.0   \n",
              "6313                        1.0              0.0                    0.0   \n",
              "7432                        2.0              0.0                    0.0   \n",
              "8153                        1.0              0.0                    0.0   \n",
              "8931                        2.0              0.0                    0.0   \n",
              "...                         ...              ...                    ...   \n",
              "876801                      1.0              0.0                    0.0   \n",
              "878163                      9.0              0.0                    0.0   \n",
              "882360                     12.0              0.0                    0.0   \n",
              "882380                      3.0              0.0                    0.0   \n",
              "882394                     11.0              0.0                    0.0   \n",
              "\n",
              "        total_promo_diff_in_units  total_promo_diff_in_rub  avg_price  \n",
              "30                            0.0                      0.0        0.0  \n",
              "6313                          0.0                      0.0        0.0  \n",
              "7432                          0.0                      0.0        0.0  \n",
              "8153                          0.0                      0.0        0.0  \n",
              "8931                          0.0                      0.0        0.0  \n",
              "...                           ...                      ...        ...  \n",
              "876801                        0.0                      0.0        0.0  \n",
              "878163                        0.0                      0.0        0.0  \n",
              "882360                        0.0                      0.0        0.0  \n",
              "882380                        0.0                      0.0        0.0  \n",
              "882394                        0.0                      0.0        0.0  \n",
              "\n",
              "[795 rows x 11 columns]"
            ]
          },
          "execution_count": 35,
          "metadata": {},
          "output_type": "execute_result"
        }
      ],
      "source": [
        "sales[(sales['pr_sales_in_units'] != 0) & (sales['pr_sales_in_rub'] == 0)]"
      ]
    },
    {
      "cell_type": "code",
      "execution_count": 36,
      "metadata": {
        "colab": {
          "base_uri": "https://localhost:8080/"
        },
        "id": "dOp6y_jCVopb",
        "outputId": "eec7049b-87fd-4c9d-d98a-b19932f57555"
      },
      "outputs": [
        {
          "data": {
            "text/plain": [
              "0.8528301886792453"
            ]
          },
          "execution_count": 36,
          "metadata": {},
          "output_type": "execute_result"
        }
      ],
      "source": [
        "sales[(sales['pr_sales_in_units'] != 0) & (sales['pr_sales_in_rub'] == 0)]['pr_sales_type_id'].mean()"
      ]
    },
    {
      "cell_type": "markdown",
      "metadata": {
        "id": "fWi7BI4kMvxy"
      },
      "source": [
        "795 таких случаев, когда количество товара ненулевое, но выручка за него ноль. Это может быть ошибкой. Или нет\n",
        "\n",
        "85% таких кейсов по промо, но не все. Можно продположить, что это что-то по акции дали бесплатно. Но счиатать ли тогда такие продажи спросом?"
      ]
    },
    {
      "cell_type": "code",
      "execution_count": 37,
      "metadata": {
        "colab": {
          "base_uri": "https://localhost:8080/"
        },
        "id": "3mrgvm6kMvDZ",
        "outputId": "74764bec-fc05-4f9d-b0fc-9ef8e63b88e4"
      },
      "outputs": [
        {
          "data": {
            "text/plain": [
              "(634, 11)"
            ]
          },
          "execution_count": 37,
          "metadata": {},
          "output_type": "execute_result"
        }
      ],
      "source": [
        "one_item_one_store = sales[(sales['st_id'] == 'c81e728d9d4c2f636f067f89cc14862c') & (sales['pr_sku_id'] == 'c7b711619071c92bef604c7ad68380dd')]\n",
        "one_item_one_store.shape"
      ]
    },
    {
      "cell_type": "code",
      "execution_count": 38,
      "metadata": {
        "colab": {
          "base_uri": "https://localhost:8080/"
        },
        "id": "hn8Oh473MaLz",
        "outputId": "163f4103-2b88-4099-ce4b-4e09db3e0766"
      },
      "outputs": [
        {
          "data": {
            "text/plain": [
              "(225, 11)"
            ]
          },
          "execution_count": 38,
          "metadata": {},
          "output_type": "execute_result"
        }
      ],
      "source": [
        "one_item_one_store = sales[(sales['st_id'] == '42a0e188f5033bc65bf8d78622277c4e') & (sales['pr_sku_id'] == '68f441429e73dbd33b81f95da31576e9')]\n",
        "one_item_one_store.shape"
      ]
    },
    {
      "cell_type": "code",
      "execution_count": 39,
      "metadata": {
        "colab": {
          "base_uri": "https://localhost:8080/"
        },
        "id": "YKQGXiotOUb1",
        "outputId": "8e20dc53-d889-4b44-c952-a0d5814afb16"
      },
      "outputs": [
        {
          "data": {
            "text/plain": [
              "(304, 11)"
            ]
          },
          "execution_count": 39,
          "metadata": {},
          "output_type": "execute_result"
        }
      ],
      "source": [
        "one_item_one_store = sales[(sales['st_id'] == '1ecfb463472ec9115b10c292ef8bc986') & (sales['pr_sku_id'] == '22988026fe85fde60d8bf777ab6bc3b4')]\n",
        "one_item_one_store.shape"
      ]
    },
    {
      "cell_type": "code",
      "execution_count": 40,
      "metadata": {
        "colab": {
          "base_uri": "https://localhost:8080/"
        },
        "id": "U9HJH_VwOnKj",
        "outputId": "3e6a900a-a97c-4cd1-8854-0a92a9ae5fad"
      },
      "outputs": [
        {
          "data": {
            "text/plain": [
              "(193, 11)"
            ]
          },
          "execution_count": 40,
          "metadata": {},
          "output_type": "execute_result"
        }
      ],
      "source": [
        "one_item_one_store = sales[(sales['st_id'] == '42a0e188f5033bc65bf8d78622277c4e') & (sales['pr_sku_id'] == '8e887cf8e64ab8e7173701a979476567')]\n",
        "one_item_one_store.shape"
      ]
    },
    {
      "cell_type": "markdown",
      "metadata": {
        "id": "v6kAlANuO_-M"
      },
      "source": [
        "Я хотела посмотреть на историю продаж одного товара в одном магазине (из чего нам делать временной ряд). Количество наблюдений не одинаковое. Где меньше года, мне понятно: некоторых дней нет. А что значит 600+, когда у нас уникальных дней 350??"
      ]
    },
    {
      "cell_type": "code",
      "execution_count": 41,
      "metadata": {
        "colab": {
          "base_uri": "https://localhost:8080/",
          "height": 557
        },
        "id": "u3_0T-1tW0l-",
        "outputId": "e225b3e6-40a4-4ce3-85f8-9d80521ca222"
      },
      "outputs": [
        {
          "data": {
            "text/html": [
              "<div>\n",
              "<style scoped>\n",
              "    .dataframe tbody tr th:only-of-type {\n",
              "        vertical-align: middle;\n",
              "    }\n",
              "\n",
              "    .dataframe tbody tr th {\n",
              "        vertical-align: top;\n",
              "    }\n",
              "\n",
              "    .dataframe thead th {\n",
              "        text-align: right;\n",
              "    }\n",
              "</style>\n",
              "<table border=\"1\" class=\"dataframe\">\n",
              "  <thead>\n",
              "    <tr style=\"text-align: right;\">\n",
              "      <th></th>\n",
              "      <th>st_id</th>\n",
              "      <th>pr_sku_id</th>\n",
              "      <th>date</th>\n",
              "      <th>pr_sales_type_id</th>\n",
              "      <th>pr_sales_in_units</th>\n",
              "      <th>pr_promo_sales_in_units</th>\n",
              "      <th>pr_sales_in_rub</th>\n",
              "      <th>pr_promo_sales_in_rub</th>\n",
              "      <th>total_promo_diff_in_units</th>\n",
              "      <th>total_promo_diff_in_rub</th>\n",
              "      <th>avg_price</th>\n",
              "    </tr>\n",
              "  </thead>\n",
              "  <tbody>\n",
              "    <tr>\n",
              "      <th>543404</th>\n",
              "      <td>c81e728d9d4c2f636f067f89cc14862c</td>\n",
              "      <td>c7b711619071c92bef604c7ad68380dd</td>\n",
              "      <td>2022-08-01</td>\n",
              "      <td>1</td>\n",
              "      <td>34.0</td>\n",
              "      <td>34.0</td>\n",
              "      <td>4642.0</td>\n",
              "      <td>4642.0</td>\n",
              "      <td>0.0</td>\n",
              "      <td>0.0</td>\n",
              "      <td>136.529412</td>\n",
              "    </tr>\n",
              "    <tr>\n",
              "      <th>842664</th>\n",
              "      <td>c81e728d9d4c2f636f067f89cc14862c</td>\n",
              "      <td>c7b711619071c92bef604c7ad68380dd</td>\n",
              "      <td>2022-08-01</td>\n",
              "      <td>0</td>\n",
              "      <td>1.0</td>\n",
              "      <td>0.0</td>\n",
              "      <td>103.0</td>\n",
              "      <td>0.0</td>\n",
              "      <td>1.0</td>\n",
              "      <td>103.0</td>\n",
              "      <td>103.000000</td>\n",
              "    </tr>\n",
              "    <tr>\n",
              "      <th>868341</th>\n",
              "      <td>c81e728d9d4c2f636f067f89cc14862c</td>\n",
              "      <td>c7b711619071c92bef604c7ad68380dd</td>\n",
              "      <td>2022-08-02</td>\n",
              "      <td>0</td>\n",
              "      <td>0.0</td>\n",
              "      <td>0.0</td>\n",
              "      <td>88.0</td>\n",
              "      <td>0.0</td>\n",
              "      <td>0.0</td>\n",
              "      <td>88.0</td>\n",
              "      <td>NaN</td>\n",
              "    </tr>\n",
              "    <tr>\n",
              "      <th>6214</th>\n",
              "      <td>c81e728d9d4c2f636f067f89cc14862c</td>\n",
              "      <td>c7b711619071c92bef604c7ad68380dd</td>\n",
              "      <td>2022-08-02</td>\n",
              "      <td>1</td>\n",
              "      <td>35.0</td>\n",
              "      <td>35.0</td>\n",
              "      <td>4829.0</td>\n",
              "      <td>4829.0</td>\n",
              "      <td>0.0</td>\n",
              "      <td>0.0</td>\n",
              "      <td>137.971429</td>\n",
              "    </tr>\n",
              "    <tr>\n",
              "      <th>844310</th>\n",
              "      <td>c81e728d9d4c2f636f067f89cc14862c</td>\n",
              "      <td>c7b711619071c92bef604c7ad68380dd</td>\n",
              "      <td>2022-08-03</td>\n",
              "      <td>1</td>\n",
              "      <td>24.0</td>\n",
              "      <td>24.0</td>\n",
              "      <td>3306.0</td>\n",
              "      <td>3306.0</td>\n",
              "      <td>0.0</td>\n",
              "      <td>0.0</td>\n",
              "      <td>137.750000</td>\n",
              "    </tr>\n",
              "    <tr>\n",
              "      <th>190493</th>\n",
              "      <td>c81e728d9d4c2f636f067f89cc14862c</td>\n",
              "      <td>c7b711619071c92bef604c7ad68380dd</td>\n",
              "      <td>2022-08-04</td>\n",
              "      <td>1</td>\n",
              "      <td>3.0</td>\n",
              "      <td>3.0</td>\n",
              "      <td>393.0</td>\n",
              "      <td>393.0</td>\n",
              "      <td>0.0</td>\n",
              "      <td>0.0</td>\n",
              "      <td>131.000000</td>\n",
              "    </tr>\n",
              "    <tr>\n",
              "      <th>148773</th>\n",
              "      <td>c81e728d9d4c2f636f067f89cc14862c</td>\n",
              "      <td>c7b711619071c92bef604c7ad68380dd</td>\n",
              "      <td>2022-08-04</td>\n",
              "      <td>0</td>\n",
              "      <td>22.0</td>\n",
              "      <td>0.0</td>\n",
              "      <td>3703.0</td>\n",
              "      <td>0.0</td>\n",
              "      <td>22.0</td>\n",
              "      <td>3703.0</td>\n",
              "      <td>168.318182</td>\n",
              "    </tr>\n",
              "    <tr>\n",
              "      <th>202149</th>\n",
              "      <td>c81e728d9d4c2f636f067f89cc14862c</td>\n",
              "      <td>c7b711619071c92bef604c7ad68380dd</td>\n",
              "      <td>2022-08-05</td>\n",
              "      <td>0</td>\n",
              "      <td>31.0</td>\n",
              "      <td>0.0</td>\n",
              "      <td>5222.0</td>\n",
              "      <td>0.0</td>\n",
              "      <td>31.0</td>\n",
              "      <td>5222.0</td>\n",
              "      <td>168.451613</td>\n",
              "    </tr>\n",
              "    <tr>\n",
              "      <th>620710</th>\n",
              "      <td>c81e728d9d4c2f636f067f89cc14862c</td>\n",
              "      <td>c7b711619071c92bef604c7ad68380dd</td>\n",
              "      <td>2022-08-05</td>\n",
              "      <td>1</td>\n",
              "      <td>3.0</td>\n",
              "      <td>3.0</td>\n",
              "      <td>399.0</td>\n",
              "      <td>399.0</td>\n",
              "      <td>0.0</td>\n",
              "      <td>0.0</td>\n",
              "      <td>133.000000</td>\n",
              "    </tr>\n",
              "    <tr>\n",
              "      <th>613072</th>\n",
              "      <td>c81e728d9d4c2f636f067f89cc14862c</td>\n",
              "      <td>c7b711619071c92bef604c7ad68380dd</td>\n",
              "      <td>2022-08-06</td>\n",
              "      <td>1</td>\n",
              "      <td>3.0</td>\n",
              "      <td>3.0</td>\n",
              "      <td>533.0</td>\n",
              "      <td>533.0</td>\n",
              "      <td>0.0</td>\n",
              "      <td>0.0</td>\n",
              "      <td>177.666667</td>\n",
              "    </tr>\n",
              "  </tbody>\n",
              "</table>\n",
              "</div>"
            ],
            "text/plain": [
              "                                   st_id                         pr_sku_id  \\\n",
              "543404  c81e728d9d4c2f636f067f89cc14862c  c7b711619071c92bef604c7ad68380dd   \n",
              "842664  c81e728d9d4c2f636f067f89cc14862c  c7b711619071c92bef604c7ad68380dd   \n",
              "868341  c81e728d9d4c2f636f067f89cc14862c  c7b711619071c92bef604c7ad68380dd   \n",
              "6214    c81e728d9d4c2f636f067f89cc14862c  c7b711619071c92bef604c7ad68380dd   \n",
              "844310  c81e728d9d4c2f636f067f89cc14862c  c7b711619071c92bef604c7ad68380dd   \n",
              "190493  c81e728d9d4c2f636f067f89cc14862c  c7b711619071c92bef604c7ad68380dd   \n",
              "148773  c81e728d9d4c2f636f067f89cc14862c  c7b711619071c92bef604c7ad68380dd   \n",
              "202149  c81e728d9d4c2f636f067f89cc14862c  c7b711619071c92bef604c7ad68380dd   \n",
              "620710  c81e728d9d4c2f636f067f89cc14862c  c7b711619071c92bef604c7ad68380dd   \n",
              "613072  c81e728d9d4c2f636f067f89cc14862c  c7b711619071c92bef604c7ad68380dd   \n",
              "\n",
              "              date  pr_sales_type_id  pr_sales_in_units  \\\n",
              "543404  2022-08-01                 1               34.0   \n",
              "842664  2022-08-01                 0                1.0   \n",
              "868341  2022-08-02                 0                0.0   \n",
              "6214    2022-08-02                 1               35.0   \n",
              "844310  2022-08-03                 1               24.0   \n",
              "190493  2022-08-04                 1                3.0   \n",
              "148773  2022-08-04                 0               22.0   \n",
              "202149  2022-08-05                 0               31.0   \n",
              "620710  2022-08-05                 1                3.0   \n",
              "613072  2022-08-06                 1                3.0   \n",
              "\n",
              "        pr_promo_sales_in_units  pr_sales_in_rub  pr_promo_sales_in_rub  \\\n",
              "543404                     34.0           4642.0                 4642.0   \n",
              "842664                      0.0            103.0                    0.0   \n",
              "868341                      0.0             88.0                    0.0   \n",
              "6214                       35.0           4829.0                 4829.0   \n",
              "844310                     24.0           3306.0                 3306.0   \n",
              "190493                      3.0            393.0                  393.0   \n",
              "148773                      0.0           3703.0                    0.0   \n",
              "202149                      0.0           5222.0                    0.0   \n",
              "620710                      3.0            399.0                  399.0   \n",
              "613072                      3.0            533.0                  533.0   \n",
              "\n",
              "        total_promo_diff_in_units  total_promo_diff_in_rub   avg_price  \n",
              "543404                        0.0                      0.0  136.529412  \n",
              "842664                        1.0                    103.0  103.000000  \n",
              "868341                        0.0                     88.0         NaN  \n",
              "6214                          0.0                      0.0  137.971429  \n",
              "844310                        0.0                      0.0  137.750000  \n",
              "190493                        0.0                      0.0  131.000000  \n",
              "148773                       22.0                   3703.0  168.318182  \n",
              "202149                       31.0                   5222.0  168.451613  \n",
              "620710                        0.0                      0.0  133.000000  \n",
              "613072                        0.0                      0.0  177.666667  "
            ]
          },
          "execution_count": 41,
          "metadata": {},
          "output_type": "execute_result"
        }
      ],
      "source": [
        "one_item_one_store = sales[(sales['st_id'] == 'c81e728d9d4c2f636f067f89cc14862c') & (sales['pr_sku_id'] == 'c7b711619071c92bef604c7ad68380dd')]\n",
        "one_item_one_store = one_item_one_store.sort_values(by='date')\n",
        "one_item_one_store.head(10)"
      ]
    },
    {
      "cell_type": "markdown",
      "metadata": {
        "id": "KulNdXZmYRU3"
      },
      "source": [
        "Понятно. В дни, когда есть промо, создается отдельная строка. Продажи по промо и без пишутся в разные строки\n",
        "\n",
        "Из-за того, что штуки округлены, расчетная цена неадекватна. Пример: по промо продано 34 штуки со средней ценой 136. По полной цене в тот же день - 1 штука за 103 рубля. Это могло получиться, если эта одна штука на самом деле 0.6 (весовой товар)\n",
        "\n",
        "Вообще малые продажи сильно искажают расчетную цену. Если посмотреть только на дни, когда продаж много, становится видно, что наш товар стоит около 168 без скидки и 137 - со скидкой\n",
        "\n",
        "Было бы хорошо каким-то образом считать цены только по наблюдениям, где много штук, а где мало, заполнить скользящим средним"
      ]
    },
    {
      "cell_type": "code",
      "execution_count": 42,
      "metadata": {
        "id": "ast6-4bzPHzR"
      },
      "outputs": [],
      "source": [
        "zero_sales = sales[(sales['pr_sales_in_rub'] == 0) & (sales['pr_sales_in_units'] == 0) & (sales['pr_promo_sales_in_rub'] == 0) & (sales['pr_promo_sales_in_units'] == 0)]"
      ]
    },
    {
      "cell_type": "code",
      "execution_count": 43,
      "metadata": {
        "colab": {
          "base_uri": "https://localhost:8080/"
        },
        "id": "DLyuXOMyQjiK",
        "outputId": "566e2acd-2750-4b9f-8c97-d0c9531a505d"
      },
      "outputs": [
        {
          "data": {
            "text/plain": [
              "(454, 11)"
            ]
          },
          "execution_count": 43,
          "metadata": {},
          "output_type": "execute_result"
        }
      ],
      "source": [
        "zero_sales.shape"
      ]
    },
    {
      "cell_type": "markdown",
      "metadata": {
        "id": "nDwdjw8jiLtZ"
      },
      "source": [
        "Мое предположение было в том, что если продаж в какой-то день нет, то система вообще не фиксирует пару товар-магазин. Тогда пропущенные даты для получения целого временного ряда можно было бы заполнить нулями. Но есть 454 наблюдения с нулевыми продажами"
      ]
    },
    {
      "cell_type": "code",
      "execution_count": 44,
      "metadata": {
        "colab": {
          "base_uri": "https://localhost:8080/",
          "height": 905
        },
        "id": "NGc91C5GijM1",
        "outputId": "a5bc9e4b-e030-4a4e-a537-df6efb259bf4"
      },
      "outputs": [
        {
          "data": {
            "image/png": "[encoded data removed]",
            "text/plain": [
              "<Figure size 640x480 with 1 Axes>"
            ]
          },
          "metadata": {},
          "output_type": "display_data"
        },
        {
          "data": {
            "image/png": "[encoded data removed]",
            "text/plain": [
              "<Figure size 640x480 with 1 Axes>"
            ]
          },
          "metadata": {},
          "output_type": "display_data"
        }
      ],
      "source": [
        "#histogram and normal probability plot\n",
        "from scipy import stats\n",
        "\n",
        "sns.kdeplot(sales['pr_sales_in_units'].sample(10000));\n",
        "fig = plt.figure()\n",
        "res = stats.probplot(sales['pr_sales_in_units'], plot=plt)"
      ]
    },
    {
      "cell_type": "code",
      "execution_count": 45,
      "metadata": {
        "colab": {
          "base_uri": "https://localhost:8080/",
          "height": 974
        },
        "id": "DItPKLZfjdw5",
        "outputId": "90d54bae-161f-42da-a97f-7128b7e950ca"
      },
      "outputs": [
        {
          "name": "stderr",
          "output_type": "stream",
          "text": [
            "c:\\Users\\Lev\\miniconda3\\envs\\ds\\Lib\\site-packages\\pandas\\core\\arraylike.py:396: RuntimeWarning: divide by zero encountered in log\n",
            "  result = getattr(ufunc, method)(*inputs, **kwargs)\n",
            "c:\\Users\\Lev\\miniconda3\\envs\\ds\\Lib\\site-packages\\pandas\\core\\arraylike.py:396: RuntimeWarning: invalid value encountered in log\n",
            "  result = getattr(ufunc, method)(*inputs, **kwargs)\n"
          ]
        },
        {
          "data": {
            "image/png": "[encoded data removed]",
            "text/plain": [
              "<Figure size 640x480 with 1 Axes>"
            ]
          },
          "metadata": {},
          "output_type": "display_data"
        },
        {
          "data": {
            "image/png": "[encoded data removed]",
            "text/plain": [
              "<Figure size 640x480 with 1 Axes>"
            ]
          },
          "metadata": {},
          "output_type": "display_data"
        }
      ],
      "source": [
        "sales['log_sales'] = np.log(sales['pr_sales_in_units'])\n",
        "\n",
        "sns.kdeplot(sales['log_sales'].sample(10000));\n",
        "fig = plt.figure()\n",
        "res = stats.probplot(sales['log_sales'], plot=plt)"
      ]
    },
    {
      "cell_type": "code",
      "execution_count": 46,
      "metadata": {
        "colab": {
          "base_uri": "https://localhost:8080/",
          "height": 974
        },
        "id": "jj0stb64lL7r",
        "outputId": "61cb266d-28e3-48ee-c519-0852bbefe2a4"
      },
      "outputs": [
        {
          "name": "stderr",
          "output_type": "stream",
          "text": [
            "c:\\Users\\Lev\\miniconda3\\envs\\ds\\Lib\\site-packages\\pandas\\core\\arraylike.py:396: RuntimeWarning: divide by zero encountered in log\n",
            "  result = getattr(ufunc, method)(*inputs, **kwargs)\n",
            "c:\\Users\\Lev\\miniconda3\\envs\\ds\\Lib\\site-packages\\pandas\\core\\arraylike.py:396: RuntimeWarning: invalid value encountered in log\n",
            "  result = getattr(ufunc, method)(*inputs, **kwargs)\n"
          ]
        },
        {
          "data": {
            "image/png": "[encoded data removed]",
            "text/plain": [
              "<Figure size 640x480 with 1 Axes>"
            ]
          },
          "metadata": {},
          "output_type": "display_data"
        },
        {
          "data": {
            "image/png": "[encoded data removed]",
            "text/plain": [
              "<Figure size 640x480 with 1 Axes>"
            ]
          },
          "metadata": {},
          "output_type": "display_data"
        }
      ],
      "source": [
        "sales['log_2_sales'] = np.log(sales['log_sales'])\n",
        "\n",
        "sns.kdeplot(sales['log_2_sales'].sample(10000));\n",
        "fig = plt.figure()\n",
        "res = stats.probplot(sales['log_2_sales'], plot=plt)"
      ]
    },
    {
      "cell_type": "markdown",
      "metadata": {
        "id": "2nvQlUh4ld-S"
      },
      "source": [
        "Логарифмирование, даже дважды (не уверенна, что так делают) не делает распределение продаж нормальным"
      ]
    },
    {
      "cell_type": "code",
      "execution_count": 47,
      "metadata": {
        "colab": {
          "base_uri": "https://localhost:8080/"
        },
        "id": "jHPYDJE5nBtg",
        "outputId": "8ed45cbc-fa1a-42fc-cfc3-1e95c972925e"
      },
      "outputs": [
        {
          "data": {
            "text/plain": [
              "6244"
            ]
          },
          "execution_count": 47,
          "metadata": {},
          "output_type": "execute_result"
        }
      ],
      "source": [
        "sales['store_item'] = sales['st_id'].str.cat(sales['pr_sku_id'], sep='-')\n",
        "sales['store_item'].nunique()"
      ]
    },
    {
      "cell_type": "code",
      "execution_count": 64,
      "metadata": {},
      "outputs": [
        {
          "data": {
            "text/plain": [
              "3121"
            ]
          },
          "execution_count": 64,
          "metadata": {},
          "output_type": "execute_result"
        }
      ],
      "source": [
        "sample_sub['store_item'] = sample_sub['st_id'].str.cat(sample_sub['pr_sku_id'], sep='-')\n",
        "sample_sub['store_item'].nunique()"
      ]
    },
    {
      "cell_type": "markdown",
      "metadata": {},
      "source": [
        "В датафрейме oneline объединены продажи по промо и без по одной паре товар-магазин за один день"
      ]
    },
    {
      "cell_type": "code",
      "execution_count": 49,
      "metadata": {
        "colab": {
          "base_uri": "https://localhost:8080/"
        },
        "id": "D3XcS3mUjq6b",
        "outputId": "c3101562-3caa-4b11-9158-193d7af518a5"
      },
      "outputs": [
        {
          "data": {
            "text/plain": [
              "(700962, 4)"
            ]
          },
          "execution_count": 49,
          "metadata": {},
          "output_type": "execute_result"
        }
      ],
      "source": [
        "oneline = sales.groupby(['store_item', 'date'])[['pr_sales_in_units', 'pr_sales_in_rub', 'pr_promo_sales_in_units', 'pr_promo_sales_in_rub']].sum()\n",
        "oneline.shape"
      ]
    },
    {
      "cell_type": "code",
      "execution_count": 52,
      "metadata": {
        "colab": {
          "base_uri": "https://localhost:8080/",
          "height": 1000
        },
        "id": "VLB2Td2UgKiW",
        "outputId": "b3f554b3-c03d-4668-9791-56052ee02c22"
      },
      "outputs": [
        {
          "data": {
            "text/html": [
              "<div>\n",
              "<style scoped>\n",
              "    .dataframe tbody tr th:only-of-type {\n",
              "        vertical-align: middle;\n",
              "    }\n",
              "\n",
              "    .dataframe tbody tr th {\n",
              "        vertical-align: top;\n",
              "    }\n",
              "\n",
              "    .dataframe thead tr th {\n",
              "        text-align: left;\n",
              "    }\n",
              "\n",
              "    .dataframe thead tr:last-of-type th {\n",
              "        text-align: right;\n",
              "    }\n",
              "</style>\n",
              "<table border=\"1\" class=\"dataframe\">\n",
              "  <thead>\n",
              "    <tr>\n",
              "      <th></th>\n",
              "      <th colspan=\"2\" halign=\"left\">pr_sales_in_units</th>\n",
              "      <th colspan=\"2\" halign=\"left\">pr_sales_in_rub</th>\n",
              "      <th>all_sales_share</th>\n",
              "    </tr>\n",
              "    <tr>\n",
              "      <th></th>\n",
              "      <th>sum</th>\n",
              "      <th>count</th>\n",
              "      <th>sum</th>\n",
              "      <th>count</th>\n",
              "      <th></th>\n",
              "    </tr>\n",
              "    <tr>\n",
              "      <th>store_item</th>\n",
              "      <th></th>\n",
              "      <th></th>\n",
              "      <th></th>\n",
              "      <th></th>\n",
              "      <th></th>\n",
              "    </tr>\n",
              "  </thead>\n",
              "  <tbody>\n",
              "    <tr>\n",
              "      <th>16a5cdae362b8d27a1d8f8c7b78b4330-4e824a65fbd01f1708131bd247842688</th>\n",
              "      <td>15717.0</td>\n",
              "      <td>352</td>\n",
              "      <td>8063538.0</td>\n",
              "      <td>352</td>\n",
              "      <td>1.530375</td>\n",
              "    </tr>\n",
              "    <tr>\n",
              "      <th>fa7cdfad1a5aaf8370ebeda47a1ff1c3-c0e3f3bd815a862433bc3399c487926b</th>\n",
              "      <td>32923.0</td>\n",
              "      <td>352</td>\n",
              "      <td>4187731.0</td>\n",
              "      <td>352</td>\n",
              "      <td>0.794787</td>\n",
              "    </tr>\n",
              "    <tr>\n",
              "      <th>16a5cdae362b8d27a1d8f8c7b78b4330-4a04104f09c6ea3e807666cce0c294d5</th>\n",
              "      <td>6556.0</td>\n",
              "      <td>347</td>\n",
              "      <td>3438001.0</td>\n",
              "      <td>347</td>\n",
              "      <td>0.652496</td>\n",
              "    </tr>\n",
              "    <tr>\n",
              "      <th>16a5cdae362b8d27a1d8f8c7b78b4330-6e456038d557302367b91b7e0ab71e24</th>\n",
              "      <td>12008.0</td>\n",
              "      <td>313</td>\n",
              "      <td>3315384.0</td>\n",
              "      <td>313</td>\n",
              "      <td>0.629225</td>\n",
              "    </tr>\n",
              "    <tr>\n",
              "      <th>16a5cdae362b8d27a1d8f8c7b78b4330-ae9aebfac21c0f936c47eb52ff16c32b</th>\n",
              "      <td>15836.0</td>\n",
              "      <td>335</td>\n",
              "      <td>3309732.0</td>\n",
              "      <td>335</td>\n",
              "      <td>0.628152</td>\n",
              "    </tr>\n",
              "    <tr>\n",
              "      <th>42a0e188f5033bc65bf8d78622277c4e-c0e3f3bd815a862433bc3399c487926b</th>\n",
              "      <td>25856.0</td>\n",
              "      <td>352</td>\n",
              "      <td>3151466.0</td>\n",
              "      <td>352</td>\n",
              "      <td>0.598115</td>\n",
              "    </tr>\n",
              "    <tr>\n",
              "      <th>f7e6c85504ce6e82442c770f7c8606f0-4695acecbef4734453cf9bc0be67ffe4</th>\n",
              "      <td>24555.0</td>\n",
              "      <td>352</td>\n",
              "      <td>2976659.0</td>\n",
              "      <td>352</td>\n",
              "      <td>0.564939</td>\n",
              "    </tr>\n",
              "    <tr>\n",
              "      <th>16a5cdae362b8d27a1d8f8c7b78b4330-c0e3f3bd815a862433bc3399c487926b</th>\n",
              "      <td>22423.0</td>\n",
              "      <td>352</td>\n",
              "      <td>2885302.0</td>\n",
              "      <td>352</td>\n",
              "      <td>0.547600</td>\n",
              "    </tr>\n",
              "    <tr>\n",
              "      <th>c81e728d9d4c2f636f067f89cc14862c-777d21d980f82aa8b4f26f4a4d3dda1d</th>\n",
              "      <td>10053.0</td>\n",
              "      <td>334</td>\n",
              "      <td>2622843.0</td>\n",
              "      <td>334</td>\n",
              "      <td>0.497788</td>\n",
              "    </tr>\n",
              "    <tr>\n",
              "      <th>6364d3f0f495b6ab9dcf8d3b5c6e0b01-c0e3f3bd815a862433bc3399c487926b</th>\n",
              "      <td>20988.0</td>\n",
              "      <td>349</td>\n",
              "      <td>2613314.0</td>\n",
              "      <td>349</td>\n",
              "      <td>0.495979</td>\n",
              "    </tr>\n",
              "    <tr>\n",
              "      <th>c81e728d9d4c2f636f067f89cc14862c-0a2090e24b6ae62b0b0fcaa67a72b5a0</th>\n",
              "      <td>19296.0</td>\n",
              "      <td>333</td>\n",
              "      <td>2362985.0</td>\n",
              "      <td>333</td>\n",
              "      <td>0.448470</td>\n",
              "    </tr>\n",
              "    <tr>\n",
              "      <th>6364d3f0f495b6ab9dcf8d3b5c6e0b01-4b083e10f6cd2f4360c5425d05be6386</th>\n",
              "      <td>25122.0</td>\n",
              "      <td>324</td>\n",
              "      <td>2282461.0</td>\n",
              "      <td>324</td>\n",
              "      <td>0.433187</td>\n",
              "    </tr>\n",
              "    <tr>\n",
              "      <th>6364d3f0f495b6ab9dcf8d3b5c6e0b01-5fb6bfa7b7d9a415d5f95d3951e2a35d</th>\n",
              "      <td>14961.0</td>\n",
              "      <td>336</td>\n",
              "      <td>2141402.0</td>\n",
              "      <td>336</td>\n",
              "      <td>0.406416</td>\n",
              "    </tr>\n",
              "    <tr>\n",
              "      <th>42a0e188f5033bc65bf8d78622277c4e-8cad09283d1d6c5fb08daec8a576a72d</th>\n",
              "      <td>4882.0</td>\n",
              "      <td>132</td>\n",
              "      <td>2096665.0</td>\n",
              "      <td>132</td>\n",
              "      <td>0.397925</td>\n",
              "    </tr>\n",
              "    <tr>\n",
              "      <th>c81e728d9d4c2f636f067f89cc14862c-c0e3f3bd815a862433bc3399c487926b</th>\n",
              "      <td>15732.0</td>\n",
              "      <td>352</td>\n",
              "      <td>2066469.0</td>\n",
              "      <td>352</td>\n",
              "      <td>0.392194</td>\n",
              "    </tr>\n",
              "    <tr>\n",
              "      <th>c81e728d9d4c2f636f067f89cc14862c-20d9b4bfd4b672f61d87f420856aac5d</th>\n",
              "      <td>42088.0</td>\n",
              "      <td>278</td>\n",
              "      <td>1999391.0</td>\n",
              "      <td>278</td>\n",
              "      <td>0.379463</td>\n",
              "    </tr>\n",
              "    <tr>\n",
              "      <th>f7e6c85504ce6e82442c770f7c8606f0-4b083e10f6cd2f4360c5425d05be6386</th>\n",
              "      <td>21972.0</td>\n",
              "      <td>341</td>\n",
              "      <td>1987058.0</td>\n",
              "      <td>341</td>\n",
              "      <td>0.377123</td>\n",
              "    </tr>\n",
              "    <tr>\n",
              "      <th>42a0e188f5033bc65bf8d78622277c4e-5fb6bfa7b7d9a415d5f95d3951e2a35d</th>\n",
              "      <td>13398.0</td>\n",
              "      <td>339</td>\n",
              "      <td>1921092.0</td>\n",
              "      <td>339</td>\n",
              "      <td>0.364603</td>\n",
              "    </tr>\n",
              "    <tr>\n",
              "      <th>f7e6c85504ce6e82442c770f7c8606f0-6e456038d557302367b91b7e0ab71e24</th>\n",
              "      <td>7375.0</td>\n",
              "      <td>330</td>\n",
              "      <td>1793812.0</td>\n",
              "      <td>330</td>\n",
              "      <td>0.340447</td>\n",
              "    </tr>\n",
              "    <tr>\n",
              "      <th>c81e728d9d4c2f636f067f89cc14862c-2e277351c5cfe6dd5bd87b2457a7e1eb</th>\n",
              "      <td>7473.0</td>\n",
              "      <td>330</td>\n",
              "      <td>1744344.0</td>\n",
              "      <td>330</td>\n",
              "      <td>0.331058</td>\n",
              "    </tr>\n",
              "    <tr>\n",
              "      <th>c81e728d9d4c2f636f067f89cc14862c-c24c65259d90ed4a19ab37b6fd6fe716</th>\n",
              "      <td>10433.0</td>\n",
              "      <td>352</td>\n",
              "      <td>1722618.0</td>\n",
              "      <td>352</td>\n",
              "      <td>0.326935</td>\n",
              "    </tr>\n",
              "    <tr>\n",
              "      <th>16a5cdae362b8d27a1d8f8c7b78b4330-67797f1f0f02ec5ccd5e3abd2d4e5b81</th>\n",
              "      <td>10530.0</td>\n",
              "      <td>352</td>\n",
              "      <td>1720096.0</td>\n",
              "      <td>352</td>\n",
              "      <td>0.326456</td>\n",
              "    </tr>\n",
              "    <tr>\n",
              "      <th>42a0e188f5033bc65bf8d78622277c4e-4a04104f09c6ea3e807666cce0c294d5</th>\n",
              "      <td>3222.0</td>\n",
              "      <td>325</td>\n",
              "      <td>1715865.0</td>\n",
              "      <td>325</td>\n",
              "      <td>0.325653</td>\n",
              "    </tr>\n",
              "    <tr>\n",
              "      <th>42a0e188f5033bc65bf8d78622277c4e-54cc81ad9eadc5ccde13e001ddfa3eb1</th>\n",
              "      <td>6597.0</td>\n",
              "      <td>204</td>\n",
              "      <td>1713200.0</td>\n",
              "      <td>204</td>\n",
              "      <td>0.325147</td>\n",
              "    </tr>\n",
              "    <tr>\n",
              "      <th>f7e6c85504ce6e82442c770f7c8606f0-5fb6bfa7b7d9a415d5f95d3951e2a35d</th>\n",
              "      <td>11019.0</td>\n",
              "      <td>295</td>\n",
              "      <td>1698244.0</td>\n",
              "      <td>295</td>\n",
              "      <td>0.322309</td>\n",
              "    </tr>\n",
              "    <tr>\n",
              "      <th>f7e6c85504ce6e82442c770f7c8606f0-ae9aebfac21c0f936c47eb52ff16c32b</th>\n",
              "      <td>8404.0</td>\n",
              "      <td>348</td>\n",
              "      <td>1693562.0</td>\n",
              "      <td>348</td>\n",
              "      <td>0.321420</td>\n",
              "    </tr>\n",
              "    <tr>\n",
              "      <th>42a0e188f5033bc65bf8d78622277c4e-0a68dd43c227b0e66d52665d6c3ca8ba</th>\n",
              "      <td>12835.0</td>\n",
              "      <td>330</td>\n",
              "      <td>1690945.0</td>\n",
              "      <td>330</td>\n",
              "      <td>0.320924</td>\n",
              "    </tr>\n",
              "    <tr>\n",
              "      <th>16a5cdae362b8d27a1d8f8c7b78b4330-c24c65259d90ed4a19ab37b6fd6fe716</th>\n",
              "      <td>8489.0</td>\n",
              "      <td>345</td>\n",
              "      <td>1669424.0</td>\n",
              "      <td>345</td>\n",
              "      <td>0.316839</td>\n",
              "    </tr>\n",
              "    <tr>\n",
              "      <th>fa7cdfad1a5aaf8370ebeda47a1ff1c3-6e456038d557302367b91b7e0ab71e24</th>\n",
              "      <td>6126.0</td>\n",
              "      <td>315</td>\n",
              "      <td>1651472.0</td>\n",
              "      <td>315</td>\n",
              "      <td>0.313432</td>\n",
              "    </tr>\n",
              "    <tr>\n",
              "      <th>42a0e188f5033bc65bf8d78622277c4e-4e824a65fbd01f1708131bd247842688</th>\n",
              "      <td>3201.0</td>\n",
              "      <td>344</td>\n",
              "      <td>1610822.0</td>\n",
              "      <td>344</td>\n",
              "      <td>0.305717</td>\n",
              "    </tr>\n",
              "    <tr>\n",
              "      <th>c81e728d9d4c2f636f067f89cc14862c-79a7b3ad0fea538681d6adcb3b46024d</th>\n",
              "      <td>3960.0</td>\n",
              "      <td>286</td>\n",
              "      <td>1591372.0</td>\n",
              "      <td>286</td>\n",
              "      <td>0.302026</td>\n",
              "    </tr>\n",
              "    <tr>\n",
              "      <th>42a0e188f5033bc65bf8d78622277c4e-63b837c9a3fd362191761401ed418679</th>\n",
              "      <td>7154.0</td>\n",
              "      <td>296</td>\n",
              "      <td>1588482.0</td>\n",
              "      <td>296</td>\n",
              "      <td>0.301477</td>\n",
              "    </tr>\n",
              "    <tr>\n",
              "      <th>c81e728d9d4c2f636f067f89cc14862c-17e0ce48c87a8885fe8b82c21cb17ecf</th>\n",
              "      <td>1644.0</td>\n",
              "      <td>275</td>\n",
              "      <td>1559121.0</td>\n",
              "      <td>275</td>\n",
              "      <td>0.295905</td>\n",
              "    </tr>\n",
              "    <tr>\n",
              "      <th>c81e728d9d4c2f636f067f89cc14862c-fd55c4022acef4de4c7dc6cdd85a2d7a</th>\n",
              "      <td>27146.0</td>\n",
              "      <td>269</td>\n",
              "      <td>1546101.0</td>\n",
              "      <td>269</td>\n",
              "      <td>0.293434</td>\n",
              "    </tr>\n",
              "    <tr>\n",
              "      <th>42a0e188f5033bc65bf8d78622277c4e-c7b711619071c92bef604c7ad68380dd</th>\n",
              "      <td>9935.0</td>\n",
              "      <td>352</td>\n",
              "      <td>1527209.0</td>\n",
              "      <td>352</td>\n",
              "      <td>0.289848</td>\n",
              "    </tr>\n",
              "    <tr>\n",
              "      <th>16a5cdae362b8d27a1d8f8c7b78b4330-0ad7341f0f7f634f1f3d24ed53e0788c</th>\n",
              "      <td>4810.0</td>\n",
              "      <td>297</td>\n",
              "      <td>1480932.0</td>\n",
              "      <td>297</td>\n",
              "      <td>0.281065</td>\n",
              "    </tr>\n",
              "    <tr>\n",
              "      <th>c81e728d9d4c2f636f067f89cc14862c-c7b711619071c92bef604c7ad68380dd</th>\n",
              "      <td>8007.0</td>\n",
              "      <td>352</td>\n",
              "      <td>1350763.0</td>\n",
              "      <td>352</td>\n",
              "      <td>0.256361</td>\n",
              "    </tr>\n",
              "    <tr>\n",
              "      <th>16a5cdae362b8d27a1d8f8c7b78b4330-c7b711619071c92bef604c7ad68380dd</th>\n",
              "      <td>8496.0</td>\n",
              "      <td>352</td>\n",
              "      <td>1350747.0</td>\n",
              "      <td>352</td>\n",
              "      <td>0.256358</td>\n",
              "    </tr>\n",
              "    <tr>\n",
              "      <th>c81e728d9d4c2f636f067f89cc14862c-67797f1f0f02ec5ccd5e3abd2d4e5b81</th>\n",
              "      <td>8600.0</td>\n",
              "      <td>352</td>\n",
              "      <td>1348100.0</td>\n",
              "      <td>352</td>\n",
              "      <td>0.255855</td>\n",
              "    </tr>\n",
              "    <tr>\n",
              "      <th>16a5cdae362b8d27a1d8f8c7b78b4330-0a68dd43c227b0e66d52665d6c3ca8ba</th>\n",
              "      <td>9744.0</td>\n",
              "      <td>316</td>\n",
              "      <td>1336185.0</td>\n",
              "      <td>316</td>\n",
              "      <td>0.253594</td>\n",
              "    </tr>\n",
              "    <tr>\n",
              "      <th>f7e6c85504ce6e82442c770f7c8606f0-0a68dd43c227b0e66d52665d6c3ca8ba</th>\n",
              "      <td>9501.0</td>\n",
              "      <td>312</td>\n",
              "      <td>1290415.0</td>\n",
              "      <td>312</td>\n",
              "      <td>0.244907</td>\n",
              "    </tr>\n",
              "    <tr>\n",
              "      <th>16a5cdae362b8d27a1d8f8c7b78b4330-5aa2f6e00873f8c90b00cd15d670daa1</th>\n",
              "      <td>16735.0</td>\n",
              "      <td>351</td>\n",
              "      <td>1284652.0</td>\n",
              "      <td>351</td>\n",
              "      <td>0.243813</td>\n",
              "    </tr>\n",
              "    <tr>\n",
              "      <th>42a0e188f5033bc65bf8d78622277c4e-b749c085963d0f869dce2755f8ba602a</th>\n",
              "      <td>8447.0</td>\n",
              "      <td>332</td>\n",
              "      <td>1284261.0</td>\n",
              "      <td>332</td>\n",
              "      <td>0.243739</td>\n",
              "    </tr>\n",
              "    <tr>\n",
              "      <th>fa7cdfad1a5aaf8370ebeda47a1ff1c3-ae0ea26efd73c891f6fe4f8af687c88f</th>\n",
              "      <td>6360.0</td>\n",
              "      <td>309</td>\n",
              "      <td>1281628.0</td>\n",
              "      <td>309</td>\n",
              "      <td>0.243239</td>\n",
              "    </tr>\n",
              "    <tr>\n",
              "      <th>42a0e188f5033bc65bf8d78622277c4e-67797f1f0f02ec5ccd5e3abd2d4e5b81</th>\n",
              "      <td>7612.0</td>\n",
              "      <td>352</td>\n",
              "      <td>1247812.0</td>\n",
              "      <td>352</td>\n",
              "      <td>0.236822</td>\n",
              "    </tr>\n",
              "    <tr>\n",
              "      <th>c81e728d9d4c2f636f067f89cc14862c-a70a600d7c593ca50cc6639cd64ed71a</th>\n",
              "      <td>1515.0</td>\n",
              "      <td>247</td>\n",
              "      <td>1243732.0</td>\n",
              "      <td>247</td>\n",
              "      <td>0.236047</td>\n",
              "    </tr>\n",
              "    <tr>\n",
              "      <th>c81e728d9d4c2f636f067f89cc14862c-225de5ef23fbfa96f02a8e1e8626ab66</th>\n",
              "      <td>5749.0</td>\n",
              "      <td>349</td>\n",
              "      <td>1210977.0</td>\n",
              "      <td>349</td>\n",
              "      <td>0.229831</td>\n",
              "    </tr>\n",
              "    <tr>\n",
              "      <th>f7e6c85504ce6e82442c770f7c8606f0-c24c65259d90ed4a19ab37b6fd6fe716</th>\n",
              "      <td>6097.0</td>\n",
              "      <td>352</td>\n",
              "      <td>1205651.0</td>\n",
              "      <td>352</td>\n",
              "      <td>0.228820</td>\n",
              "    </tr>\n",
              "    <tr>\n",
              "      <th>c81e728d9d4c2f636f067f89cc14862c-d23f1d1cd4efe77dac5482f856a9d12d</th>\n",
              "      <td>5930.0</td>\n",
              "      <td>302</td>\n",
              "      <td>1202784.0</td>\n",
              "      <td>302</td>\n",
              "      <td>0.228276</td>\n",
              "    </tr>\n",
              "    <tr>\n",
              "      <th>6364d3f0f495b6ab9dcf8d3b5c6e0b01-0a68dd43c227b0e66d52665d6c3ca8ba</th>\n",
              "      <td>9152.0</td>\n",
              "      <td>324</td>\n",
              "      <td>1194839.0</td>\n",
              "      <td>324</td>\n",
              "      <td>0.226768</td>\n",
              "    </tr>\n",
              "  </tbody>\n",
              "</table>\n",
              "</div>"
            ],
            "text/plain": [
              "                                                   pr_sales_in_units        \\\n",
              "                                                                 sum count   \n",
              "store_item                                                                   \n",
              "16a5cdae362b8d27a1d8f8c7b78b4330-4e824a65fbd01f...           15717.0   352   \n",
              "fa7cdfad1a5aaf8370ebeda47a1ff1c3-c0e3f3bd815a86...           32923.0   352   \n",
              "16a5cdae362b8d27a1d8f8c7b78b4330-4a04104f09c6ea...            6556.0   347   \n",
              "16a5cdae362b8d27a1d8f8c7b78b4330-6e456038d55730...           12008.0   313   \n",
              "16a5cdae362b8d27a1d8f8c7b78b4330-ae9aebfac21c0f...           15836.0   335   \n",
              "42a0e188f5033bc65bf8d78622277c4e-c0e3f3bd815a86...           25856.0   352   \n",
              "f7e6c85504ce6e82442c770f7c8606f0-4695acecbef473...           24555.0   352   \n",
              "16a5cdae362b8d27a1d8f8c7b78b4330-c0e3f3bd815a86...           22423.0   352   \n",
              "c81e728d9d4c2f636f067f89cc14862c-777d21d980f82a...           10053.0   334   \n",
              "6364d3f0f495b6ab9dcf8d3b5c6e0b01-c0e3f3bd815a86...           20988.0   349   \n",
              "c81e728d9d4c2f636f067f89cc14862c-0a2090e24b6ae6...           19296.0   333   \n",
              "6364d3f0f495b6ab9dcf8d3b5c6e0b01-4b083e10f6cd2f...           25122.0   324   \n",
              "6364d3f0f495b6ab9dcf8d3b5c6e0b01-5fb6bfa7b7d9a4...           14961.0   336   \n",
              "42a0e188f5033bc65bf8d78622277c4e-8cad09283d1d6c...            4882.0   132   \n",
              "c81e728d9d4c2f636f067f89cc14862c-c0e3f3bd815a86...           15732.0   352   \n",
              "c81e728d9d4c2f636f067f89cc14862c-20d9b4bfd4b672...           42088.0   278   \n",
              "f7e6c85504ce6e82442c770f7c8606f0-4b083e10f6cd2f...           21972.0   341   \n",
              "42a0e188f5033bc65bf8d78622277c4e-5fb6bfa7b7d9a4...           13398.0   339   \n",
              "f7e6c85504ce6e82442c770f7c8606f0-6e456038d55730...            7375.0   330   \n",
              "c81e728d9d4c2f636f067f89cc14862c-2e277351c5cfe6...            7473.0   330   \n",
              "c81e728d9d4c2f636f067f89cc14862c-c24c65259d90ed...           10433.0   352   \n",
              "16a5cdae362b8d27a1d8f8c7b78b4330-67797f1f0f02ec...           10530.0   352   \n",
              "42a0e188f5033bc65bf8d78622277c4e-4a04104f09c6ea...            3222.0   325   \n",
              "42a0e188f5033bc65bf8d78622277c4e-54cc81ad9eadc5...            6597.0   204   \n",
              "f7e6c85504ce6e82442c770f7c8606f0-5fb6bfa7b7d9a4...           11019.0   295   \n",
              "f7e6c85504ce6e82442c770f7c8606f0-ae9aebfac21c0f...            8404.0   348   \n",
              "42a0e188f5033bc65bf8d78622277c4e-0a68dd43c227b0...           12835.0   330   \n",
              "16a5cdae362b8d27a1d8f8c7b78b4330-c24c65259d90ed...            8489.0   345   \n",
              "fa7cdfad1a5aaf8370ebeda47a1ff1c3-6e456038d55730...            6126.0   315   \n",
              "42a0e188f5033bc65bf8d78622277c4e-4e824a65fbd01f...            3201.0   344   \n",
              "c81e728d9d4c2f636f067f89cc14862c-79a7b3ad0fea53...            3960.0   286   \n",
              "42a0e188f5033bc65bf8d78622277c4e-63b837c9a3fd36...            7154.0   296   \n",
              "c81e728d9d4c2f636f067f89cc14862c-17e0ce48c87a88...            1644.0   275   \n",
              "c81e728d9d4c2f636f067f89cc14862c-fd55c4022acef4...           27146.0   269   \n",
              "42a0e188f5033bc65bf8d78622277c4e-c7b711619071c9...            9935.0   352   \n",
              "16a5cdae362b8d27a1d8f8c7b78b4330-0ad7341f0f7f63...            4810.0   297   \n",
              "c81e728d9d4c2f636f067f89cc14862c-c7b711619071c9...            8007.0   352   \n",
              "16a5cdae362b8d27a1d8f8c7b78b4330-c7b711619071c9...            8496.0   352   \n",
              "c81e728d9d4c2f636f067f89cc14862c-67797f1f0f02ec...            8600.0   352   \n",
              "16a5cdae362b8d27a1d8f8c7b78b4330-0a68dd43c227b0...            9744.0   316   \n",
              "f7e6c85504ce6e82442c770f7c8606f0-0a68dd43c227b0...            9501.0   312   \n",
              "16a5cdae362b8d27a1d8f8c7b78b4330-5aa2f6e00873f8...           16735.0   351   \n",
              "42a0e188f5033bc65bf8d78622277c4e-b749c085963d0f...            8447.0   332   \n",
              "fa7cdfad1a5aaf8370ebeda47a1ff1c3-ae0ea26efd73c8...            6360.0   309   \n",
              "42a0e188f5033bc65bf8d78622277c4e-67797f1f0f02ec...            7612.0   352   \n",
              "c81e728d9d4c2f636f067f89cc14862c-a70a600d7c593c...            1515.0   247   \n",
              "c81e728d9d4c2f636f067f89cc14862c-225de5ef23fbfa...            5749.0   349   \n",
              "f7e6c85504ce6e82442c770f7c8606f0-c24c65259d90ed...            6097.0   352   \n",
              "c81e728d9d4c2f636f067f89cc14862c-d23f1d1cd4efe7...            5930.0   302   \n",
              "6364d3f0f495b6ab9dcf8d3b5c6e0b01-0a68dd43c227b0...            9152.0   324   \n",
              "\n",
              "                                                   pr_sales_in_rub        \\\n",
              "                                                               sum count   \n",
              "store_item                                                                 \n",
              "16a5cdae362b8d27a1d8f8c7b78b4330-4e824a65fbd01f...       8063538.0   352   \n",
              "fa7cdfad1a5aaf8370ebeda47a1ff1c3-c0e3f3bd815a86...       4187731.0   352   \n",
              "16a5cdae362b8d27a1d8f8c7b78b4330-4a04104f09c6ea...       3438001.0   347   \n",
              "16a5cdae362b8d27a1d8f8c7b78b4330-6e456038d55730...       3315384.0   313   \n",
              "16a5cdae362b8d27a1d8f8c7b78b4330-ae9aebfac21c0f...       3309732.0   335   \n",
              "42a0e188f5033bc65bf8d78622277c4e-c0e3f3bd815a86...       3151466.0   352   \n",
              "f7e6c85504ce6e82442c770f7c8606f0-4695acecbef473...       2976659.0   352   \n",
              "16a5cdae362b8d27a1d8f8c7b78b4330-c0e3f3bd815a86...       2885302.0   352   \n",
              "c81e728d9d4c2f636f067f89cc14862c-777d21d980f82a...       2622843.0   334   \n",
              "6364d3f0f495b6ab9dcf8d3b5c6e0b01-c0e3f3bd815a86...       2613314.0   349   \n",
              "c81e728d9d4c2f636f067f89cc14862c-0a2090e24b6ae6...       2362985.0   333   \n",
              "6364d3f0f495b6ab9dcf8d3b5c6e0b01-4b083e10f6cd2f...       2282461.0   324   \n",
              "6364d3f0f495b6ab9dcf8d3b5c6e0b01-5fb6bfa7b7d9a4...       2141402.0   336   \n",
              "42a0e188f5033bc65bf8d78622277c4e-8cad09283d1d6c...       2096665.0   132   \n",
              "c81e728d9d4c2f636f067f89cc14862c-c0e3f3bd815a86...       2066469.0   352   \n",
              "c81e728d9d4c2f636f067f89cc14862c-20d9b4bfd4b672...       1999391.0   278   \n",
              "f7e6c85504ce6e82442c770f7c8606f0-4b083e10f6cd2f...       1987058.0   341   \n",
              "42a0e188f5033bc65bf8d78622277c4e-5fb6bfa7b7d9a4...       1921092.0   339   \n",
              "f7e6c85504ce6e82442c770f7c8606f0-6e456038d55730...       1793812.0   330   \n",
              "c81e728d9d4c2f636f067f89cc14862c-2e277351c5cfe6...       1744344.0   330   \n",
              "c81e728d9d4c2f636f067f89cc14862c-c24c65259d90ed...       1722618.0   352   \n",
              "16a5cdae362b8d27a1d8f8c7b78b4330-67797f1f0f02ec...       1720096.0   352   \n",
              "42a0e188f5033bc65bf8d78622277c4e-4a04104f09c6ea...       1715865.0   325   \n",
              "42a0e188f5033bc65bf8d78622277c4e-54cc81ad9eadc5...       1713200.0   204   \n",
              "f7e6c85504ce6e82442c770f7c8606f0-5fb6bfa7b7d9a4...       1698244.0   295   \n",
              "f7e6c85504ce6e82442c770f7c8606f0-ae9aebfac21c0f...       1693562.0   348   \n",
              "42a0e188f5033bc65bf8d78622277c4e-0a68dd43c227b0...       1690945.0   330   \n",
              "16a5cdae362b8d27a1d8f8c7b78b4330-c24c65259d90ed...       1669424.0   345   \n",
              "fa7cdfad1a5aaf8370ebeda47a1ff1c3-6e456038d55730...       1651472.0   315   \n",
              "42a0e188f5033bc65bf8d78622277c4e-4e824a65fbd01f...       1610822.0   344   \n",
              "c81e728d9d4c2f636f067f89cc14862c-79a7b3ad0fea53...       1591372.0   286   \n",
              "42a0e188f5033bc65bf8d78622277c4e-63b837c9a3fd36...       1588482.0   296   \n",
              "c81e728d9d4c2f636f067f89cc14862c-17e0ce48c87a88...       1559121.0   275   \n",
              "c81e728d9d4c2f636f067f89cc14862c-fd55c4022acef4...       1546101.0   269   \n",
              "42a0e188f5033bc65bf8d78622277c4e-c7b711619071c9...       1527209.0   352   \n",
              "16a5cdae362b8d27a1d8f8c7b78b4330-0ad7341f0f7f63...       1480932.0   297   \n",
              "c81e728d9d4c2f636f067f89cc14862c-c7b711619071c9...       1350763.0   352   \n",
              "16a5cdae362b8d27a1d8f8c7b78b4330-c7b711619071c9...       1350747.0   352   \n",
              "c81e728d9d4c2f636f067f89cc14862c-67797f1f0f02ec...       1348100.0   352   \n",
              "16a5cdae362b8d27a1d8f8c7b78b4330-0a68dd43c227b0...       1336185.0   316   \n",
              "f7e6c85504ce6e82442c770f7c8606f0-0a68dd43c227b0...       1290415.0   312   \n",
              "16a5cdae362b8d27a1d8f8c7b78b4330-5aa2f6e00873f8...       1284652.0   351   \n",
              "42a0e188f5033bc65bf8d78622277c4e-b749c085963d0f...       1284261.0   332   \n",
              "fa7cdfad1a5aaf8370ebeda47a1ff1c3-ae0ea26efd73c8...       1281628.0   309   \n",
              "42a0e188f5033bc65bf8d78622277c4e-67797f1f0f02ec...       1247812.0   352   \n",
              "c81e728d9d4c2f636f067f89cc14862c-a70a600d7c593c...       1243732.0   247   \n",
              "c81e728d9d4c2f636f067f89cc14862c-225de5ef23fbfa...       1210977.0   349   \n",
              "f7e6c85504ce6e82442c770f7c8606f0-c24c65259d90ed...       1205651.0   352   \n",
              "c81e728d9d4c2f636f067f89cc14862c-d23f1d1cd4efe7...       1202784.0   302   \n",
              "6364d3f0f495b6ab9dcf8d3b5c6e0b01-0a68dd43c227b0...       1194839.0   324   \n",
              "\n",
              "                                                   all_sales_share  \n",
              "                                                                    \n",
              "store_item                                                          \n",
              "16a5cdae362b8d27a1d8f8c7b78b4330-4e824a65fbd01f...        1.530375  \n",
              "fa7cdfad1a5aaf8370ebeda47a1ff1c3-c0e3f3bd815a86...        0.794787  \n",
              "16a5cdae362b8d27a1d8f8c7b78b4330-4a04104f09c6ea...        0.652496  \n",
              "16a5cdae362b8d27a1d8f8c7b78b4330-6e456038d55730...        0.629225  \n",
              "16a5cdae362b8d27a1d8f8c7b78b4330-ae9aebfac21c0f...        0.628152  \n",
              "42a0e188f5033bc65bf8d78622277c4e-c0e3f3bd815a86...        0.598115  \n",
              "f7e6c85504ce6e82442c770f7c8606f0-4695acecbef473...        0.564939  \n",
              "16a5cdae362b8d27a1d8f8c7b78b4330-c0e3f3bd815a86...        0.547600  \n",
              "c81e728d9d4c2f636f067f89cc14862c-777d21d980f82a...        0.497788  \n",
              "6364d3f0f495b6ab9dcf8d3b5c6e0b01-c0e3f3bd815a86...        0.495979  \n",
              "c81e728d9d4c2f636f067f89cc14862c-0a2090e24b6ae6...        0.448470  \n",
              "6364d3f0f495b6ab9dcf8d3b5c6e0b01-4b083e10f6cd2f...        0.433187  \n",
              "6364d3f0f495b6ab9dcf8d3b5c6e0b01-5fb6bfa7b7d9a4...        0.406416  \n",
              "42a0e188f5033bc65bf8d78622277c4e-8cad09283d1d6c...        0.397925  \n",
              "c81e728d9d4c2f636f067f89cc14862c-c0e3f3bd815a86...        0.392194  \n",
              "c81e728d9d4c2f636f067f89cc14862c-20d9b4bfd4b672...        0.379463  \n",
              "f7e6c85504ce6e82442c770f7c8606f0-4b083e10f6cd2f...        0.377123  \n",
              "42a0e188f5033bc65bf8d78622277c4e-5fb6bfa7b7d9a4...        0.364603  \n",
              "f7e6c85504ce6e82442c770f7c8606f0-6e456038d55730...        0.340447  \n",
              "c81e728d9d4c2f636f067f89cc14862c-2e277351c5cfe6...        0.331058  \n",
              "c81e728d9d4c2f636f067f89cc14862c-c24c65259d90ed...        0.326935  \n",
              "16a5cdae362b8d27a1d8f8c7b78b4330-67797f1f0f02ec...        0.326456  \n",
              "42a0e188f5033bc65bf8d78622277c4e-4a04104f09c6ea...        0.325653  \n",
              "42a0e188f5033bc65bf8d78622277c4e-54cc81ad9eadc5...        0.325147  \n",
              "f7e6c85504ce6e82442c770f7c8606f0-5fb6bfa7b7d9a4...        0.322309  \n",
              "f7e6c85504ce6e82442c770f7c8606f0-ae9aebfac21c0f...        0.321420  \n",
              "42a0e188f5033bc65bf8d78622277c4e-0a68dd43c227b0...        0.320924  \n",
              "16a5cdae362b8d27a1d8f8c7b78b4330-c24c65259d90ed...        0.316839  \n",
              "fa7cdfad1a5aaf8370ebeda47a1ff1c3-6e456038d55730...        0.313432  \n",
              "42a0e188f5033bc65bf8d78622277c4e-4e824a65fbd01f...        0.305717  \n",
              "c81e728d9d4c2f636f067f89cc14862c-79a7b3ad0fea53...        0.302026  \n",
              "42a0e188f5033bc65bf8d78622277c4e-63b837c9a3fd36...        0.301477  \n",
              "c81e728d9d4c2f636f067f89cc14862c-17e0ce48c87a88...        0.295905  \n",
              "c81e728d9d4c2f636f067f89cc14862c-fd55c4022acef4...        0.293434  \n",
              "42a0e188f5033bc65bf8d78622277c4e-c7b711619071c9...        0.289848  \n",
              "16a5cdae362b8d27a1d8f8c7b78b4330-0ad7341f0f7f63...        0.281065  \n",
              "c81e728d9d4c2f636f067f89cc14862c-c7b711619071c9...        0.256361  \n",
              "16a5cdae362b8d27a1d8f8c7b78b4330-c7b711619071c9...        0.256358  \n",
              "c81e728d9d4c2f636f067f89cc14862c-67797f1f0f02ec...        0.255855  \n",
              "16a5cdae362b8d27a1d8f8c7b78b4330-0a68dd43c227b0...        0.253594  \n",
              "f7e6c85504ce6e82442c770f7c8606f0-0a68dd43c227b0...        0.244907  \n",
              "16a5cdae362b8d27a1d8f8c7b78b4330-5aa2f6e00873f8...        0.243813  \n",
              "42a0e188f5033bc65bf8d78622277c4e-b749c085963d0f...        0.243739  \n",
              "fa7cdfad1a5aaf8370ebeda47a1ff1c3-ae0ea26efd73c8...        0.243239  \n",
              "42a0e188f5033bc65bf8d78622277c4e-67797f1f0f02ec...        0.236822  \n",
              "c81e728d9d4c2f636f067f89cc14862c-a70a600d7c593c...        0.236047  \n",
              "c81e728d9d4c2f636f067f89cc14862c-225de5ef23fbfa...        0.229831  \n",
              "f7e6c85504ce6e82442c770f7c8606f0-c24c65259d90ed...        0.228820  \n",
              "c81e728d9d4c2f636f067f89cc14862c-d23f1d1cd4efe7...        0.228276  \n",
              "6364d3f0f495b6ab9dcf8d3b5c6e0b01-0a68dd43c227b0...        0.226768  "
            ]
          },
          "execution_count": 52,
          "metadata": {},
          "output_type": "execute_result"
        }
      ],
      "source": [
        "by_pair = oneline.groupby('store_item')[['pr_sales_in_units', 'pr_sales_in_rub']].agg(['sum', 'count'])\n",
        "all_sales = by_pair[('pr_sales_in_rub', 'sum')].sum()\n",
        "by_pair['all_sales_share'] = by_pair[('pr_sales_in_rub', 'sum')] / all_sales * 100\n",
        "by_pair.sort_values([('pr_sales_in_rub', 'sum')], ascending=False).head(50)"
      ]
    },
    {
      "cell_type": "code",
      "execution_count": 84,
      "metadata": {},
      "outputs": [
        {
          "data": {
            "text/plain": [
              "19.16335772681561"
            ]
          },
          "execution_count": 84,
          "metadata": {},
          "output_type": "execute_result"
        }
      ],
      "source": [
        "top50 = by_pair.sort_values([('pr_sales_in_rub', 'sum')], ascending=False).head(50)\n",
        "top50['all_sales_share'].sum()"
      ]
    },
    {
      "cell_type": "markdown",
      "metadata": {},
      "source": [
        "rare - товары, которые продавались в общей сложности меньше двух недель"
      ]
    },
    {
      "cell_type": "code",
      "execution_count": 80,
      "metadata": {},
      "outputs": [
        {
          "data": {
            "text/plain": [
              "(1704, 5)"
            ]
          },
          "execution_count": 80,
          "metadata": {},
          "output_type": "execute_result"
        }
      ],
      "source": [
        "rare = by_pair[by_pair[('pr_sales_in_rub', 'count')] <= 14]\n",
        "rare.shape"
      ]
    },
    {
      "cell_type": "code",
      "execution_count": 71,
      "metadata": {},
      "outputs": [
        {
          "name": "stdout",
          "output_type": "stream",
          "text": [
            "in both files: 2995\n",
            "in train but not in sub: 3249\n",
            "in sub but not in train: 126\n"
          ]
        }
      ],
      "source": [
        "check_sets(sales, 'store_item', sample_sub, 'store_item', 'train', 'sub')"
      ]
    },
    {
      "cell_type": "code",
      "execution_count": 81,
      "metadata": {},
      "outputs": [
        {
          "name": "stdout",
          "output_type": "stream",
          "text": [
            "in both files: 192\n",
            "in rare but not in sub: 1512\n",
            "in sub but not in rare: 2929\n"
          ]
        }
      ],
      "source": [
        "check_sets(rare.reset_index(), 'store_item', sample_sub, 'store_item', 'rare', 'sub')"
      ]
    },
    {
      "cell_type": "code",
      "execution_count": 82,
      "metadata": {},
      "outputs": [
        {
          "name": "stdout",
          "output_type": "stream",
          "text": [
            "in both files: 50\n",
            "in rare but not in sub: 0\n",
            "in sub but not in rare: 3071\n"
          ]
        }
      ],
      "source": [
        "check_sets(top50.reset_index(), 'store_item', sample_sub, 'store_item', 'rare', 'sub')"
      ]
    },
    {
      "cell_type": "markdown",
      "metadata": {},
      "source": [
        "В тестовой выборке (можно я так буду называть файл, который требуется заполнить предсказаниями?):\n",
        "\n",
        "* 3121 уникальная пара товар-магазин\n",
        "* из них 2995 пар есть в обучающей выборке\n",
        "* из них 192 продавались за год в общей сложности менее 2 недель (редкие)\n",
        "* 126 пар нет в обучающих данных\n",
        "* топ-50 пар товар-магазин все попадают в тестовую выборку\n",
        "* продажи этих топ-50 составляют 20% от общей выручки всех магазинов за все товары"
      ]
    },
    {
      "cell_type": "markdown",
      "metadata": {
        "id": "wyyCmNIves4i"
      },
      "source": [
        "- сгруппировать (суммировать) по магазину-товару-дате, чтобы объединить продажи с промо и без в одну строку\n",
        "\n",
        "- убрать отрицательные продажи (по 4 столбцам) - обнулить\n",
        "\n",
        "- убрать продажи, когда в штуках ноль, а в рублях нет, или наоборот - обнулить\n",
        "\n",
        "- сделать копию датасета со столбцами: товар-магазин, дата, общие продажи\n",
        "\n",
        "- заполнить пропущенные дни нулями\n",
        "\n",
        "- удалить комбинации, где много нулей"
      ]
    },
    {
      "cell_type": "markdown",
      "metadata": {},
      "source": [
        "* дропнуть два закрытых магазина\n",
        "\n",
        "* убедиться что все пары из предикта есть в обучающей выборке\n",
        "\n",
        "* проверить наименее частотные пары по каунту - вдруг их нет в предикте\n",
        "\n",
        "* оформить проверку взаимного вхождения для двух множеств в функцию check_sets"
      ]
    },
    {
      "cell_type": "code",
      "execution_count": 85,
      "metadata": {},
      "outputs": [],
      "source": [
        "zero_units = sales[(sales['pr_sales_in_units'] == 0) & (sales['pr_sales_in_rub'] != 0)][['pr_sku_id', 'pr_sales_in_units', 'pr_sales_in_rub']]"
      ]
    },
    {
      "cell_type": "code",
      "execution_count": 86,
      "metadata": {},
      "outputs": [],
      "source": [
        "zero_units = zero_units.merge(items[['pr_sku_id', 'pr_uom_id']], on='pr_sku_id', how='left')"
      ]
    },
    {
      "cell_type": "code",
      "execution_count": 87,
      "metadata": {},
      "outputs": [
        {
          "data": {
            "text/plain": [
              "(66089, 4)"
            ]
          },
          "execution_count": 87,
          "metadata": {},
          "output_type": "execute_result"
        }
      ],
      "source": [
        "zero_units.shape"
      ]
    },
    {
      "cell_type": "code",
      "execution_count": 91,
      "metadata": {},
      "outputs": [
        {
          "data": {
            "text/plain": [
              "pr_uom_id\n",
              "1     66088\n",
              "17        1\n",
              "Name: count, dtype: int64"
            ]
          },
          "execution_count": 91,
          "metadata": {},
          "output_type": "execute_result"
        }
      ],
      "source": [
        "zero_units['pr_uom_id'].value_counts()"
      ]
    },
    {
      "cell_type": "markdown",
      "metadata": {},
      "source": [
        "Отлично, 1 - килограммы, 17 - штуки. А нули получаются из-за округления вниз"
      ]
    },
    {
      "cell_type": "code",
      "execution_count": 94,
      "metadata": {},
      "outputs": [],
      "source": [
        "zero_rubs = sales[(sales['pr_sales_in_units'] != 0) & (sales['pr_sales_in_rub'] == 0)][['pr_sku_id', 'date', 'pr_sales_in_units', 'pr_sales_in_rub']]"
      ]
    },
    {
      "cell_type": "code",
      "execution_count": 95,
      "metadata": {},
      "outputs": [
        {
          "data": {
            "text/plain": [
              "(795, 4)"
            ]
          },
          "execution_count": 95,
          "metadata": {},
          "output_type": "execute_result"
        }
      ],
      "source": [
        "zero_rubs.shape"
      ]
    },
    {
      "cell_type": "code",
      "execution_count": 98,
      "metadata": {},
      "outputs": [
        {
          "data": {
            "text/plain": [
              "date\n",
              "2022-08-03    1\n",
              "2022-08-05    1\n",
              "2022-08-06    1\n",
              "2022-08-08    3\n",
              "2022-08-09    2\n",
              "             ..\n",
              "2023-07-13    1\n",
              "2023-07-14    1\n",
              "2023-07-15    1\n",
              "2023-07-16    1\n",
              "2023-07-18    2\n",
              "Name: count, Length: 235, dtype: int64"
            ]
          },
          "execution_count": 98,
          "metadata": {},
          "output_type": "execute_result"
        }
      ],
      "source": [
        "zero_rubs['date'].value_counts().sort_index()"
      ]
    },
    {
      "cell_type": "markdown",
      "metadata": {},
      "source": [
        "Отвергаем гипотезу, что это какая-то акция: товары проданы, а цена ноль. Эти случаи равномерно распределены по всему году наблюдений"
      ]
    },
    {
      "cell_type": "markdown",
      "metadata": {},
      "source": []
    }
  ],
  "metadata": {
    "colab": {
      "provenance": []
    },
    "kernelspec": {
      "display_name": "Python 3",
      "name": "python3"
    },
    "language_info": {
      "codemirror_mode": {
        "name": "ipython",
        "version": 3
      },
      "file_extension": ".py",
      "mimetype": "text/x-python",
      "name": "python",
      "nbconvert_exporter": "python",
      "pygments_lexer": "ipython3",
      "version": "3.11.5"
    }
  },
  "nbformat": 4,
  "nbformat_minor": 0
}
