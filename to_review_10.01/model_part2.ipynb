{
 "cells": [
  {
   "cell_type": "markdown",
   "metadata": {},
   "source": [
    "### Intro"
   ]
  },
  {
   "cell_type": "markdown",
   "metadata": {},
   "source": [
    "Это второй ноутбук, здесь мы прогнозируем спрос на товары, не вошедшие в топ-150 по продажам и имеющие в своих временных рядах более 20% пропусков. Для их моделирования мы отталкиваемся от продаж товара по всем магазинам, с одной стороны, и продаж различных товаров в заданном магазине. На данный момент мы успели ввести только эти два типа лаговых переменных. Однако в дальнейшем мы планируем рассмотреть продажи подкатегории и категории, к которым принадлежит товар - это может помочь в прогнозировании товаров, у которых совсем нет истории продаж, а также агрегированные ценовые показатели, возможно, отношение цены товара к средней цене по категории или подкатегории.\n",
    "\n",
    "Возможно, если какие-то признаки будут особенно успешными, мы поэкспериментируем в их применении и для топ-150 товаров. \n",
    "\n",
    "Сейчас все товары, не вошедшие в первую группу, прогнозируются единым пулом. Однако мы также работаем в направлении кластеризации товаров и магазинов, полагая, что если есть группы, имеющие сходные тренды, то прогнозируя их отдельно, модели будут иметь больший успех в выявлении зависимостей.\n",
    "\n",
    "Ноутбук состоит из следующих частей: предобработка данных, генерация признаков, обучение модели, предсказание. В конце каждой части мы сформулировали промежуточные итоги\n",
    "\n"
   ]
  },
  {
   "cell_type": "code",
   "execution_count": 1,
   "metadata": {},
   "outputs": [
    {
     "name": "stderr",
     "output_type": "stream",
     "text": [
      "c:\\Users\\Lev\\miniconda3\\envs\\ds\\Lib\\site-packages\\tqdm\\auto.py:21: TqdmWarning: IProgress not found. Please update jupyter and ipywidgets. See https://ipywidgets.readthedocs.io/en/stable/user_install.html\n",
      "  from .autonotebook import tqdm as notebook_tqdm\n"
     ]
    }
   ],
   "source": [
    "#imports\n",
    "import pandas as pd\n",
    "import numpy as np\n",
    "import matplotlib.pyplot as plt\n",
    "import seaborn as sns\n",
    "import lightgbm as lgbm\n",
    "import optuna"
   ]
  },
  {
   "cell_type": "markdown",
   "metadata": {},
   "source": [
    "### Preprocessing"
   ]
  },
  {
   "cell_type": "code",
   "execution_count": 2,
   "metadata": {},
   "outputs": [
    {
     "data": {
      "text/html": [
       "<div>\n",
       "<style scoped>\n",
       "    .dataframe tbody tr th:only-of-type {\n",
       "        vertical-align: middle;\n",
       "    }\n",
       "\n",
       "    .dataframe tbody tr th {\n",
       "        vertical-align: top;\n",
       "    }\n",
       "\n",
       "    .dataframe thead th {\n",
       "        text-align: right;\n",
       "    }\n",
       "</style>\n",
       "<table border=\"1\" class=\"dataframe\">\n",
       "  <thead>\n",
       "    <tr style=\"text-align: right;\">\n",
       "      <th></th>\n",
       "      <th>st_id</th>\n",
       "      <th>pr_sku_id</th>\n",
       "      <th>date</th>\n",
       "      <th>pr_sales_type_id</th>\n",
       "      <th>pr_sales_in_units</th>\n",
       "      <th>pr_promo_sales_in_units</th>\n",
       "      <th>pr_sales_in_rub</th>\n",
       "      <th>pr_promo_sales_in_rub</th>\n",
       "    </tr>\n",
       "  </thead>\n",
       "  <tbody>\n",
       "    <tr>\n",
       "      <th>0</th>\n",
       "      <td>c81e728d9d4c2f636f067f89cc14862c</td>\n",
       "      <td>c7b711619071c92bef604c7ad68380dd</td>\n",
       "      <td>2022-10-20</td>\n",
       "      <td>1</td>\n",
       "      <td>5.0</td>\n",
       "      <td>5.0</td>\n",
       "      <td>825.0</td>\n",
       "      <td>825.0</td>\n",
       "    </tr>\n",
       "    <tr>\n",
       "      <th>1</th>\n",
       "      <td>42a0e188f5033bc65bf8d78622277c4e</td>\n",
       "      <td>68f441429e73dbd33b81f95da31576e9</td>\n",
       "      <td>2023-01-29</td>\n",
       "      <td>0</td>\n",
       "      <td>4.0</td>\n",
       "      <td>0.0</td>\n",
       "      <td>196.0</td>\n",
       "      <td>0.0</td>\n",
       "    </tr>\n",
       "    <tr>\n",
       "      <th>2</th>\n",
       "      <td>1ecfb463472ec9115b10c292ef8bc986</td>\n",
       "      <td>22988026fe85fde60d8bf777ab6bc3b4</td>\n",
       "      <td>2023-03-02</td>\n",
       "      <td>0</td>\n",
       "      <td>1.0</td>\n",
       "      <td>0.0</td>\n",
       "      <td>78.0</td>\n",
       "      <td>0.0</td>\n",
       "    </tr>\n",
       "    <tr>\n",
       "      <th>3</th>\n",
       "      <td>42a0e188f5033bc65bf8d78622277c4e</td>\n",
       "      <td>8e887cf8e64ab8e7173701a979476567</td>\n",
       "      <td>2023-04-05</td>\n",
       "      <td>1</td>\n",
       "      <td>0.0</td>\n",
       "      <td>0.0</td>\n",
       "      <td>69.0</td>\n",
       "      <td>69.0</td>\n",
       "    </tr>\n",
       "    <tr>\n",
       "      <th>4</th>\n",
       "      <td>16a5cdae362b8d27a1d8f8c7b78b4330</td>\n",
       "      <td>e6fc24ca846339d204b0b50e9f772484</td>\n",
       "      <td>2023-02-17</td>\n",
       "      <td>0</td>\n",
       "      <td>1.0</td>\n",
       "      <td>0.0</td>\n",
       "      <td>161.0</td>\n",
       "      <td>0.0</td>\n",
       "    </tr>\n",
       "  </tbody>\n",
       "</table>\n",
       "</div>"
      ],
      "text/plain": [
       "                              st_id                         pr_sku_id  \\\n",
       "0  c81e728d9d4c2f636f067f89cc14862c  c7b711619071c92bef604c7ad68380dd   \n",
       "1  42a0e188f5033bc65bf8d78622277c4e  68f441429e73dbd33b81f95da31576e9   \n",
       "2  1ecfb463472ec9115b10c292ef8bc986  22988026fe85fde60d8bf777ab6bc3b4   \n",
       "3  42a0e188f5033bc65bf8d78622277c4e  8e887cf8e64ab8e7173701a979476567   \n",
       "4  16a5cdae362b8d27a1d8f8c7b78b4330  e6fc24ca846339d204b0b50e9f772484   \n",
       "\n",
       "         date  pr_sales_type_id  pr_sales_in_units  pr_promo_sales_in_units  \\\n",
       "0  2022-10-20                 1                5.0                      5.0   \n",
       "1  2023-01-29                 0                4.0                      0.0   \n",
       "2  2023-03-02                 0                1.0                      0.0   \n",
       "3  2023-04-05                 1                0.0                      0.0   \n",
       "4  2023-02-17                 0                1.0                      0.0   \n",
       "\n",
       "   pr_sales_in_rub  pr_promo_sales_in_rub  \n",
       "0            825.0                  825.0  \n",
       "1            196.0                    0.0  \n",
       "2             78.0                    0.0  \n",
       "3             69.0                   69.0  \n",
       "4            161.0                    0.0  "
      ]
     },
     "execution_count": 2,
     "metadata": {},
     "output_type": "execute_result"
    }
   ],
   "source": [
    "#read file\n",
    "sales = pd.read_csv('sales_df_train.csv')\n",
    "sales.head()"
   ]
  },
  {
   "cell_type": "code",
   "execution_count": 3,
   "metadata": {},
   "outputs": [
    {
     "data": {
      "text/plain": [
       "(883015, 8)"
      ]
     },
     "execution_count": 3,
     "metadata": {},
     "output_type": "execute_result"
    }
   ],
   "source": [
    "sales.shape"
   ]
  },
  {
   "cell_type": "code",
   "execution_count": 4,
   "metadata": {},
   "outputs": [
    {
     "data": {
      "text/plain": [
       "(882286, 8)"
      ]
     },
     "execution_count": 4,
     "metadata": {},
     "output_type": "execute_result"
    }
   ],
   "source": [
    "#drop 2 inactive stores\n",
    "sales = sales[~sales['st_id'].isin(['1aa057313c28fa4a40c5bc084b11d276', '62f91ce9b820a491ee78c108636db089'])]\n",
    "sales.shape"
   ]
  },
  {
   "cell_type": "code",
   "execution_count": 5,
   "metadata": {},
   "outputs": [
    {
     "data": {
      "text/plain": [
       "(66882, 8)"
      ]
     },
     "execution_count": 5,
     "metadata": {},
     "output_type": "execute_result"
    }
   ],
   "source": [
    "#estimate cases where sales in units are zero and in rubles not, or vice versa\n",
    "zero_nonzero_sales = sales[((sales['pr_sales_in_units'] != 0) & (sales['pr_sales_in_rub'] == 0)) | ((sales['pr_sales_in_units'] == 0) & (sales['pr_sales_in_rub'] != 0))]\n",
    "zero_nonzero_sales.shape"
   ]
  },
  {
   "cell_type": "code",
   "execution_count": 6,
   "metadata": {},
   "outputs": [
    {
     "data": {
      "text/plain": [
       "(815404, 8)"
      ]
     },
     "execution_count": 6,
     "metadata": {},
     "output_type": "execute_result"
    }
   ],
   "source": [
    "#drop cases where sales in units are zero and in rubles not, or vice versa\n",
    "sales = sales[((sales['pr_sales_in_units'] != 0) & (sales['pr_sales_in_rub'] != 0)) | ((sales['pr_sales_in_units'] == 0) & (sales['pr_sales_in_rub'] == 0))]\n",
    "sales.shape"
   ]
  },
  {
   "cell_type": "code",
   "execution_count": 7,
   "metadata": {},
   "outputs": [
    {
     "data": {
      "text/plain": [
       "(815334, 8)"
      ]
     },
     "execution_count": 7,
     "metadata": {},
     "output_type": "execute_result"
    }
   ],
   "source": [
    "#drop negative sales\n",
    "sales = sales[(sales['pr_sales_in_rub'] >= 0) & (sales['pr_sales_in_units'] >= 0) & (sales['pr_promo_sales_in_rub'] >= 0) & (sales['pr_promo_sales_in_units'] >= 0)]\n",
    "sales.shape"
   ]
  },
  {
   "cell_type": "code",
   "execution_count": 8,
   "metadata": {},
   "outputs": [
    {
     "data": {
      "text/plain": [
       "6130"
      ]
     },
     "execution_count": 8,
     "metadata": {},
     "output_type": "execute_result"
    }
   ],
   "source": [
    "#concat item-store pair into single unit\n",
    "sales['store_item'] = sales['st_id'].str.cat(sales['pr_sku_id'], sep='-')\n",
    "sales['store_item'].nunique()"
   ]
  },
  {
   "cell_type": "code",
   "execution_count": 9,
   "metadata": {},
   "outputs": [
    {
     "data": {
      "text/plain": [
       "(661192, 5)"
      ]
     },
     "execution_count": 9,
     "metadata": {},
     "output_type": "execute_result"
    }
   ],
   "source": [
    "#glue together promo and non-promo sales of one item-store pair on same day\n",
    "oneline = sales.groupby(['store_item', 'date'])[['pr_sales_type_id', 'pr_sales_in_units', 'pr_sales_in_rub', 'pr_promo_sales_in_units', 'pr_promo_sales_in_rub']].sum()\n",
    "oneline.shape"
   ]
  },
  {
   "cell_type": "code",
   "execution_count": 10,
   "metadata": {},
   "outputs": [
    {
     "data": {
      "text/html": [
       "<div>\n",
       "<style scoped>\n",
       "    .dataframe tbody tr th:only-of-type {\n",
       "        vertical-align: middle;\n",
       "    }\n",
       "\n",
       "    .dataframe tbody tr th {\n",
       "        vertical-align: top;\n",
       "    }\n",
       "\n",
       "    .dataframe thead tr th {\n",
       "        text-align: left;\n",
       "    }\n",
       "\n",
       "    .dataframe thead tr:last-of-type th {\n",
       "        text-align: right;\n",
       "    }\n",
       "</style>\n",
       "<table border=\"1\" class=\"dataframe\">\n",
       "  <thead>\n",
       "    <tr>\n",
       "      <th></th>\n",
       "      <th colspan=\"2\" halign=\"left\">pr_sales_in_units</th>\n",
       "      <th colspan=\"2\" halign=\"left\">pr_sales_in_rub</th>\n",
       "      <th>all_sales_share</th>\n",
       "    </tr>\n",
       "    <tr>\n",
       "      <th></th>\n",
       "      <th>sum</th>\n",
       "      <th>count</th>\n",
       "      <th>sum</th>\n",
       "      <th>count</th>\n",
       "      <th></th>\n",
       "    </tr>\n",
       "    <tr>\n",
       "      <th>store_item</th>\n",
       "      <th></th>\n",
       "      <th></th>\n",
       "      <th></th>\n",
       "      <th></th>\n",
       "      <th></th>\n",
       "    </tr>\n",
       "  </thead>\n",
       "  <tbody>\n",
       "    <tr>\n",
       "      <th>16a5cdae362b8d27a1d8f8c7b78b4330-62d4af457ba2540ce0898a211c0cd17a</th>\n",
       "      <td>51500.0</td>\n",
       "      <td>352</td>\n",
       "      <td>879274.0</td>\n",
       "      <td>352</td>\n",
       "      <td>0.168569</td>\n",
       "    </tr>\n",
       "    <tr>\n",
       "      <th>c81e728d9d4c2f636f067f89cc14862c-20d9b4bfd4b672f61d87f420856aac5d</th>\n",
       "      <td>42088.0</td>\n",
       "      <td>278</td>\n",
       "      <td>1999391.0</td>\n",
       "      <td>278</td>\n",
       "      <td>0.383311</td>\n",
       "    </tr>\n",
       "    <tr>\n",
       "      <th>42a0e188f5033bc65bf8d78622277c4e-ced0c1a84924c982a6403870c54b99ca</th>\n",
       "      <td>34255.0</td>\n",
       "      <td>352</td>\n",
       "      <td>1070819.0</td>\n",
       "      <td>352</td>\n",
       "      <td>0.205291</td>\n",
       "    </tr>\n",
       "    <tr>\n",
       "      <th>fa7cdfad1a5aaf8370ebeda47a1ff1c3-c0e3f3bd815a862433bc3399c487926b</th>\n",
       "      <td>32923.0</td>\n",
       "      <td>352</td>\n",
       "      <td>4187731.0</td>\n",
       "      <td>352</td>\n",
       "      <td>0.802847</td>\n",
       "    </tr>\n",
       "    <tr>\n",
       "      <th>16a5cdae362b8d27a1d8f8c7b78b4330-ced0c1a84924c982a6403870c54b99ca</th>\n",
       "      <td>29678.0</td>\n",
       "      <td>352</td>\n",
       "      <td>963222.0</td>\n",
       "      <td>352</td>\n",
       "      <td>0.184663</td>\n",
       "    </tr>\n",
       "    <tr>\n",
       "      <th>...</th>\n",
       "      <td>...</td>\n",
       "      <td>...</td>\n",
       "      <td>...</td>\n",
       "      <td>...</td>\n",
       "      <td>...</td>\n",
       "    </tr>\n",
       "    <tr>\n",
       "      <th>f7e6c85504ce6e82442c770f7c8606f0-7a5ebc8af2689363da125308abe00d7f</th>\n",
       "      <td>5469.0</td>\n",
       "      <td>345</td>\n",
       "      <td>324306.0</td>\n",
       "      <td>345</td>\n",
       "      <td>0.062174</td>\n",
       "    </tr>\n",
       "    <tr>\n",
       "      <th>c81e728d9d4c2f636f067f89cc14862c-5b26f85ccb23039364226f66f0366c66</th>\n",
       "      <td>5417.0</td>\n",
       "      <td>352</td>\n",
       "      <td>84293.0</td>\n",
       "      <td>352</td>\n",
       "      <td>0.016160</td>\n",
       "    </tr>\n",
       "    <tr>\n",
       "      <th>42a0e188f5033bc65bf8d78622277c4e-603c32f40317b3179730bb4d8a032f84</th>\n",
       "      <td>5399.0</td>\n",
       "      <td>339</td>\n",
       "      <td>643395.0</td>\n",
       "      <td>339</td>\n",
       "      <td>0.123348</td>\n",
       "    </tr>\n",
       "    <tr>\n",
       "      <th>42a0e188f5033bc65bf8d78622277c4e-d22bb534b7964c0cafab6aab1995f000</th>\n",
       "      <td>5364.0</td>\n",
       "      <td>351</td>\n",
       "      <td>328648.0</td>\n",
       "      <td>351</td>\n",
       "      <td>0.063006</td>\n",
       "    </tr>\n",
       "    <tr>\n",
       "      <th>f7e6c85504ce6e82442c770f7c8606f0-2d4cee784419330773e7cc6b65570140</th>\n",
       "      <td>5337.0</td>\n",
       "      <td>192</td>\n",
       "      <td>913631.0</td>\n",
       "      <td>192</td>\n",
       "      <td>0.175156</td>\n",
       "    </tr>\n",
       "  </tbody>\n",
       "</table>\n",
       "<p>150 rows × 5 columns</p>\n",
       "</div>"
      ],
      "text/plain": [
       "                                                   pr_sales_in_units        \\\n",
       "                                                                 sum count   \n",
       "store_item                                                                   \n",
       "16a5cdae362b8d27a1d8f8c7b78b4330-62d4af457ba254...           51500.0   352   \n",
       "c81e728d9d4c2f636f067f89cc14862c-20d9b4bfd4b672...           42088.0   278   \n",
       "42a0e188f5033bc65bf8d78622277c4e-ced0c1a84924c9...           34255.0   352   \n",
       "fa7cdfad1a5aaf8370ebeda47a1ff1c3-c0e3f3bd815a86...           32923.0   352   \n",
       "16a5cdae362b8d27a1d8f8c7b78b4330-ced0c1a84924c9...           29678.0   352   \n",
       "...                                                              ...   ...   \n",
       "f7e6c85504ce6e82442c770f7c8606f0-7a5ebc8af26893...            5469.0   345   \n",
       "c81e728d9d4c2f636f067f89cc14862c-5b26f85ccb2303...            5417.0   352   \n",
       "42a0e188f5033bc65bf8d78622277c4e-603c32f40317b3...            5399.0   339   \n",
       "42a0e188f5033bc65bf8d78622277c4e-d22bb534b7964c...            5364.0   351   \n",
       "f7e6c85504ce6e82442c770f7c8606f0-2d4cee78441933...            5337.0   192   \n",
       "\n",
       "                                                   pr_sales_in_rub        \\\n",
       "                                                               sum count   \n",
       "store_item                                                                 \n",
       "16a5cdae362b8d27a1d8f8c7b78b4330-62d4af457ba254...        879274.0   352   \n",
       "c81e728d9d4c2f636f067f89cc14862c-20d9b4bfd4b672...       1999391.0   278   \n",
       "42a0e188f5033bc65bf8d78622277c4e-ced0c1a84924c9...       1070819.0   352   \n",
       "fa7cdfad1a5aaf8370ebeda47a1ff1c3-c0e3f3bd815a86...       4187731.0   352   \n",
       "16a5cdae362b8d27a1d8f8c7b78b4330-ced0c1a84924c9...        963222.0   352   \n",
       "...                                                            ...   ...   \n",
       "f7e6c85504ce6e82442c770f7c8606f0-7a5ebc8af26893...        324306.0   345   \n",
       "c81e728d9d4c2f636f067f89cc14862c-5b26f85ccb2303...         84293.0   352   \n",
       "42a0e188f5033bc65bf8d78622277c4e-603c32f40317b3...        643395.0   339   \n",
       "42a0e188f5033bc65bf8d78622277c4e-d22bb534b7964c...        328648.0   351   \n",
       "f7e6c85504ce6e82442c770f7c8606f0-2d4cee78441933...        913631.0   192   \n",
       "\n",
       "                                                   all_sales_share  \n",
       "                                                                    \n",
       "store_item                                                          \n",
       "16a5cdae362b8d27a1d8f8c7b78b4330-62d4af457ba254...        0.168569  \n",
       "c81e728d9d4c2f636f067f89cc14862c-20d9b4bfd4b672...        0.383311  \n",
       "42a0e188f5033bc65bf8d78622277c4e-ced0c1a84924c9...        0.205291  \n",
       "fa7cdfad1a5aaf8370ebeda47a1ff1c3-c0e3f3bd815a86...        0.802847  \n",
       "16a5cdae362b8d27a1d8f8c7b78b4330-ced0c1a84924c9...        0.184663  \n",
       "...                                                            ...  \n",
       "f7e6c85504ce6e82442c770f7c8606f0-7a5ebc8af26893...        0.062174  \n",
       "c81e728d9d4c2f636f067f89cc14862c-5b26f85ccb2303...        0.016160  \n",
       "42a0e188f5033bc65bf8d78622277c4e-603c32f40317b3...        0.123348  \n",
       "42a0e188f5033bc65bf8d78622277c4e-d22bb534b7964c...        0.063006  \n",
       "f7e6c85504ce6e82442c770f7c8606f0-2d4cee78441933...        0.175156  \n",
       "\n",
       "[150 rows x 5 columns]"
      ]
     },
     "execution_count": 10,
     "metadata": {},
     "output_type": "execute_result"
    }
   ],
   "source": [
    "#detect top150 item-store pairs\n",
    "by_pair = oneline.groupby('store_item')[['pr_sales_in_units', 'pr_sales_in_rub']].agg(['sum', 'count'])\n",
    "all_sales = by_pair[('pr_sales_in_rub', 'sum')].sum()\n",
    "by_pair['all_sales_share'] = by_pair[('pr_sales_in_rub', 'sum')] / all_sales * 100\n",
    "by_pair.sort_values([('pr_sales_in_units', 'sum')], ascending=False).head(150)"
   ]
  },
  {
   "cell_type": "code",
   "execution_count": 11,
   "metadata": {},
   "outputs": [
    {
     "data": {
      "text/plain": [
       "(857, 6)"
      ]
     },
     "execution_count": 11,
     "metadata": {},
     "output_type": "execute_result"
    }
   ],
   "source": [
    "#separate top 150\n",
    "by_pair = by_pair.reset_index()\n",
    "top150 = by_pair.sort_values([('pr_sales_in_units', 'sum')], ascending=False).head(150)\n",
    "no_top150 = by_pair[~by_pair['store_item'].isin(top150['store_item'])]\n",
    "most_frequent = no_top150[no_top150[('pr_sales_in_units', 'count')] >= 352*0.8]\n",
    "flagman = pd.concat([top150, most_frequent])\n",
    "flagman.shape"
   ]
  },
  {
   "cell_type": "code",
   "execution_count": 12,
   "metadata": {},
   "outputs": [
    {
     "data": {
      "text/plain": [
       "(5273, 6)"
      ]
     },
     "execution_count": 12,
     "metadata": {},
     "output_type": "execute_result"
    }
   ],
   "source": [
    "#get no flagman pairs\n",
    "rest = by_pair[~by_pair['store_item'].isin(flagman['store_item'])]\n",
    "rest.shape"
   ]
  },
  {
   "cell_type": "code",
   "execution_count": 13,
   "metadata": {},
   "outputs": [
    {
     "data": {
      "text/html": [
       "<div>\n",
       "<style scoped>\n",
       "    .dataframe tbody tr th:only-of-type {\n",
       "        vertical-align: middle;\n",
       "    }\n",
       "\n",
       "    .dataframe tbody tr th {\n",
       "        vertical-align: top;\n",
       "    }\n",
       "\n",
       "    .dataframe thead th {\n",
       "        text-align: right;\n",
       "    }\n",
       "</style>\n",
       "<table border=\"1\" class=\"dataframe\">\n",
       "  <thead>\n",
       "    <tr style=\"text-align: right;\">\n",
       "      <th></th>\n",
       "      <th>store_item</th>\n",
       "      <th>date</th>\n",
       "      <th>pr_sales_type_id</th>\n",
       "      <th>pr_sales_in_units</th>\n",
       "      <th>pr_sales_in_rub</th>\n",
       "      <th>pr_promo_sales_in_units</th>\n",
       "      <th>pr_promo_sales_in_rub</th>\n",
       "    </tr>\n",
       "  </thead>\n",
       "  <tbody>\n",
       "    <tr>\n",
       "      <th>0</th>\n",
       "      <td>084a8a9aa8cced9175bd07bc44998e75-0376a60d9a7ce...</td>\n",
       "      <td>2023-04-07</td>\n",
       "      <td>1</td>\n",
       "      <td>1.0</td>\n",
       "      <td>81.0</td>\n",
       "      <td>1.0</td>\n",
       "      <td>81.0</td>\n",
       "    </tr>\n",
       "    <tr>\n",
       "      <th>1</th>\n",
       "      <td>084a8a9aa8cced9175bd07bc44998e75-0376a60d9a7ce...</td>\n",
       "      <td>2023-04-11</td>\n",
       "      <td>1</td>\n",
       "      <td>1.0</td>\n",
       "      <td>81.0</td>\n",
       "      <td>1.0</td>\n",
       "      <td>81.0</td>\n",
       "    </tr>\n",
       "    <tr>\n",
       "      <th>2</th>\n",
       "      <td>084a8a9aa8cced9175bd07bc44998e75-0376a60d9a7ce...</td>\n",
       "      <td>2023-04-12</td>\n",
       "      <td>1</td>\n",
       "      <td>1.0</td>\n",
       "      <td>81.0</td>\n",
       "      <td>1.0</td>\n",
       "      <td>81.0</td>\n",
       "    </tr>\n",
       "    <tr>\n",
       "      <th>3</th>\n",
       "      <td>084a8a9aa8cced9175bd07bc44998e75-0376a60d9a7ce...</td>\n",
       "      <td>2023-04-29</td>\n",
       "      <td>0</td>\n",
       "      <td>1.0</td>\n",
       "      <td>146.0</td>\n",
       "      <td>0.0</td>\n",
       "      <td>0.0</td>\n",
       "    </tr>\n",
       "    <tr>\n",
       "      <th>4</th>\n",
       "      <td>084a8a9aa8cced9175bd07bc44998e75-0376a60d9a7ce...</td>\n",
       "      <td>2023-05-24</td>\n",
       "      <td>0</td>\n",
       "      <td>1.0</td>\n",
       "      <td>146.0</td>\n",
       "      <td>0.0</td>\n",
       "      <td>0.0</td>\n",
       "    </tr>\n",
       "  </tbody>\n",
       "</table>\n",
       "</div>"
      ],
      "text/plain": [
       "                                          store_item        date  \\\n",
       "0  084a8a9aa8cced9175bd07bc44998e75-0376a60d9a7ce...  2023-04-07   \n",
       "1  084a8a9aa8cced9175bd07bc44998e75-0376a60d9a7ce...  2023-04-11   \n",
       "2  084a8a9aa8cced9175bd07bc44998e75-0376a60d9a7ce...  2023-04-12   \n",
       "3  084a8a9aa8cced9175bd07bc44998e75-0376a60d9a7ce...  2023-04-29   \n",
       "4  084a8a9aa8cced9175bd07bc44998e75-0376a60d9a7ce...  2023-05-24   \n",
       "\n",
       "   pr_sales_type_id  pr_sales_in_units  pr_sales_in_rub  \\\n",
       "0                 1                1.0             81.0   \n",
       "1                 1                1.0             81.0   \n",
       "2                 1                1.0             81.0   \n",
       "3                 0                1.0            146.0   \n",
       "4                 0                1.0            146.0   \n",
       "\n",
       "   pr_promo_sales_in_units  pr_promo_sales_in_rub  \n",
       "0                      1.0                   81.0  \n",
       "1                      1.0                   81.0  \n",
       "2                      1.0                   81.0  \n",
       "3                      0.0                    0.0  \n",
       "4                      0.0                    0.0  "
      ]
     },
     "execution_count": 13,
     "metadata": {},
     "output_type": "execute_result"
    }
   ],
   "source": [
    "oneline = oneline.reset_index()\n",
    "oneline.head()"
   ]
  },
  {
   "cell_type": "code",
   "execution_count": 14,
   "metadata": {},
   "outputs": [
    {
     "data": {
      "text/plain": [
       "(387062, 7)"
      ]
     },
     "execution_count": 14,
     "metadata": {},
     "output_type": "execute_result"
    }
   ],
   "source": [
    "#make train dataset out of top50 and their sales\n",
    "train = oneline[oneline['store_item'].isin(rest['store_item'])]\n",
    "train.shape"
   ]
  },
  {
   "cell_type": "code",
   "execution_count": 15,
   "metadata": {},
   "outputs": [
    {
     "data": {
      "text/plain": [
       "(6130, 3)"
      ]
     },
     "execution_count": 15,
     "metadata": {},
     "output_type": "execute_result"
    }
   ],
   "source": [
    "#i suppose in this set we should separate store from item\n",
    "separate_product_store = sales[['pr_sku_id', 'st_id', 'store_item']].drop_duplicates(subset='store_item')\n",
    "separate_product_store.shape"
   ]
  },
  {
   "cell_type": "code",
   "execution_count": 16,
   "metadata": {},
   "outputs": [
    {
     "data": {
      "text/plain": [
       "(387062, 4)"
      ]
     },
     "execution_count": 16,
     "metadata": {},
     "output_type": "execute_result"
    }
   ],
   "source": [
    "train = train.merge(separate_product_store, how='left', on='store_item')\n",
    "train = train[['pr_sku_id', 'st_id', 'date', 'pr_sales_in_units']]\n",
    "train.shape"
   ]
  },
  {
   "cell_type": "code",
   "execution_count": 17,
   "metadata": {},
   "outputs": [
    {
     "name": "stdout",
     "output_type": "stream",
     "text": [
      "<class 'pandas.core.frame.DataFrame'>\n",
      "RangeIndex: 387062 entries, 0 to 387061\n",
      "Data columns (total 4 columns):\n",
      " #   Column             Non-Null Count   Dtype  \n",
      "---  ------             --------------   -----  \n",
      " 0   pr_sku_id          387062 non-null  object \n",
      " 1   st_id              387062 non-null  object \n",
      " 2   date               387062 non-null  object \n",
      " 3   pr_sales_in_units  387062 non-null  float64\n",
      "dtypes: float64(1), object(3)\n",
      "memory usage: 11.8+ MB\n"
     ]
    }
   ],
   "source": [
    "train.info()"
   ]
  },
  {
   "cell_type": "code",
   "execution_count": 18,
   "metadata": {},
   "outputs": [],
   "source": [
    "train['date'] = pd.to_datetime(train['date']).dt.normalize()"
   ]
  },
  {
   "cell_type": "code",
   "execution_count": 19,
   "metadata": {},
   "outputs": [
    {
     "data": {
      "text/plain": [
       "count                           387062\n",
       "mean     2023-01-25 10:16:32.027116800\n",
       "min                2022-08-01 00:00:00\n",
       "25%                2022-10-28 00:00:00\n",
       "50%                2023-01-26 00:00:00\n",
       "75%                2023-04-26 00:00:00\n",
       "max                2023-07-18 00:00:00\n",
       "Name: date, dtype: object"
      ]
     },
     "execution_count": 19,
     "metadata": {},
     "output_type": "execute_result"
    }
   ],
   "source": [
    "train['date'].describe()"
   ]
  },
  {
   "cell_type": "markdown",
   "metadata": {},
   "source": [
    "Предобработка практически полностью повторяет предобработку для первой модели, за тем исключением, что здесь мы, напротив, выбеляем товары, не входящие в топ и не являющиеся частотными, а также возвращаемся в датасете от объединенного столбца товар-магазин к отдельным товар и магазин. Это важно, поскольку далее мы будем работать отдельно с признаками товаров и магазинов.\n",
    "\n",
    "Шаги предобработки, дублирующие первый ноутбук:\n",
    "\n",
    "* удалили два неактивных магазина. Для них не требуется прогноз, и данных по ним мало - едва ли они серьезно на что-то повлияют\n",
    "\n",
    "* удалили любые отрицательные продажи. Вероятно, это возвраты товаров, не превысившие в этот день продажи. Возвраты не характеризуют спрос, являющийся нашей целью в данной работе\n",
    "\n",
    "* удалили случаи, когда продажи в штуках равны нулю, а в рублях нет. Мы полагаем, что это связано с округлением. Все данные в датасете округлены до целых. Если в день было продано менее 0.5 кг весового товара, он округлится до нуля, при этом продажи в рублях ненулевые. Эту гипотезу подтверждает то, что у всех таких товаров один и тот же тип (кг/штуки). Это соответствует цели исследования: продажи менее единицы отражают спрос, близкий к нулю\n",
    "\n",
    "* удалили случаи, когда продажи в рублях нулевые, а в штуках нет. Это либо ошибки системы, либо покупатель по какой-то акции получил товар бесплатно, что в обоих случаях не отражает реальный спрос\n",
    "\n",
    "* объединили продажи одного товара в одном магазине в один день по промо и без в одну строку"
   ]
  },
  {
   "cell_type": "markdown",
   "metadata": {},
   "source": [
    "### Feature engineering"
   ]
  },
  {
   "cell_type": "code",
   "execution_count": 20,
   "metadata": {},
   "outputs": [
    {
     "data": {
      "text/html": [
       "<div>\n",
       "<style scoped>\n",
       "    .dataframe tbody tr th:only-of-type {\n",
       "        vertical-align: middle;\n",
       "    }\n",
       "\n",
       "    .dataframe tbody tr th {\n",
       "        vertical-align: top;\n",
       "    }\n",
       "\n",
       "    .dataframe thead th {\n",
       "        text-align: right;\n",
       "    }\n",
       "</style>\n",
       "<table border=\"1\" class=\"dataframe\">\n",
       "  <thead>\n",
       "    <tr style=\"text-align: right;\">\n",
       "      <th></th>\n",
       "      <th>pr_sku_id</th>\n",
       "      <th>st_id</th>\n",
       "      <th>date</th>\n",
       "      <th>pr_sales_in_units</th>\n",
       "    </tr>\n",
       "  </thead>\n",
       "  <tbody>\n",
       "    <tr>\n",
       "      <th>0</th>\n",
       "      <td>0376a60d9a7ce7965beddc4815588697</td>\n",
       "      <td>084a8a9aa8cced9175bd07bc44998e75</td>\n",
       "      <td>2023-04-07</td>\n",
       "      <td>1.0</td>\n",
       "    </tr>\n",
       "    <tr>\n",
       "      <th>1</th>\n",
       "      <td>0376a60d9a7ce7965beddc4815588697</td>\n",
       "      <td>084a8a9aa8cced9175bd07bc44998e75</td>\n",
       "      <td>2023-04-11</td>\n",
       "      <td>1.0</td>\n",
       "    </tr>\n",
       "    <tr>\n",
       "      <th>2</th>\n",
       "      <td>0376a60d9a7ce7965beddc4815588697</td>\n",
       "      <td>084a8a9aa8cced9175bd07bc44998e75</td>\n",
       "      <td>2023-04-12</td>\n",
       "      <td>1.0</td>\n",
       "    </tr>\n",
       "    <tr>\n",
       "      <th>3</th>\n",
       "      <td>0376a60d9a7ce7965beddc4815588697</td>\n",
       "      <td>084a8a9aa8cced9175bd07bc44998e75</td>\n",
       "      <td>2023-04-29</td>\n",
       "      <td>1.0</td>\n",
       "    </tr>\n",
       "    <tr>\n",
       "      <th>4</th>\n",
       "      <td>0376a60d9a7ce7965beddc4815588697</td>\n",
       "      <td>084a8a9aa8cced9175bd07bc44998e75</td>\n",
       "      <td>2023-05-24</td>\n",
       "      <td>1.0</td>\n",
       "    </tr>\n",
       "  </tbody>\n",
       "</table>\n",
       "</div>"
      ],
      "text/plain": [
       "                          pr_sku_id                             st_id  \\\n",
       "0  0376a60d9a7ce7965beddc4815588697  084a8a9aa8cced9175bd07bc44998e75   \n",
       "1  0376a60d9a7ce7965beddc4815588697  084a8a9aa8cced9175bd07bc44998e75   \n",
       "2  0376a60d9a7ce7965beddc4815588697  084a8a9aa8cced9175bd07bc44998e75   \n",
       "3  0376a60d9a7ce7965beddc4815588697  084a8a9aa8cced9175bd07bc44998e75   \n",
       "4  0376a60d9a7ce7965beddc4815588697  084a8a9aa8cced9175bd07bc44998e75   \n",
       "\n",
       "        date  pr_sales_in_units  \n",
       "0 2023-04-07                1.0  \n",
       "1 2023-04-11                1.0  \n",
       "2 2023-04-12                1.0  \n",
       "3 2023-04-29                1.0  \n",
       "4 2023-05-24                1.0  "
      ]
     },
     "execution_count": 20,
     "metadata": {},
     "output_type": "execute_result"
    }
   ],
   "source": [
    "#and this full set we shall use to get lags by product. separate store from item and format date\n",
    "byproduct = oneline.groupby(['store_item', 'date'])['pr_sales_in_units'].sum().reset_index()\n",
    "byproduct = byproduct.merge(separate_product_store, how='left', on='store_item')\n",
    "byproduct = byproduct[['pr_sku_id', 'st_id', 'date', 'pr_sales_in_units']]\n",
    "byproduct['date'] = pd.to_datetime(byproduct['date']).dt.normalize()\n",
    "byproduct.head()"
   ]
  },
  {
   "cell_type": "code",
   "execution_count": 21,
   "metadata": {},
   "outputs": [
    {
     "data": {
      "text/plain": [
       "(661192, 4)"
      ]
     },
     "execution_count": 21,
     "metadata": {},
     "output_type": "execute_result"
    }
   ],
   "source": [
    "#check shape - its the shape of the full sales set after we glued together promo and non-promo for the same day\n",
    "byproduct.shape"
   ]
  },
  {
   "cell_type": "code",
   "execution_count": 22,
   "metadata": {},
   "outputs": [
    {
     "data": {
      "text/plain": [
       "(277472, 3)"
      ]
     },
     "execution_count": 22,
     "metadata": {},
     "output_type": "execute_result"
    }
   ],
   "source": [
    "#sales of one product in all stores by day\n",
    "byproduct = byproduct.groupby(['pr_sku_id', 'date'])['pr_sales_in_units'].sum().reset_index()\n",
    "byproduct.shape"
   ]
  },
  {
   "cell_type": "code",
   "execution_count": 23,
   "metadata": {},
   "outputs": [
    {
     "data": {
      "image/png": "[encoded data removed]",
      "text/plain": [
       "<Figure size 640x480 with 1 Axes>"
      ]
     },
     "metadata": {},
     "output_type": "display_data"
    }
   ],
   "source": [
    "series_density = byproduct['pr_sku_id'].value_counts()\n",
    "sns.histplot(series_density, bins=350)\n",
    "plt.title('Number of non-zero days in a products time series');"
   ]
  },
  {
   "cell_type": "markdown",
   "metadata": {},
   "source": [
    "Очень много товаров продавалось всего один день. Вообще разреженные временные ряды преобладают. Сейчас мы достроим их нулями и получим очень много нулей (но не так много, как если бы единицей моделирования оставался товар-магазин)"
   ]
  },
  {
   "cell_type": "code",
   "execution_count": 24,
   "metadata": {},
   "outputs": [
    {
     "data": {
      "text/plain": [
       "1973"
      ]
     },
     "execution_count": 24,
     "metadata": {},
     "output_type": "execute_result"
    }
   ],
   "source": [
    "#number of unique products\n",
    "byproduct['pr_sku_id'].nunique()"
   ]
  },
  {
   "cell_type": "code",
   "execution_count": 25,
   "metadata": {},
   "outputs": [
    {
     "data": {
      "text/html": [
       "<div>\n",
       "<style scoped>\n",
       "    .dataframe tbody tr th:only-of-type {\n",
       "        vertical-align: middle;\n",
       "    }\n",
       "\n",
       "    .dataframe tbody tr th {\n",
       "        vertical-align: top;\n",
       "    }\n",
       "\n",
       "    .dataframe thead th {\n",
       "        text-align: right;\n",
       "    }\n",
       "</style>\n",
       "<table border=\"1\" class=\"dataframe\">\n",
       "  <thead>\n",
       "    <tr style=\"text-align: right;\">\n",
       "      <th></th>\n",
       "      <th>pr_sku_id</th>\n",
       "      <th>date</th>\n",
       "      <th>sku</th>\n",
       "    </tr>\n",
       "  </thead>\n",
       "  <tbody>\n",
       "    <tr>\n",
       "      <th>0</th>\n",
       "      <td>002c3a40ac50dc870f1ff386f11f5bae</td>\n",
       "      <td>2022-08-01</td>\n",
       "      <td>0.0</td>\n",
       "    </tr>\n",
       "    <tr>\n",
       "      <th>1</th>\n",
       "      <td>002c3a40ac50dc870f1ff386f11f5bae</td>\n",
       "      <td>2022-08-02</td>\n",
       "      <td>0.0</td>\n",
       "    </tr>\n",
       "    <tr>\n",
       "      <th>2</th>\n",
       "      <td>002c3a40ac50dc870f1ff386f11f5bae</td>\n",
       "      <td>2022-08-03</td>\n",
       "      <td>0.0</td>\n",
       "    </tr>\n",
       "    <tr>\n",
       "      <th>3</th>\n",
       "      <td>002c3a40ac50dc870f1ff386f11f5bae</td>\n",
       "      <td>2022-08-04</td>\n",
       "      <td>0.0</td>\n",
       "    </tr>\n",
       "    <tr>\n",
       "      <th>4</th>\n",
       "      <td>002c3a40ac50dc870f1ff386f11f5bae</td>\n",
       "      <td>2022-08-05</td>\n",
       "      <td>0.0</td>\n",
       "    </tr>\n",
       "  </tbody>\n",
       "</table>\n",
       "</div>"
      ],
      "text/plain": [
       "                          pr_sku_id       date  sku\n",
       "0  002c3a40ac50dc870f1ff386f11f5bae 2022-08-01  0.0\n",
       "1  002c3a40ac50dc870f1ff386f11f5bae 2022-08-02  0.0\n",
       "2  002c3a40ac50dc870f1ff386f11f5bae 2022-08-03  0.0\n",
       "3  002c3a40ac50dc870f1ff386f11f5bae 2022-08-04  0.0\n",
       "4  002c3a40ac50dc870f1ff386f11f5bae 2022-08-05  0.0"
      ]
     },
     "execution_count": 25,
     "metadata": {},
     "output_type": "execute_result"
    }
   ],
   "source": [
    "#insert zeros for missing dates\n",
    "byproduct = byproduct.sort_values(by='date')\n",
    "bypr_pivoted = byproduct.pivot(index='pr_sku_id', columns='date', values='pr_sales_in_units').fillna(0)\n",
    "\n",
    "bypr_long = bypr_pivoted.stack().reset_index()\n",
    "bypr_long = bypr_long.rename(columns={'level_1': 'date', 0: 'sku'})\n",
    "bypr_long.head()"
   ]
  },
  {
   "cell_type": "code",
   "execution_count": 26,
   "metadata": {},
   "outputs": [
    {
     "data": {
      "text/plain": [
       "((694496, 3), 694496)"
      ]
     },
     "execution_count": 26,
     "metadata": {},
     "output_type": "execute_result"
    }
   ],
   "source": [
    "#assert number of lines equals 1973 items * 352 days\n",
    "bypr_long.shape, 1973*352"
   ]
  },
  {
   "cell_type": "code",
   "execution_count": 27,
   "metadata": {},
   "outputs": [
    {
     "data": {
      "text/html": [
       "<div>\n",
       "<style scoped>\n",
       "    .dataframe tbody tr th:only-of-type {\n",
       "        vertical-align: middle;\n",
       "    }\n",
       "\n",
       "    .dataframe tbody tr th {\n",
       "        vertical-align: top;\n",
       "    }\n",
       "\n",
       "    .dataframe thead th {\n",
       "        text-align: right;\n",
       "    }\n",
       "</style>\n",
       "<table border=\"1\" class=\"dataframe\">\n",
       "  <thead>\n",
       "    <tr style=\"text-align: right;\">\n",
       "      <th></th>\n",
       "      <th></th>\n",
       "      <th>sku</th>\n",
       "      <th>sku_lag_1</th>\n",
       "      <th>sku_lag_2</th>\n",
       "      <th>sku_lag_3</th>\n",
       "      <th>sku_lag_4</th>\n",
       "      <th>sku_lag_5</th>\n",
       "      <th>sku_lag_6</th>\n",
       "      <th>sku_lag_7</th>\n",
       "      <th>sku_lag_8</th>\n",
       "      <th>sku_lag_9</th>\n",
       "      <th>...</th>\n",
       "      <th>sku_lag_12</th>\n",
       "      <th>sku_lag_13</th>\n",
       "      <th>sku_lag_14</th>\n",
       "      <th>sku_lag_15</th>\n",
       "      <th>sku_lag_16</th>\n",
       "      <th>sku_lag_17</th>\n",
       "      <th>sku_lag_18</th>\n",
       "      <th>sku_lag_19</th>\n",
       "      <th>sku_lag_20</th>\n",
       "      <th>sku_lag_21</th>\n",
       "    </tr>\n",
       "    <tr>\n",
       "      <th>pr_sku_id</th>\n",
       "      <th>date</th>\n",
       "      <th></th>\n",
       "      <th></th>\n",
       "      <th></th>\n",
       "      <th></th>\n",
       "      <th></th>\n",
       "      <th></th>\n",
       "      <th></th>\n",
       "      <th></th>\n",
       "      <th></th>\n",
       "      <th></th>\n",
       "      <th></th>\n",
       "      <th></th>\n",
       "      <th></th>\n",
       "      <th></th>\n",
       "      <th></th>\n",
       "      <th></th>\n",
       "      <th></th>\n",
       "      <th></th>\n",
       "      <th></th>\n",
       "      <th></th>\n",
       "      <th></th>\n",
       "    </tr>\n",
       "  </thead>\n",
       "  <tbody>\n",
       "    <tr>\n",
       "      <th rowspan=\"5\" valign=\"top\">002c3a40ac50dc870f1ff386f11f5bae</th>\n",
       "      <th>2022-08-01</th>\n",
       "      <td>0.0</td>\n",
       "      <td>NaN</td>\n",
       "      <td>NaN</td>\n",
       "      <td>NaN</td>\n",
       "      <td>NaN</td>\n",
       "      <td>NaN</td>\n",
       "      <td>NaN</td>\n",
       "      <td>NaN</td>\n",
       "      <td>NaN</td>\n",
       "      <td>NaN</td>\n",
       "      <td>...</td>\n",
       "      <td>NaN</td>\n",
       "      <td>NaN</td>\n",
       "      <td>NaN</td>\n",
       "      <td>NaN</td>\n",
       "      <td>NaN</td>\n",
       "      <td>NaN</td>\n",
       "      <td>NaN</td>\n",
       "      <td>NaN</td>\n",
       "      <td>NaN</td>\n",
       "      <td>NaN</td>\n",
       "    </tr>\n",
       "    <tr>\n",
       "      <th>2022-08-02</th>\n",
       "      <td>0.0</td>\n",
       "      <td>0.0</td>\n",
       "      <td>NaN</td>\n",
       "      <td>NaN</td>\n",
       "      <td>NaN</td>\n",
       "      <td>NaN</td>\n",
       "      <td>NaN</td>\n",
       "      <td>NaN</td>\n",
       "      <td>NaN</td>\n",
       "      <td>NaN</td>\n",
       "      <td>...</td>\n",
       "      <td>NaN</td>\n",
       "      <td>NaN</td>\n",
       "      <td>NaN</td>\n",
       "      <td>NaN</td>\n",
       "      <td>NaN</td>\n",
       "      <td>NaN</td>\n",
       "      <td>NaN</td>\n",
       "      <td>NaN</td>\n",
       "      <td>NaN</td>\n",
       "      <td>NaN</td>\n",
       "    </tr>\n",
       "    <tr>\n",
       "      <th>2022-08-03</th>\n",
       "      <td>0.0</td>\n",
       "      <td>0.0</td>\n",
       "      <td>0.0</td>\n",
       "      <td>NaN</td>\n",
       "      <td>NaN</td>\n",
       "      <td>NaN</td>\n",
       "      <td>NaN</td>\n",
       "      <td>NaN</td>\n",
       "      <td>NaN</td>\n",
       "      <td>NaN</td>\n",
       "      <td>...</td>\n",
       "      <td>NaN</td>\n",
       "      <td>NaN</td>\n",
       "      <td>NaN</td>\n",
       "      <td>NaN</td>\n",
       "      <td>NaN</td>\n",
       "      <td>NaN</td>\n",
       "      <td>NaN</td>\n",
       "      <td>NaN</td>\n",
       "      <td>NaN</td>\n",
       "      <td>NaN</td>\n",
       "    </tr>\n",
       "    <tr>\n",
       "      <th>2022-08-04</th>\n",
       "      <td>0.0</td>\n",
       "      <td>0.0</td>\n",
       "      <td>0.0</td>\n",
       "      <td>0.0</td>\n",
       "      <td>NaN</td>\n",
       "      <td>NaN</td>\n",
       "      <td>NaN</td>\n",
       "      <td>NaN</td>\n",
       "      <td>NaN</td>\n",
       "      <td>NaN</td>\n",
       "      <td>...</td>\n",
       "      <td>NaN</td>\n",
       "      <td>NaN</td>\n",
       "      <td>NaN</td>\n",
       "      <td>NaN</td>\n",
       "      <td>NaN</td>\n",
       "      <td>NaN</td>\n",
       "      <td>NaN</td>\n",
       "      <td>NaN</td>\n",
       "      <td>NaN</td>\n",
       "      <td>NaN</td>\n",
       "    </tr>\n",
       "    <tr>\n",
       "      <th>2022-08-05</th>\n",
       "      <td>0.0</td>\n",
       "      <td>0.0</td>\n",
       "      <td>0.0</td>\n",
       "      <td>0.0</td>\n",
       "      <td>0.0</td>\n",
       "      <td>NaN</td>\n",
       "      <td>NaN</td>\n",
       "      <td>NaN</td>\n",
       "      <td>NaN</td>\n",
       "      <td>NaN</td>\n",
       "      <td>...</td>\n",
       "      <td>NaN</td>\n",
       "      <td>NaN</td>\n",
       "      <td>NaN</td>\n",
       "      <td>NaN</td>\n",
       "      <td>NaN</td>\n",
       "      <td>NaN</td>\n",
       "      <td>NaN</td>\n",
       "      <td>NaN</td>\n",
       "      <td>NaN</td>\n",
       "      <td>NaN</td>\n",
       "    </tr>\n",
       "  </tbody>\n",
       "</table>\n",
       "<p>5 rows × 22 columns</p>\n",
       "</div>"
      ],
      "text/plain": [
       "                                             sku  sku_lag_1  sku_lag_2  \\\n",
       "pr_sku_id                        date                                    \n",
       "002c3a40ac50dc870f1ff386f11f5bae 2022-08-01  0.0        NaN        NaN   \n",
       "                                 2022-08-02  0.0        0.0        NaN   \n",
       "                                 2022-08-03  0.0        0.0        0.0   \n",
       "                                 2022-08-04  0.0        0.0        0.0   \n",
       "                                 2022-08-05  0.0        0.0        0.0   \n",
       "\n",
       "                                             sku_lag_3  sku_lag_4  sku_lag_5  \\\n",
       "pr_sku_id                        date                                          \n",
       "002c3a40ac50dc870f1ff386f11f5bae 2022-08-01        NaN        NaN        NaN   \n",
       "                                 2022-08-02        NaN        NaN        NaN   \n",
       "                                 2022-08-03        NaN        NaN        NaN   \n",
       "                                 2022-08-04        0.0        NaN        NaN   \n",
       "                                 2022-08-05        0.0        0.0        NaN   \n",
       "\n",
       "                                             sku_lag_6  sku_lag_7  sku_lag_8  \\\n",
       "pr_sku_id                        date                                          \n",
       "002c3a40ac50dc870f1ff386f11f5bae 2022-08-01        NaN        NaN        NaN   \n",
       "                                 2022-08-02        NaN        NaN        NaN   \n",
       "                                 2022-08-03        NaN        NaN        NaN   \n",
       "                                 2022-08-04        NaN        NaN        NaN   \n",
       "                                 2022-08-05        NaN        NaN        NaN   \n",
       "\n",
       "                                             sku_lag_9  ...  sku_lag_12  \\\n",
       "pr_sku_id                        date                   ...               \n",
       "002c3a40ac50dc870f1ff386f11f5bae 2022-08-01        NaN  ...         NaN   \n",
       "                                 2022-08-02        NaN  ...         NaN   \n",
       "                                 2022-08-03        NaN  ...         NaN   \n",
       "                                 2022-08-04        NaN  ...         NaN   \n",
       "                                 2022-08-05        NaN  ...         NaN   \n",
       "\n",
       "                                             sku_lag_13  sku_lag_14  \\\n",
       "pr_sku_id                        date                                 \n",
       "002c3a40ac50dc870f1ff386f11f5bae 2022-08-01         NaN         NaN   \n",
       "                                 2022-08-02         NaN         NaN   \n",
       "                                 2022-08-03         NaN         NaN   \n",
       "                                 2022-08-04         NaN         NaN   \n",
       "                                 2022-08-05         NaN         NaN   \n",
       "\n",
       "                                             sku_lag_15  sku_lag_16  \\\n",
       "pr_sku_id                        date                                 \n",
       "002c3a40ac50dc870f1ff386f11f5bae 2022-08-01         NaN         NaN   \n",
       "                                 2022-08-02         NaN         NaN   \n",
       "                                 2022-08-03         NaN         NaN   \n",
       "                                 2022-08-04         NaN         NaN   \n",
       "                                 2022-08-05         NaN         NaN   \n",
       "\n",
       "                                             sku_lag_17  sku_lag_18  \\\n",
       "pr_sku_id                        date                                 \n",
       "002c3a40ac50dc870f1ff386f11f5bae 2022-08-01         NaN         NaN   \n",
       "                                 2022-08-02         NaN         NaN   \n",
       "                                 2022-08-03         NaN         NaN   \n",
       "                                 2022-08-04         NaN         NaN   \n",
       "                                 2022-08-05         NaN         NaN   \n",
       "\n",
       "                                             sku_lag_19  sku_lag_20  \\\n",
       "pr_sku_id                        date                                 \n",
       "002c3a40ac50dc870f1ff386f11f5bae 2022-08-01         NaN         NaN   \n",
       "                                 2022-08-02         NaN         NaN   \n",
       "                                 2022-08-03         NaN         NaN   \n",
       "                                 2022-08-04         NaN         NaN   \n",
       "                                 2022-08-05         NaN         NaN   \n",
       "\n",
       "                                             sku_lag_21  \n",
       "pr_sku_id                        date                    \n",
       "002c3a40ac50dc870f1ff386f11f5bae 2022-08-01         NaN  \n",
       "                                 2022-08-02         NaN  \n",
       "                                 2022-08-03         NaN  \n",
       "                                 2022-08-04         NaN  \n",
       "                                 2022-08-05         NaN  \n",
       "\n",
       "[5 rows x 22 columns]"
      ]
     },
     "execution_count": 27,
     "metadata": {},
     "output_type": "execute_result"
    }
   ],
   "source": [
    "#add lag columns\n",
    "shifted = bypr_long.set_index(['pr_sku_id', 'date'])\n",
    "new = shifted.copy()\n",
    "\n",
    "for i in range(21):\n",
    "    shifted_i = shifted.groupby(level=\"pr_sku_id\").shift(i+1)\n",
    "    new = new.join(shifted_i.rename(columns=lambda x: x+f\"_lag_{i+1}\"))\n",
    "new.head()"
   ]
  },
  {
   "cell_type": "code",
   "execution_count": 28,
   "metadata": {},
   "outputs": [
    {
     "data": {
      "text/plain": [
       "(653063, 22)"
      ]
     },
     "execution_count": 28,
     "metadata": {},
     "output_type": "execute_result"
    }
   ],
   "source": [
    "#delete nans where there's no lag data (start of period)\n",
    "new['na_sum'] = new.isna().sum(axis=1)\n",
    "new = new[new['na_sum'] == 0]\n",
    "new = new.drop('na_sum', axis=1)\n",
    "new.shape"
   ]
  },
  {
   "cell_type": "code",
   "execution_count": 29,
   "metadata": {},
   "outputs": [
    {
     "data": {
      "text/html": [
       "<div>\n",
       "<style scoped>\n",
       "    .dataframe tbody tr th:only-of-type {\n",
       "        vertical-align: middle;\n",
       "    }\n",
       "\n",
       "    .dataframe tbody tr th {\n",
       "        vertical-align: top;\n",
       "    }\n",
       "\n",
       "    .dataframe thead th {\n",
       "        text-align: right;\n",
       "    }\n",
       "</style>\n",
       "<table border=\"1\" class=\"dataframe\">\n",
       "  <thead>\n",
       "    <tr style=\"text-align: right;\">\n",
       "      <th></th>\n",
       "      <th></th>\n",
       "      <th>sku</th>\n",
       "      <th>sku_lag_1</th>\n",
       "      <th>sku_lag_2</th>\n",
       "      <th>sku_lag_3</th>\n",
       "      <th>sku_lag_4</th>\n",
       "      <th>sku_lag_5</th>\n",
       "      <th>sku_lag_6</th>\n",
       "      <th>sku_lag_7</th>\n",
       "      <th>sku_lag_8</th>\n",
       "      <th>sku_lag_9</th>\n",
       "      <th>...</th>\n",
       "      <th>sku_lag_12</th>\n",
       "      <th>sku_lag_13</th>\n",
       "      <th>sku_lag_14</th>\n",
       "      <th>sku_lag_15</th>\n",
       "      <th>sku_lag_16</th>\n",
       "      <th>sku_lag_17</th>\n",
       "      <th>sku_lag_18</th>\n",
       "      <th>sku_lag_19</th>\n",
       "      <th>sku_lag_20</th>\n",
       "      <th>sku_lag_21</th>\n",
       "    </tr>\n",
       "    <tr>\n",
       "      <th>pr_sku_id</th>\n",
       "      <th>date</th>\n",
       "      <th></th>\n",
       "      <th></th>\n",
       "      <th></th>\n",
       "      <th></th>\n",
       "      <th></th>\n",
       "      <th></th>\n",
       "      <th></th>\n",
       "      <th></th>\n",
       "      <th></th>\n",
       "      <th></th>\n",
       "      <th></th>\n",
       "      <th></th>\n",
       "      <th></th>\n",
       "      <th></th>\n",
       "      <th></th>\n",
       "      <th></th>\n",
       "      <th></th>\n",
       "      <th></th>\n",
       "      <th></th>\n",
       "      <th></th>\n",
       "      <th></th>\n",
       "    </tr>\n",
       "  </thead>\n",
       "  <tbody>\n",
       "    <tr>\n",
       "      <th rowspan=\"3\" valign=\"top\">0045ebdb1069ff4b3dd3efe628c39cd3</th>\n",
       "      <th>2023-07-16</th>\n",
       "      <td>2.0</td>\n",
       "      <td>3.0</td>\n",
       "      <td>4.0</td>\n",
       "      <td>1.0</td>\n",
       "      <td>0.0</td>\n",
       "      <td>0.0</td>\n",
       "      <td>0.0</td>\n",
       "      <td>0.0</td>\n",
       "      <td>0.0</td>\n",
       "      <td>0.0</td>\n",
       "      <td>...</td>\n",
       "      <td>0.0</td>\n",
       "      <td>0.0</td>\n",
       "      <td>0.0</td>\n",
       "      <td>0.0</td>\n",
       "      <td>0.0</td>\n",
       "      <td>0.0</td>\n",
       "      <td>0.0</td>\n",
       "      <td>0.0</td>\n",
       "      <td>0.0</td>\n",
       "      <td>0.0</td>\n",
       "    </tr>\n",
       "    <tr>\n",
       "      <th>2023-07-17</th>\n",
       "      <td>3.0</td>\n",
       "      <td>2.0</td>\n",
       "      <td>3.0</td>\n",
       "      <td>4.0</td>\n",
       "      <td>1.0</td>\n",
       "      <td>0.0</td>\n",
       "      <td>0.0</td>\n",
       "      <td>0.0</td>\n",
       "      <td>0.0</td>\n",
       "      <td>0.0</td>\n",
       "      <td>...</td>\n",
       "      <td>0.0</td>\n",
       "      <td>0.0</td>\n",
       "      <td>0.0</td>\n",
       "      <td>0.0</td>\n",
       "      <td>0.0</td>\n",
       "      <td>0.0</td>\n",
       "      <td>0.0</td>\n",
       "      <td>0.0</td>\n",
       "      <td>0.0</td>\n",
       "      <td>0.0</td>\n",
       "    </tr>\n",
       "    <tr>\n",
       "      <th>2023-07-18</th>\n",
       "      <td>3.0</td>\n",
       "      <td>3.0</td>\n",
       "      <td>2.0</td>\n",
       "      <td>3.0</td>\n",
       "      <td>4.0</td>\n",
       "      <td>1.0</td>\n",
       "      <td>0.0</td>\n",
       "      <td>0.0</td>\n",
       "      <td>0.0</td>\n",
       "      <td>0.0</td>\n",
       "      <td>...</td>\n",
       "      <td>0.0</td>\n",
       "      <td>0.0</td>\n",
       "      <td>0.0</td>\n",
       "      <td>0.0</td>\n",
       "      <td>0.0</td>\n",
       "      <td>0.0</td>\n",
       "      <td>0.0</td>\n",
       "      <td>0.0</td>\n",
       "      <td>0.0</td>\n",
       "      <td>0.0</td>\n",
       "    </tr>\n",
       "    <tr>\n",
       "      <th rowspan=\"4\" valign=\"top\">005c52de11abaf8e0a9714b24415ce34</th>\n",
       "      <th>2022-08-22</th>\n",
       "      <td>0.0</td>\n",
       "      <td>0.0</td>\n",
       "      <td>0.0</td>\n",
       "      <td>0.0</td>\n",
       "      <td>0.0</td>\n",
       "      <td>0.0</td>\n",
       "      <td>0.0</td>\n",
       "      <td>0.0</td>\n",
       "      <td>0.0</td>\n",
       "      <td>0.0</td>\n",
       "      <td>...</td>\n",
       "      <td>0.0</td>\n",
       "      <td>0.0</td>\n",
       "      <td>0.0</td>\n",
       "      <td>0.0</td>\n",
       "      <td>0.0</td>\n",
       "      <td>0.0</td>\n",
       "      <td>0.0</td>\n",
       "      <td>0.0</td>\n",
       "      <td>0.0</td>\n",
       "      <td>0.0</td>\n",
       "    </tr>\n",
       "    <tr>\n",
       "      <th>2022-08-23</th>\n",
       "      <td>0.0</td>\n",
       "      <td>0.0</td>\n",
       "      <td>0.0</td>\n",
       "      <td>0.0</td>\n",
       "      <td>0.0</td>\n",
       "      <td>0.0</td>\n",
       "      <td>0.0</td>\n",
       "      <td>0.0</td>\n",
       "      <td>0.0</td>\n",
       "      <td>0.0</td>\n",
       "      <td>...</td>\n",
       "      <td>0.0</td>\n",
       "      <td>0.0</td>\n",
       "      <td>0.0</td>\n",
       "      <td>0.0</td>\n",
       "      <td>0.0</td>\n",
       "      <td>0.0</td>\n",
       "      <td>0.0</td>\n",
       "      <td>0.0</td>\n",
       "      <td>0.0</td>\n",
       "      <td>0.0</td>\n",
       "    </tr>\n",
       "    <tr>\n",
       "      <th>2022-08-24</th>\n",
       "      <td>0.0</td>\n",
       "      <td>0.0</td>\n",
       "      <td>0.0</td>\n",
       "      <td>0.0</td>\n",
       "      <td>0.0</td>\n",
       "      <td>0.0</td>\n",
       "      <td>0.0</td>\n",
       "      <td>0.0</td>\n",
       "      <td>0.0</td>\n",
       "      <td>0.0</td>\n",
       "      <td>...</td>\n",
       "      <td>0.0</td>\n",
       "      <td>0.0</td>\n",
       "      <td>0.0</td>\n",
       "      <td>0.0</td>\n",
       "      <td>0.0</td>\n",
       "      <td>0.0</td>\n",
       "      <td>0.0</td>\n",
       "      <td>0.0</td>\n",
       "      <td>0.0</td>\n",
       "      <td>0.0</td>\n",
       "    </tr>\n",
       "    <tr>\n",
       "      <th>2022-08-25</th>\n",
       "      <td>0.0</td>\n",
       "      <td>0.0</td>\n",
       "      <td>0.0</td>\n",
       "      <td>0.0</td>\n",
       "      <td>0.0</td>\n",
       "      <td>0.0</td>\n",
       "      <td>0.0</td>\n",
       "      <td>0.0</td>\n",
       "      <td>0.0</td>\n",
       "      <td>0.0</td>\n",
       "      <td>...</td>\n",
       "      <td>0.0</td>\n",
       "      <td>0.0</td>\n",
       "      <td>0.0</td>\n",
       "      <td>0.0</td>\n",
       "      <td>0.0</td>\n",
       "      <td>0.0</td>\n",
       "      <td>0.0</td>\n",
       "      <td>0.0</td>\n",
       "      <td>0.0</td>\n",
       "      <td>0.0</td>\n",
       "    </tr>\n",
       "  </tbody>\n",
       "</table>\n",
       "<p>7 rows × 22 columns</p>\n",
       "</div>"
      ],
      "text/plain": [
       "                                             sku  sku_lag_1  sku_lag_2  \\\n",
       "pr_sku_id                        date                                    \n",
       "0045ebdb1069ff4b3dd3efe628c39cd3 2023-07-16  2.0        3.0        4.0   \n",
       "                                 2023-07-17  3.0        2.0        3.0   \n",
       "                                 2023-07-18  3.0        3.0        2.0   \n",
       "005c52de11abaf8e0a9714b24415ce34 2022-08-22  0.0        0.0        0.0   \n",
       "                                 2022-08-23  0.0        0.0        0.0   \n",
       "                                 2022-08-24  0.0        0.0        0.0   \n",
       "                                 2022-08-25  0.0        0.0        0.0   \n",
       "\n",
       "                                             sku_lag_3  sku_lag_4  sku_lag_5  \\\n",
       "pr_sku_id                        date                                          \n",
       "0045ebdb1069ff4b3dd3efe628c39cd3 2023-07-16        1.0        0.0        0.0   \n",
       "                                 2023-07-17        4.0        1.0        0.0   \n",
       "                                 2023-07-18        3.0        4.0        1.0   \n",
       "005c52de11abaf8e0a9714b24415ce34 2022-08-22        0.0        0.0        0.0   \n",
       "                                 2022-08-23        0.0        0.0        0.0   \n",
       "                                 2022-08-24        0.0        0.0        0.0   \n",
       "                                 2022-08-25        0.0        0.0        0.0   \n",
       "\n",
       "                                             sku_lag_6  sku_lag_7  sku_lag_8  \\\n",
       "pr_sku_id                        date                                          \n",
       "0045ebdb1069ff4b3dd3efe628c39cd3 2023-07-16        0.0        0.0        0.0   \n",
       "                                 2023-07-17        0.0        0.0        0.0   \n",
       "                                 2023-07-18        0.0        0.0        0.0   \n",
       "005c52de11abaf8e0a9714b24415ce34 2022-08-22        0.0        0.0        0.0   \n",
       "                                 2022-08-23        0.0        0.0        0.0   \n",
       "                                 2022-08-24        0.0        0.0        0.0   \n",
       "                                 2022-08-25        0.0        0.0        0.0   \n",
       "\n",
       "                                             sku_lag_9  ...  sku_lag_12  \\\n",
       "pr_sku_id                        date                   ...               \n",
       "0045ebdb1069ff4b3dd3efe628c39cd3 2023-07-16        0.0  ...         0.0   \n",
       "                                 2023-07-17        0.0  ...         0.0   \n",
       "                                 2023-07-18        0.0  ...         0.0   \n",
       "005c52de11abaf8e0a9714b24415ce34 2022-08-22        0.0  ...         0.0   \n",
       "                                 2022-08-23        0.0  ...         0.0   \n",
       "                                 2022-08-24        0.0  ...         0.0   \n",
       "                                 2022-08-25        0.0  ...         0.0   \n",
       "\n",
       "                                             sku_lag_13  sku_lag_14  \\\n",
       "pr_sku_id                        date                                 \n",
       "0045ebdb1069ff4b3dd3efe628c39cd3 2023-07-16         0.0         0.0   \n",
       "                                 2023-07-17         0.0         0.0   \n",
       "                                 2023-07-18         0.0         0.0   \n",
       "005c52de11abaf8e0a9714b24415ce34 2022-08-22         0.0         0.0   \n",
       "                                 2022-08-23         0.0         0.0   \n",
       "                                 2022-08-24         0.0         0.0   \n",
       "                                 2022-08-25         0.0         0.0   \n",
       "\n",
       "                                             sku_lag_15  sku_lag_16  \\\n",
       "pr_sku_id                        date                                 \n",
       "0045ebdb1069ff4b3dd3efe628c39cd3 2023-07-16         0.0         0.0   \n",
       "                                 2023-07-17         0.0         0.0   \n",
       "                                 2023-07-18         0.0         0.0   \n",
       "005c52de11abaf8e0a9714b24415ce34 2022-08-22         0.0         0.0   \n",
       "                                 2022-08-23         0.0         0.0   \n",
       "                                 2022-08-24         0.0         0.0   \n",
       "                                 2022-08-25         0.0         0.0   \n",
       "\n",
       "                                             sku_lag_17  sku_lag_18  \\\n",
       "pr_sku_id                        date                                 \n",
       "0045ebdb1069ff4b3dd3efe628c39cd3 2023-07-16         0.0         0.0   \n",
       "                                 2023-07-17         0.0         0.0   \n",
       "                                 2023-07-18         0.0         0.0   \n",
       "005c52de11abaf8e0a9714b24415ce34 2022-08-22         0.0         0.0   \n",
       "                                 2022-08-23         0.0         0.0   \n",
       "                                 2022-08-24         0.0         0.0   \n",
       "                                 2022-08-25         0.0         0.0   \n",
       "\n",
       "                                             sku_lag_19  sku_lag_20  \\\n",
       "pr_sku_id                        date                                 \n",
       "0045ebdb1069ff4b3dd3efe628c39cd3 2023-07-16         0.0         0.0   \n",
       "                                 2023-07-17         0.0         0.0   \n",
       "                                 2023-07-18         0.0         0.0   \n",
       "005c52de11abaf8e0a9714b24415ce34 2022-08-22         0.0         0.0   \n",
       "                                 2022-08-23         0.0         0.0   \n",
       "                                 2022-08-24         0.0         0.0   \n",
       "                                 2022-08-25         0.0         0.0   \n",
       "\n",
       "                                             sku_lag_21  \n",
       "pr_sku_id                        date                    \n",
       "0045ebdb1069ff4b3dd3efe628c39cd3 2023-07-16         0.0  \n",
       "                                 2023-07-17         0.0  \n",
       "                                 2023-07-18         0.0  \n",
       "005c52de11abaf8e0a9714b24415ce34 2022-08-22         0.0  \n",
       "                                 2022-08-23         0.0  \n",
       "                                 2022-08-24         0.0  \n",
       "                                 2022-08-25         0.0  \n",
       "\n",
       "[7 rows x 22 columns]"
      ]
     },
     "execution_count": 29,
     "metadata": {},
     "output_type": "execute_result"
    }
   ],
   "source": [
    "#look at the edge between units to make sure lags don't mix up\n",
    "new[659:666]"
   ]
  },
  {
   "cell_type": "code",
   "execution_count": 30,
   "metadata": {},
   "outputs": [
    {
     "data": {
      "text/plain": [
       "0        2022-08-22\n",
       "1        2022-08-23\n",
       "2        2022-08-24\n",
       "3        2022-08-25\n",
       "4        2022-08-26\n",
       "            ...    \n",
       "653058   2023-07-14\n",
       "653059   2023-07-15\n",
       "653060   2023-07-16\n",
       "653061   2023-07-17\n",
       "653062   2023-07-18\n",
       "Name: date, Length: 653063, dtype: datetime64[ns]"
      ]
     },
     "execution_count": 30,
     "metadata": {},
     "output_type": "execute_result"
    }
   ],
   "source": [
    "byproduct = new.reset_index()\n",
    "byproduct['date']"
   ]
  },
  {
   "cell_type": "code",
   "execution_count": 31,
   "metadata": {},
   "outputs": [
    {
     "data": {
      "text/plain": [
       "(387062, 4)"
      ]
     },
     "execution_count": 31,
     "metadata": {},
     "output_type": "execute_result"
    }
   ],
   "source": [
    "#get new sold column, it's target\n",
    "train = train.rename(columns={'pr_sales_in_units': 'sold'})\n",
    "train.shape"
   ]
  },
  {
   "cell_type": "code",
   "execution_count": 32,
   "metadata": {},
   "outputs": [
    {
     "data": {
      "text/plain": [
       "(387062, 26)"
      ]
     },
     "execution_count": 32,
     "metadata": {},
     "output_type": "execute_result"
    }
   ],
   "source": [
    "#add lags. remember thei're not for store-item but for item in all stores that day\n",
    "with_lags = train.merge(byproduct, on=['pr_sku_id', 'date'], how='left')\n",
    "with_lags.shape"
   ]
  },
  {
   "cell_type": "code",
   "execution_count": 33,
   "metadata": {},
   "outputs": [
    {
     "data": {
      "text/html": [
       "<div>\n",
       "<style scoped>\n",
       "    .dataframe tbody tr th:only-of-type {\n",
       "        vertical-align: middle;\n",
       "    }\n",
       "\n",
       "    .dataframe tbody tr th {\n",
       "        vertical-align: top;\n",
       "    }\n",
       "\n",
       "    .dataframe thead th {\n",
       "        text-align: right;\n",
       "    }\n",
       "</style>\n",
       "<table border=\"1\" class=\"dataframe\">\n",
       "  <thead>\n",
       "    <tr style=\"text-align: right;\">\n",
       "      <th></th>\n",
       "      <th>pr_sku_id</th>\n",
       "      <th>st_id</th>\n",
       "      <th>date</th>\n",
       "      <th>pr_sales_in_units</th>\n",
       "    </tr>\n",
       "  </thead>\n",
       "  <tbody>\n",
       "    <tr>\n",
       "      <th>0</th>\n",
       "      <td>0376a60d9a7ce7965beddc4815588697</td>\n",
       "      <td>084a8a9aa8cced9175bd07bc44998e75</td>\n",
       "      <td>2023-04-07</td>\n",
       "      <td>1.0</td>\n",
       "    </tr>\n",
       "    <tr>\n",
       "      <th>1</th>\n",
       "      <td>0376a60d9a7ce7965beddc4815588697</td>\n",
       "      <td>084a8a9aa8cced9175bd07bc44998e75</td>\n",
       "      <td>2023-04-11</td>\n",
       "      <td>1.0</td>\n",
       "    </tr>\n",
       "    <tr>\n",
       "      <th>2</th>\n",
       "      <td>0376a60d9a7ce7965beddc4815588697</td>\n",
       "      <td>084a8a9aa8cced9175bd07bc44998e75</td>\n",
       "      <td>2023-04-12</td>\n",
       "      <td>1.0</td>\n",
       "    </tr>\n",
       "    <tr>\n",
       "      <th>3</th>\n",
       "      <td>0376a60d9a7ce7965beddc4815588697</td>\n",
       "      <td>084a8a9aa8cced9175bd07bc44998e75</td>\n",
       "      <td>2023-04-29</td>\n",
       "      <td>1.0</td>\n",
       "    </tr>\n",
       "    <tr>\n",
       "      <th>4</th>\n",
       "      <td>0376a60d9a7ce7965beddc4815588697</td>\n",
       "      <td>084a8a9aa8cced9175bd07bc44998e75</td>\n",
       "      <td>2023-05-24</td>\n",
       "      <td>1.0</td>\n",
       "    </tr>\n",
       "  </tbody>\n",
       "</table>\n",
       "</div>"
      ],
      "text/plain": [
       "                          pr_sku_id                             st_id  \\\n",
       "0  0376a60d9a7ce7965beddc4815588697  084a8a9aa8cced9175bd07bc44998e75   \n",
       "1  0376a60d9a7ce7965beddc4815588697  084a8a9aa8cced9175bd07bc44998e75   \n",
       "2  0376a60d9a7ce7965beddc4815588697  084a8a9aa8cced9175bd07bc44998e75   \n",
       "3  0376a60d9a7ce7965beddc4815588697  084a8a9aa8cced9175bd07bc44998e75   \n",
       "4  0376a60d9a7ce7965beddc4815588697  084a8a9aa8cced9175bd07bc44998e75   \n",
       "\n",
       "        date  pr_sales_in_units  \n",
       "0 2023-04-07                1.0  \n",
       "1 2023-04-11                1.0  \n",
       "2 2023-04-12                1.0  \n",
       "3 2023-04-29                1.0  \n",
       "4 2023-05-24                1.0  "
      ]
     },
     "execution_count": 33,
     "metadata": {},
     "output_type": "execute_result"
    }
   ],
   "source": [
    "#lets get lags by store\n",
    "bystore = oneline.groupby(['store_item', 'date'])['pr_sales_in_units'].sum().reset_index()\n",
    "bystore = bystore.merge(separate_product_store, how='left', on='store_item')\n",
    "bystore = bystore[['pr_sku_id', 'st_id', 'date', 'pr_sales_in_units']]\n",
    "bystore['date'] = pd.to_datetime(bystore['date']).dt.normalize()\n",
    "bystore.head()"
   ]
  },
  {
   "cell_type": "code",
   "execution_count": 34,
   "metadata": {},
   "outputs": [
    {
     "data": {
      "text/plain": [
       "(3156, 3)"
      ]
     },
     "execution_count": 34,
     "metadata": {},
     "output_type": "execute_result"
    }
   ],
   "source": [
    "#sales in every store by day\n",
    "bystore = bystore.groupby(['st_id', 'date'])['pr_sales_in_units'].sum().reset_index()\n",
    "bystore.shape"
   ]
  },
  {
   "cell_type": "code",
   "execution_count": 35,
   "metadata": {},
   "outputs": [
    {
     "data": {
      "image/png": "[encoded data removed]",
      "text/plain": [
       "<Figure size 640x480 with 1 Axes>"
      ]
     },
     "metadata": {},
     "output_type": "display_data"
    }
   ],
   "source": [
    "series_density = bystore['st_id'].value_counts()\n",
    "sns.histplot(series_density, bins=10)\n",
    "plt.title('Number of non-zero days in a stores time series');"
   ]
  },
  {
   "cell_type": "markdown",
   "metadata": {},
   "source": [
    "В одном магазине очень мало активных дней, в одном - почти все, в 8 магазинах - во все дни есть продажи"
   ]
  },
  {
   "cell_type": "code",
   "execution_count": 36,
   "metadata": {},
   "outputs": [
    {
     "data": {
      "text/plain": [
       "st_id\n",
       "084a8a9aa8cced9175bd07bc44998e75     31\n",
       "bd470ca955d9497bbcb808e59952fffc    309\n",
       "16a5cdae362b8d27a1d8f8c7b78b4330    352\n",
       "1ecfb463472ec9115b10c292ef8bc986    352\n",
       "42a0e188f5033bc65bf8d78622277c4e    352\n",
       "53e19f3dbb211f20b20b45668303c1b6    352\n",
       "6364d3f0f495b6ab9dcf8d3b5c6e0b01    352\n",
       "c81e728d9d4c2f636f067f89cc14862c    352\n",
       "f7e6c85504ce6e82442c770f7c8606f0    352\n",
       "fa7cdfad1a5aaf8370ebeda47a1ff1c3    352\n",
       "Name: count, dtype: int64"
      ]
     },
     "execution_count": 36,
     "metadata": {},
     "output_type": "execute_result"
    }
   ],
   "source": [
    "bystore['st_id'].value_counts().sort_values()"
   ]
  },
  {
   "cell_type": "code",
   "execution_count": 37,
   "metadata": {},
   "outputs": [
    {
     "data": {
      "text/html": [
       "<div>\n",
       "<style scoped>\n",
       "    .dataframe tbody tr th:only-of-type {\n",
       "        vertical-align: middle;\n",
       "    }\n",
       "\n",
       "    .dataframe tbody tr th {\n",
       "        vertical-align: top;\n",
       "    }\n",
       "\n",
       "    .dataframe thead th {\n",
       "        text-align: right;\n",
       "    }\n",
       "</style>\n",
       "<table border=\"1\" class=\"dataframe\">\n",
       "  <thead>\n",
       "    <tr style=\"text-align: right;\">\n",
       "      <th></th>\n",
       "      <th>st_id</th>\n",
       "      <th>date</th>\n",
       "      <th>pr_sales_in_units</th>\n",
       "    </tr>\n",
       "  </thead>\n",
       "  <tbody>\n",
       "    <tr>\n",
       "      <th>0</th>\n",
       "      <td>084a8a9aa8cced9175bd07bc44998e75</td>\n",
       "      <td>2023-03-26</td>\n",
       "      <td>3.0</td>\n",
       "    </tr>\n",
       "    <tr>\n",
       "      <th>1</th>\n",
       "      <td>084a8a9aa8cced9175bd07bc44998e75</td>\n",
       "      <td>2023-03-27</td>\n",
       "      <td>1.0</td>\n",
       "    </tr>\n",
       "    <tr>\n",
       "      <th>2</th>\n",
       "      <td>084a8a9aa8cced9175bd07bc44998e75</td>\n",
       "      <td>2023-03-30</td>\n",
       "      <td>3.0</td>\n",
       "    </tr>\n",
       "    <tr>\n",
       "      <th>3</th>\n",
       "      <td>084a8a9aa8cced9175bd07bc44998e75</td>\n",
       "      <td>2023-04-01</td>\n",
       "      <td>3.0</td>\n",
       "    </tr>\n",
       "    <tr>\n",
       "      <th>4</th>\n",
       "      <td>084a8a9aa8cced9175bd07bc44998e75</td>\n",
       "      <td>2023-04-02</td>\n",
       "      <td>2.0</td>\n",
       "    </tr>\n",
       "    <tr>\n",
       "      <th>5</th>\n",
       "      <td>084a8a9aa8cced9175bd07bc44998e75</td>\n",
       "      <td>2023-04-04</td>\n",
       "      <td>2.0</td>\n",
       "    </tr>\n",
       "    <tr>\n",
       "      <th>6</th>\n",
       "      <td>084a8a9aa8cced9175bd07bc44998e75</td>\n",
       "      <td>2023-04-06</td>\n",
       "      <td>1.0</td>\n",
       "    </tr>\n",
       "    <tr>\n",
       "      <th>7</th>\n",
       "      <td>084a8a9aa8cced9175bd07bc44998e75</td>\n",
       "      <td>2023-04-07</td>\n",
       "      <td>3.0</td>\n",
       "    </tr>\n",
       "    <tr>\n",
       "      <th>8</th>\n",
       "      <td>084a8a9aa8cced9175bd07bc44998e75</td>\n",
       "      <td>2023-04-10</td>\n",
       "      <td>1.0</td>\n",
       "    </tr>\n",
       "    <tr>\n",
       "      <th>9</th>\n",
       "      <td>084a8a9aa8cced9175bd07bc44998e75</td>\n",
       "      <td>2023-04-11</td>\n",
       "      <td>2.0</td>\n",
       "    </tr>\n",
       "    <tr>\n",
       "      <th>10</th>\n",
       "      <td>084a8a9aa8cced9175bd07bc44998e75</td>\n",
       "      <td>2023-04-12</td>\n",
       "      <td>1.0</td>\n",
       "    </tr>\n",
       "    <tr>\n",
       "      <th>11</th>\n",
       "      <td>084a8a9aa8cced9175bd07bc44998e75</td>\n",
       "      <td>2023-04-15</td>\n",
       "      <td>2.0</td>\n",
       "    </tr>\n",
       "    <tr>\n",
       "      <th>12</th>\n",
       "      <td>084a8a9aa8cced9175bd07bc44998e75</td>\n",
       "      <td>2023-04-25</td>\n",
       "      <td>1.0</td>\n",
       "    </tr>\n",
       "    <tr>\n",
       "      <th>13</th>\n",
       "      <td>084a8a9aa8cced9175bd07bc44998e75</td>\n",
       "      <td>2023-04-26</td>\n",
       "      <td>1.0</td>\n",
       "    </tr>\n",
       "    <tr>\n",
       "      <th>14</th>\n",
       "      <td>084a8a9aa8cced9175bd07bc44998e75</td>\n",
       "      <td>2023-04-28</td>\n",
       "      <td>1.0</td>\n",
       "    </tr>\n",
       "    <tr>\n",
       "      <th>15</th>\n",
       "      <td>084a8a9aa8cced9175bd07bc44998e75</td>\n",
       "      <td>2023-04-29</td>\n",
       "      <td>2.0</td>\n",
       "    </tr>\n",
       "    <tr>\n",
       "      <th>16</th>\n",
       "      <td>084a8a9aa8cced9175bd07bc44998e75</td>\n",
       "      <td>2023-05-01</td>\n",
       "      <td>2.0</td>\n",
       "    </tr>\n",
       "    <tr>\n",
       "      <th>17</th>\n",
       "      <td>084a8a9aa8cced9175bd07bc44998e75</td>\n",
       "      <td>2023-05-06</td>\n",
       "      <td>3.0</td>\n",
       "    </tr>\n",
       "    <tr>\n",
       "      <th>18</th>\n",
       "      <td>084a8a9aa8cced9175bd07bc44998e75</td>\n",
       "      <td>2023-05-08</td>\n",
       "      <td>1.0</td>\n",
       "    </tr>\n",
       "    <tr>\n",
       "      <th>19</th>\n",
       "      <td>084a8a9aa8cced9175bd07bc44998e75</td>\n",
       "      <td>2023-05-09</td>\n",
       "      <td>3.0</td>\n",
       "    </tr>\n",
       "    <tr>\n",
       "      <th>20</th>\n",
       "      <td>084a8a9aa8cced9175bd07bc44998e75</td>\n",
       "      <td>2023-05-17</td>\n",
       "      <td>1.0</td>\n",
       "    </tr>\n",
       "    <tr>\n",
       "      <th>21</th>\n",
       "      <td>084a8a9aa8cced9175bd07bc44998e75</td>\n",
       "      <td>2023-05-24</td>\n",
       "      <td>1.0</td>\n",
       "    </tr>\n",
       "    <tr>\n",
       "      <th>22</th>\n",
       "      <td>084a8a9aa8cced9175bd07bc44998e75</td>\n",
       "      <td>2023-06-01</td>\n",
       "      <td>1.0</td>\n",
       "    </tr>\n",
       "    <tr>\n",
       "      <th>23</th>\n",
       "      <td>084a8a9aa8cced9175bd07bc44998e75</td>\n",
       "      <td>2023-06-04</td>\n",
       "      <td>1.0</td>\n",
       "    </tr>\n",
       "    <tr>\n",
       "      <th>24</th>\n",
       "      <td>084a8a9aa8cced9175bd07bc44998e75</td>\n",
       "      <td>2023-06-05</td>\n",
       "      <td>1.0</td>\n",
       "    </tr>\n",
       "    <tr>\n",
       "      <th>25</th>\n",
       "      <td>084a8a9aa8cced9175bd07bc44998e75</td>\n",
       "      <td>2023-06-07</td>\n",
       "      <td>1.0</td>\n",
       "    </tr>\n",
       "    <tr>\n",
       "      <th>26</th>\n",
       "      <td>084a8a9aa8cced9175bd07bc44998e75</td>\n",
       "      <td>2023-06-11</td>\n",
       "      <td>1.0</td>\n",
       "    </tr>\n",
       "    <tr>\n",
       "      <th>27</th>\n",
       "      <td>084a8a9aa8cced9175bd07bc44998e75</td>\n",
       "      <td>2023-06-20</td>\n",
       "      <td>1.0</td>\n",
       "    </tr>\n",
       "    <tr>\n",
       "      <th>28</th>\n",
       "      <td>084a8a9aa8cced9175bd07bc44998e75</td>\n",
       "      <td>2023-06-24</td>\n",
       "      <td>1.0</td>\n",
       "    </tr>\n",
       "    <tr>\n",
       "      <th>29</th>\n",
       "      <td>084a8a9aa8cced9175bd07bc44998e75</td>\n",
       "      <td>2023-06-25</td>\n",
       "      <td>1.0</td>\n",
       "    </tr>\n",
       "    <tr>\n",
       "      <th>30</th>\n",
       "      <td>084a8a9aa8cced9175bd07bc44998e75</td>\n",
       "      <td>2023-06-29</td>\n",
       "      <td>1.0</td>\n",
       "    </tr>\n",
       "  </tbody>\n",
       "</table>\n",
       "</div>"
      ],
      "text/plain": [
       "                               st_id       date  pr_sales_in_units\n",
       "0   084a8a9aa8cced9175bd07bc44998e75 2023-03-26                3.0\n",
       "1   084a8a9aa8cced9175bd07bc44998e75 2023-03-27                1.0\n",
       "2   084a8a9aa8cced9175bd07bc44998e75 2023-03-30                3.0\n",
       "3   084a8a9aa8cced9175bd07bc44998e75 2023-04-01                3.0\n",
       "4   084a8a9aa8cced9175bd07bc44998e75 2023-04-02                2.0\n",
       "5   084a8a9aa8cced9175bd07bc44998e75 2023-04-04                2.0\n",
       "6   084a8a9aa8cced9175bd07bc44998e75 2023-04-06                1.0\n",
       "7   084a8a9aa8cced9175bd07bc44998e75 2023-04-07                3.0\n",
       "8   084a8a9aa8cced9175bd07bc44998e75 2023-04-10                1.0\n",
       "9   084a8a9aa8cced9175bd07bc44998e75 2023-04-11                2.0\n",
       "10  084a8a9aa8cced9175bd07bc44998e75 2023-04-12                1.0\n",
       "11  084a8a9aa8cced9175bd07bc44998e75 2023-04-15                2.0\n",
       "12  084a8a9aa8cced9175bd07bc44998e75 2023-04-25                1.0\n",
       "13  084a8a9aa8cced9175bd07bc44998e75 2023-04-26                1.0\n",
       "14  084a8a9aa8cced9175bd07bc44998e75 2023-04-28                1.0\n",
       "15  084a8a9aa8cced9175bd07bc44998e75 2023-04-29                2.0\n",
       "16  084a8a9aa8cced9175bd07bc44998e75 2023-05-01                2.0\n",
       "17  084a8a9aa8cced9175bd07bc44998e75 2023-05-06                3.0\n",
       "18  084a8a9aa8cced9175bd07bc44998e75 2023-05-08                1.0\n",
       "19  084a8a9aa8cced9175bd07bc44998e75 2023-05-09                3.0\n",
       "20  084a8a9aa8cced9175bd07bc44998e75 2023-05-17                1.0\n",
       "21  084a8a9aa8cced9175bd07bc44998e75 2023-05-24                1.0\n",
       "22  084a8a9aa8cced9175bd07bc44998e75 2023-06-01                1.0\n",
       "23  084a8a9aa8cced9175bd07bc44998e75 2023-06-04                1.0\n",
       "24  084a8a9aa8cced9175bd07bc44998e75 2023-06-05                1.0\n",
       "25  084a8a9aa8cced9175bd07bc44998e75 2023-06-07                1.0\n",
       "26  084a8a9aa8cced9175bd07bc44998e75 2023-06-11                1.0\n",
       "27  084a8a9aa8cced9175bd07bc44998e75 2023-06-20                1.0\n",
       "28  084a8a9aa8cced9175bd07bc44998e75 2023-06-24                1.0\n",
       "29  084a8a9aa8cced9175bd07bc44998e75 2023-06-25                1.0\n",
       "30  084a8a9aa8cced9175bd07bc44998e75 2023-06-29                1.0"
      ]
     },
     "execution_count": 37,
     "metadata": {},
     "output_type": "execute_result"
    }
   ],
   "source": [
    "bystore[bystore['st_id'] == '084a8a9aa8cced9175bd07bc44998e75']"
   ]
  },
  {
   "cell_type": "code",
   "execution_count": 38,
   "metadata": {},
   "outputs": [
    {
     "data": {
      "text/html": [
       "<div>\n",
       "<style scoped>\n",
       "    .dataframe tbody tr th:only-of-type {\n",
       "        vertical-align: middle;\n",
       "    }\n",
       "\n",
       "    .dataframe tbody tr th {\n",
       "        vertical-align: top;\n",
       "    }\n",
       "\n",
       "    .dataframe thead th {\n",
       "        text-align: right;\n",
       "    }\n",
       "</style>\n",
       "<table border=\"1\" class=\"dataframe\">\n",
       "  <thead>\n",
       "    <tr style=\"text-align: right;\">\n",
       "      <th></th>\n",
       "      <th>st_id</th>\n",
       "      <th>pr_sku_id</th>\n",
       "      <th>date</th>\n",
       "      <th>target</th>\n",
       "    </tr>\n",
       "  </thead>\n",
       "  <tbody>\n",
       "  </tbody>\n",
       "</table>\n",
       "</div>"
      ],
      "text/plain": [
       "Empty DataFrame\n",
       "Columns: [st_id, pr_sku_id, date, target]\n",
       "Index: []"
      ]
     },
     "execution_count": 38,
     "metadata": {},
     "output_type": "execute_result"
    }
   ],
   "source": [
    "sample_sub = pd.read_csv('sales_submission.csv')\n",
    "sample_sub[sample_sub['st_id'] == '084a8a9aa8cced9175bd07bc44998e75']"
   ]
  },
  {
   "cell_type": "markdown",
   "metadata": {},
   "source": [
    "В сабмите этого магазина нет, продажи маленькие и закончились какое-то время назад. Можно его удалить, но я оставлю для общих сумм, раз не удалила сразу. Я думаю, цифры слишком маленькие, чтобы на что-то влиять"
   ]
  },
  {
   "cell_type": "code",
   "execution_count": 39,
   "metadata": {},
   "outputs": [
    {
     "data": {
      "text/html": [
       "<div>\n",
       "<style scoped>\n",
       "    .dataframe tbody tr th:only-of-type {\n",
       "        vertical-align: middle;\n",
       "    }\n",
       "\n",
       "    .dataframe tbody tr th {\n",
       "        vertical-align: top;\n",
       "    }\n",
       "\n",
       "    .dataframe thead th {\n",
       "        text-align: right;\n",
       "    }\n",
       "</style>\n",
       "<table border=\"1\" class=\"dataframe\">\n",
       "  <thead>\n",
       "    <tr style=\"text-align: right;\">\n",
       "      <th></th>\n",
       "      <th>st_id</th>\n",
       "      <th>date</th>\n",
       "      <th>store</th>\n",
       "    </tr>\n",
       "  </thead>\n",
       "  <tbody>\n",
       "    <tr>\n",
       "      <th>0</th>\n",
       "      <td>084a8a9aa8cced9175bd07bc44998e75</td>\n",
       "      <td>2022-08-01</td>\n",
       "      <td>0.0</td>\n",
       "    </tr>\n",
       "    <tr>\n",
       "      <th>1</th>\n",
       "      <td>084a8a9aa8cced9175bd07bc44998e75</td>\n",
       "      <td>2022-08-02</td>\n",
       "      <td>0.0</td>\n",
       "    </tr>\n",
       "    <tr>\n",
       "      <th>2</th>\n",
       "      <td>084a8a9aa8cced9175bd07bc44998e75</td>\n",
       "      <td>2022-08-03</td>\n",
       "      <td>0.0</td>\n",
       "    </tr>\n",
       "    <tr>\n",
       "      <th>3</th>\n",
       "      <td>084a8a9aa8cced9175bd07bc44998e75</td>\n",
       "      <td>2022-08-04</td>\n",
       "      <td>0.0</td>\n",
       "    </tr>\n",
       "    <tr>\n",
       "      <th>4</th>\n",
       "      <td>084a8a9aa8cced9175bd07bc44998e75</td>\n",
       "      <td>2022-08-05</td>\n",
       "      <td>0.0</td>\n",
       "    </tr>\n",
       "  </tbody>\n",
       "</table>\n",
       "</div>"
      ],
      "text/plain": [
       "                              st_id       date  store\n",
       "0  084a8a9aa8cced9175bd07bc44998e75 2022-08-01    0.0\n",
       "1  084a8a9aa8cced9175bd07bc44998e75 2022-08-02    0.0\n",
       "2  084a8a9aa8cced9175bd07bc44998e75 2022-08-03    0.0\n",
       "3  084a8a9aa8cced9175bd07bc44998e75 2022-08-04    0.0\n",
       "4  084a8a9aa8cced9175bd07bc44998e75 2022-08-05    0.0"
      ]
     },
     "execution_count": 39,
     "metadata": {},
     "output_type": "execute_result"
    }
   ],
   "source": [
    "#insert zeros for missing dates\n",
    "bystore = bystore.sort_values(by='date')\n",
    "byst_pivoted = bystore.pivot(index='st_id', columns='date', values='pr_sales_in_units').fillna(0)\n",
    "\n",
    "byst_long = byst_pivoted.stack().reset_index()\n",
    "byst_long = byst_long.rename(columns={'level_1': 'date', 0: 'store'})\n",
    "byst_long.head()"
   ]
  },
  {
   "cell_type": "code",
   "execution_count": 40,
   "metadata": {},
   "outputs": [
    {
     "data": {
      "text/plain": [
       "((3520, 3), 3520)"
      ]
     },
     "execution_count": 40,
     "metadata": {},
     "output_type": "execute_result"
    }
   ],
   "source": [
    "#assert number of lines equals 10 stores * 352 days\n",
    "byst_long.shape, 10*352"
   ]
  },
  {
   "cell_type": "code",
   "execution_count": 41,
   "metadata": {},
   "outputs": [
    {
     "data": {
      "text/html": [
       "<div>\n",
       "<style scoped>\n",
       "    .dataframe tbody tr th:only-of-type {\n",
       "        vertical-align: middle;\n",
       "    }\n",
       "\n",
       "    .dataframe tbody tr th {\n",
       "        vertical-align: top;\n",
       "    }\n",
       "\n",
       "    .dataframe thead th {\n",
       "        text-align: right;\n",
       "    }\n",
       "</style>\n",
       "<table border=\"1\" class=\"dataframe\">\n",
       "  <thead>\n",
       "    <tr style=\"text-align: right;\">\n",
       "      <th></th>\n",
       "      <th></th>\n",
       "      <th>store</th>\n",
       "      <th>store_lag_1</th>\n",
       "      <th>store_lag_2</th>\n",
       "      <th>store_lag_3</th>\n",
       "      <th>store_lag_4</th>\n",
       "      <th>store_lag_5</th>\n",
       "      <th>store_lag_6</th>\n",
       "      <th>store_lag_7</th>\n",
       "      <th>store_lag_8</th>\n",
       "      <th>store_lag_9</th>\n",
       "      <th>...</th>\n",
       "      <th>store_lag_12</th>\n",
       "      <th>store_lag_13</th>\n",
       "      <th>store_lag_14</th>\n",
       "      <th>store_lag_15</th>\n",
       "      <th>store_lag_16</th>\n",
       "      <th>store_lag_17</th>\n",
       "      <th>store_lag_18</th>\n",
       "      <th>store_lag_19</th>\n",
       "      <th>store_lag_20</th>\n",
       "      <th>store_lag_21</th>\n",
       "    </tr>\n",
       "    <tr>\n",
       "      <th>st_id</th>\n",
       "      <th>date</th>\n",
       "      <th></th>\n",
       "      <th></th>\n",
       "      <th></th>\n",
       "      <th></th>\n",
       "      <th></th>\n",
       "      <th></th>\n",
       "      <th></th>\n",
       "      <th></th>\n",
       "      <th></th>\n",
       "      <th></th>\n",
       "      <th></th>\n",
       "      <th></th>\n",
       "      <th></th>\n",
       "      <th></th>\n",
       "      <th></th>\n",
       "      <th></th>\n",
       "      <th></th>\n",
       "      <th></th>\n",
       "      <th></th>\n",
       "      <th></th>\n",
       "      <th></th>\n",
       "    </tr>\n",
       "  </thead>\n",
       "  <tbody>\n",
       "    <tr>\n",
       "      <th rowspan=\"5\" valign=\"top\">084a8a9aa8cced9175bd07bc44998e75</th>\n",
       "      <th>2022-08-01</th>\n",
       "      <td>0.0</td>\n",
       "      <td>NaN</td>\n",
       "      <td>NaN</td>\n",
       "      <td>NaN</td>\n",
       "      <td>NaN</td>\n",
       "      <td>NaN</td>\n",
       "      <td>NaN</td>\n",
       "      <td>NaN</td>\n",
       "      <td>NaN</td>\n",
       "      <td>NaN</td>\n",
       "      <td>...</td>\n",
       "      <td>NaN</td>\n",
       "      <td>NaN</td>\n",
       "      <td>NaN</td>\n",
       "      <td>NaN</td>\n",
       "      <td>NaN</td>\n",
       "      <td>NaN</td>\n",
       "      <td>NaN</td>\n",
       "      <td>NaN</td>\n",
       "      <td>NaN</td>\n",
       "      <td>NaN</td>\n",
       "    </tr>\n",
       "    <tr>\n",
       "      <th>2022-08-02</th>\n",
       "      <td>0.0</td>\n",
       "      <td>0.0</td>\n",
       "      <td>NaN</td>\n",
       "      <td>NaN</td>\n",
       "      <td>NaN</td>\n",
       "      <td>NaN</td>\n",
       "      <td>NaN</td>\n",
       "      <td>NaN</td>\n",
       "      <td>NaN</td>\n",
       "      <td>NaN</td>\n",
       "      <td>...</td>\n",
       "      <td>NaN</td>\n",
       "      <td>NaN</td>\n",
       "      <td>NaN</td>\n",
       "      <td>NaN</td>\n",
       "      <td>NaN</td>\n",
       "      <td>NaN</td>\n",
       "      <td>NaN</td>\n",
       "      <td>NaN</td>\n",
       "      <td>NaN</td>\n",
       "      <td>NaN</td>\n",
       "    </tr>\n",
       "    <tr>\n",
       "      <th>2022-08-03</th>\n",
       "      <td>0.0</td>\n",
       "      <td>0.0</td>\n",
       "      <td>0.0</td>\n",
       "      <td>NaN</td>\n",
       "      <td>NaN</td>\n",
       "      <td>NaN</td>\n",
       "      <td>NaN</td>\n",
       "      <td>NaN</td>\n",
       "      <td>NaN</td>\n",
       "      <td>NaN</td>\n",
       "      <td>...</td>\n",
       "      <td>NaN</td>\n",
       "      <td>NaN</td>\n",
       "      <td>NaN</td>\n",
       "      <td>NaN</td>\n",
       "      <td>NaN</td>\n",
       "      <td>NaN</td>\n",
       "      <td>NaN</td>\n",
       "      <td>NaN</td>\n",
       "      <td>NaN</td>\n",
       "      <td>NaN</td>\n",
       "    </tr>\n",
       "    <tr>\n",
       "      <th>2022-08-04</th>\n",
       "      <td>0.0</td>\n",
       "      <td>0.0</td>\n",
       "      <td>0.0</td>\n",
       "      <td>0.0</td>\n",
       "      <td>NaN</td>\n",
       "      <td>NaN</td>\n",
       "      <td>NaN</td>\n",
       "      <td>NaN</td>\n",
       "      <td>NaN</td>\n",
       "      <td>NaN</td>\n",
       "      <td>...</td>\n",
       "      <td>NaN</td>\n",
       "      <td>NaN</td>\n",
       "      <td>NaN</td>\n",
       "      <td>NaN</td>\n",
       "      <td>NaN</td>\n",
       "      <td>NaN</td>\n",
       "      <td>NaN</td>\n",
       "      <td>NaN</td>\n",
       "      <td>NaN</td>\n",
       "      <td>NaN</td>\n",
       "    </tr>\n",
       "    <tr>\n",
       "      <th>2022-08-05</th>\n",
       "      <td>0.0</td>\n",
       "      <td>0.0</td>\n",
       "      <td>0.0</td>\n",
       "      <td>0.0</td>\n",
       "      <td>0.0</td>\n",
       "      <td>NaN</td>\n",
       "      <td>NaN</td>\n",
       "      <td>NaN</td>\n",
       "      <td>NaN</td>\n",
       "      <td>NaN</td>\n",
       "      <td>...</td>\n",
       "      <td>NaN</td>\n",
       "      <td>NaN</td>\n",
       "      <td>NaN</td>\n",
       "      <td>NaN</td>\n",
       "      <td>NaN</td>\n",
       "      <td>NaN</td>\n",
       "      <td>NaN</td>\n",
       "      <td>NaN</td>\n",
       "      <td>NaN</td>\n",
       "      <td>NaN</td>\n",
       "    </tr>\n",
       "  </tbody>\n",
       "</table>\n",
       "<p>5 rows × 22 columns</p>\n",
       "</div>"
      ],
      "text/plain": [
       "                                             store  store_lag_1  store_lag_2  \\\n",
       "st_id                            date                                          \n",
       "084a8a9aa8cced9175bd07bc44998e75 2022-08-01    0.0          NaN          NaN   \n",
       "                                 2022-08-02    0.0          0.0          NaN   \n",
       "                                 2022-08-03    0.0          0.0          0.0   \n",
       "                                 2022-08-04    0.0          0.0          0.0   \n",
       "                                 2022-08-05    0.0          0.0          0.0   \n",
       "\n",
       "                                             store_lag_3  store_lag_4  \\\n",
       "st_id                            date                                   \n",
       "084a8a9aa8cced9175bd07bc44998e75 2022-08-01          NaN          NaN   \n",
       "                                 2022-08-02          NaN          NaN   \n",
       "                                 2022-08-03          NaN          NaN   \n",
       "                                 2022-08-04          0.0          NaN   \n",
       "                                 2022-08-05          0.0          0.0   \n",
       "\n",
       "                                             store_lag_5  store_lag_6  \\\n",
       "st_id                            date                                   \n",
       "084a8a9aa8cced9175bd07bc44998e75 2022-08-01          NaN          NaN   \n",
       "                                 2022-08-02          NaN          NaN   \n",
       "                                 2022-08-03          NaN          NaN   \n",
       "                                 2022-08-04          NaN          NaN   \n",
       "                                 2022-08-05          NaN          NaN   \n",
       "\n",
       "                                             store_lag_7  store_lag_8  \\\n",
       "st_id                            date                                   \n",
       "084a8a9aa8cced9175bd07bc44998e75 2022-08-01          NaN          NaN   \n",
       "                                 2022-08-02          NaN          NaN   \n",
       "                                 2022-08-03          NaN          NaN   \n",
       "                                 2022-08-04          NaN          NaN   \n",
       "                                 2022-08-05          NaN          NaN   \n",
       "\n",
       "                                             store_lag_9  ...  store_lag_12  \\\n",
       "st_id                            date                     ...                 \n",
       "084a8a9aa8cced9175bd07bc44998e75 2022-08-01          NaN  ...           NaN   \n",
       "                                 2022-08-02          NaN  ...           NaN   \n",
       "                                 2022-08-03          NaN  ...           NaN   \n",
       "                                 2022-08-04          NaN  ...           NaN   \n",
       "                                 2022-08-05          NaN  ...           NaN   \n",
       "\n",
       "                                             store_lag_13  store_lag_14  \\\n",
       "st_id                            date                                     \n",
       "084a8a9aa8cced9175bd07bc44998e75 2022-08-01           NaN           NaN   \n",
       "                                 2022-08-02           NaN           NaN   \n",
       "                                 2022-08-03           NaN           NaN   \n",
       "                                 2022-08-04           NaN           NaN   \n",
       "                                 2022-08-05           NaN           NaN   \n",
       "\n",
       "                                             store_lag_15  store_lag_16  \\\n",
       "st_id                            date                                     \n",
       "084a8a9aa8cced9175bd07bc44998e75 2022-08-01           NaN           NaN   \n",
       "                                 2022-08-02           NaN           NaN   \n",
       "                                 2022-08-03           NaN           NaN   \n",
       "                                 2022-08-04           NaN           NaN   \n",
       "                                 2022-08-05           NaN           NaN   \n",
       "\n",
       "                                             store_lag_17  store_lag_18  \\\n",
       "st_id                            date                                     \n",
       "084a8a9aa8cced9175bd07bc44998e75 2022-08-01           NaN           NaN   \n",
       "                                 2022-08-02           NaN           NaN   \n",
       "                                 2022-08-03           NaN           NaN   \n",
       "                                 2022-08-04           NaN           NaN   \n",
       "                                 2022-08-05           NaN           NaN   \n",
       "\n",
       "                                             store_lag_19  store_lag_20  \\\n",
       "st_id                            date                                     \n",
       "084a8a9aa8cced9175bd07bc44998e75 2022-08-01           NaN           NaN   \n",
       "                                 2022-08-02           NaN           NaN   \n",
       "                                 2022-08-03           NaN           NaN   \n",
       "                                 2022-08-04           NaN           NaN   \n",
       "                                 2022-08-05           NaN           NaN   \n",
       "\n",
       "                                             store_lag_21  \n",
       "st_id                            date                      \n",
       "084a8a9aa8cced9175bd07bc44998e75 2022-08-01           NaN  \n",
       "                                 2022-08-02           NaN  \n",
       "                                 2022-08-03           NaN  \n",
       "                                 2022-08-04           NaN  \n",
       "                                 2022-08-05           NaN  \n",
       "\n",
       "[5 rows x 22 columns]"
      ]
     },
     "execution_count": 41,
     "metadata": {},
     "output_type": "execute_result"
    }
   ],
   "source": [
    "#add lag columns\n",
    "shifted = byst_long.set_index(['st_id', 'date'])\n",
    "new = shifted.copy()\n",
    "\n",
    "for i in range(21):\n",
    "    shifted_i = shifted.groupby(level=\"st_id\").shift(i+1)\n",
    "    new = new.join(shifted_i.rename(columns=lambda x: x+f\"_lag_{i+1}\"))\n",
    "new.head()"
   ]
  },
  {
   "cell_type": "code",
   "execution_count": 42,
   "metadata": {},
   "outputs": [
    {
     "data": {
      "text/plain": [
       "(3310, 22)"
      ]
     },
     "execution_count": 42,
     "metadata": {},
     "output_type": "execute_result"
    }
   ],
   "source": [
    "#delete nans where there's no lag data (start of period)\n",
    "new['na_sum'] = new.isna().sum(axis=1)\n",
    "new = new[new['na_sum'] == 0]\n",
    "new = new.drop('na_sum', axis=1)\n",
    "new.shape"
   ]
  },
  {
   "cell_type": "code",
   "execution_count": 43,
   "metadata": {},
   "outputs": [
    {
     "data": {
      "text/html": [
       "<div>\n",
       "<style scoped>\n",
       "    .dataframe tbody tr th:only-of-type {\n",
       "        vertical-align: middle;\n",
       "    }\n",
       "\n",
       "    .dataframe tbody tr th {\n",
       "        vertical-align: top;\n",
       "    }\n",
       "\n",
       "    .dataframe thead th {\n",
       "        text-align: right;\n",
       "    }\n",
       "</style>\n",
       "<table border=\"1\" class=\"dataframe\">\n",
       "  <thead>\n",
       "    <tr style=\"text-align: right;\">\n",
       "      <th></th>\n",
       "      <th></th>\n",
       "      <th>store</th>\n",
       "      <th>store_lag_1</th>\n",
       "      <th>store_lag_2</th>\n",
       "      <th>store_lag_3</th>\n",
       "      <th>store_lag_4</th>\n",
       "      <th>store_lag_5</th>\n",
       "      <th>store_lag_6</th>\n",
       "      <th>store_lag_7</th>\n",
       "      <th>store_lag_8</th>\n",
       "      <th>store_lag_9</th>\n",
       "      <th>...</th>\n",
       "      <th>store_lag_12</th>\n",
       "      <th>store_lag_13</th>\n",
       "      <th>store_lag_14</th>\n",
       "      <th>store_lag_15</th>\n",
       "      <th>store_lag_16</th>\n",
       "      <th>store_lag_17</th>\n",
       "      <th>store_lag_18</th>\n",
       "      <th>store_lag_19</th>\n",
       "      <th>store_lag_20</th>\n",
       "      <th>store_lag_21</th>\n",
       "    </tr>\n",
       "    <tr>\n",
       "      <th>st_id</th>\n",
       "      <th>date</th>\n",
       "      <th></th>\n",
       "      <th></th>\n",
       "      <th></th>\n",
       "      <th></th>\n",
       "      <th></th>\n",
       "      <th></th>\n",
       "      <th></th>\n",
       "      <th></th>\n",
       "      <th></th>\n",
       "      <th></th>\n",
       "      <th></th>\n",
       "      <th></th>\n",
       "      <th></th>\n",
       "      <th></th>\n",
       "      <th></th>\n",
       "      <th></th>\n",
       "      <th></th>\n",
       "      <th></th>\n",
       "      <th></th>\n",
       "      <th></th>\n",
       "      <th></th>\n",
       "    </tr>\n",
       "  </thead>\n",
       "  <tbody>\n",
       "    <tr>\n",
       "      <th rowspan=\"3\" valign=\"top\">16a5cdae362b8d27a1d8f8c7b78b4330</th>\n",
       "      <th>2023-07-16</th>\n",
       "      <td>2688.0</td>\n",
       "      <td>3690.0</td>\n",
       "      <td>3837.0</td>\n",
       "      <td>3074.0</td>\n",
       "      <td>2053.0</td>\n",
       "      <td>2132.0</td>\n",
       "      <td>2049.0</td>\n",
       "      <td>2443.0</td>\n",
       "      <td>3398.0</td>\n",
       "      <td>3610.0</td>\n",
       "      <td>...</td>\n",
       "      <td>2153.0</td>\n",
       "      <td>1873.0</td>\n",
       "      <td>2576.0</td>\n",
       "      <td>3430.0</td>\n",
       "      <td>3149.0</td>\n",
       "      <td>2609.0</td>\n",
       "      <td>1859.0</td>\n",
       "      <td>1871.0</td>\n",
       "      <td>1873.0</td>\n",
       "      <td>2619.0</td>\n",
       "    </tr>\n",
       "    <tr>\n",
       "      <th>2023-07-17</th>\n",
       "      <td>1810.0</td>\n",
       "      <td>2688.0</td>\n",
       "      <td>3690.0</td>\n",
       "      <td>3837.0</td>\n",
       "      <td>3074.0</td>\n",
       "      <td>2053.0</td>\n",
       "      <td>2132.0</td>\n",
       "      <td>2049.0</td>\n",
       "      <td>2443.0</td>\n",
       "      <td>3398.0</td>\n",
       "      <td>...</td>\n",
       "      <td>2143.0</td>\n",
       "      <td>2153.0</td>\n",
       "      <td>1873.0</td>\n",
       "      <td>2576.0</td>\n",
       "      <td>3430.0</td>\n",
       "      <td>3149.0</td>\n",
       "      <td>2609.0</td>\n",
       "      <td>1859.0</td>\n",
       "      <td>1871.0</td>\n",
       "      <td>1873.0</td>\n",
       "    </tr>\n",
       "    <tr>\n",
       "      <th>2023-07-18</th>\n",
       "      <td>2161.0</td>\n",
       "      <td>1810.0</td>\n",
       "      <td>2688.0</td>\n",
       "      <td>3690.0</td>\n",
       "      <td>3837.0</td>\n",
       "      <td>3074.0</td>\n",
       "      <td>2053.0</td>\n",
       "      <td>2132.0</td>\n",
       "      <td>2049.0</td>\n",
       "      <td>2443.0</td>\n",
       "      <td>...</td>\n",
       "      <td>2442.0</td>\n",
       "      <td>2143.0</td>\n",
       "      <td>2153.0</td>\n",
       "      <td>1873.0</td>\n",
       "      <td>2576.0</td>\n",
       "      <td>3430.0</td>\n",
       "      <td>3149.0</td>\n",
       "      <td>2609.0</td>\n",
       "      <td>1859.0</td>\n",
       "      <td>1871.0</td>\n",
       "    </tr>\n",
       "    <tr>\n",
       "      <th rowspan=\"4\" valign=\"top\">1ecfb463472ec9115b10c292ef8bc986</th>\n",
       "      <th>2022-08-22</th>\n",
       "      <td>427.0</td>\n",
       "      <td>263.0</td>\n",
       "      <td>337.0</td>\n",
       "      <td>527.0</td>\n",
       "      <td>577.0</td>\n",
       "      <td>401.0</td>\n",
       "      <td>376.0</td>\n",
       "      <td>518.0</td>\n",
       "      <td>344.0</td>\n",
       "      <td>332.0</td>\n",
       "      <td>...</td>\n",
       "      <td>410.0</td>\n",
       "      <td>403.0</td>\n",
       "      <td>422.0</td>\n",
       "      <td>358.0</td>\n",
       "      <td>286.0</td>\n",
       "      <td>409.0</td>\n",
       "      <td>382.0</td>\n",
       "      <td>427.0</td>\n",
       "      <td>499.0</td>\n",
       "      <td>395.0</td>\n",
       "    </tr>\n",
       "    <tr>\n",
       "      <th>2022-08-23</th>\n",
       "      <td>485.0</td>\n",
       "      <td>427.0</td>\n",
       "      <td>263.0</td>\n",
       "      <td>337.0</td>\n",
       "      <td>527.0</td>\n",
       "      <td>577.0</td>\n",
       "      <td>401.0</td>\n",
       "      <td>376.0</td>\n",
       "      <td>518.0</td>\n",
       "      <td>344.0</td>\n",
       "      <td>...</td>\n",
       "      <td>341.0</td>\n",
       "      <td>410.0</td>\n",
       "      <td>403.0</td>\n",
       "      <td>422.0</td>\n",
       "      <td>358.0</td>\n",
       "      <td>286.0</td>\n",
       "      <td>409.0</td>\n",
       "      <td>382.0</td>\n",
       "      <td>427.0</td>\n",
       "      <td>499.0</td>\n",
       "    </tr>\n",
       "    <tr>\n",
       "      <th>2022-08-24</th>\n",
       "      <td>469.0</td>\n",
       "      <td>485.0</td>\n",
       "      <td>427.0</td>\n",
       "      <td>263.0</td>\n",
       "      <td>337.0</td>\n",
       "      <td>527.0</td>\n",
       "      <td>577.0</td>\n",
       "      <td>401.0</td>\n",
       "      <td>376.0</td>\n",
       "      <td>518.0</td>\n",
       "      <td>...</td>\n",
       "      <td>407.0</td>\n",
       "      <td>341.0</td>\n",
       "      <td>410.0</td>\n",
       "      <td>403.0</td>\n",
       "      <td>422.0</td>\n",
       "      <td>358.0</td>\n",
       "      <td>286.0</td>\n",
       "      <td>409.0</td>\n",
       "      <td>382.0</td>\n",
       "      <td>427.0</td>\n",
       "    </tr>\n",
       "    <tr>\n",
       "      <th>2022-08-25</th>\n",
       "      <td>402.0</td>\n",
       "      <td>469.0</td>\n",
       "      <td>485.0</td>\n",
       "      <td>427.0</td>\n",
       "      <td>263.0</td>\n",
       "      <td>337.0</td>\n",
       "      <td>527.0</td>\n",
       "      <td>577.0</td>\n",
       "      <td>401.0</td>\n",
       "      <td>376.0</td>\n",
       "      <td>...</td>\n",
       "      <td>332.0</td>\n",
       "      <td>407.0</td>\n",
       "      <td>341.0</td>\n",
       "      <td>410.0</td>\n",
       "      <td>403.0</td>\n",
       "      <td>422.0</td>\n",
       "      <td>358.0</td>\n",
       "      <td>286.0</td>\n",
       "      <td>409.0</td>\n",
       "      <td>382.0</td>\n",
       "    </tr>\n",
       "  </tbody>\n",
       "</table>\n",
       "<p>7 rows × 22 columns</p>\n",
       "</div>"
      ],
      "text/plain": [
       "                                              store  store_lag_1  store_lag_2  \\\n",
       "st_id                            date                                           \n",
       "16a5cdae362b8d27a1d8f8c7b78b4330 2023-07-16  2688.0       3690.0       3837.0   \n",
       "                                 2023-07-17  1810.0       2688.0       3690.0   \n",
       "                                 2023-07-18  2161.0       1810.0       2688.0   \n",
       "1ecfb463472ec9115b10c292ef8bc986 2022-08-22   427.0        263.0        337.0   \n",
       "                                 2022-08-23   485.0        427.0        263.0   \n",
       "                                 2022-08-24   469.0        485.0        427.0   \n",
       "                                 2022-08-25   402.0        469.0        485.0   \n",
       "\n",
       "                                             store_lag_3  store_lag_4  \\\n",
       "st_id                            date                                   \n",
       "16a5cdae362b8d27a1d8f8c7b78b4330 2023-07-16       3074.0       2053.0   \n",
       "                                 2023-07-17       3837.0       3074.0   \n",
       "                                 2023-07-18       3690.0       3837.0   \n",
       "1ecfb463472ec9115b10c292ef8bc986 2022-08-22        527.0        577.0   \n",
       "                                 2022-08-23        337.0        527.0   \n",
       "                                 2022-08-24        263.0        337.0   \n",
       "                                 2022-08-25        427.0        263.0   \n",
       "\n",
       "                                             store_lag_5  store_lag_6  \\\n",
       "st_id                            date                                   \n",
       "16a5cdae362b8d27a1d8f8c7b78b4330 2023-07-16       2132.0       2049.0   \n",
       "                                 2023-07-17       2053.0       2132.0   \n",
       "                                 2023-07-18       3074.0       2053.0   \n",
       "1ecfb463472ec9115b10c292ef8bc986 2022-08-22        401.0        376.0   \n",
       "                                 2022-08-23        577.0        401.0   \n",
       "                                 2022-08-24        527.0        577.0   \n",
       "                                 2022-08-25        337.0        527.0   \n",
       "\n",
       "                                             store_lag_7  store_lag_8  \\\n",
       "st_id                            date                                   \n",
       "16a5cdae362b8d27a1d8f8c7b78b4330 2023-07-16       2443.0       3398.0   \n",
       "                                 2023-07-17       2049.0       2443.0   \n",
       "                                 2023-07-18       2132.0       2049.0   \n",
       "1ecfb463472ec9115b10c292ef8bc986 2022-08-22        518.0        344.0   \n",
       "                                 2022-08-23        376.0        518.0   \n",
       "                                 2022-08-24        401.0        376.0   \n",
       "                                 2022-08-25        577.0        401.0   \n",
       "\n",
       "                                             store_lag_9  ...  store_lag_12  \\\n",
       "st_id                            date                     ...                 \n",
       "16a5cdae362b8d27a1d8f8c7b78b4330 2023-07-16       3610.0  ...        2153.0   \n",
       "                                 2023-07-17       3398.0  ...        2143.0   \n",
       "                                 2023-07-18       2443.0  ...        2442.0   \n",
       "1ecfb463472ec9115b10c292ef8bc986 2022-08-22        332.0  ...         410.0   \n",
       "                                 2022-08-23        344.0  ...         341.0   \n",
       "                                 2022-08-24        518.0  ...         407.0   \n",
       "                                 2022-08-25        376.0  ...         332.0   \n",
       "\n",
       "                                             store_lag_13  store_lag_14  \\\n",
       "st_id                            date                                     \n",
       "16a5cdae362b8d27a1d8f8c7b78b4330 2023-07-16        1873.0        2576.0   \n",
       "                                 2023-07-17        2153.0        1873.0   \n",
       "                                 2023-07-18        2143.0        2153.0   \n",
       "1ecfb463472ec9115b10c292ef8bc986 2022-08-22         403.0         422.0   \n",
       "                                 2022-08-23         410.0         403.0   \n",
       "                                 2022-08-24         341.0         410.0   \n",
       "                                 2022-08-25         407.0         341.0   \n",
       "\n",
       "                                             store_lag_15  store_lag_16  \\\n",
       "st_id                            date                                     \n",
       "16a5cdae362b8d27a1d8f8c7b78b4330 2023-07-16        3430.0        3149.0   \n",
       "                                 2023-07-17        2576.0        3430.0   \n",
       "                                 2023-07-18        1873.0        2576.0   \n",
       "1ecfb463472ec9115b10c292ef8bc986 2022-08-22         358.0         286.0   \n",
       "                                 2022-08-23         422.0         358.0   \n",
       "                                 2022-08-24         403.0         422.0   \n",
       "                                 2022-08-25         410.0         403.0   \n",
       "\n",
       "                                             store_lag_17  store_lag_18  \\\n",
       "st_id                            date                                     \n",
       "16a5cdae362b8d27a1d8f8c7b78b4330 2023-07-16        2609.0        1859.0   \n",
       "                                 2023-07-17        3149.0        2609.0   \n",
       "                                 2023-07-18        3430.0        3149.0   \n",
       "1ecfb463472ec9115b10c292ef8bc986 2022-08-22         409.0         382.0   \n",
       "                                 2022-08-23         286.0         409.0   \n",
       "                                 2022-08-24         358.0         286.0   \n",
       "                                 2022-08-25         422.0         358.0   \n",
       "\n",
       "                                             store_lag_19  store_lag_20  \\\n",
       "st_id                            date                                     \n",
       "16a5cdae362b8d27a1d8f8c7b78b4330 2023-07-16        1871.0        1873.0   \n",
       "                                 2023-07-17        1859.0        1871.0   \n",
       "                                 2023-07-18        2609.0        1859.0   \n",
       "1ecfb463472ec9115b10c292ef8bc986 2022-08-22         427.0         499.0   \n",
       "                                 2022-08-23         382.0         427.0   \n",
       "                                 2022-08-24         409.0         382.0   \n",
       "                                 2022-08-25         286.0         409.0   \n",
       "\n",
       "                                             store_lag_21  \n",
       "st_id                            date                      \n",
       "16a5cdae362b8d27a1d8f8c7b78b4330 2023-07-16        2619.0  \n",
       "                                 2023-07-17        1873.0  \n",
       "                                 2023-07-18        1871.0  \n",
       "1ecfb463472ec9115b10c292ef8bc986 2022-08-22         395.0  \n",
       "                                 2022-08-23         499.0  \n",
       "                                 2022-08-24         427.0  \n",
       "                                 2022-08-25         382.0  \n",
       "\n",
       "[7 rows x 22 columns]"
      ]
     },
     "execution_count": 43,
     "metadata": {},
     "output_type": "execute_result"
    }
   ],
   "source": [
    "#look at the edge between units to make sure lags don't mix up\n",
    "new[659:666]"
   ]
  },
  {
   "cell_type": "code",
   "execution_count": 44,
   "metadata": {},
   "outputs": [],
   "source": [
    "bystore = new.reset_index()"
   ]
  },
  {
   "cell_type": "code",
   "execution_count": 45,
   "metadata": {},
   "outputs": [
    {
     "data": {
      "text/plain": [
       "(387062, 48)"
      ]
     },
     "execution_count": 45,
     "metadata": {},
     "output_type": "execute_result"
    }
   ],
   "source": [
    "#add store lags\n",
    "with_store_lags = with_lags.merge(bystore, on=['st_id', 'date'], how='left')\n",
    "with_store_lags.shape"
   ]
  },
  {
   "cell_type": "code",
   "execution_count": 46,
   "metadata": {},
   "outputs": [],
   "source": [
    "#add features of day-of-week, day-of-month, week, month, season\n",
    "with_store_lags['dow'] = with_store_lags['date'].dt.dayofweek\n",
    "with_store_lags['day'] = with_store_lags['date'].dt.day\n",
    "with_store_lags['week'] = with_store_lags['date'].dt.isocalendar().week.astype('int32')\n",
    "with_store_lags['month'] = with_store_lags['date'].dt.month\n",
    "with_store_lags['season'] = with_store_lags['date'].dt.quarter  "
   ]
  },
  {
   "cell_type": "markdown",
   "metadata": {},
   "source": [
    "Работа над признаками для этой модели только начата. В это разделе мы добавили к обучающему датасету три группы признаков:\n",
    "\n",
    "1) лаговые переменные продаж товара суммарно по всем магазинам. Если данных о продажах товара в данном магазине недостаточно, переходим к суммарным продажам по всей сети\n",
    "\n",
    "2) лаговые переменные продаж всех товаров в данном магазине. Это дает информацию о посещаемости и обороте магазина в конкретный день\n",
    "\n",
    "3) календарные фичи: день недели, день месяца, номер недели, месяц, время года"
   ]
  },
  {
   "cell_type": "markdown",
   "metadata": {},
   "source": [
    "### Model fitting"
   ]
  },
  {
   "cell_type": "code",
   "execution_count": 47,
   "metadata": {},
   "outputs": [],
   "source": [
    "def wape(y_true, y_pred):\n",
    "    return np.abs(y_true - y_pred).sum() / np.abs(y_true).sum()"
   ]
  },
  {
   "cell_type": "code",
   "execution_count": 48,
   "metadata": {},
   "outputs": [],
   "source": [
    "def plotImp(model, X , num = 20, fig_size = (15, 5)):\n",
    "    feature_imp = pd.DataFrame({'Value':model.feature_importances_,'Feature':X.columns})\n",
    "    plt.figure(figsize=fig_size)\n",
    "    sns.barplot(x=\"Value\", y=\"Feature\", data=feature_imp.sort_values(by=\"Value\", \n",
    "                                                        ascending=False)[0:num])\n",
    "    plt.title('LightGBM Features importance')\n",
    "    plt.tight_layout()\n",
    "    plt.savefig('lgbm_importances-01.png')\n",
    "    plt.show()"
   ]
  },
  {
   "cell_type": "code",
   "execution_count": 49,
   "metadata": {},
   "outputs": [],
   "source": [
    "def lgbm_cross_val(cat_features, cols_to_drop, df=new, h=14, cv=5):\n",
    "    wapes = []\n",
    "    for i in range(cv):\n",
    "        end_train = df['date'].max() - pd.Timedelta(days=h*(i+1))\n",
    "        end_valid = df['date'].max() - pd.Timedelta(days=h*i)\n",
    "        train = df[df['date'] <= end_train]\n",
    "        valid = df[(df['date'] > end_train) & (df['date'] <= end_valid)]\n",
    "\n",
    "        X_train = train.drop(cols_to_drop, axis=1)\n",
    "        y_train = train['sold']\n",
    "        X_valid = valid.drop(cols_to_drop, axis=1)\n",
    "        y_valid = valid['sold']\n",
    "\n",
    "        eval_set = [(X_valid, y_valid)]\n",
    "        print(end_train, end_valid)\n",
    "        print(X_train.shape, X_valid.shape)\n",
    "\n",
    "        cat_idx = [X_train.columns.get_loc(col) for col in cat_features]\n",
    "\n",
    "        for col in cat_features:\n",
    "            X_train[col] = pd.Categorical(X_train[col])\n",
    "            X_valid[col] = pd.Categorical(X_valid[col])\n",
    "\n",
    "\n",
    "        lgbm_reg = lgbm.LGBMRegressor(n_estimators=10000, random_state=26)\n",
    "        lgbm_reg.fit(\n",
    "                X_train, \n",
    "                y_train,        \n",
    "                categorical_feature=cat_idx,\n",
    "                eval_set=eval_set,\n",
    "                early_stopping_rounds=200,\n",
    "                verbose=100\n",
    "            )\n",
    "\n",
    "        preds = lgbm_reg.predict(X_valid)\n",
    "        lgbm_wape = wape(y_valid, preds)\n",
    "        \n",
    "        plot_df = pd.DataFrame({'date': pd.date_range(start=(end_train+pd.Timedelta(days=1)), end=end_valid), 'y_true': y_valid[:h], 'y_pred': preds[:h]})\n",
    "        \n",
    "        fig, ax = plt.subplots(figsize=(12, 3))\n",
    "        g = sns.lineplot(data=plot_df)\n",
    "        plt.title(f'CV step {i+1}')\n",
    "        plt.show()        \n",
    "        \n",
    "        print(f\"LGBM CV step {i+1} WAPE: {lgbm_wape}\")\n",
    "        wapes.append(lgbm_wape)\n",
    "\n",
    "        \n",
    "    plotImp(lgbm_reg, X_train)\n",
    "\n",
    "    return(wapes)"
   ]
  },
  {
   "cell_type": "code",
   "execution_count": 50,
   "metadata": {},
   "outputs": [
    {
     "name": "stdout",
     "output_type": "stream",
     "text": [
      "2023-07-04 00:00:00 2023-07-18 00:00:00\n",
      "(370307, 49) (16755, 49)\n"
     ]
    },
    {
     "name": "stderr",
     "output_type": "stream",
     "text": [
      "c:\\Users\\Lev\\miniconda3\\envs\\ds\\Lib\\site-packages\\lightgbm\\sklearn.py:726: UserWarning: 'early_stopping_rounds' argument is deprecated and will be removed in a future release of LightGBM. Pass 'early_stopping()' callback via 'callbacks' argument instead.\n",
      "  _log_warning(\"'early_stopping_rounds' argument is deprecated and will be removed in a future release of LightGBM. \"\n",
      "c:\\Users\\Lev\\miniconda3\\envs\\ds\\Lib\\site-packages\\lightgbm\\sklearn.py:736: UserWarning: 'verbose' argument is deprecated and will be removed in a future release of LightGBM. Pass 'log_evaluation()' callback via 'callbacks' argument instead.\n",
      "  _log_warning(\"'verbose' argument is deprecated and will be removed in a future release of LightGBM. \"\n",
      "c:\\Users\\Lev\\miniconda3\\envs\\ds\\Lib\\site-packages\\lightgbm\\basic.py:2065: UserWarning: Using categorical_feature in Dataset.\n",
      "  _log_warning('Using categorical_feature in Dataset.')\n",
      "c:\\Users\\Lev\\miniconda3\\envs\\ds\\Lib\\site-packages\\lightgbm\\basic.py:2068: UserWarning: categorical_feature in Dataset is overridden.\n",
      "New categorical_feature is [0, 1, 44, 48]\n",
      "  _log_warning('categorical_feature in Dataset is overridden.\\n'\n",
      "c:\\Users\\Lev\\miniconda3\\envs\\ds\\Lib\\site-packages\\lightgbm\\basic.py:1780: UserWarning: Overriding the parameters from Reference Dataset.\n",
      "  _log_warning('Overriding the parameters from Reference Dataset.')\n",
      "c:\\Users\\Lev\\miniconda3\\envs\\ds\\Lib\\site-packages\\lightgbm\\basic.py:1513: UserWarning: categorical_column in param dict is overridden.\n",
      "  _log_warning(f'{cat_alias} in param dict is overridden.')\n"
     ]
    },
    {
     "name": "stdout",
     "output_type": "stream",
     "text": [
      "[100]\tvalid_0's l2: 27.9553\n",
      "[200]\tvalid_0's l2: 26.9571\n",
      "[300]\tvalid_0's l2: 26.809\n",
      "[400]\tvalid_0's l2: 26.6045\n",
      "[500]\tvalid_0's l2: 26.4465\n",
      "[600]\tvalid_0's l2: 26.2428\n",
      "[700]\tvalid_0's l2: 26.3127\n"
     ]
    },
    {
     "data": {
      "image/png": "[encoded data removed]",
      "text/plain": [
       "<Figure size 1200x300 with 1 Axes>"
      ]
     },
     "metadata": {},
     "output_type": "display_data"
    },
    {
     "name": "stdout",
     "output_type": "stream",
     "text": [
      "LGBM CV step 1 WAPE: 0.5073568182150096\n",
      "2023-06-20 00:00:00 2023-07-04 00:00:00\n",
      "(353739, 49) (16568, 49)\n"
     ]
    },
    {
     "name": "stderr",
     "output_type": "stream",
     "text": [
      "c:\\Users\\Lev\\miniconda3\\envs\\ds\\Lib\\site-packages\\lightgbm\\sklearn.py:726: UserWarning: 'early_stopping_rounds' argument is deprecated and will be removed in a future release of LightGBM. Pass 'early_stopping()' callback via 'callbacks' argument instead.\n",
      "  _log_warning(\"'early_stopping_rounds' argument is deprecated and will be removed in a future release of LightGBM. \"\n",
      "c:\\Users\\Lev\\miniconda3\\envs\\ds\\Lib\\site-packages\\lightgbm\\sklearn.py:736: UserWarning: 'verbose' argument is deprecated and will be removed in a future release of LightGBM. Pass 'log_evaluation()' callback via 'callbacks' argument instead.\n",
      "  _log_warning(\"'verbose' argument is deprecated and will be removed in a future release of LightGBM. \"\n",
      "c:\\Users\\Lev\\miniconda3\\envs\\ds\\Lib\\site-packages\\lightgbm\\basic.py:2065: UserWarning: Using categorical_feature in Dataset.\n",
      "  _log_warning('Using categorical_feature in Dataset.')\n",
      "c:\\Users\\Lev\\miniconda3\\envs\\ds\\Lib\\site-packages\\lightgbm\\basic.py:2068: UserWarning: categorical_feature in Dataset is overridden.\n",
      "New categorical_feature is [0, 1, 44, 48]\n",
      "  _log_warning('categorical_feature in Dataset is overridden.\\n'\n",
      "c:\\Users\\Lev\\miniconda3\\envs\\ds\\Lib\\site-packages\\lightgbm\\basic.py:1780: UserWarning: Overriding the parameters from Reference Dataset.\n",
      "  _log_warning('Overriding the parameters from Reference Dataset.')\n",
      "c:\\Users\\Lev\\miniconda3\\envs\\ds\\Lib\\site-packages\\lightgbm\\basic.py:1513: UserWarning: categorical_column in param dict is overridden.\n",
      "  _log_warning(f'{cat_alias} in param dict is overridden.')\n"
     ]
    },
    {
     "name": "stdout",
     "output_type": "stream",
     "text": [
      "[100]\tvalid_0's l2: 20.7923\n",
      "[200]\tvalid_0's l2: 20.2817\n",
      "[300]\tvalid_0's l2: 20.2479\n",
      "[400]\tvalid_0's l2: 20.3281\n",
      "[500]\tvalid_0's l2: 20.2542\n"
     ]
    },
    {
     "data": {
      "image/png": "[encoded data removed]",
      "text/plain": [
       "<Figure size 1200x300 with 1 Axes>"
      ]
     },
     "metadata": {},
     "output_type": "display_data"
    },
    {
     "name": "stdout",
     "output_type": "stream",
     "text": [
      "LGBM CV step 2 WAPE: 0.5225030380978819\n",
      "2023-06-06 00:00:00 2023-06-20 00:00:00\n",
      "(337483, 49) (16256, 49)\n"
     ]
    },
    {
     "name": "stderr",
     "output_type": "stream",
     "text": [
      "c:\\Users\\Lev\\miniconda3\\envs\\ds\\Lib\\site-packages\\lightgbm\\sklearn.py:726: UserWarning: 'early_stopping_rounds' argument is deprecated and will be removed in a future release of LightGBM. Pass 'early_stopping()' callback via 'callbacks' argument instead.\n",
      "  _log_warning(\"'early_stopping_rounds' argument is deprecated and will be removed in a future release of LightGBM. \"\n",
      "c:\\Users\\Lev\\miniconda3\\envs\\ds\\Lib\\site-packages\\lightgbm\\sklearn.py:736: UserWarning: 'verbose' argument is deprecated and will be removed in a future release of LightGBM. Pass 'log_evaluation()' callback via 'callbacks' argument instead.\n",
      "  _log_warning(\"'verbose' argument is deprecated and will be removed in a future release of LightGBM. \"\n",
      "c:\\Users\\Lev\\miniconda3\\envs\\ds\\Lib\\site-packages\\lightgbm\\basic.py:2065: UserWarning: Using categorical_feature in Dataset.\n",
      "  _log_warning('Using categorical_feature in Dataset.')\n",
      "c:\\Users\\Lev\\miniconda3\\envs\\ds\\Lib\\site-packages\\lightgbm\\basic.py:2068: UserWarning: categorical_feature in Dataset is overridden.\n",
      "New categorical_feature is [0, 1, 44, 48]\n",
      "  _log_warning('categorical_feature in Dataset is overridden.\\n'\n",
      "c:\\Users\\Lev\\miniconda3\\envs\\ds\\Lib\\site-packages\\lightgbm\\basic.py:1780: UserWarning: Overriding the parameters from Reference Dataset.\n",
      "  _log_warning('Overriding the parameters from Reference Dataset.')\n",
      "c:\\Users\\Lev\\miniconda3\\envs\\ds\\Lib\\site-packages\\lightgbm\\basic.py:1513: UserWarning: categorical_column in param dict is overridden.\n",
      "  _log_warning(f'{cat_alias} in param dict is overridden.')\n"
     ]
    },
    {
     "name": "stdout",
     "output_type": "stream",
     "text": [
      "[100]\tvalid_0's l2: 26.8806\n",
      "[200]\tvalid_0's l2: 26.5519\n",
      "[300]\tvalid_0's l2: 26.4877\n",
      "[400]\tvalid_0's l2: 26.231\n",
      "[500]\tvalid_0's l2: 26.3103\n"
     ]
    },
    {
     "data": {
      "image/png": "[encoded data removed]",
      "text/plain": [
       "<Figure size 1200x300 with 1 Axes>"
      ]
     },
     "metadata": {},
     "output_type": "display_data"
    },
    {
     "name": "stdout",
     "output_type": "stream",
     "text": [
      "LGBM CV step 3 WAPE: 0.5221022493423378\n",
      "2023-05-23 00:00:00 2023-06-06 00:00:00\n",
      "(321717, 49) (15766, 49)\n"
     ]
    },
    {
     "name": "stderr",
     "output_type": "stream",
     "text": [
      "c:\\Users\\Lev\\miniconda3\\envs\\ds\\Lib\\site-packages\\lightgbm\\sklearn.py:726: UserWarning: 'early_stopping_rounds' argument is deprecated and will be removed in a future release of LightGBM. Pass 'early_stopping()' callback via 'callbacks' argument instead.\n",
      "  _log_warning(\"'early_stopping_rounds' argument is deprecated and will be removed in a future release of LightGBM. \"\n",
      "c:\\Users\\Lev\\miniconda3\\envs\\ds\\Lib\\site-packages\\lightgbm\\sklearn.py:736: UserWarning: 'verbose' argument is deprecated and will be removed in a future release of LightGBM. Pass 'log_evaluation()' callback via 'callbacks' argument instead.\n",
      "  _log_warning(\"'verbose' argument is deprecated and will be removed in a future release of LightGBM. \"\n",
      "c:\\Users\\Lev\\miniconda3\\envs\\ds\\Lib\\site-packages\\lightgbm\\basic.py:2065: UserWarning: Using categorical_feature in Dataset.\n",
      "  _log_warning('Using categorical_feature in Dataset.')\n",
      "c:\\Users\\Lev\\miniconda3\\envs\\ds\\Lib\\site-packages\\lightgbm\\basic.py:2068: UserWarning: categorical_feature in Dataset is overridden.\n",
      "New categorical_feature is [0, 1, 44, 48]\n",
      "  _log_warning('categorical_feature in Dataset is overridden.\\n'\n",
      "c:\\Users\\Lev\\miniconda3\\envs\\ds\\Lib\\site-packages\\lightgbm\\basic.py:1780: UserWarning: Overriding the parameters from Reference Dataset.\n",
      "  _log_warning('Overriding the parameters from Reference Dataset.')\n",
      "c:\\Users\\Lev\\miniconda3\\envs\\ds\\Lib\\site-packages\\lightgbm\\basic.py:1513: UserWarning: categorical_column in param dict is overridden.\n",
      "  _log_warning(f'{cat_alias} in param dict is overridden.')\n"
     ]
    },
    {
     "name": "stdout",
     "output_type": "stream",
     "text": [
      "[100]\tvalid_0's l2: 21.5102\n",
      "[200]\tvalid_0's l2: 21.2622\n",
      "[300]\tvalid_0's l2: 21.3271\n"
     ]
    },
    {
     "data": {
      "image/png": "[encoded data removed]",
      "text/plain": [
       "<Figure size 1200x300 with 1 Axes>"
      ]
     },
     "metadata": {},
     "output_type": "display_data"
    },
    {
     "name": "stdout",
     "output_type": "stream",
     "text": [
      "LGBM CV step 4 WAPE: 0.5245621127739302\n",
      "2023-05-09 00:00:00 2023-05-23 00:00:00\n",
      "(305868, 49) (15849, 49)\n"
     ]
    },
    {
     "name": "stderr",
     "output_type": "stream",
     "text": [
      "c:\\Users\\Lev\\miniconda3\\envs\\ds\\Lib\\site-packages\\lightgbm\\sklearn.py:726: UserWarning: 'early_stopping_rounds' argument is deprecated and will be removed in a future release of LightGBM. Pass 'early_stopping()' callback via 'callbacks' argument instead.\n",
      "  _log_warning(\"'early_stopping_rounds' argument is deprecated and will be removed in a future release of LightGBM. \"\n",
      "c:\\Users\\Lev\\miniconda3\\envs\\ds\\Lib\\site-packages\\lightgbm\\sklearn.py:736: UserWarning: 'verbose' argument is deprecated and will be removed in a future release of LightGBM. Pass 'log_evaluation()' callback via 'callbacks' argument instead.\n",
      "  _log_warning(\"'verbose' argument is deprecated and will be removed in a future release of LightGBM. \"\n",
      "c:\\Users\\Lev\\miniconda3\\envs\\ds\\Lib\\site-packages\\lightgbm\\basic.py:2065: UserWarning: Using categorical_feature in Dataset.\n",
      "  _log_warning('Using categorical_feature in Dataset.')\n",
      "c:\\Users\\Lev\\miniconda3\\envs\\ds\\Lib\\site-packages\\lightgbm\\basic.py:2068: UserWarning: categorical_feature in Dataset is overridden.\n",
      "New categorical_feature is [0, 1, 44, 48]\n",
      "  _log_warning('categorical_feature in Dataset is overridden.\\n'\n",
      "c:\\Users\\Lev\\miniconda3\\envs\\ds\\Lib\\site-packages\\lightgbm\\basic.py:1780: UserWarning: Overriding the parameters from Reference Dataset.\n",
      "  _log_warning('Overriding the parameters from Reference Dataset.')\n",
      "c:\\Users\\Lev\\miniconda3\\envs\\ds\\Lib\\site-packages\\lightgbm\\basic.py:1513: UserWarning: categorical_column in param dict is overridden.\n",
      "  _log_warning(f'{cat_alias} in param dict is overridden.')\n"
     ]
    },
    {
     "name": "stdout",
     "output_type": "stream",
     "text": [
      "[100]\tvalid_0's l2: 28.0562\n",
      "[200]\tvalid_0's l2: 29.0725\n"
     ]
    },
    {
     "data": {
      "image/png": "[encoded data removed]",
      "text/plain": [
       "<Figure size 1200x300 with 1 Axes>"
      ]
     },
     "metadata": {},
     "output_type": "display_data"
    },
    {
     "name": "stdout",
     "output_type": "stream",
     "text": [
      "LGBM CV step 5 WAPE: 0.6099162380863477\n"
     ]
    },
    {
     "data": {
      "image/png": "[encoded data removed]",
      "text/plain": [
       "<Figure size 1500x500 with 1 Axes>"
      ]
     },
     "metadata": {},
     "output_type": "display_data"
    }
   ],
   "source": [
    "lgbm_wapes = lgbm_cross_val(df=with_store_lags, cat_features=['pr_sku_id', 'st_id', 'season', 'dow'], cols_to_drop=['date', 'sold', 'sku', 'store'])"
   ]
  },
  {
   "cell_type": "code",
   "execution_count": 51,
   "metadata": {},
   "outputs": [
    {
     "name": "stdout",
     "output_type": "stream",
     "text": [
      "LGBM mean WAPE = 0.5372880913031014\n"
     ]
    }
   ],
   "source": [
    "print(f'LGBM mean WAPE = {np.mean(lgbm_wapes)}')"
   ]
  },
  {
   "cell_type": "markdown",
   "metadata": {},
   "source": [
    "Итерация 1\n",
    "\n",
    "* Фичи: товар, магазин, 21 лаг (Тлаг)\n",
    "* ВЭЙП: 0.5387446485520166\n",
    "* Важное: товар, Тлаг 1, магазин, Тлаги 14, 7, 2, 6, 12, 13, 5, 9\n",
    "\n",
    "Итерация 2\n",
    "\n",
    "* Фичи: товар, магазин, 21 лаг (Тлаг), 21 лаг (Млаг)\n",
    "* ВЭЙП: 0.542979568453861\n",
    "* Важное: товар, Тлаги 1, 14, 7, магазин, Тлаг 6, Млаги 6, 7, 13, 14\n",
    "* Вывод: стало хуже. Пока оставим магазинные лаги, но когда фичей будет больше, попробуем их убрать\n",
    "\n",
    "Итерация 3\n",
    "\n",
    "* Фичи: товар, магазин, 21 лаг (Тлаг), 21 лаг (Млаг), календарные\n",
    "* ВЭЙП: 0.5372880913031014\n",
    "* Важное: товар, Тлаги 1, 14, магазин, день недели, Млаг 7, Тлаги 2, 7, Млаг 6, Тлаг 6, Млаг 13\n",
    "* Вывод: метрика немного улучшилась. Календарные фичи нужны"
   ]
  },
  {
   "cell_type": "code",
   "execution_count": 52,
   "metadata": {},
   "outputs": [
    {
     "name": "stderr",
     "output_type": "stream",
     "text": [
      "[I 2023-09-30 21:53:19,547] A new study created in memory with name: no-name-3663d4e0-840f-477a-97f9-f7cb399885bd\n",
      "C:\\Users\\Lev\\AppData\\Local\\Temp\\ipykernel_11328\\4177771111.py:22: FutureWarning: suggest_loguniform has been deprecated in v3.0.0. This feature will be removed in v6.0.0. See https://github.com/optuna/optuna/releases/tag/v3.0.0. Use suggest_float(..., log=True) instead.\n",
      "  'reg_alpha': trial.suggest_loguniform('reg_alpha', 1e-3, 10.0),\n",
      "C:\\Users\\Lev\\AppData\\Local\\Temp\\ipykernel_11328\\4177771111.py:23: FutureWarning: suggest_loguniform has been deprecated in v3.0.0. This feature will be removed in v6.0.0. See https://github.com/optuna/optuna/releases/tag/v3.0.0. Use suggest_float(..., log=True) instead.\n",
      "  'reg_lambda': trial.suggest_loguniform('reg_lambda', 1e-3, 10.0),\n",
      "c:\\Users\\Lev\\miniconda3\\envs\\ds\\Lib\\site-packages\\optuna\\distributions.py:685: UserWarning: The distribution is specified by [0.2, 0.95] and step=0.1, but the range is not divisible by `step`. It will be replaced by [0.2, 0.9].\n",
      "  warnings.warn(\n",
      "c:\\Users\\Lev\\miniconda3\\envs\\ds\\Lib\\site-packages\\lightgbm\\sklearn.py:726: UserWarning: 'early_stopping_rounds' argument is deprecated and will be removed in a future release of LightGBM. Pass 'early_stopping()' callback via 'callbacks' argument instead.\n",
      "  _log_warning(\"'early_stopping_rounds' argument is deprecated and will be removed in a future release of LightGBM. \"\n",
      "c:\\Users\\Lev\\miniconda3\\envs\\ds\\Lib\\site-packages\\lightgbm\\sklearn.py:736: UserWarning: 'verbose' argument is deprecated and will be removed in a future release of LightGBM. Pass 'log_evaluation()' callback via 'callbacks' argument instead.\n",
      "  _log_warning(\"'verbose' argument is deprecated and will be removed in a future release of LightGBM. \"\n",
      "c:\\Users\\Lev\\miniconda3\\envs\\ds\\Lib\\site-packages\\lightgbm\\basic.py:2065: UserWarning: Using categorical_feature in Dataset.\n",
      "  _log_warning('Using categorical_feature in Dataset.')\n",
      "c:\\Users\\Lev\\miniconda3\\envs\\ds\\Lib\\site-packages\\lightgbm\\basic.py:2068: UserWarning: categorical_feature in Dataset is overridden.\n",
      "New categorical_feature is [0, 1, 44, 48]\n",
      "  _log_warning('categorical_feature in Dataset is overridden.\\n'\n"
     ]
    },
    {
     "name": "stdout",
     "output_type": "stream",
     "text": [
      "[LightGBM] [Warning] feature_fraction is set=0.6000000000000001, colsample_bytree=0.8 will be ignored. Current value: feature_fraction=0.6000000000000001\n"
     ]
    },
    {
     "name": "stderr",
     "output_type": "stream",
     "text": [
      "c:\\Users\\Lev\\miniconda3\\envs\\ds\\Lib\\site-packages\\lightgbm\\basic.py:1780: UserWarning: Overriding the parameters from Reference Dataset.\n",
      "  _log_warning('Overriding the parameters from Reference Dataset.')\n",
      "c:\\Users\\Lev\\miniconda3\\envs\\ds\\Lib\\site-packages\\lightgbm\\basic.py:1513: UserWarning: categorical_column in param dict is overridden.\n",
      "  _log_warning(f'{cat_alias} in param dict is overridden.')\n"
     ]
    },
    {
     "name": "stdout",
     "output_type": "stream",
     "text": [
      "[500]\tvalid_0's l1: 2.32814\n"
     ]
    },
    {
     "name": "stderr",
     "output_type": "stream",
     "text": [
      "[I 2023-09-30 21:53:59,644] Trial 0 finished with value: 0.5136529012134788 and parameters: {'reg_alpha': 0.0034741441849548975, 'reg_lambda': 0.06687498887723975, 'colsample_bytree': 0.8, 'subsample': 0.4, 'learning_rate': 0.008, 'max_depth': 20, 'num_leaves': 553, 'min_child_samples': 156, 'feature_fraction': 0.6000000000000001}. Best is trial 0 with value: 0.5136529012134788.\n",
      "C:\\Users\\Lev\\AppData\\Local\\Temp\\ipykernel_11328\\4177771111.py:22: FutureWarning: suggest_loguniform has been deprecated in v3.0.0. This feature will be removed in v6.0.0. See https://github.com/optuna/optuna/releases/tag/v3.0.0. Use suggest_float(..., log=True) instead.\n",
      "  'reg_alpha': trial.suggest_loguniform('reg_alpha', 1e-3, 10.0),\n",
      "C:\\Users\\Lev\\AppData\\Local\\Temp\\ipykernel_11328\\4177771111.py:23: FutureWarning: suggest_loguniform has been deprecated in v3.0.0. This feature will be removed in v6.0.0. See https://github.com/optuna/optuna/releases/tag/v3.0.0. Use suggest_float(..., log=True) instead.\n",
      "  'reg_lambda': trial.suggest_loguniform('reg_lambda', 1e-3, 10.0),\n",
      "c:\\Users\\Lev\\miniconda3\\envs\\ds\\Lib\\site-packages\\optuna\\distributions.py:685: UserWarning: The distribution is specified by [0.2, 0.95] and step=0.1, but the range is not divisible by `step`. It will be replaced by [0.2, 0.9].\n",
      "  warnings.warn(\n",
      "c:\\Users\\Lev\\miniconda3\\envs\\ds\\Lib\\site-packages\\lightgbm\\sklearn.py:726: UserWarning: 'early_stopping_rounds' argument is deprecated and will be removed in a future release of LightGBM. Pass 'early_stopping()' callback via 'callbacks' argument instead.\n",
      "  _log_warning(\"'early_stopping_rounds' argument is deprecated and will be removed in a future release of LightGBM. \"\n",
      "c:\\Users\\Lev\\miniconda3\\envs\\ds\\Lib\\site-packages\\lightgbm\\sklearn.py:736: UserWarning: 'verbose' argument is deprecated and will be removed in a future release of LightGBM. Pass 'log_evaluation()' callback via 'callbacks' argument instead.\n",
      "  _log_warning(\"'verbose' argument is deprecated and will be removed in a future release of LightGBM. \"\n",
      "c:\\Users\\Lev\\miniconda3\\envs\\ds\\Lib\\site-packages\\lightgbm\\basic.py:2065: UserWarning: Using categorical_feature in Dataset.\n",
      "  _log_warning('Using categorical_feature in Dataset.')\n",
      "c:\\Users\\Lev\\miniconda3\\envs\\ds\\Lib\\site-packages\\lightgbm\\basic.py:2068: UserWarning: categorical_feature in Dataset is overridden.\n",
      "New categorical_feature is [0, 1, 44, 48]\n",
      "  _log_warning('categorical_feature in Dataset is overridden.\\n'\n"
     ]
    },
    {
     "name": "stdout",
     "output_type": "stream",
     "text": [
      "[LightGBM] [Warning] feature_fraction is set=0.6000000000000001, colsample_bytree=0.7 will be ignored. Current value: feature_fraction=0.6000000000000001\n"
     ]
    },
    {
     "name": "stderr",
     "output_type": "stream",
     "text": [
      "c:\\Users\\Lev\\miniconda3\\envs\\ds\\Lib\\site-packages\\lightgbm\\basic.py:1780: UserWarning: Overriding the parameters from Reference Dataset.\n",
      "  _log_warning('Overriding the parameters from Reference Dataset.')\n",
      "c:\\Users\\Lev\\miniconda3\\envs\\ds\\Lib\\site-packages\\lightgbm\\basic.py:1513: UserWarning: categorical_column in param dict is overridden.\n",
      "  _log_warning(f'{cat_alias} in param dict is overridden.')\n"
     ]
    },
    {
     "name": "stdout",
     "output_type": "stream",
     "text": [
      "[500]\tvalid_0's l1: 2.39934\n",
      "[1000]\tvalid_0's l1: 2.37317\n",
      "[1500]\tvalid_0's l1: 2.35868\n",
      "[2000]\tvalid_0's l1: 2.34971\n",
      "[2500]\tvalid_0's l1: 2.34386\n",
      "[3000]\tvalid_0's l1: 2.34041\n"
     ]
    },
    {
     "name": "stderr",
     "output_type": "stream",
     "text": [
      "[I 2023-09-30 21:54:48,635] Trial 1 finished with value: 0.5181294083783015 and parameters: {'reg_alpha': 1.1982904412393833, 'reg_lambda': 0.001376997351306051, 'colsample_bytree': 0.7, 'subsample': 0.5, 'learning_rate': 0.01, 'max_depth': 10, 'num_leaves': 952, 'min_child_samples': 64, 'feature_fraction': 0.6000000000000001}. Best is trial 0 with value: 0.5136529012134788.\n",
      "C:\\Users\\Lev\\AppData\\Local\\Temp\\ipykernel_11328\\4177771111.py:22: FutureWarning: suggest_loguniform has been deprecated in v3.0.0. This feature will be removed in v6.0.0. See https://github.com/optuna/optuna/releases/tag/v3.0.0. Use suggest_float(..., log=True) instead.\n",
      "  'reg_alpha': trial.suggest_loguniform('reg_alpha', 1e-3, 10.0),\n",
      "C:\\Users\\Lev\\AppData\\Local\\Temp\\ipykernel_11328\\4177771111.py:23: FutureWarning: suggest_loguniform has been deprecated in v3.0.0. This feature will be removed in v6.0.0. See https://github.com/optuna/optuna/releases/tag/v3.0.0. Use suggest_float(..., log=True) instead.\n",
      "  'reg_lambda': trial.suggest_loguniform('reg_lambda', 1e-3, 10.0),\n",
      "c:\\Users\\Lev\\miniconda3\\envs\\ds\\Lib\\site-packages\\optuna\\distributions.py:685: UserWarning: The distribution is specified by [0.2, 0.95] and step=0.1, but the range is not divisible by `step`. It will be replaced by [0.2, 0.9].\n",
      "  warnings.warn(\n",
      "c:\\Users\\Lev\\miniconda3\\envs\\ds\\Lib\\site-packages\\lightgbm\\sklearn.py:726: UserWarning: 'early_stopping_rounds' argument is deprecated and will be removed in a future release of LightGBM. Pass 'early_stopping()' callback via 'callbacks' argument instead.\n",
      "  _log_warning(\"'early_stopping_rounds' argument is deprecated and will be removed in a future release of LightGBM. \"\n",
      "c:\\Users\\Lev\\miniconda3\\envs\\ds\\Lib\\site-packages\\lightgbm\\sklearn.py:736: UserWarning: 'verbose' argument is deprecated and will be removed in a future release of LightGBM. Pass 'log_evaluation()' callback via 'callbacks' argument instead.\n",
      "  _log_warning(\"'verbose' argument is deprecated and will be removed in a future release of LightGBM. \"\n",
      "c:\\Users\\Lev\\miniconda3\\envs\\ds\\Lib\\site-packages\\lightgbm\\basic.py:2065: UserWarning: Using categorical_feature in Dataset.\n",
      "  _log_warning('Using categorical_feature in Dataset.')\n",
      "c:\\Users\\Lev\\miniconda3\\envs\\ds\\Lib\\site-packages\\lightgbm\\basic.py:2068: UserWarning: categorical_feature in Dataset is overridden.\n",
      "New categorical_feature is [0, 1, 44, 48]\n",
      "  _log_warning('categorical_feature in Dataset is overridden.\\n'\n"
     ]
    },
    {
     "name": "stdout",
     "output_type": "stream",
     "text": [
      "[LightGBM] [Warning] feature_fraction is set=0.7, colsample_bytree=0.7 will be ignored. Current value: feature_fraction=0.7\n"
     ]
    },
    {
     "name": "stderr",
     "output_type": "stream",
     "text": [
      "c:\\Users\\Lev\\miniconda3\\envs\\ds\\Lib\\site-packages\\lightgbm\\basic.py:1780: UserWarning: Overriding the parameters from Reference Dataset.\n",
      "  _log_warning('Overriding the parameters from Reference Dataset.')\n",
      "c:\\Users\\Lev\\miniconda3\\envs\\ds\\Lib\\site-packages\\lightgbm\\basic.py:1513: UserWarning: categorical_column in param dict is overridden.\n",
      "  _log_warning(f'{cat_alias} in param dict is overridden.')\n"
     ]
    },
    {
     "name": "stdout",
     "output_type": "stream",
     "text": [
      "[500]\tvalid_0's l1: 2.30535\n",
      "[1000]\tvalid_0's l1: 2.2644\n",
      "[1500]\tvalid_0's l1: 2.25015\n",
      "[2000]\tvalid_0's l1: 2.24614\n",
      "[2500]\tvalid_0's l1: 2.24194\n"
     ]
    },
    {
     "name": "stderr",
     "output_type": "stream",
     "text": [
      "[I 2023-09-30 21:57:22,028] Trial 2 finished with value: 0.49587383027096427 and parameters: {'reg_alpha': 0.008242382072203852, 'reg_lambda': 1.743066807565326, 'colsample_bytree': 0.7, 'subsample': 0.4, 'learning_rate': 0.008, 'max_depth': 100, 'num_leaves': 228, 'min_child_samples': 61, 'feature_fraction': 0.7}. Best is trial 2 with value: 0.49587383027096427.\n",
      "C:\\Users\\Lev\\AppData\\Local\\Temp\\ipykernel_11328\\4177771111.py:22: FutureWarning: suggest_loguniform has been deprecated in v3.0.0. This feature will be removed in v6.0.0. See https://github.com/optuna/optuna/releases/tag/v3.0.0. Use suggest_float(..., log=True) instead.\n",
      "  'reg_alpha': trial.suggest_loguniform('reg_alpha', 1e-3, 10.0),\n",
      "C:\\Users\\Lev\\AppData\\Local\\Temp\\ipykernel_11328\\4177771111.py:23: FutureWarning: suggest_loguniform has been deprecated in v3.0.0. This feature will be removed in v6.0.0. See https://github.com/optuna/optuna/releases/tag/v3.0.0. Use suggest_float(..., log=True) instead.\n",
      "  'reg_lambda': trial.suggest_loguniform('reg_lambda', 1e-3, 10.0),\n",
      "c:\\Users\\Lev\\miniconda3\\envs\\ds\\Lib\\site-packages\\optuna\\distributions.py:685: UserWarning: The distribution is specified by [0.2, 0.95] and step=0.1, but the range is not divisible by `step`. It will be replaced by [0.2, 0.9].\n",
      "  warnings.warn(\n",
      "c:\\Users\\Lev\\miniconda3\\envs\\ds\\Lib\\site-packages\\lightgbm\\sklearn.py:726: UserWarning: 'early_stopping_rounds' argument is deprecated and will be removed in a future release of LightGBM. Pass 'early_stopping()' callback via 'callbacks' argument instead.\n",
      "  _log_warning(\"'early_stopping_rounds' argument is deprecated and will be removed in a future release of LightGBM. \"\n",
      "c:\\Users\\Lev\\miniconda3\\envs\\ds\\Lib\\site-packages\\lightgbm\\sklearn.py:736: UserWarning: 'verbose' argument is deprecated and will be removed in a future release of LightGBM. Pass 'log_evaluation()' callback via 'callbacks' argument instead.\n",
      "  _log_warning(\"'verbose' argument is deprecated and will be removed in a future release of LightGBM. \"\n",
      "c:\\Users\\Lev\\miniconda3\\envs\\ds\\Lib\\site-packages\\lightgbm\\basic.py:2065: UserWarning: Using categorical_feature in Dataset.\n",
      "  _log_warning('Using categorical_feature in Dataset.')\n",
      "c:\\Users\\Lev\\miniconda3\\envs\\ds\\Lib\\site-packages\\lightgbm\\basic.py:2068: UserWarning: categorical_feature in Dataset is overridden.\n",
      "New categorical_feature is [0, 1, 44, 48]\n",
      "  _log_warning('categorical_feature in Dataset is overridden.\\n'\n"
     ]
    },
    {
     "name": "stdout",
     "output_type": "stream",
     "text": [
      "[LightGBM] [Warning] feature_fraction is set=0.8, colsample_bytree=0.7 will be ignored. Current value: feature_fraction=0.8\n"
     ]
    },
    {
     "name": "stderr",
     "output_type": "stream",
     "text": [
      "c:\\Users\\Lev\\miniconda3\\envs\\ds\\Lib\\site-packages\\lightgbm\\basic.py:1780: UserWarning: Overriding the parameters from Reference Dataset.\n",
      "  _log_warning('Overriding the parameters from Reference Dataset.')\n",
      "c:\\Users\\Lev\\miniconda3\\envs\\ds\\Lib\\site-packages\\lightgbm\\basic.py:1513: UserWarning: categorical_column in param dict is overridden.\n",
      "  _log_warning(f'{cat_alias} in param dict is overridden.')\n"
     ]
    },
    {
     "name": "stdout",
     "output_type": "stream",
     "text": [
      "[500]\tvalid_0's l1: 2.51978\n",
      "[1000]\tvalid_0's l1: 2.4302\n",
      "[1500]\tvalid_0's l1: 2.40072\n",
      "[2000]\tvalid_0's l1: 2.37977\n",
      "[2500]\tvalid_0's l1: 2.36689\n",
      "[3000]\tvalid_0's l1: 2.35804\n",
      "[3500]\tvalid_0's l1: 2.35197\n",
      "[4000]\tvalid_0's l1: 2.34773\n",
      "[4500]\tvalid_0's l1: 2.34383\n",
      "[5000]\tvalid_0's l1: 2.34\n",
      "[5500]\tvalid_0's l1: 2.33508\n",
      "[6000]\tvalid_0's l1: 2.33094\n",
      "[6500]\tvalid_0's l1: 2.32754\n",
      "[7000]\tvalid_0's l1: 2.32283\n",
      "[7500]\tvalid_0's l1: 2.31927\n",
      "[8000]\tvalid_0's l1: 2.31471\n",
      "[8500]\tvalid_0's l1: 2.31027\n",
      "[9000]\tvalid_0's l1: 2.30778\n",
      "[9500]\tvalid_0's l1: 2.30376\n",
      "[10000]\tvalid_0's l1: 2.2993\n",
      "[10500]\tvalid_0's l1: 2.29583\n",
      "[11000]\tvalid_0's l1: 2.29362\n"
     ]
    },
    {
     "name": "stderr",
     "output_type": "stream",
     "text": [
      "[I 2023-09-30 22:00:08,014] Trial 3 finished with value: 0.5077585804651694 and parameters: {'reg_alpha': 0.6166916868648445, 'reg_lambda': 5.335781428680117, 'colsample_bytree': 0.7, 'subsample': 0.6, 'learning_rate': 0.008, 'max_depth': 10, 'num_leaves': 23, 'min_child_samples': 24, 'feature_fraction': 0.8}. Best is trial 2 with value: 0.49587383027096427.\n",
      "C:\\Users\\Lev\\AppData\\Local\\Temp\\ipykernel_11328\\4177771111.py:22: FutureWarning: suggest_loguniform has been deprecated in v3.0.0. This feature will be removed in v6.0.0. See https://github.com/optuna/optuna/releases/tag/v3.0.0. Use suggest_float(..., log=True) instead.\n",
      "  'reg_alpha': trial.suggest_loguniform('reg_alpha', 1e-3, 10.0),\n",
      "C:\\Users\\Lev\\AppData\\Local\\Temp\\ipykernel_11328\\4177771111.py:23: FutureWarning: suggest_loguniform has been deprecated in v3.0.0. This feature will be removed in v6.0.0. See https://github.com/optuna/optuna/releases/tag/v3.0.0. Use suggest_float(..., log=True) instead.\n",
      "  'reg_lambda': trial.suggest_loguniform('reg_lambda', 1e-3, 10.0),\n",
      "c:\\Users\\Lev\\miniconda3\\envs\\ds\\Lib\\site-packages\\optuna\\distributions.py:685: UserWarning: The distribution is specified by [0.2, 0.95] and step=0.1, but the range is not divisible by `step`. It will be replaced by [0.2, 0.9].\n",
      "  warnings.warn(\n",
      "c:\\Users\\Lev\\miniconda3\\envs\\ds\\Lib\\site-packages\\lightgbm\\sklearn.py:726: UserWarning: 'early_stopping_rounds' argument is deprecated and will be removed in a future release of LightGBM. Pass 'early_stopping()' callback via 'callbacks' argument instead.\n",
      "  _log_warning(\"'early_stopping_rounds' argument is deprecated and will be removed in a future release of LightGBM. \"\n",
      "c:\\Users\\Lev\\miniconda3\\envs\\ds\\Lib\\site-packages\\lightgbm\\sklearn.py:736: UserWarning: 'verbose' argument is deprecated and will be removed in a future release of LightGBM. Pass 'log_evaluation()' callback via 'callbacks' argument instead.\n",
      "  _log_warning(\"'verbose' argument is deprecated and will be removed in a future release of LightGBM. \"\n",
      "c:\\Users\\Lev\\miniconda3\\envs\\ds\\Lib\\site-packages\\lightgbm\\basic.py:2065: UserWarning: Using categorical_feature in Dataset.\n",
      "  _log_warning('Using categorical_feature in Dataset.')\n",
      "c:\\Users\\Lev\\miniconda3\\envs\\ds\\Lib\\site-packages\\lightgbm\\basic.py:2068: UserWarning: categorical_feature in Dataset is overridden.\n",
      "New categorical_feature is [0, 1, 44, 48]\n",
      "  _log_warning('categorical_feature in Dataset is overridden.\\n'\n"
     ]
    },
    {
     "name": "stdout",
     "output_type": "stream",
     "text": [
      "[LightGBM] [Warning] feature_fraction is set=0.9, colsample_bytree=1.0 will be ignored. Current value: feature_fraction=0.9\n"
     ]
    },
    {
     "name": "stderr",
     "output_type": "stream",
     "text": [
      "c:\\Users\\Lev\\miniconda3\\envs\\ds\\Lib\\site-packages\\lightgbm\\basic.py:1780: UserWarning: Overriding the parameters from Reference Dataset.\n",
      "  _log_warning('Overriding the parameters from Reference Dataset.')\n",
      "c:\\Users\\Lev\\miniconda3\\envs\\ds\\Lib\\site-packages\\lightgbm\\basic.py:1513: UserWarning: categorical_column in param dict is overridden.\n",
      "  _log_warning(f'{cat_alias} in param dict is overridden.')\n"
     ]
    },
    {
     "name": "stdout",
     "output_type": "stream",
     "text": [
      "[500]\tvalid_0's l1: 2.32859\n"
     ]
    },
    {
     "name": "stderr",
     "output_type": "stream",
     "text": [
      "[I 2023-09-30 22:01:08,962] Trial 4 finished with value: 0.5117001675933657 and parameters: {'reg_alpha': 4.547137123401008, 'reg_lambda': 0.5088212842017588, 'colsample_bytree': 1.0, 'subsample': 0.4, 'learning_rate': 0.006, 'max_depth': 20, 'num_leaves': 673, 'min_child_samples': 247, 'feature_fraction': 0.9}. Best is trial 2 with value: 0.49587383027096427.\n",
      "C:\\Users\\Lev\\AppData\\Local\\Temp\\ipykernel_11328\\4177771111.py:22: FutureWarning: suggest_loguniform has been deprecated in v3.0.0. This feature will be removed in v6.0.0. See https://github.com/optuna/optuna/releases/tag/v3.0.0. Use suggest_float(..., log=True) instead.\n",
      "  'reg_alpha': trial.suggest_loguniform('reg_alpha', 1e-3, 10.0),\n",
      "C:\\Users\\Lev\\AppData\\Local\\Temp\\ipykernel_11328\\4177771111.py:23: FutureWarning: suggest_loguniform has been deprecated in v3.0.0. This feature will be removed in v6.0.0. See https://github.com/optuna/optuna/releases/tag/v3.0.0. Use suggest_float(..., log=True) instead.\n",
      "  'reg_lambda': trial.suggest_loguniform('reg_lambda', 1e-3, 10.0),\n",
      "c:\\Users\\Lev\\miniconda3\\envs\\ds\\Lib\\site-packages\\optuna\\distributions.py:685: UserWarning: The distribution is specified by [0.2, 0.95] and step=0.1, but the range is not divisible by `step`. It will be replaced by [0.2, 0.9].\n",
      "  warnings.warn(\n",
      "c:\\Users\\Lev\\miniconda3\\envs\\ds\\Lib\\site-packages\\lightgbm\\sklearn.py:726: UserWarning: 'early_stopping_rounds' argument is deprecated and will be removed in a future release of LightGBM. Pass 'early_stopping()' callback via 'callbacks' argument instead.\n",
      "  _log_warning(\"'early_stopping_rounds' argument is deprecated and will be removed in a future release of LightGBM. \"\n",
      "c:\\Users\\Lev\\miniconda3\\envs\\ds\\Lib\\site-packages\\lightgbm\\sklearn.py:736: UserWarning: 'verbose' argument is deprecated and will be removed in a future release of LightGBM. Pass 'log_evaluation()' callback via 'callbacks' argument instead.\n",
      "  _log_warning(\"'verbose' argument is deprecated and will be removed in a future release of LightGBM. \"\n",
      "c:\\Users\\Lev\\miniconda3\\envs\\ds\\Lib\\site-packages\\lightgbm\\basic.py:2065: UserWarning: Using categorical_feature in Dataset.\n",
      "  _log_warning('Using categorical_feature in Dataset.')\n",
      "c:\\Users\\Lev\\miniconda3\\envs\\ds\\Lib\\site-packages\\lightgbm\\basic.py:2068: UserWarning: categorical_feature in Dataset is overridden.\n",
      "New categorical_feature is [0, 1, 44, 48]\n",
      "  _log_warning('categorical_feature in Dataset is overridden.\\n'\n"
     ]
    },
    {
     "name": "stdout",
     "output_type": "stream",
     "text": [
      "[LightGBM] [Warning] feature_fraction is set=0.7, colsample_bytree=0.6 will be ignored. Current value: feature_fraction=0.7\n"
     ]
    },
    {
     "name": "stderr",
     "output_type": "stream",
     "text": [
      "c:\\Users\\Lev\\miniconda3\\envs\\ds\\Lib\\site-packages\\lightgbm\\basic.py:1780: UserWarning: Overriding the parameters from Reference Dataset.\n",
      "  _log_warning('Overriding the parameters from Reference Dataset.')\n",
      "c:\\Users\\Lev\\miniconda3\\envs\\ds\\Lib\\site-packages\\lightgbm\\basic.py:1513: UserWarning: categorical_column in param dict is overridden.\n",
      "  _log_warning(f'{cat_alias} in param dict is overridden.')\n"
     ]
    },
    {
     "name": "stdout",
     "output_type": "stream",
     "text": [
      "[500]\tvalid_0's l1: 2.26355\n",
      "[1000]\tvalid_0's l1: 2.25607\n",
      "[1500]\tvalid_0's l1: 2.24017\n",
      "[2000]\tvalid_0's l1: 2.23156\n",
      "[2500]\tvalid_0's l1: 2.22782\n",
      "[3000]\tvalid_0's l1: 2.2243\n",
      "[3500]\tvalid_0's l1: 2.21928\n"
     ]
    },
    {
     "name": "stderr",
     "output_type": "stream",
     "text": [
      "[I 2023-09-30 22:03:28,733] Trial 5 finished with value: 0.49083026761545573 and parameters: {'reg_alpha': 0.0027494139187548014, 'reg_lambda': 0.0014229390792503186, 'colsample_bytree': 0.6, 'subsample': 0.7, 'learning_rate': 0.014, 'max_depth': 20, 'num_leaves': 674, 'min_child_samples': 34, 'feature_fraction': 0.7}. Best is trial 5 with value: 0.49083026761545573.\n",
      "C:\\Users\\Lev\\AppData\\Local\\Temp\\ipykernel_11328\\4177771111.py:22: FutureWarning: suggest_loguniform has been deprecated in v3.0.0. This feature will be removed in v6.0.0. See https://github.com/optuna/optuna/releases/tag/v3.0.0. Use suggest_float(..., log=True) instead.\n",
      "  'reg_alpha': trial.suggest_loguniform('reg_alpha', 1e-3, 10.0),\n",
      "C:\\Users\\Lev\\AppData\\Local\\Temp\\ipykernel_11328\\4177771111.py:23: FutureWarning: suggest_loguniform has been deprecated in v3.0.0. This feature will be removed in v6.0.0. See https://github.com/optuna/optuna/releases/tag/v3.0.0. Use suggest_float(..., log=True) instead.\n",
      "  'reg_lambda': trial.suggest_loguniform('reg_lambda', 1e-3, 10.0),\n",
      "c:\\Users\\Lev\\miniconda3\\envs\\ds\\Lib\\site-packages\\optuna\\distributions.py:685: UserWarning: The distribution is specified by [0.2, 0.95] and step=0.1, but the range is not divisible by `step`. It will be replaced by [0.2, 0.9].\n",
      "  warnings.warn(\n",
      "c:\\Users\\Lev\\miniconda3\\envs\\ds\\Lib\\site-packages\\lightgbm\\sklearn.py:726: UserWarning: 'early_stopping_rounds' argument is deprecated and will be removed in a future release of LightGBM. Pass 'early_stopping()' callback via 'callbacks' argument instead.\n",
      "  _log_warning(\"'early_stopping_rounds' argument is deprecated and will be removed in a future release of LightGBM. \"\n",
      "c:\\Users\\Lev\\miniconda3\\envs\\ds\\Lib\\site-packages\\lightgbm\\sklearn.py:736: UserWarning: 'verbose' argument is deprecated and will be removed in a future release of LightGBM. Pass 'log_evaluation()' callback via 'callbacks' argument instead.\n",
      "  _log_warning(\"'verbose' argument is deprecated and will be removed in a future release of LightGBM. \"\n",
      "c:\\Users\\Lev\\miniconda3\\envs\\ds\\Lib\\site-packages\\lightgbm\\basic.py:2065: UserWarning: Using categorical_feature in Dataset.\n",
      "  _log_warning('Using categorical_feature in Dataset.')\n",
      "c:\\Users\\Lev\\miniconda3\\envs\\ds\\Lib\\site-packages\\lightgbm\\basic.py:2068: UserWarning: categorical_feature in Dataset is overridden.\n",
      "New categorical_feature is [0, 1, 44, 48]\n",
      "  _log_warning('categorical_feature in Dataset is overridden.\\n'\n"
     ]
    },
    {
     "name": "stdout",
     "output_type": "stream",
     "text": [
      "[LightGBM] [Warning] feature_fraction is set=0.7, colsample_bytree=0.5 will be ignored. Current value: feature_fraction=0.7\n"
     ]
    },
    {
     "name": "stderr",
     "output_type": "stream",
     "text": [
      "c:\\Users\\Lev\\miniconda3\\envs\\ds\\Lib\\site-packages\\lightgbm\\basic.py:1780: UserWarning: Overriding the parameters from Reference Dataset.\n",
      "  _log_warning('Overriding the parameters from Reference Dataset.')\n",
      "c:\\Users\\Lev\\miniconda3\\envs\\ds\\Lib\\site-packages\\lightgbm\\basic.py:1513: UserWarning: categorical_column in param dict is overridden.\n",
      "  _log_warning(f'{cat_alias} in param dict is overridden.')\n"
     ]
    },
    {
     "name": "stdout",
     "output_type": "stream",
     "text": [
      "[500]\tvalid_0's l1: 2.41586\n",
      "[1000]\tvalid_0's l1: 2.40187\n",
      "[1500]\tvalid_0's l1: 2.387\n",
      "[2000]\tvalid_0's l1: 2.37675\n",
      "[2500]\tvalid_0's l1: 2.36912\n",
      "[3000]\tvalid_0's l1: 2.36121\n",
      "[3500]\tvalid_0's l1: 2.35716\n"
     ]
    },
    {
     "name": "stderr",
     "output_type": "stream",
     "text": [
      "[I 2023-09-30 22:04:25,774] Trial 6 finished with value: 0.5213402096421679 and parameters: {'reg_alpha': 0.9652736285448893, 'reg_lambda': 0.23867043802998314, 'colsample_bytree': 0.5, 'subsample': 0.5, 'learning_rate': 0.01, 'max_depth': 10, 'num_leaves': 73, 'min_child_samples': 72, 'feature_fraction': 0.7}. Best is trial 5 with value: 0.49083026761545573.\n",
      "C:\\Users\\Lev\\AppData\\Local\\Temp\\ipykernel_11328\\4177771111.py:22: FutureWarning: suggest_loguniform has been deprecated in v3.0.0. This feature will be removed in v6.0.0. See https://github.com/optuna/optuna/releases/tag/v3.0.0. Use suggest_float(..., log=True) instead.\n",
      "  'reg_alpha': trial.suggest_loguniform('reg_alpha', 1e-3, 10.0),\n",
      "C:\\Users\\Lev\\AppData\\Local\\Temp\\ipykernel_11328\\4177771111.py:23: FutureWarning: suggest_loguniform has been deprecated in v3.0.0. This feature will be removed in v6.0.0. See https://github.com/optuna/optuna/releases/tag/v3.0.0. Use suggest_float(..., log=True) instead.\n",
      "  'reg_lambda': trial.suggest_loguniform('reg_lambda', 1e-3, 10.0),\n",
      "c:\\Users\\Lev\\miniconda3\\envs\\ds\\Lib\\site-packages\\optuna\\distributions.py:685: UserWarning: The distribution is specified by [0.2, 0.95] and step=0.1, but the range is not divisible by `step`. It will be replaced by [0.2, 0.9].\n",
      "  warnings.warn(\n",
      "c:\\Users\\Lev\\miniconda3\\envs\\ds\\Lib\\site-packages\\lightgbm\\sklearn.py:726: UserWarning: 'early_stopping_rounds' argument is deprecated and will be removed in a future release of LightGBM. Pass 'early_stopping()' callback via 'callbacks' argument instead.\n",
      "  _log_warning(\"'early_stopping_rounds' argument is deprecated and will be removed in a future release of LightGBM. \"\n",
      "c:\\Users\\Lev\\miniconda3\\envs\\ds\\Lib\\site-packages\\lightgbm\\sklearn.py:736: UserWarning: 'verbose' argument is deprecated and will be removed in a future release of LightGBM. Pass 'log_evaluation()' callback via 'callbacks' argument instead.\n",
      "  _log_warning(\"'verbose' argument is deprecated and will be removed in a future release of LightGBM. \"\n",
      "c:\\Users\\Lev\\miniconda3\\envs\\ds\\Lib\\site-packages\\lightgbm\\basic.py:2065: UserWarning: Using categorical_feature in Dataset.\n",
      "  _log_warning('Using categorical_feature in Dataset.')\n",
      "c:\\Users\\Lev\\miniconda3\\envs\\ds\\Lib\\site-packages\\lightgbm\\basic.py:2068: UserWarning: categorical_feature in Dataset is overridden.\n",
      "New categorical_feature is [0, 1, 44, 48]\n",
      "  _log_warning('categorical_feature in Dataset is overridden.\\n'\n"
     ]
    },
    {
     "name": "stdout",
     "output_type": "stream",
     "text": [
      "[LightGBM] [Warning] feature_fraction is set=0.8, colsample_bytree=0.9 will be ignored. Current value: feature_fraction=0.8\n"
     ]
    },
    {
     "name": "stderr",
     "output_type": "stream",
     "text": [
      "c:\\Users\\Lev\\miniconda3\\envs\\ds\\Lib\\site-packages\\lightgbm\\basic.py:1780: UserWarning: Overriding the parameters from Reference Dataset.\n",
      "  _log_warning('Overriding the parameters from Reference Dataset.')\n",
      "c:\\Users\\Lev\\miniconda3\\envs\\ds\\Lib\\site-packages\\lightgbm\\basic.py:1513: UserWarning: categorical_column in param dict is overridden.\n",
      "  _log_warning(f'{cat_alias} in param dict is overridden.')\n"
     ]
    },
    {
     "name": "stdout",
     "output_type": "stream",
     "text": [
      "[500]\tvalid_0's l1: 2.41557\n"
     ]
    },
    {
     "name": "stderr",
     "output_type": "stream",
     "text": [
      "[I 2023-09-30 22:04:48,132] Trial 7 finished with value: 0.5338354821614011 and parameters: {'reg_alpha': 0.16979217018495985, 'reg_lambda': 0.005026861745379213, 'colsample_bytree': 0.9, 'subsample': 1.0, 'learning_rate': 0.008, 'max_depth': 10, 'num_leaves': 255, 'min_child_samples': 160, 'feature_fraction': 0.8}. Best is trial 5 with value: 0.49083026761545573.\n",
      "C:\\Users\\Lev\\AppData\\Local\\Temp\\ipykernel_11328\\4177771111.py:22: FutureWarning: suggest_loguniform has been deprecated in v3.0.0. This feature will be removed in v6.0.0. See https://github.com/optuna/optuna/releases/tag/v3.0.0. Use suggest_float(..., log=True) instead.\n",
      "  'reg_alpha': trial.suggest_loguniform('reg_alpha', 1e-3, 10.0),\n",
      "C:\\Users\\Lev\\AppData\\Local\\Temp\\ipykernel_11328\\4177771111.py:23: FutureWarning: suggest_loguniform has been deprecated in v3.0.0. This feature will be removed in v6.0.0. See https://github.com/optuna/optuna/releases/tag/v3.0.0. Use suggest_float(..., log=True) instead.\n",
      "  'reg_lambda': trial.suggest_loguniform('reg_lambda', 1e-3, 10.0),\n",
      "c:\\Users\\Lev\\miniconda3\\envs\\ds\\Lib\\site-packages\\optuna\\distributions.py:685: UserWarning: The distribution is specified by [0.2, 0.95] and step=0.1, but the range is not divisible by `step`. It will be replaced by [0.2, 0.9].\n",
      "  warnings.warn(\n",
      "c:\\Users\\Lev\\miniconda3\\envs\\ds\\Lib\\site-packages\\lightgbm\\sklearn.py:726: UserWarning: 'early_stopping_rounds' argument is deprecated and will be removed in a future release of LightGBM. Pass 'early_stopping()' callback via 'callbacks' argument instead.\n",
      "  _log_warning(\"'early_stopping_rounds' argument is deprecated and will be removed in a future release of LightGBM. \"\n",
      "c:\\Users\\Lev\\miniconda3\\envs\\ds\\Lib\\site-packages\\lightgbm\\sklearn.py:736: UserWarning: 'verbose' argument is deprecated and will be removed in a future release of LightGBM. Pass 'log_evaluation()' callback via 'callbacks' argument instead.\n",
      "  _log_warning(\"'verbose' argument is deprecated and will be removed in a future release of LightGBM. \"\n",
      "c:\\Users\\Lev\\miniconda3\\envs\\ds\\Lib\\site-packages\\lightgbm\\basic.py:2065: UserWarning: Using categorical_feature in Dataset.\n",
      "  _log_warning('Using categorical_feature in Dataset.')\n",
      "c:\\Users\\Lev\\miniconda3\\envs\\ds\\Lib\\site-packages\\lightgbm\\basic.py:2068: UserWarning: categorical_feature in Dataset is overridden.\n",
      "New categorical_feature is [0, 1, 44, 48]\n",
      "  _log_warning('categorical_feature in Dataset is overridden.\\n'\n"
     ]
    },
    {
     "name": "stdout",
     "output_type": "stream",
     "text": [
      "[LightGBM] [Warning] feature_fraction is set=0.30000000000000004, colsample_bytree=0.3 will be ignored. Current value: feature_fraction=0.30000000000000004\n"
     ]
    },
    {
     "name": "stderr",
     "output_type": "stream",
     "text": [
      "c:\\Users\\Lev\\miniconda3\\envs\\ds\\Lib\\site-packages\\lightgbm\\basic.py:1780: UserWarning: Overriding the parameters from Reference Dataset.\n",
      "  _log_warning('Overriding the parameters from Reference Dataset.')\n",
      "c:\\Users\\Lev\\miniconda3\\envs\\ds\\Lib\\site-packages\\lightgbm\\basic.py:1513: UserWarning: categorical_column in param dict is overridden.\n",
      "  _log_warning(f'{cat_alias} in param dict is overridden.')\n"
     ]
    },
    {
     "name": "stdout",
     "output_type": "stream",
     "text": [
      "[500]\tvalid_0's l1: 2.4792\n"
     ]
    },
    {
     "name": "stderr",
     "output_type": "stream",
     "text": [
      "[I 2023-09-30 22:05:06,731] Trial 8 finished with value: 0.5449717905920564 and parameters: {'reg_alpha': 0.018977608681243, 'reg_lambda': 0.0032857065317216634, 'colsample_bytree': 0.3, 'subsample': 0.8, 'learning_rate': 0.017, 'max_depth': 10, 'num_leaves': 609, 'min_child_samples': 188, 'feature_fraction': 0.30000000000000004}. Best is trial 5 with value: 0.49083026761545573.\n",
      "C:\\Users\\Lev\\AppData\\Local\\Temp\\ipykernel_11328\\4177771111.py:22: FutureWarning: suggest_loguniform has been deprecated in v3.0.0. This feature will be removed in v6.0.0. See https://github.com/optuna/optuna/releases/tag/v3.0.0. Use suggest_float(..., log=True) instead.\n",
      "  'reg_alpha': trial.suggest_loguniform('reg_alpha', 1e-3, 10.0),\n",
      "C:\\Users\\Lev\\AppData\\Local\\Temp\\ipykernel_11328\\4177771111.py:23: FutureWarning: suggest_loguniform has been deprecated in v3.0.0. This feature will be removed in v6.0.0. See https://github.com/optuna/optuna/releases/tag/v3.0.0. Use suggest_float(..., log=True) instead.\n",
      "  'reg_lambda': trial.suggest_loguniform('reg_lambda', 1e-3, 10.0),\n",
      "c:\\Users\\Lev\\miniconda3\\envs\\ds\\Lib\\site-packages\\optuna\\distributions.py:685: UserWarning: The distribution is specified by [0.2, 0.95] and step=0.1, but the range is not divisible by `step`. It will be replaced by [0.2, 0.9].\n",
      "  warnings.warn(\n",
      "c:\\Users\\Lev\\miniconda3\\envs\\ds\\Lib\\site-packages\\lightgbm\\sklearn.py:726: UserWarning: 'early_stopping_rounds' argument is deprecated and will be removed in a future release of LightGBM. Pass 'early_stopping()' callback via 'callbacks' argument instead.\n",
      "  _log_warning(\"'early_stopping_rounds' argument is deprecated and will be removed in a future release of LightGBM. \"\n",
      "c:\\Users\\Lev\\miniconda3\\envs\\ds\\Lib\\site-packages\\lightgbm\\sklearn.py:736: UserWarning: 'verbose' argument is deprecated and will be removed in a future release of LightGBM. Pass 'log_evaluation()' callback via 'callbacks' argument instead.\n",
      "  _log_warning(\"'verbose' argument is deprecated and will be removed in a future release of LightGBM. \"\n",
      "c:\\Users\\Lev\\miniconda3\\envs\\ds\\Lib\\site-packages\\lightgbm\\basic.py:2065: UserWarning: Using categorical_feature in Dataset.\n",
      "  _log_warning('Using categorical_feature in Dataset.')\n",
      "c:\\Users\\Lev\\miniconda3\\envs\\ds\\Lib\\site-packages\\lightgbm\\basic.py:2068: UserWarning: categorical_feature in Dataset is overridden.\n",
      "New categorical_feature is [0, 1, 44, 48]\n",
      "  _log_warning('categorical_feature in Dataset is overridden.\\n'\n"
     ]
    },
    {
     "name": "stdout",
     "output_type": "stream",
     "text": [
      "[LightGBM] [Warning] feature_fraction is set=0.30000000000000004, colsample_bytree=0.9 will be ignored. Current value: feature_fraction=0.30000000000000004\n"
     ]
    },
    {
     "name": "stderr",
     "output_type": "stream",
     "text": [
      "c:\\Users\\Lev\\miniconda3\\envs\\ds\\Lib\\site-packages\\lightgbm\\basic.py:1780: UserWarning: Overriding the parameters from Reference Dataset.\n",
      "  _log_warning('Overriding the parameters from Reference Dataset.')\n",
      "c:\\Users\\Lev\\miniconda3\\envs\\ds\\Lib\\site-packages\\lightgbm\\basic.py:1513: UserWarning: categorical_column in param dict is overridden.\n",
      "  _log_warning(f'{cat_alias} in param dict is overridden.')\n"
     ]
    },
    {
     "name": "stdout",
     "output_type": "stream",
     "text": [
      "[500]\tvalid_0's l1: 2.34565\n",
      "[1000]\tvalid_0's l1: 2.30953\n",
      "[1500]\tvalid_0's l1: 2.29639\n",
      "[2000]\tvalid_0's l1: 2.28756\n"
     ]
    },
    {
     "name": "stderr",
     "output_type": "stream",
     "text": [
      "[I 2023-09-30 22:06:29,887] Trial 9 finished with value: 0.506176986945191 and parameters: {'reg_alpha': 8.395209083724934, 'reg_lambda': 0.0011058644907820357, 'colsample_bytree': 0.9, 'subsample': 0.8, 'learning_rate': 0.017, 'max_depth': 100, 'num_leaves': 300, 'min_child_samples': 77, 'feature_fraction': 0.30000000000000004}. Best is trial 5 with value: 0.49083026761545573.\n"
     ]
    },
    {
     "name": "stdout",
     "output_type": "stream",
     "text": [
      "Number of finished trials: 10\n",
      "Best trial: {'reg_alpha': 0.0027494139187548014, 'reg_lambda': 0.0014229390792503186, 'colsample_bytree': 0.6, 'subsample': 0.7, 'learning_rate': 0.014, 'max_depth': 20, 'num_leaves': 674, 'min_child_samples': 34, 'feature_fraction': 0.7}\n"
     ]
    }
   ],
   "source": [
    "def objective(trial, data=with_store_lags, cols_to_drop=['date', 'sold', 'sku', 'store'], cat_features=['pr_sku_id', 'st_id', 'season', 'dow']):\n",
    "    \n",
    "    end_train = data['date'].max() - pd.Timedelta(days=14)\n",
    "    train = data[data['date'] <= end_train]\n",
    "    valid = data[data['date'] > end_train]\n",
    "\n",
    "    train_x = train.drop(cols_to_drop, axis=1)\n",
    "    train_y = train['sold']\n",
    "    test_x = valid.drop(cols_to_drop, axis=1)\n",
    "    test_y = valid['sold']\n",
    "\n",
    "    cat_idx = [train_x.columns.get_loc(col) for col in cat_features]\n",
    "\n",
    "    for col in cat_features:\n",
    "        train_x[col] = pd.Categorical(train_x[col])\n",
    "        test_x[col] = pd.Categorical(test_x[col])\n",
    "\n",
    "    param = {\n",
    "        'metric': 'mae', \n",
    "        'random_state': 26,\n",
    "        'n_estimators': 20000,\n",
    "        'reg_alpha': trial.suggest_loguniform('reg_alpha', 1e-3, 10.0),\n",
    "        'reg_lambda': trial.suggest_loguniform('reg_lambda', 1e-3, 10.0),\n",
    "        'colsample_bytree': trial.suggest_categorical('colsample_bytree', [0.3,0.4,0.5,0.6,0.7,0.8,0.9, 1.0]),\n",
    "        'subsample': trial.suggest_categorical('subsample', [0.4,0.5,0.6,0.7,0.8,1.0]),\n",
    "        'learning_rate': trial.suggest_categorical('learning_rate', [0.006,0.008,0.01,0.014,0.017,0.02]),\n",
    "        'max_depth': trial.suggest_categorical('max_depth', [10,20,100]),\n",
    "        'num_leaves' : trial.suggest_int('num_leaves', 1, 1000),\n",
    "        'min_child_samples': trial.suggest_int('min_child_samples', 1, 300),\n",
    "        'feature_fraction': trial.suggest_float('feature_fraction', 0.2, 0.95, step=0.1)\n",
    "    }\n",
    "    model = lgbm.LGBMRegressor(**param)  \n",
    "    \n",
    "    model.fit(train_x,train_y,categorical_feature=cat_idx,eval_set=[(test_x,test_y)],early_stopping_rounds=100,verbose=500)\n",
    "    \n",
    "    preds = model.predict(test_x)\n",
    "\n",
    "    trial.set_user_attr(key=\"best_booster\", value=model)\n",
    "    \n",
    "    return wape(test_y, preds)\n",
    "\n",
    "def callback(study, trial):\n",
    "    if study.best_trial.number == trial.number:\n",
    "        study.set_user_attr(key=\"best_booster\", value=trial.user_attrs[\"best_booster\"])\n",
    "\n",
    "\n",
    "if __name__ == \"__main__\":\n",
    "    study = optuna.create_study(\n",
    "        pruner=optuna.pruners.MedianPruner(n_warmup_steps=10), direction='minimize'\n",
    "    )\n",
    "    study.optimize(objective, n_trials=10, callbacks=[callback])\n",
    "    best_model=study.user_attrs[\"best_booster\"]\n",
    "\n",
    "print('Number of finished trials:', len(study.trials))\n",
    "print('Best trial:', study.best_trial.params)"
   ]
  },
  {
   "cell_type": "code",
   "execution_count": 53,
   "metadata": {},
   "outputs": [
    {
     "name": "stdout",
     "output_type": "stream",
     "text": [
      "LGBM WAPE: 0.49083026761545573\n"
     ]
    },
    {
     "data": {
      "image/png": "[encoded data removed]",
      "text/plain": [
       "<Figure size 1500x500 with 1 Axes>"
      ]
     },
     "metadata": {},
     "output_type": "display_data"
    }
   ],
   "source": [
    "data=with_store_lags\n",
    "cols_to_drop=['date', 'sold', 'sku', 'store']\n",
    "cat_features=['pr_sku_id', 'st_id', 'season', 'dow']\n",
    "\n",
    "end_train = data['date'].max() - pd.Timedelta(days=14)\n",
    "train = data[data['date'] <= end_train]\n",
    "valid = data[data['date'] > end_train]\n",
    "\n",
    "X_train = train.drop(cols_to_drop, axis=1)\n",
    "y_train = train['sold']\n",
    "X_valid = valid.drop(cols_to_drop, axis=1)\n",
    "y_valid = valid['sold']\n",
    "\n",
    "cat_idx = [X_train.columns.get_loc(col) for col in cat_features]\n",
    "\n",
    "for col in cat_features:\n",
    "    X_train[col] = pd.Categorical(X_train[col])\n",
    "    X_valid[col] = pd.Categorical(X_valid[col])\n",
    "\n",
    "lgbm_reg = best_model\n",
    "preds = lgbm_reg.predict(X_valid)\n",
    "lgbm_wape = wape(y_valid, preds)\n",
    "print(f\"LGBM WAPE: {lgbm_wape}\")\n",
    "\n",
    "plotImp(lgbm_reg, X_train)"
   ]
  },
  {
   "cell_type": "markdown",
   "metadata": {},
   "source": [
    "Здесь сохраняется та же логика кросс-валидации, которую мы применяли для предыдущей модели: мы выделили в качестве валидационной выборки последние 14 дней, оставив все предшествующие данные в обучающей выборке. Для второго фолда кросс-валидации мы сдвинули валидационную выборку на две недели раньше, тем самым на 14 дней сократив обучающую. Таким образом мы в цикле последовательно формируем 5 фолдов кросс-валидации, обучаем на хронологически первых данных градиентный бустинг, валидируем его на последних 14 днях и оцениваем важность признаков в порядке от наиболее к наименее важным. По изменениям метрики и графику важности признаков мы оцениваем признаки, добавленные в данной итерации. Наблюдения за процессом записаны в ячейке под обучением\n",
    "\n",
    "Наиболее важным представляется категориальный признак товар, затем его продажи вчера и позавчера. Это кажется логичным: прогноз основывается на том, как товар обычно продается, как продавался в последние дни. Важны лаги, кратные 7, что указывает на сильную недельную сезонность. На самом деле это даже может быть проблемой: когда мы смотрим на графики прогнозов нашей модели, мы мало что видим, кроме двух небольших пиков в выходные. Продажи магазина кажутся менее значимыми, чем продажи товара по всем магазинам, однако вчерашние продажи магазина и продажи неделю назад все же вошли в топ. Из календарных признаков важны день месяца и номер недели - есть тренд и месячная сезонность"
   ]
  },
  {
   "cell_type": "markdown",
   "metadata": {},
   "source": [
    "### Forecasting"
   ]
  },
  {
   "cell_type": "code",
   "execution_count": 54,
   "metadata": {},
   "outputs": [
    {
     "data": {
      "text/html": [
       "<div>\n",
       "<style scoped>\n",
       "    .dataframe tbody tr th:only-of-type {\n",
       "        vertical-align: middle;\n",
       "    }\n",
       "\n",
       "    .dataframe tbody tr th {\n",
       "        vertical-align: top;\n",
       "    }\n",
       "\n",
       "    .dataframe thead th {\n",
       "        text-align: right;\n",
       "    }\n",
       "</style>\n",
       "<table border=\"1\" class=\"dataframe\">\n",
       "  <thead>\n",
       "    <tr style=\"text-align: right;\">\n",
       "      <th></th>\n",
       "      <th>st_id</th>\n",
       "      <th>pr_sku_id</th>\n",
       "      <th>date</th>\n",
       "      <th>target</th>\n",
       "      <th>store_item</th>\n",
       "    </tr>\n",
       "  </thead>\n",
       "  <tbody>\n",
       "    <tr>\n",
       "      <th>0</th>\n",
       "      <td>16a5cdae362b8d27a1d8f8c7b78b4330</td>\n",
       "      <td>0045ebdb1069ff4b3dd3efe628c39cd3</td>\n",
       "      <td>2023-07-20</td>\n",
       "      <td>NaN</td>\n",
       "      <td>16a5cdae362b8d27a1d8f8c7b78b4330-0045ebdb1069f...</td>\n",
       "    </tr>\n",
       "    <tr>\n",
       "      <th>1</th>\n",
       "      <td>16a5cdae362b8d27a1d8f8c7b78b4330</td>\n",
       "      <td>00661699f543753ec7e911a64b9fd2f6</td>\n",
       "      <td>2023-07-20</td>\n",
       "      <td>2.0</td>\n",
       "      <td>16a5cdae362b8d27a1d8f8c7b78b4330-00661699f5437...</td>\n",
       "    </tr>\n",
       "    <tr>\n",
       "      <th>2</th>\n",
       "      <td>16a5cdae362b8d27a1d8f8c7b78b4330</td>\n",
       "      <td>0094042bfeae507dc7f62acc8e5ed03a</td>\n",
       "      <td>2023-07-20</td>\n",
       "      <td>7.0</td>\n",
       "      <td>16a5cdae362b8d27a1d8f8c7b78b4330-0094042bfeae5...</td>\n",
       "    </tr>\n",
       "    <tr>\n",
       "      <th>3</th>\n",
       "      <td>16a5cdae362b8d27a1d8f8c7b78b4330</td>\n",
       "      <td>0169529ff660adcac9b7e354e0c4b882</td>\n",
       "      <td>2023-07-20</td>\n",
       "      <td>NaN</td>\n",
       "      <td>16a5cdae362b8d27a1d8f8c7b78b4330-0169529ff660a...</td>\n",
       "    </tr>\n",
       "    <tr>\n",
       "      <th>4</th>\n",
       "      <td>16a5cdae362b8d27a1d8f8c7b78b4330</td>\n",
       "      <td>01e4734745e97e52d3213449e1a05dd7</td>\n",
       "      <td>2023-07-20</td>\n",
       "      <td>6.0</td>\n",
       "      <td>16a5cdae362b8d27a1d8f8c7b78b4330-01e4734745e97...</td>\n",
       "    </tr>\n",
       "  </tbody>\n",
       "</table>\n",
       "</div>"
      ],
      "text/plain": [
       "                              st_id                         pr_sku_id  \\\n",
       "0  16a5cdae362b8d27a1d8f8c7b78b4330  0045ebdb1069ff4b3dd3efe628c39cd3   \n",
       "1  16a5cdae362b8d27a1d8f8c7b78b4330  00661699f543753ec7e911a64b9fd2f6   \n",
       "2  16a5cdae362b8d27a1d8f8c7b78b4330  0094042bfeae507dc7f62acc8e5ed03a   \n",
       "3  16a5cdae362b8d27a1d8f8c7b78b4330  0169529ff660adcac9b7e354e0c4b882   \n",
       "4  16a5cdae362b8d27a1d8f8c7b78b4330  01e4734745e97e52d3213449e1a05dd7   \n",
       "\n",
       "        date  target                                         store_item  \n",
       "0 2023-07-20     NaN  16a5cdae362b8d27a1d8f8c7b78b4330-0045ebdb1069f...  \n",
       "1 2023-07-20     2.0  16a5cdae362b8d27a1d8f8c7b78b4330-00661699f5437...  \n",
       "2 2023-07-20     7.0  16a5cdae362b8d27a1d8f8c7b78b4330-0094042bfeae5...  \n",
       "3 2023-07-20     NaN  16a5cdae362b8d27a1d8f8c7b78b4330-0169529ff660a...  \n",
       "4 2023-07-20     6.0  16a5cdae362b8d27a1d8f8c7b78b4330-01e4734745e97...  "
      ]
     },
     "execution_count": 54,
     "metadata": {},
     "output_type": "execute_result"
    }
   ],
   "source": [
    "#get lines from submission form\n",
    "updated_sub = pd.read_csv('updated_sub.csv')\n",
    "updated_sub['date'] = pd.to_datetime(updated_sub['date']).dt.normalize()\n",
    "updated_sub['store_item'] = updated_sub['st_id'].str.cat(updated_sub['pr_sku_id'], sep='-')\n",
    "updated_sub.head()"
   ]
  },
  {
   "cell_type": "code",
   "execution_count": 69,
   "metadata": {},
   "outputs": [
    {
     "data": {
      "text/plain": [
       "(32774, 5)"
      ]
     },
     "execution_count": 69,
     "metadata": {},
     "output_type": "execute_result"
    }
   ],
   "source": [
    "#take only those lines we didn't fill in the previous part\n",
    "nonflagman_sub = updated_sub[updated_sub['target'].isna()]\n",
    "nonflagman_sub.shape"
   ]
  },
  {
   "cell_type": "code",
   "execution_count": 70,
   "metadata": {},
   "outputs": [
    {
     "data": {
      "text/plain": [
       "32774"
      ]
     },
     "execution_count": 70,
     "metadata": {},
     "output_type": "execute_result"
    }
   ],
   "source": [
    "#make sure there are 14-days forecast periods for each of item-store pairs\n",
    "nonflagman_sub['store_item'].nunique() * 14"
   ]
  },
  {
   "cell_type": "code",
   "execution_count": 71,
   "metadata": {},
   "outputs": [],
   "source": [
    "def preprocess_test_by_sku(pred_with_history):    \n",
    "    #index needs to be reset, as for non-first lines in a forecast they are equal\n",
    "    pred_with_history = pred_with_history.reset_index(drop=True)\n",
    "\n",
    "    #add lags - sku\n",
    "    pred_with_history[['sku_lag_' + str(n) for n in range(1, 22)]] = pred_with_history[['sku_lag_' + str(n) for n in range(1, 22)]].fillna(method='ffill')\n",
    "    pred_with_history[['sku_lag_' + str(n) for n in range(1, 22)]] = pred_with_history[['sku_lag_' + str(n) for n in range(1, 22)]].shift(1, axis=1)\n",
    "    pred_with_history.loc[pred_with_history.index[-1], 'sku_lag_1'] = pred_with_history.loc[pred_with_history.index[0], 'sku']\n",
    "\n",
    "    #add features of day-of-week, day-of-month, week, month, season\n",
    "    pred_with_history['dow'] = pred_with_history['date'].dt.dayofweek\n",
    "    pred_with_history['day'] = pred_with_history['date'].dt.day\n",
    "    pred_with_history['week'] = pred_with_history['date'].dt.isocalendar().week.astype('int32')\n",
    "    pred_with_history['month'] = pred_with_history['date'].dt.month\n",
    "    pred_with_history['season'] = pred_with_history['date'].dt.quarter    \n",
    "    \n",
    "    #drop upper row\n",
    "    pred_with_history = pred_with_history.drop(pred_with_history.index[0], axis=0)    \n",
    "\n",
    "    return(pred_with_history)"
   ]
  },
  {
   "cell_type": "code",
   "execution_count": 72,
   "metadata": {},
   "outputs": [],
   "source": [
    "def preprocess_test_by_store(pred_with_history):    \n",
    "    #index needs to be reset, as for non-first lines in a forecast they are equal\n",
    "    pred_with_history = pred_with_history.reset_index(drop=True)\n",
    "\n",
    "    #add lags - store\n",
    "    pred_with_history[['store_lag_' + str(n) for n in range(1, 22)]] = pred_with_history[['store_lag_' + str(n) for n in range(1, 22)]].fillna(method='ffill')\n",
    "    pred_with_history[['store_lag_' + str(n) for n in range(1, 22)]] = pred_with_history[['store_lag_' + str(n) for n in range(1, 22)]].shift(1, axis=1)\n",
    "    pred_with_history.loc[pred_with_history.index[-1], 'store_lag_1'] = pred_with_history.loc[pred_with_history.index[0], 'store']\n",
    "    \n",
    "    #drop upper row\n",
    "    pred_with_history = pred_with_history.drop(pred_with_history.index[0], axis=0)    \n",
    "\n",
    "    return(pred_with_history)"
   ]
  },
  {
   "cell_type": "code",
   "execution_count": 73,
   "metadata": {},
   "outputs": [
    {
     "data": {
      "text/html": [
       "<div>\n",
       "<style scoped>\n",
       "    .dataframe tbody tr th:only-of-type {\n",
       "        vertical-align: middle;\n",
       "    }\n",
       "\n",
       "    .dataframe tbody tr th {\n",
       "        vertical-align: top;\n",
       "    }\n",
       "\n",
       "    .dataframe thead th {\n",
       "        text-align: right;\n",
       "    }\n",
       "</style>\n",
       "<table border=\"1\" class=\"dataframe\">\n",
       "  <thead>\n",
       "    <tr style=\"text-align: right;\">\n",
       "      <th></th>\n",
       "      <th>st_id</th>\n",
       "      <th>pr_sku_id</th>\n",
       "      <th>date</th>\n",
       "      <th>target</th>\n",
       "    </tr>\n",
       "  </thead>\n",
       "  <tbody>\n",
       "    <tr>\n",
       "      <th>24968</th>\n",
       "      <td>16a5cdae362b8d27a1d8f8c7b78b4330</td>\n",
       "      <td>0045ebdb1069ff4b3dd3efe628c39cd3</td>\n",
       "      <td>2023-07-19</td>\n",
       "      <td>NaN</td>\n",
       "    </tr>\n",
       "  </tbody>\n",
       "</table>\n",
       "</div>"
      ],
      "text/plain": [
       "                                  st_id                         pr_sku_id  \\\n",
       "24968  16a5cdae362b8d27a1d8f8c7b78b4330  0045ebdb1069ff4b3dd3efe628c39cd3   \n",
       "\n",
       "            date  target  \n",
       "24968 2023-07-19     NaN  "
      ]
     },
     "execution_count": 73,
     "metadata": {},
     "output_type": "execute_result"
    }
   ],
   "source": [
    "#this is what we'll get as input\n",
    "nonflagman_sub = nonflagman_sub.drop('store_item', axis=1)\n",
    "first_pred = nonflagman_sub[nonflagman_sub['date'] == nonflagman_sub['date'].min()].head(1)\n",
    "first_pred"
   ]
  },
  {
   "cell_type": "code",
   "execution_count": 74,
   "metadata": {},
   "outputs": [
    {
     "data": {
      "text/html": [
       "<div>\n",
       "<style scoped>\n",
       "    .dataframe tbody tr th:only-of-type {\n",
       "        vertical-align: middle;\n",
       "    }\n",
       "\n",
       "    .dataframe tbody tr th {\n",
       "        vertical-align: top;\n",
       "    }\n",
       "\n",
       "    .dataframe thead th {\n",
       "        text-align: right;\n",
       "    }\n",
       "</style>\n",
       "<table border=\"1\" class=\"dataframe\">\n",
       "  <thead>\n",
       "    <tr style=\"text-align: right;\">\n",
       "      <th></th>\n",
       "      <th>st_id</th>\n",
       "      <th>pr_sku_id</th>\n",
       "      <th>date</th>\n",
       "      <th>target</th>\n",
       "    </tr>\n",
       "  </thead>\n",
       "  <tbody>\n",
       "    <tr>\n",
       "      <th>24968</th>\n",
       "      <td>16a5cdae362b8d27a1d8f8c7b78b4330</td>\n",
       "      <td>0045ebdb1069ff4b3dd3efe628c39cd3</td>\n",
       "      <td>2023-07-19</td>\n",
       "      <td>2</td>\n",
       "    </tr>\n",
       "    <tr>\n",
       "      <th>24968</th>\n",
       "      <td>16a5cdae362b8d27a1d8f8c7b78b4330</td>\n",
       "      <td>0045ebdb1069ff4b3dd3efe628c39cd3</td>\n",
       "      <td>2023-07-20</td>\n",
       "      <td>3</td>\n",
       "    </tr>\n",
       "    <tr>\n",
       "      <th>24968</th>\n",
       "      <td>16a5cdae362b8d27a1d8f8c7b78b4330</td>\n",
       "      <td>0045ebdb1069ff4b3dd3efe628c39cd3</td>\n",
       "      <td>2023-07-21</td>\n",
       "      <td>4</td>\n",
       "    </tr>\n",
       "    <tr>\n",
       "      <th>24968</th>\n",
       "      <td>16a5cdae362b8d27a1d8f8c7b78b4330</td>\n",
       "      <td>0045ebdb1069ff4b3dd3efe628c39cd3</td>\n",
       "      <td>2023-07-22</td>\n",
       "      <td>3</td>\n",
       "    </tr>\n",
       "    <tr>\n",
       "      <th>24968</th>\n",
       "      <td>16a5cdae362b8d27a1d8f8c7b78b4330</td>\n",
       "      <td>0045ebdb1069ff4b3dd3efe628c39cd3</td>\n",
       "      <td>2023-07-23</td>\n",
       "      <td>3</td>\n",
       "    </tr>\n",
       "    <tr>\n",
       "      <th>24968</th>\n",
       "      <td>16a5cdae362b8d27a1d8f8c7b78b4330</td>\n",
       "      <td>0045ebdb1069ff4b3dd3efe628c39cd3</td>\n",
       "      <td>2023-07-24</td>\n",
       "      <td>2</td>\n",
       "    </tr>\n",
       "    <tr>\n",
       "      <th>24968</th>\n",
       "      <td>16a5cdae362b8d27a1d8f8c7b78b4330</td>\n",
       "      <td>0045ebdb1069ff4b3dd3efe628c39cd3</td>\n",
       "      <td>2023-07-25</td>\n",
       "      <td>3</td>\n",
       "    </tr>\n",
       "    <tr>\n",
       "      <th>24968</th>\n",
       "      <td>16a5cdae362b8d27a1d8f8c7b78b4330</td>\n",
       "      <td>0045ebdb1069ff4b3dd3efe628c39cd3</td>\n",
       "      <td>2023-07-26</td>\n",
       "      <td>3</td>\n",
       "    </tr>\n",
       "    <tr>\n",
       "      <th>24968</th>\n",
       "      <td>16a5cdae362b8d27a1d8f8c7b78b4330</td>\n",
       "      <td>0045ebdb1069ff4b3dd3efe628c39cd3</td>\n",
       "      <td>2023-07-27</td>\n",
       "      <td>3</td>\n",
       "    </tr>\n",
       "    <tr>\n",
       "      <th>24968</th>\n",
       "      <td>16a5cdae362b8d27a1d8f8c7b78b4330</td>\n",
       "      <td>0045ebdb1069ff4b3dd3efe628c39cd3</td>\n",
       "      <td>2023-07-28</td>\n",
       "      <td>3</td>\n",
       "    </tr>\n",
       "    <tr>\n",
       "      <th>24968</th>\n",
       "      <td>16a5cdae362b8d27a1d8f8c7b78b4330</td>\n",
       "      <td>0045ebdb1069ff4b3dd3efe628c39cd3</td>\n",
       "      <td>2023-07-29</td>\n",
       "      <td>3</td>\n",
       "    </tr>\n",
       "    <tr>\n",
       "      <th>24968</th>\n",
       "      <td>16a5cdae362b8d27a1d8f8c7b78b4330</td>\n",
       "      <td>0045ebdb1069ff4b3dd3efe628c39cd3</td>\n",
       "      <td>2023-07-30</td>\n",
       "      <td>2</td>\n",
       "    </tr>\n",
       "    <tr>\n",
       "      <th>24968</th>\n",
       "      <td>16a5cdae362b8d27a1d8f8c7b78b4330</td>\n",
       "      <td>0045ebdb1069ff4b3dd3efe628c39cd3</td>\n",
       "      <td>2023-07-31</td>\n",
       "      <td>2</td>\n",
       "    </tr>\n",
       "    <tr>\n",
       "      <th>24968</th>\n",
       "      <td>16a5cdae362b8d27a1d8f8c7b78b4330</td>\n",
       "      <td>0045ebdb1069ff4b3dd3efe628c39cd3</td>\n",
       "      <td>2023-08-01</td>\n",
       "      <td>2</td>\n",
       "    </tr>\n",
       "  </tbody>\n",
       "</table>\n",
       "</div>"
      ],
      "text/plain": [
       "                                  st_id                         pr_sku_id  \\\n",
       "24968  16a5cdae362b8d27a1d8f8c7b78b4330  0045ebdb1069ff4b3dd3efe628c39cd3   \n",
       "24968  16a5cdae362b8d27a1d8f8c7b78b4330  0045ebdb1069ff4b3dd3efe628c39cd3   \n",
       "24968  16a5cdae362b8d27a1d8f8c7b78b4330  0045ebdb1069ff4b3dd3efe628c39cd3   \n",
       "24968  16a5cdae362b8d27a1d8f8c7b78b4330  0045ebdb1069ff4b3dd3efe628c39cd3   \n",
       "24968  16a5cdae362b8d27a1d8f8c7b78b4330  0045ebdb1069ff4b3dd3efe628c39cd3   \n",
       "24968  16a5cdae362b8d27a1d8f8c7b78b4330  0045ebdb1069ff4b3dd3efe628c39cd3   \n",
       "24968  16a5cdae362b8d27a1d8f8c7b78b4330  0045ebdb1069ff4b3dd3efe628c39cd3   \n",
       "24968  16a5cdae362b8d27a1d8f8c7b78b4330  0045ebdb1069ff4b3dd3efe628c39cd3   \n",
       "24968  16a5cdae362b8d27a1d8f8c7b78b4330  0045ebdb1069ff4b3dd3efe628c39cd3   \n",
       "24968  16a5cdae362b8d27a1d8f8c7b78b4330  0045ebdb1069ff4b3dd3efe628c39cd3   \n",
       "24968  16a5cdae362b8d27a1d8f8c7b78b4330  0045ebdb1069ff4b3dd3efe628c39cd3   \n",
       "24968  16a5cdae362b8d27a1d8f8c7b78b4330  0045ebdb1069ff4b3dd3efe628c39cd3   \n",
       "24968  16a5cdae362b8d27a1d8f8c7b78b4330  0045ebdb1069ff4b3dd3efe628c39cd3   \n",
       "24968  16a5cdae362b8d27a1d8f8c7b78b4330  0045ebdb1069ff4b3dd3efe628c39cd3   \n",
       "\n",
       "            date  target  \n",
       "24968 2023-07-19       2  \n",
       "24968 2023-07-20       3  \n",
       "24968 2023-07-21       4  \n",
       "24968 2023-07-22       3  \n",
       "24968 2023-07-23       3  \n",
       "24968 2023-07-24       2  \n",
       "24968 2023-07-25       3  \n",
       "24968 2023-07-26       3  \n",
       "24968 2023-07-27       3  \n",
       "24968 2023-07-28       3  \n",
       "24968 2023-07-29       3  \n",
       "24968 2023-07-30       2  \n",
       "24968 2023-07-31       2  \n",
       "24968 2023-08-01       2  "
      ]
     },
     "execution_count": 74,
     "metadata": {},
     "output_type": "execute_result"
    }
   ],
   "source": [
    "def make_forecast_for_sample_row(line_from_submission, h=14):\n",
    "    forecast = pd.DataFrame()\n",
    "    row = line_from_submission.copy()\n",
    "    start_date = row['date']\n",
    "    \n",
    "    for i in range(h):\n",
    "        row['date'] = start_date + pd.Timedelta(days=1*i)\n",
    "        lower_row = row.copy()\n",
    "\n",
    "        #if first line take lags from the last line of train. otherwise from previous predicted line\n",
    "        #first match sku to get sku lags\n",
    "        if i == 0:\n",
    "            last_train_date = with_store_lags['date'].max()\n",
    "            upper_row = with_store_lags[(with_store_lags['pr_sku_id'] == lower_row['pr_sku_id'].item()) & \n",
    "                                        (with_store_lags['date'] == last_train_date)].head(1)\n",
    "        else:\n",
    "            upper_row = last_preprocessed\n",
    "        \n",
    "        #glue two lines together, the full and the empty that needs features to be added\n",
    "        pred_with_history = pd.concat([upper_row, lower_row])        \n",
    "        sku_preprocessed = preprocess_test_by_sku(pred_with_history)\n",
    "\n",
    "        #now match store to get store lags\n",
    "        if i == 0:\n",
    "            last_train_date = with_store_lags['date'].max()\n",
    "            upper_row = with_store_lags[(with_store_lags['st_id'] == lower_row['st_id'].item()) & \n",
    "                                        (with_store_lags['date'] == last_train_date)].head(1)\n",
    "        else:\n",
    "            upper_row = last_preprocessed\n",
    "        \n",
    "        #glue two lines together, the full and the empty that needs features to be added\n",
    "        pred_with_history = pd.concat([upper_row, sku_preprocessed])        \n",
    "        last_preprocessed = preprocess_test_by_store(pred_with_history)\n",
    "        \n",
    "        #drop columns before model\n",
    "        X_test = last_preprocessed.drop(['date', 'sold', 'sku', 'store', 'target'], axis=1)\n",
    "\n",
    "        #fix categorical\n",
    "        for col in cat_features:\n",
    "            X_test[col] = pd.Categorical(X_test[col])\n",
    "            \n",
    "        pred = lgbm_reg.predict(X_test)\n",
    "\n",
    "        #prediction becomes \"fact\" of the day we forecast to become lag_1 for the next day. also it goes to forecast table as target\n",
    "        last_preprocessed['sold'] = round(pred.item())\n",
    "        row['target'] = round(pred.item())\n",
    "        \n",
    "        forecast = pd.concat([forecast, row])\n",
    "        \n",
    "    return forecast\n",
    "\n",
    "make_forecast_for_sample_row(first_pred)"
   ]
  },
  {
   "cell_type": "code",
   "execution_count": 75,
   "metadata": {},
   "outputs": [
    {
     "data": {
      "text/plain": [
       "st_id             0\n",
       "pr_sku_id         0\n",
       "date              0\n",
       "target        32774\n",
       "store_item        0\n",
       "dtype: int64"
      ]
     },
     "execution_count": 75,
     "metadata": {},
     "output_type": "execute_result"
    }
   ],
   "source": [
    "#lets fill submission file with forecasts. na sum shows how many values are left\n",
    "updated_sub.isna().sum()"
   ]
  },
  {
   "cell_type": "code",
   "execution_count": 76,
   "metadata": {},
   "outputs": [
    {
     "data": {
      "text/html": [
       "<div>\n",
       "<style scoped>\n",
       "    .dataframe tbody tr th:only-of-type {\n",
       "        vertical-align: middle;\n",
       "    }\n",
       "\n",
       "    .dataframe tbody tr th {\n",
       "        vertical-align: top;\n",
       "    }\n",
       "\n",
       "    .dataframe thead th {\n",
       "        text-align: right;\n",
       "    }\n",
       "</style>\n",
       "<table border=\"1\" class=\"dataframe\">\n",
       "  <thead>\n",
       "    <tr style=\"text-align: right;\">\n",
       "      <th></th>\n",
       "      <th>st_id</th>\n",
       "      <th>pr_sku_id</th>\n",
       "      <th>date</th>\n",
       "    </tr>\n",
       "  </thead>\n",
       "  <tbody>\n",
       "    <tr>\n",
       "      <th>0</th>\n",
       "      <td>16a5cdae362b8d27a1d8f8c7b78b4330</td>\n",
       "      <td>0045ebdb1069ff4b3dd3efe628c39cd3</td>\n",
       "      <td>2023-07-19</td>\n",
       "    </tr>\n",
       "    <tr>\n",
       "      <th>1</th>\n",
       "      <td>16a5cdae362b8d27a1d8f8c7b78b4330</td>\n",
       "      <td>0169529ff660adcac9b7e354e0c4b882</td>\n",
       "      <td>2023-07-19</td>\n",
       "    </tr>\n",
       "    <tr>\n",
       "      <th>2</th>\n",
       "      <td>16a5cdae362b8d27a1d8f8c7b78b4330</td>\n",
       "      <td>02713435f3587e2c81d8f6a9016763ea</td>\n",
       "      <td>2023-07-19</td>\n",
       "    </tr>\n",
       "    <tr>\n",
       "      <th>3</th>\n",
       "      <td>16a5cdae362b8d27a1d8f8c7b78b4330</td>\n",
       "      <td>0448c8afc036bb44c457d7e9edd74c50</td>\n",
       "      <td>2023-07-19</td>\n",
       "    </tr>\n",
       "    <tr>\n",
       "      <th>4</th>\n",
       "      <td>16a5cdae362b8d27a1d8f8c7b78b4330</td>\n",
       "      <td>050a8120e2a3b8751df8752fcc0323ef</td>\n",
       "      <td>2023-07-19</td>\n",
       "    </tr>\n",
       "  </tbody>\n",
       "</table>\n",
       "</div>"
      ],
      "text/plain": [
       "                              st_id                         pr_sku_id  \\\n",
       "0  16a5cdae362b8d27a1d8f8c7b78b4330  0045ebdb1069ff4b3dd3efe628c39cd3   \n",
       "1  16a5cdae362b8d27a1d8f8c7b78b4330  0169529ff660adcac9b7e354e0c4b882   \n",
       "2  16a5cdae362b8d27a1d8f8c7b78b4330  02713435f3587e2c81d8f6a9016763ea   \n",
       "3  16a5cdae362b8d27a1d8f8c7b78b4330  0448c8afc036bb44c457d7e9edd74c50   \n",
       "4  16a5cdae362b8d27a1d8f8c7b78b4330  050a8120e2a3b8751df8752fcc0323ef   \n",
       "\n",
       "        date  \n",
       "0 2023-07-19  \n",
       "1 2023-07-19  \n",
       "2 2023-07-19  \n",
       "3 2023-07-19  \n",
       "4 2023-07-19  "
      ]
     },
     "execution_count": 76,
     "metadata": {},
     "output_type": "execute_result"
    }
   ],
   "source": [
    "#here are pairs we're going to predict with this model\n",
    "nonflagman_sub = nonflagman_sub.groupby(['st_id', 'pr_sku_id'])['date'].min().reset_index()\n",
    "nonflagman_sub.head()"
   ]
  },
  {
   "cell_type": "code",
   "execution_count": 77,
   "metadata": {},
   "outputs": [
    {
     "data": {
      "text/plain": [
       "(2341, 3)"
      ]
     },
     "execution_count": 77,
     "metadata": {},
     "output_type": "execute_result"
    }
   ],
   "source": [
    "nonflagman_sub.shape"
   ]
  },
  {
   "cell_type": "code",
   "execution_count": 78,
   "metadata": {},
   "outputs": [],
   "source": [
    "common_forecast = pd.DataFrame()\n",
    "for index, row in nonflagman_sub.iterrows():\n",
    "    try:\n",
    "        forecast = make_forecast_for_sample_row(pd.DataFrame({'st_id': row['st_id'], 'pr_sku_id': row['pr_sku_id'], 'date': row['date'], 'target': np.nan}, index=[0]))    \n",
    "        common_forecast = pd.concat([common_forecast, forecast])\n",
    "    except:\n",
    "        continue\n",
    "    "
   ]
  },
  {
   "cell_type": "code",
   "execution_count": 79,
   "metadata": {},
   "outputs": [
    {
     "data": {
      "text/plain": [
       "date\n",
       "2023-07-19    1763\n",
       "2023-07-20    1763\n",
       "2023-07-21    1763\n",
       "2023-07-22    1763\n",
       "2023-07-23    1763\n",
       "2023-07-24    1763\n",
       "2023-07-25    1763\n",
       "2023-07-26    1763\n",
       "2023-07-27    1763\n",
       "2023-07-28    1763\n",
       "2023-07-29    1763\n",
       "2023-07-30    1763\n",
       "2023-07-31    1763\n",
       "2023-08-01    1763\n",
       "Name: count, dtype: int64"
      ]
     },
     "execution_count": 79,
     "metadata": {},
     "output_type": "execute_result"
    }
   ],
   "source": [
    "#check that there are 14 days of forecast for each pair of 2341\n",
    "common_forecast.date.value_counts()"
   ]
  },
  {
   "cell_type": "code",
   "execution_count": 80,
   "metadata": {},
   "outputs": [
    {
     "data": {
      "text/plain": [
       "st_id             0\n",
       "pr_sku_id         0\n",
       "date              0\n",
       "target_x      32774\n",
       "store_item        0\n",
       "target_y      19012\n",
       "dtype: int64"
      ]
     },
     "execution_count": 80,
     "metadata": {},
     "output_type": "execute_result"
    }
   ],
   "source": [
    "#update submission\n",
    "updated_sub = updated_sub.merge(common_forecast, on=['st_id', 'pr_sku_id', 'date'], how='left')\n",
    "updated_sub.isna().sum()"
   ]
  },
  {
   "cell_type": "code",
   "execution_count": 89,
   "metadata": {},
   "outputs": [
    {
     "data": {
      "text/plain": [
       "st_id           0\n",
       "pr_sku_id       0\n",
       "date            0\n",
       "target       8092\n",
       "isna_sum        0\n",
       "dtype: int64"
      ]
     },
     "execution_count": 89,
     "metadata": {},
     "output_type": "execute_result"
    }
   ],
   "source": [
    "#return to original columns\n",
    "new_updated_sub = updated_sub.copy()\n",
    "new_updated_sub['isna_sum'] = new_updated_sub.isna().sum(axis=1)\n",
    "new_updated_sub['target_x'] = new_updated_sub[['target_x', 'target_y']].sum(axis=1)\n",
    "new_updated_sub = new_updated_sub.rename(columns={'target_x': 'target'}).drop(['target_y', 'store_item'], axis=1)\n",
    "new_updated_sub['target'] = new_updated_sub.apply(lambda x: np.nan if x['isna_sum'] == 2 else x['target'], axis=1)\n",
    "new_updated_sub.isna().sum()"
   ]
  },
  {
   "cell_type": "markdown",
   "metadata": {},
   "source": [
    "У нас осталось достаточно много незаполненных строк. Это строки, попавшие при прогнозе в исключение - для товаров не нашлись данные в последний день обучающей выборки, 2023-07-18. Подтянем для них временные ряды, ранее заполненные нулями. Для этого необходимо изменить функцию прогноза"
   ]
  },
  {
   "cell_type": "code",
   "execution_count": 90,
   "metadata": {},
   "outputs": [],
   "source": [
    "def make_last_forecast(line_from_submission, h=14):\n",
    "    forecast = pd.DataFrame()\n",
    "    row = line_from_submission.copy()\n",
    "    start_date = row['date']\n",
    "    \n",
    "    for i in range(h):\n",
    "        row['date'] = start_date + pd.Timedelta(days=1*i)\n",
    "        lower_row = row.copy()\n",
    "\n",
    "        #this is what we change. look for lags not in train dataset, but in byproduct where we filled missing days with zeros\n",
    "        if i == 0:\n",
    "            last_train_date = with_store_lags['date'].max()\n",
    "            upper_row = byproduct[(byproduct['pr_sku_id'] == lower_row['pr_sku_id'].item()) & \n",
    "                                        (byproduct['date'] == last_train_date)].head(1)\n",
    "        else:\n",
    "            upper_row = last_preprocessed\n",
    "        \n",
    "        #glue two lines together, the full and the empty that needs features to be added\n",
    "        pred_with_history = pd.concat([upper_row, lower_row])        \n",
    "        sku_preprocessed = preprocess_test_by_sku(pred_with_history)\n",
    "\n",
    "        #now match store to get store lags\n",
    "        if i == 0:\n",
    "            last_train_date = with_store_lags['date'].max()\n",
    "            upper_row = with_store_lags[(with_store_lags['st_id'] == lower_row['st_id'].item()) & \n",
    "                                        (with_store_lags['date'] == last_train_date)].head(1)\n",
    "        else:\n",
    "            upper_row = last_preprocessed\n",
    "        \n",
    "        #glue two lines together, the full and the empty that needs features to be added\n",
    "        pred_with_history = pd.concat([upper_row, sku_preprocessed])        \n",
    "        last_preprocessed = preprocess_test_by_store(pred_with_history)\n",
    "        \n",
    "        #drop columns before model\n",
    "        X_test = last_preprocessed.drop(['date', 'sold', 'sku', 'store', 'target'], axis=1)\n",
    "\n",
    "        #fix categorical\n",
    "        for col in cat_features:\n",
    "            X_test[col] = pd.Categorical(X_test[col])\n",
    "            \n",
    "        pred = lgbm_reg.predict(X_test)\n",
    "\n",
    "        #prediction becomes \"fact\" of the day we forecast to become lag_1 for the next day. also it goes to forecast table as target\n",
    "        last_preprocessed['sold'] = round(pred.item())\n",
    "        row['target'] = round(pred.item())\n",
    "        \n",
    "        forecast = pd.concat([forecast, row])\n",
    "        \n",
    "    return forecast"
   ]
  },
  {
   "cell_type": "code",
   "execution_count": 92,
   "metadata": {},
   "outputs": [
    {
     "data": {
      "text/html": [
       "<div>\n",
       "<style scoped>\n",
       "    .dataframe tbody tr th:only-of-type {\n",
       "        vertical-align: middle;\n",
       "    }\n",
       "\n",
       "    .dataframe tbody tr th {\n",
       "        vertical-align: top;\n",
       "    }\n",
       "\n",
       "    .dataframe thead th {\n",
       "        text-align: right;\n",
       "    }\n",
       "</style>\n",
       "<table border=\"1\" class=\"dataframe\">\n",
       "  <thead>\n",
       "    <tr style=\"text-align: right;\">\n",
       "      <th></th>\n",
       "      <th>st_id</th>\n",
       "      <th>pr_sku_id</th>\n",
       "      <th>date</th>\n",
       "    </tr>\n",
       "  </thead>\n",
       "  <tbody>\n",
       "    <tr>\n",
       "      <th>0</th>\n",
       "      <td>16a5cdae362b8d27a1d8f8c7b78b4330</td>\n",
       "      <td>0696efaa77a5d9e6590cb1654125146d</td>\n",
       "      <td>2023-07-19</td>\n",
       "    </tr>\n",
       "    <tr>\n",
       "      <th>1</th>\n",
       "      <td>16a5cdae362b8d27a1d8f8c7b78b4330</td>\n",
       "      <td>072e81e77edf6f7370bc290b32c9bb81</td>\n",
       "      <td>2023-07-19</td>\n",
       "    </tr>\n",
       "    <tr>\n",
       "      <th>2</th>\n",
       "      <td>16a5cdae362b8d27a1d8f8c7b78b4330</td>\n",
       "      <td>15f0c24e521b6f8b4379a0d4958fbae9</td>\n",
       "      <td>2023-07-19</td>\n",
       "    </tr>\n",
       "    <tr>\n",
       "      <th>3</th>\n",
       "      <td>16a5cdae362b8d27a1d8f8c7b78b4330</td>\n",
       "      <td>16939b73c086c005ffeda3375320816d</td>\n",
       "      <td>2023-07-19</td>\n",
       "    </tr>\n",
       "    <tr>\n",
       "      <th>4</th>\n",
       "      <td>16a5cdae362b8d27a1d8f8c7b78b4330</td>\n",
       "      <td>18263c76c0db10f61f721741382c091f</td>\n",
       "      <td>2023-07-19</td>\n",
       "    </tr>\n",
       "  </tbody>\n",
       "</table>\n",
       "</div>"
      ],
      "text/plain": [
       "                              st_id                         pr_sku_id  \\\n",
       "0  16a5cdae362b8d27a1d8f8c7b78b4330  0696efaa77a5d9e6590cb1654125146d   \n",
       "1  16a5cdae362b8d27a1d8f8c7b78b4330  072e81e77edf6f7370bc290b32c9bb81   \n",
       "2  16a5cdae362b8d27a1d8f8c7b78b4330  15f0c24e521b6f8b4379a0d4958fbae9   \n",
       "3  16a5cdae362b8d27a1d8f8c7b78b4330  16939b73c086c005ffeda3375320816d   \n",
       "4  16a5cdae362b8d27a1d8f8c7b78b4330  18263c76c0db10f61f721741382c091f   \n",
       "\n",
       "        date  \n",
       "0 2023-07-19  \n",
       "1 2023-07-19  \n",
       "2 2023-07-19  \n",
       "3 2023-07-19  \n",
       "4 2023-07-19  "
      ]
     },
     "execution_count": 92,
     "metadata": {},
     "output_type": "execute_result"
    }
   ],
   "source": [
    "#form dataset for which forecast is not filled\n",
    "rare_sku_sub = new_updated_sub[new_updated_sub['target'].isna()]\n",
    "rare_sku_sub = rare_sku_sub.groupby(['st_id', 'pr_sku_id'])['date'].min().reset_index()\n",
    "rare_sku_sub.head()"
   ]
  },
  {
   "cell_type": "code",
   "execution_count": 93,
   "metadata": {},
   "outputs": [
    {
     "data": {
      "text/plain": [
       "((578, 3), 578.0)"
      ]
     },
     "execution_count": 93,
     "metadata": {},
     "output_type": "execute_result"
    }
   ],
   "source": [
    "rare_sku_sub.shape, 8092 / 14"
   ]
  },
  {
   "cell_type": "code",
   "execution_count": 94,
   "metadata": {},
   "outputs": [],
   "source": [
    "common_forecast = pd.DataFrame()\n",
    "for index, row in rare_sku_sub.iterrows():\n",
    "    try:\n",
    "        forecast = make_last_forecast(pd.DataFrame({'st_id': row['st_id'], 'pr_sku_id': row['pr_sku_id'], 'date': row['date'], 'target': np.nan}, index=[0]))    \n",
    "        common_forecast = pd.concat([common_forecast, forecast])    \n",
    "    except:\n",
    "        continue"
   ]
  },
  {
   "cell_type": "code",
   "execution_count": 95,
   "metadata": {},
   "outputs": [
    {
     "data": {
      "text/plain": [
       "date\n",
       "2023-07-19    482\n",
       "2023-07-20    482\n",
       "2023-07-21    482\n",
       "2023-07-22    482\n",
       "2023-07-23    482\n",
       "2023-07-24    482\n",
       "2023-07-25    482\n",
       "2023-07-26    482\n",
       "2023-07-27    482\n",
       "2023-07-28    482\n",
       "2023-07-29    482\n",
       "2023-07-30    482\n",
       "2023-07-31    482\n",
       "2023-08-01    482\n",
       "Name: count, dtype: int64"
      ]
     },
     "execution_count": 95,
     "metadata": {},
     "output_type": "execute_result"
    }
   ],
   "source": [
    "#check that there are 14 days of forecast for each pair of remaining 578\n",
    "common_forecast.date.value_counts()"
   ]
  },
  {
   "cell_type": "code",
   "execution_count": 96,
   "metadata": {},
   "outputs": [
    {
     "data": {
      "text/plain": [
       "st_id            0\n",
       "pr_sku_id        0\n",
       "date             0\n",
       "target_x      8092\n",
       "isna_sum         0\n",
       "target_y     36946\n",
       "dtype: int64"
      ]
     },
     "execution_count": 96,
     "metadata": {},
     "output_type": "execute_result"
    }
   ],
   "source": [
    "#update submission\n",
    "new_updated_sub = new_updated_sub.merge(common_forecast, on=['st_id', 'pr_sku_id', 'date'], how='left')\n",
    "new_updated_sub.isna().sum()"
   ]
  },
  {
   "cell_type": "code",
   "execution_count": 98,
   "metadata": {},
   "outputs": [
    {
     "data": {
      "text/plain": [
       "st_id           0\n",
       "pr_sku_id       0\n",
       "date            0\n",
       "target       1344\n",
       "isna_sum        0\n",
       "dtype: int64"
      ]
     },
     "execution_count": 98,
     "metadata": {},
     "output_type": "execute_result"
    }
   ],
   "source": [
    "#return to original columns\n",
    "last_updated_sub = new_updated_sub.copy()\n",
    "last_updated_sub['isna_sum'] = last_updated_sub.isna().sum(axis=1)\n",
    "last_updated_sub['target_x'] = last_updated_sub[['target_x', 'target_y']].sum(axis=1)\n",
    "last_updated_sub = last_updated_sub.rename(columns={'target_x': 'target'}).drop(['target_y'], axis=1)\n",
    "last_updated_sub['target'] = last_updated_sub.apply(lambda x: np.nan if x['isna_sum'] == 2 else x['target'], axis=1)\n",
    "last_updated_sub.isna().sum()"
   ]
  },
  {
   "cell_type": "code",
   "execution_count": 101,
   "metadata": {},
   "outputs": [
    {
     "data": {
      "text/plain": [
       "st_id        0\n",
       "pr_sku_id    0\n",
       "date         0\n",
       "target       0\n",
       "dtype: int64"
      ]
     },
     "execution_count": 101,
     "metadata": {},
     "output_type": "execute_result"
    }
   ],
   "source": [
    "last_updated_sub = last_updated_sub.fillna(0).drop('isna_sum', axis=1)\n",
    "last_updated_sub.isna().sum()"
   ]
  },
  {
   "cell_type": "code",
   "execution_count": 102,
   "metadata": {},
   "outputs": [],
   "source": [
    "#save to csv\n",
    "last_updated_sub.to_csv('submission.csv', index=False)"
   ]
  },
  {
   "cell_type": "markdown",
   "metadata": {},
   "source": [
    "Эту часть мы планируем улучшить, однако в целях облегчения ревью опишем, что происходит в ней сейчас:\n",
    "\n",
    "1) мы выделяем в датасет nonflagman_sub пары товар-магазин, для которых создана эта модель модель, не вошедшие в топ и с разреженными временными рядами\n",
    "\n",
    "2) для каждой строки из тестовой выборки необходимо создать фичи по образу обучающей выборки. Здесь есть отличие от предыдущей модели. К каждой строке мы отдельно подбираем данные по товару и по магазину в предыдущий день (не по паре товар-магазин, как в первой модели). Если речь идет о первом дне прогноза, данные берем из последнего дня обучающей выборки. Для дней прогноза со 2 по 14 основанием для создания лагов и скользящих средних является предыдущая строка прогноза. Предобработка столбцов задана в функции preprocess_test. Функция make_forecast_for_sample_row принимает на вход строку из списка целевых пар и выдает датафрейм прогноза на 14 дней\n",
    "\n",
    "3) мы итерируемся по списку пар товар-магазин и, выводя прогноз для каждой из них, конкатенируем их в единый датафрейм\n",
    "\n",
    "4) соединяем датафрейм submission с полученным прогнозом, заполняя часть значений в столбце target\n",
    "\n",
    "5) если в первой модели мы на этом закончили, то здесь мы сталкиваемся с проблемой: у нас остались незаполненные строки прогноза. Это связано с тем, что не все фичи для тестовых строк удалось заполнить. Данные о продажах по магазину за вчера есть для всех пар, чего нельзя сказать о данных по товару. Некоторые товары не продавались в последний день обучающего датасета ни в одном магазине. Для таких случаев мы обращаемся к ранее созданному датасету byproduct, в котором разреженные временные ряды заполнены нулями. Возможно, нам следует сделать это сразу, сняв необходимость этой второй итерации\n",
    "\n",
    "6) однако и после этого информация о порядка 100 товаров не была найдена - проверяем в исходном датасете sales: это товары, которые не продавались никогда и нигде. Прогноз продаж новых товаров - это отдельная сложная задача, вернемся к ней позже. Пока для простоты будем считать, что если что-то никогда не пользовалось спросом, то нет оснований полагать, что завтра вдруг начнем, и заполним эти строки нулями."
   ]
  },
  {
   "cell_type": "markdown",
   "metadata": {},
   "source": [
    "### to do\n",
    "\n",
    "* закончить процесс формирования признаков для второй модели\n",
    "\n",
    "* экспериментировать с разбивкой второй модели по кластерам\n",
    "\n",
    "* попробовать другие алгоритмы ML, кроме градиентного бустинга\n",
    "\n",
    "* использовать модели типа Аримы/Профета для прогноза цены вместо заглушки\n",
    "\n",
    "* проработать проблему прогнозирования спроса на новые товары\n",
    "\n",
    "* сделать кросс-валидацию 14-шаговой в соответствии с алгоритмом прогнозирования\n",
    "\n",
    "* рассмотреть варианты рефакторинга алгоритма прогнозирования\n",
    "\n",
    "* упаковать полученную модель (модели) в docker контейнер"
   ]
  },
  {
   "cell_type": "markdown",
   "metadata": {},
   "source": []
  }
 ],
 "metadata": {
  "kernelspec": {
   "display_name": "ds",
   "language": "python",
   "name": "python3"
  },
  "language_info": {
   "codemirror_mode": {
    "name": "ipython",
    "version": 3
   },
   "file_extension": ".py",
   "mimetype": "text/x-python",
   "name": "python",
   "nbconvert_exporter": "python",
   "pygments_lexer": "ipython3",
   "version": "3.11.5"
  },
  "orig_nbformat": 4
 },
 "nbformat": 4,
 "nbformat_minor": 2
}
