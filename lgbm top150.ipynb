{
 "cells": [
  {
   "cell_type": "code",
   "execution_count": 1,
   "metadata": {},
   "outputs": [
    {
     "name": "stderr",
     "output_type": "stream",
     "text": [
      "c:\\Users\\Lev\\miniconda3\\envs\\ds\\Lib\\site-packages\\tqdm\\auto.py:21: TqdmWarning: IProgress not found. Please update jupyter and ipywidgets. See https://ipywidgets.readthedocs.io/en/stable/user_install.html\n",
      "  from .autonotebook import tqdm as notebook_tqdm\n"
     ]
    }
   ],
   "source": [
    "#imports\n",
    "import pandas as pd\n",
    "import numpy as np\n",
    "import matplotlib.pyplot as plt\n",
    "import seaborn as sns\n",
    "import lightgbm as lgbm\n",
    "import optuna"
   ]
  },
  {
   "cell_type": "code",
   "execution_count": 2,
   "metadata": {},
   "outputs": [],
   "source": [
    "#my function to check intersections and differences between sets of items\n",
    "def check_sets(df1, col1, df2, col2, name1='first', name2='second'):\n",
    "    set1 = set(df1[col1].unique())\n",
    "    set2 = set(df2[col2].unique())\n",
    "    print('in both files:', len(set1 & set2))\n",
    "    print(f'in {name1} but not in {name2}:', len(set1 - set2))\n",
    "    print(f'in {name2} but not in {name1}:', len(set2 - set1))"
   ]
  },
  {
   "cell_type": "code",
   "execution_count": 3,
   "metadata": {},
   "outputs": [
    {
     "data": {
      "text/html": [
       "<div>\n",
       "<style scoped>\n",
       "    .dataframe tbody tr th:only-of-type {\n",
       "        vertical-align: middle;\n",
       "    }\n",
       "\n",
       "    .dataframe tbody tr th {\n",
       "        vertical-align: top;\n",
       "    }\n",
       "\n",
       "    .dataframe thead th {\n",
       "        text-align: right;\n",
       "    }\n",
       "</style>\n",
       "<table border=\"1\" class=\"dataframe\">\n",
       "  <thead>\n",
       "    <tr style=\"text-align: right;\">\n",
       "      <th></th>\n",
       "      <th>st_id</th>\n",
       "      <th>pr_sku_id</th>\n",
       "      <th>date</th>\n",
       "      <th>pr_sales_type_id</th>\n",
       "      <th>pr_sales_in_units</th>\n",
       "      <th>pr_promo_sales_in_units</th>\n",
       "      <th>pr_sales_in_rub</th>\n",
       "      <th>pr_promo_sales_in_rub</th>\n",
       "    </tr>\n",
       "  </thead>\n",
       "  <tbody>\n",
       "    <tr>\n",
       "      <th>0</th>\n",
       "      <td>c81e728d9d4c2f636f067f89cc14862c</td>\n",
       "      <td>c7b711619071c92bef604c7ad68380dd</td>\n",
       "      <td>2022-10-20</td>\n",
       "      <td>1</td>\n",
       "      <td>5.0</td>\n",
       "      <td>5.0</td>\n",
       "      <td>825.0</td>\n",
       "      <td>825.0</td>\n",
       "    </tr>\n",
       "    <tr>\n",
       "      <th>1</th>\n",
       "      <td>42a0e188f5033bc65bf8d78622277c4e</td>\n",
       "      <td>68f441429e73dbd33b81f95da31576e9</td>\n",
       "      <td>2023-01-29</td>\n",
       "      <td>0</td>\n",
       "      <td>4.0</td>\n",
       "      <td>0.0</td>\n",
       "      <td>196.0</td>\n",
       "      <td>0.0</td>\n",
       "    </tr>\n",
       "    <tr>\n",
       "      <th>2</th>\n",
       "      <td>1ecfb463472ec9115b10c292ef8bc986</td>\n",
       "      <td>22988026fe85fde60d8bf777ab6bc3b4</td>\n",
       "      <td>2023-03-02</td>\n",
       "      <td>0</td>\n",
       "      <td>1.0</td>\n",
       "      <td>0.0</td>\n",
       "      <td>78.0</td>\n",
       "      <td>0.0</td>\n",
       "    </tr>\n",
       "    <tr>\n",
       "      <th>3</th>\n",
       "      <td>42a0e188f5033bc65bf8d78622277c4e</td>\n",
       "      <td>8e887cf8e64ab8e7173701a979476567</td>\n",
       "      <td>2023-04-05</td>\n",
       "      <td>1</td>\n",
       "      <td>0.0</td>\n",
       "      <td>0.0</td>\n",
       "      <td>69.0</td>\n",
       "      <td>69.0</td>\n",
       "    </tr>\n",
       "    <tr>\n",
       "      <th>4</th>\n",
       "      <td>16a5cdae362b8d27a1d8f8c7b78b4330</td>\n",
       "      <td>e6fc24ca846339d204b0b50e9f772484</td>\n",
       "      <td>2023-02-17</td>\n",
       "      <td>0</td>\n",
       "      <td>1.0</td>\n",
       "      <td>0.0</td>\n",
       "      <td>161.0</td>\n",
       "      <td>0.0</td>\n",
       "    </tr>\n",
       "  </tbody>\n",
       "</table>\n",
       "</div>"
      ],
      "text/plain": [
       "                              st_id                         pr_sku_id  \\\n",
       "0  c81e728d9d4c2f636f067f89cc14862c  c7b711619071c92bef604c7ad68380dd   \n",
       "1  42a0e188f5033bc65bf8d78622277c4e  68f441429e73dbd33b81f95da31576e9   \n",
       "2  1ecfb463472ec9115b10c292ef8bc986  22988026fe85fde60d8bf777ab6bc3b4   \n",
       "3  42a0e188f5033bc65bf8d78622277c4e  8e887cf8e64ab8e7173701a979476567   \n",
       "4  16a5cdae362b8d27a1d8f8c7b78b4330  e6fc24ca846339d204b0b50e9f772484   \n",
       "\n",
       "         date  pr_sales_type_id  pr_sales_in_units  pr_promo_sales_in_units  \\\n",
       "0  2022-10-20                 1                5.0                      5.0   \n",
       "1  2023-01-29                 0                4.0                      0.0   \n",
       "2  2023-03-02                 0                1.0                      0.0   \n",
       "3  2023-04-05                 1                0.0                      0.0   \n",
       "4  2023-02-17                 0                1.0                      0.0   \n",
       "\n",
       "   pr_sales_in_rub  pr_promo_sales_in_rub  \n",
       "0            825.0                  825.0  \n",
       "1            196.0                    0.0  \n",
       "2             78.0                    0.0  \n",
       "3             69.0                   69.0  \n",
       "4            161.0                    0.0  "
      ]
     },
     "execution_count": 3,
     "metadata": {},
     "output_type": "execute_result"
    }
   ],
   "source": [
    "#read file\n",
    "sales = pd.read_csv('sales_df_train.csv')\n",
    "sales.head()"
   ]
  },
  {
   "cell_type": "code",
   "execution_count": 4,
   "metadata": {},
   "outputs": [
    {
     "data": {
      "text/plain": [
       "(883015, 8)"
      ]
     },
     "execution_count": 4,
     "metadata": {},
     "output_type": "execute_result"
    }
   ],
   "source": [
    "sales.shape"
   ]
  },
  {
   "cell_type": "code",
   "execution_count": 5,
   "metadata": {},
   "outputs": [
    {
     "data": {
      "text/plain": [
       "(882286, 8)"
      ]
     },
     "execution_count": 5,
     "metadata": {},
     "output_type": "execute_result"
    }
   ],
   "source": [
    "#drop 2 inactive stores\n",
    "sales = sales[~sales['st_id'].isin(['1aa057313c28fa4a40c5bc084b11d276', '62f91ce9b820a491ee78c108636db089'])]\n",
    "sales.shape"
   ]
  },
  {
   "cell_type": "code",
   "execution_count": 6,
   "metadata": {},
   "outputs": [
    {
     "data": {
      "text/plain": [
       "(66882, 8)"
      ]
     },
     "execution_count": 6,
     "metadata": {},
     "output_type": "execute_result"
    }
   ],
   "source": [
    "#estimate cases where sales in units are zero and in rubles not, or vice versa\n",
    "zero_nonzero_sales = sales[((sales['pr_sales_in_units'] != 0) & (sales['pr_sales_in_rub'] == 0)) | ((sales['pr_sales_in_units'] == 0) & (sales['pr_sales_in_rub'] != 0))]\n",
    "zero_nonzero_sales.shape"
   ]
  },
  {
   "cell_type": "code",
   "execution_count": 7,
   "metadata": {},
   "outputs": [
    {
     "data": {
      "text/plain": [
       "(815404, 8)"
      ]
     },
     "execution_count": 7,
     "metadata": {},
     "output_type": "execute_result"
    }
   ],
   "source": [
    "#drop cases where sales in units are zero and in rubles not, or vice versa\n",
    "sales = sales[((sales['pr_sales_in_units'] != 0) & (sales['pr_sales_in_rub'] != 0)) | ((sales['pr_sales_in_units'] == 0) & (sales['pr_sales_in_rub'] == 0))]\n",
    "sales.shape"
   ]
  },
  {
   "cell_type": "code",
   "execution_count": 8,
   "metadata": {},
   "outputs": [
    {
     "data": {
      "text/plain": [
       "(70, 8)"
      ]
     },
     "execution_count": 8,
     "metadata": {},
     "output_type": "execute_result"
    }
   ],
   "source": [
    "#estimate negative sales\n",
    "minus_sales = sales[(sales['pr_sales_in_rub'] < 0) | (sales['pr_sales_in_units'] < 0) | (sales['pr_promo_sales_in_rub'] < 0) |(sales['pr_promo_sales_in_units'] < 0)]\n",
    "minus_sales.shape"
   ]
  },
  {
   "cell_type": "code",
   "execution_count": 9,
   "metadata": {},
   "outputs": [
    {
     "data": {
      "text/plain": [
       "(815334, 8)"
      ]
     },
     "execution_count": 9,
     "metadata": {},
     "output_type": "execute_result"
    }
   ],
   "source": [
    "#drop negative sales\n",
    "sales = sales[(sales['pr_sales_in_rub'] >= 0) & (sales['pr_sales_in_units'] >= 0) & (sales['pr_promo_sales_in_rub'] >= 0) & (sales['pr_promo_sales_in_units'] >= 0)]\n",
    "sales.shape"
   ]
  },
  {
   "cell_type": "code",
   "execution_count": 10,
   "metadata": {},
   "outputs": [
    {
     "data": {
      "text/plain": [
       "6130"
      ]
     },
     "execution_count": 10,
     "metadata": {},
     "output_type": "execute_result"
    }
   ],
   "source": [
    "#concat item-store pair into single unit\n",
    "sales['store_item'] = sales['st_id'].str.cat(sales['pr_sku_id'], sep='-')\n",
    "sales['store_item'].nunique()"
   ]
  },
  {
   "cell_type": "code",
   "execution_count": 11,
   "metadata": {},
   "outputs": [
    {
     "data": {
      "text/plain": [
       "(661192, 5)"
      ]
     },
     "execution_count": 11,
     "metadata": {},
     "output_type": "execute_result"
    }
   ],
   "source": [
    "#glue together promo and non-promo sales of one item-store pair on same day\n",
    "oneline = sales.groupby(['store_item', 'date'])[['pr_sales_type_id', 'pr_sales_in_units', 'pr_sales_in_rub', 'pr_promo_sales_in_units', 'pr_promo_sales_in_rub']].sum()\n",
    "oneline.shape"
   ]
  },
  {
   "cell_type": "code",
   "execution_count": 12,
   "metadata": {},
   "outputs": [
    {
     "data": {
      "text/html": [
       "<div>\n",
       "<style scoped>\n",
       "    .dataframe tbody tr th:only-of-type {\n",
       "        vertical-align: middle;\n",
       "    }\n",
       "\n",
       "    .dataframe tbody tr th {\n",
       "        vertical-align: top;\n",
       "    }\n",
       "\n",
       "    .dataframe thead tr th {\n",
       "        text-align: left;\n",
       "    }\n",
       "\n",
       "    .dataframe thead tr:last-of-type th {\n",
       "        text-align: right;\n",
       "    }\n",
       "</style>\n",
       "<table border=\"1\" class=\"dataframe\">\n",
       "  <thead>\n",
       "    <tr>\n",
       "      <th></th>\n",
       "      <th colspan=\"2\" halign=\"left\">pr_sales_in_units</th>\n",
       "      <th colspan=\"2\" halign=\"left\">pr_sales_in_rub</th>\n",
       "      <th>all_sales_share</th>\n",
       "    </tr>\n",
       "    <tr>\n",
       "      <th></th>\n",
       "      <th>sum</th>\n",
       "      <th>count</th>\n",
       "      <th>sum</th>\n",
       "      <th>count</th>\n",
       "      <th></th>\n",
       "    </tr>\n",
       "    <tr>\n",
       "      <th>store_item</th>\n",
       "      <th></th>\n",
       "      <th></th>\n",
       "      <th></th>\n",
       "      <th></th>\n",
       "      <th></th>\n",
       "    </tr>\n",
       "  </thead>\n",
       "  <tbody>\n",
       "    <tr>\n",
       "      <th>16a5cdae362b8d27a1d8f8c7b78b4330-62d4af457ba2540ce0898a211c0cd17a</th>\n",
       "      <td>51500.0</td>\n",
       "      <td>352</td>\n",
       "      <td>879274.0</td>\n",
       "      <td>352</td>\n",
       "      <td>0.168569</td>\n",
       "    </tr>\n",
       "    <tr>\n",
       "      <th>c81e728d9d4c2f636f067f89cc14862c-20d9b4bfd4b672f61d87f420856aac5d</th>\n",
       "      <td>42088.0</td>\n",
       "      <td>278</td>\n",
       "      <td>1999391.0</td>\n",
       "      <td>278</td>\n",
       "      <td>0.383311</td>\n",
       "    </tr>\n",
       "    <tr>\n",
       "      <th>42a0e188f5033bc65bf8d78622277c4e-ced0c1a84924c982a6403870c54b99ca</th>\n",
       "      <td>34255.0</td>\n",
       "      <td>352</td>\n",
       "      <td>1070819.0</td>\n",
       "      <td>352</td>\n",
       "      <td>0.205291</td>\n",
       "    </tr>\n",
       "    <tr>\n",
       "      <th>fa7cdfad1a5aaf8370ebeda47a1ff1c3-c0e3f3bd815a862433bc3399c487926b</th>\n",
       "      <td>32923.0</td>\n",
       "      <td>352</td>\n",
       "      <td>4187731.0</td>\n",
       "      <td>352</td>\n",
       "      <td>0.802847</td>\n",
       "    </tr>\n",
       "    <tr>\n",
       "      <th>16a5cdae362b8d27a1d8f8c7b78b4330-ced0c1a84924c982a6403870c54b99ca</th>\n",
       "      <td>29678.0</td>\n",
       "      <td>352</td>\n",
       "      <td>963222.0</td>\n",
       "      <td>352</td>\n",
       "      <td>0.184663</td>\n",
       "    </tr>\n",
       "    <tr>\n",
       "      <th>...</th>\n",
       "      <td>...</td>\n",
       "      <td>...</td>\n",
       "      <td>...</td>\n",
       "      <td>...</td>\n",
       "      <td>...</td>\n",
       "    </tr>\n",
       "    <tr>\n",
       "      <th>f7e6c85504ce6e82442c770f7c8606f0-7a5ebc8af2689363da125308abe00d7f</th>\n",
       "      <td>5469.0</td>\n",
       "      <td>345</td>\n",
       "      <td>324306.0</td>\n",
       "      <td>345</td>\n",
       "      <td>0.062174</td>\n",
       "    </tr>\n",
       "    <tr>\n",
       "      <th>c81e728d9d4c2f636f067f89cc14862c-5b26f85ccb23039364226f66f0366c66</th>\n",
       "      <td>5417.0</td>\n",
       "      <td>352</td>\n",
       "      <td>84293.0</td>\n",
       "      <td>352</td>\n",
       "      <td>0.016160</td>\n",
       "    </tr>\n",
       "    <tr>\n",
       "      <th>42a0e188f5033bc65bf8d78622277c4e-603c32f40317b3179730bb4d8a032f84</th>\n",
       "      <td>5399.0</td>\n",
       "      <td>339</td>\n",
       "      <td>643395.0</td>\n",
       "      <td>339</td>\n",
       "      <td>0.123348</td>\n",
       "    </tr>\n",
       "    <tr>\n",
       "      <th>42a0e188f5033bc65bf8d78622277c4e-d22bb534b7964c0cafab6aab1995f000</th>\n",
       "      <td>5364.0</td>\n",
       "      <td>351</td>\n",
       "      <td>328648.0</td>\n",
       "      <td>351</td>\n",
       "      <td>0.063006</td>\n",
       "    </tr>\n",
       "    <tr>\n",
       "      <th>f7e6c85504ce6e82442c770f7c8606f0-2d4cee784419330773e7cc6b65570140</th>\n",
       "      <td>5337.0</td>\n",
       "      <td>192</td>\n",
       "      <td>913631.0</td>\n",
       "      <td>192</td>\n",
       "      <td>0.175156</td>\n",
       "    </tr>\n",
       "  </tbody>\n",
       "</table>\n",
       "<p>150 rows × 5 columns</p>\n",
       "</div>"
      ],
      "text/plain": [
       "                                                   pr_sales_in_units        \\\n",
       "                                                                 sum count   \n",
       "store_item                                                                   \n",
       "16a5cdae362b8d27a1d8f8c7b78b4330-62d4af457ba254...           51500.0   352   \n",
       "c81e728d9d4c2f636f067f89cc14862c-20d9b4bfd4b672...           42088.0   278   \n",
       "42a0e188f5033bc65bf8d78622277c4e-ced0c1a84924c9...           34255.0   352   \n",
       "fa7cdfad1a5aaf8370ebeda47a1ff1c3-c0e3f3bd815a86...           32923.0   352   \n",
       "16a5cdae362b8d27a1d8f8c7b78b4330-ced0c1a84924c9...           29678.0   352   \n",
       "...                                                              ...   ...   \n",
       "f7e6c85504ce6e82442c770f7c8606f0-7a5ebc8af26893...            5469.0   345   \n",
       "c81e728d9d4c2f636f067f89cc14862c-5b26f85ccb2303...            5417.0   352   \n",
       "42a0e188f5033bc65bf8d78622277c4e-603c32f40317b3...            5399.0   339   \n",
       "42a0e188f5033bc65bf8d78622277c4e-d22bb534b7964c...            5364.0   351   \n",
       "f7e6c85504ce6e82442c770f7c8606f0-2d4cee78441933...            5337.0   192   \n",
       "\n",
       "                                                   pr_sales_in_rub        \\\n",
       "                                                               sum count   \n",
       "store_item                                                                 \n",
       "16a5cdae362b8d27a1d8f8c7b78b4330-62d4af457ba254...        879274.0   352   \n",
       "c81e728d9d4c2f636f067f89cc14862c-20d9b4bfd4b672...       1999391.0   278   \n",
       "42a0e188f5033bc65bf8d78622277c4e-ced0c1a84924c9...       1070819.0   352   \n",
       "fa7cdfad1a5aaf8370ebeda47a1ff1c3-c0e3f3bd815a86...       4187731.0   352   \n",
       "16a5cdae362b8d27a1d8f8c7b78b4330-ced0c1a84924c9...        963222.0   352   \n",
       "...                                                            ...   ...   \n",
       "f7e6c85504ce6e82442c770f7c8606f0-7a5ebc8af26893...        324306.0   345   \n",
       "c81e728d9d4c2f636f067f89cc14862c-5b26f85ccb2303...         84293.0   352   \n",
       "42a0e188f5033bc65bf8d78622277c4e-603c32f40317b3...        643395.0   339   \n",
       "42a0e188f5033bc65bf8d78622277c4e-d22bb534b7964c...        328648.0   351   \n",
       "f7e6c85504ce6e82442c770f7c8606f0-2d4cee78441933...        913631.0   192   \n",
       "\n",
       "                                                   all_sales_share  \n",
       "                                                                    \n",
       "store_item                                                          \n",
       "16a5cdae362b8d27a1d8f8c7b78b4330-62d4af457ba254...        0.168569  \n",
       "c81e728d9d4c2f636f067f89cc14862c-20d9b4bfd4b672...        0.383311  \n",
       "42a0e188f5033bc65bf8d78622277c4e-ced0c1a84924c9...        0.205291  \n",
       "fa7cdfad1a5aaf8370ebeda47a1ff1c3-c0e3f3bd815a86...        0.802847  \n",
       "16a5cdae362b8d27a1d8f8c7b78b4330-ced0c1a84924c9...        0.184663  \n",
       "...                                                            ...  \n",
       "f7e6c85504ce6e82442c770f7c8606f0-7a5ebc8af26893...        0.062174  \n",
       "c81e728d9d4c2f636f067f89cc14862c-5b26f85ccb2303...        0.016160  \n",
       "42a0e188f5033bc65bf8d78622277c4e-603c32f40317b3...        0.123348  \n",
       "42a0e188f5033bc65bf8d78622277c4e-d22bb534b7964c...        0.063006  \n",
       "f7e6c85504ce6e82442c770f7c8606f0-2d4cee78441933...        0.175156  \n",
       "\n",
       "[150 rows x 5 columns]"
      ]
     },
     "execution_count": 12,
     "metadata": {},
     "output_type": "execute_result"
    }
   ],
   "source": [
    "#detect top50 item-store pairs\n",
    "by_pair = oneline.groupby('store_item')[['pr_sales_in_units', 'pr_sales_in_rub']].agg(['sum', 'count'])\n",
    "all_sales = by_pair[('pr_sales_in_rub', 'sum')].sum()\n",
    "by_pair['all_sales_share'] = by_pair[('pr_sales_in_rub', 'sum')] / all_sales * 100\n",
    "by_pair.sort_values([('pr_sales_in_units', 'sum')], ascending=False).head(150)"
   ]
  },
  {
   "cell_type": "code",
   "execution_count": 13,
   "metadata": {},
   "outputs": [
    {
     "name": "stdout",
     "output_type": "stream",
     "text": [
      "in both files: 44\n",
      "in problem_data but not in top150: 2907\n",
      "in top150 but not in problem_data: 106\n"
     ]
    }
   ],
   "source": [
    "#get top50 and check if there is data we're going to drop in those lines\n",
    "top150 = by_pair.sort_values([('pr_sales_in_units', 'sum')], ascending=False).head(150).reset_index()\n",
    "zero_nonzero_sales['store_item'] = zero_nonzero_sales['st_id'].str.cat(zero_nonzero_sales['pr_sku_id'], sep='-')\n",
    "check_sets(zero_nonzero_sales, 'store_item', top150.reset_index(), 'store_item', 'problem_data', 'top150')"
   ]
  },
  {
   "cell_type": "code",
   "execution_count": 14,
   "metadata": {},
   "outputs": [],
   "source": [
    "by_pair = by_pair.reset_index()"
   ]
  },
  {
   "cell_type": "code",
   "execution_count": 15,
   "metadata": {},
   "outputs": [
    {
     "data": {
      "text/plain": [
       "(5980, 6)"
      ]
     },
     "execution_count": 15,
     "metadata": {},
     "output_type": "execute_result"
    }
   ],
   "source": [
    "#separate top 150\n",
    "no_top150 = by_pair[~by_pair['store_item'].isin(top150['store_item'])]\n",
    "no_top150.shape"
   ]
  },
  {
   "cell_type": "code",
   "execution_count": 16,
   "metadata": {},
   "outputs": [
    {
     "data": {
      "text/plain": [
       "(857, 6)"
      ]
     },
     "execution_count": 16,
     "metadata": {},
     "output_type": "execute_result"
    }
   ],
   "source": [
    "#find those pairs whose 80+ % of time series are non-zero. join with top 150\n",
    "most_frequent = no_top150[no_top150[('pr_sales_in_units', 'count')] >= 352*0.8]\n",
    "flagman = pd.concat([top150, most_frequent])\n",
    "flagman.shape"
   ]
  },
  {
   "cell_type": "code",
   "execution_count": 17,
   "metadata": {},
   "outputs": [
    {
     "data": {
      "text/html": [
       "<div>\n",
       "<style scoped>\n",
       "    .dataframe tbody tr th:only-of-type {\n",
       "        vertical-align: middle;\n",
       "    }\n",
       "\n",
       "    .dataframe tbody tr th {\n",
       "        vertical-align: top;\n",
       "    }\n",
       "\n",
       "    .dataframe thead th {\n",
       "        text-align: right;\n",
       "    }\n",
       "</style>\n",
       "<table border=\"1\" class=\"dataframe\">\n",
       "  <thead>\n",
       "    <tr style=\"text-align: right;\">\n",
       "      <th></th>\n",
       "      <th>store_item</th>\n",
       "      <th>date</th>\n",
       "      <th>pr_sales_type_id</th>\n",
       "      <th>pr_sales_in_units</th>\n",
       "      <th>pr_sales_in_rub</th>\n",
       "      <th>pr_promo_sales_in_units</th>\n",
       "      <th>pr_promo_sales_in_rub</th>\n",
       "    </tr>\n",
       "  </thead>\n",
       "  <tbody>\n",
       "    <tr>\n",
       "      <th>0</th>\n",
       "      <td>084a8a9aa8cced9175bd07bc44998e75-0376a60d9a7ce...</td>\n",
       "      <td>2023-04-07</td>\n",
       "      <td>1</td>\n",
       "      <td>1.0</td>\n",
       "      <td>81.0</td>\n",
       "      <td>1.0</td>\n",
       "      <td>81.0</td>\n",
       "    </tr>\n",
       "    <tr>\n",
       "      <th>1</th>\n",
       "      <td>084a8a9aa8cced9175bd07bc44998e75-0376a60d9a7ce...</td>\n",
       "      <td>2023-04-11</td>\n",
       "      <td>1</td>\n",
       "      <td>1.0</td>\n",
       "      <td>81.0</td>\n",
       "      <td>1.0</td>\n",
       "      <td>81.0</td>\n",
       "    </tr>\n",
       "    <tr>\n",
       "      <th>2</th>\n",
       "      <td>084a8a9aa8cced9175bd07bc44998e75-0376a60d9a7ce...</td>\n",
       "      <td>2023-04-12</td>\n",
       "      <td>1</td>\n",
       "      <td>1.0</td>\n",
       "      <td>81.0</td>\n",
       "      <td>1.0</td>\n",
       "      <td>81.0</td>\n",
       "    </tr>\n",
       "    <tr>\n",
       "      <th>3</th>\n",
       "      <td>084a8a9aa8cced9175bd07bc44998e75-0376a60d9a7ce...</td>\n",
       "      <td>2023-04-29</td>\n",
       "      <td>0</td>\n",
       "      <td>1.0</td>\n",
       "      <td>146.0</td>\n",
       "      <td>0.0</td>\n",
       "      <td>0.0</td>\n",
       "    </tr>\n",
       "    <tr>\n",
       "      <th>4</th>\n",
       "      <td>084a8a9aa8cced9175bd07bc44998e75-0376a60d9a7ce...</td>\n",
       "      <td>2023-05-24</td>\n",
       "      <td>0</td>\n",
       "      <td>1.0</td>\n",
       "      <td>146.0</td>\n",
       "      <td>0.0</td>\n",
       "      <td>0.0</td>\n",
       "    </tr>\n",
       "  </tbody>\n",
       "</table>\n",
       "</div>"
      ],
      "text/plain": [
       "                                          store_item        date  \\\n",
       "0  084a8a9aa8cced9175bd07bc44998e75-0376a60d9a7ce...  2023-04-07   \n",
       "1  084a8a9aa8cced9175bd07bc44998e75-0376a60d9a7ce...  2023-04-11   \n",
       "2  084a8a9aa8cced9175bd07bc44998e75-0376a60d9a7ce...  2023-04-12   \n",
       "3  084a8a9aa8cced9175bd07bc44998e75-0376a60d9a7ce...  2023-04-29   \n",
       "4  084a8a9aa8cced9175bd07bc44998e75-0376a60d9a7ce...  2023-05-24   \n",
       "\n",
       "   pr_sales_type_id  pr_sales_in_units  pr_sales_in_rub  \\\n",
       "0                 1                1.0             81.0   \n",
       "1                 1                1.0             81.0   \n",
       "2                 1                1.0             81.0   \n",
       "3                 0                1.0            146.0   \n",
       "4                 0                1.0            146.0   \n",
       "\n",
       "   pr_promo_sales_in_units  pr_promo_sales_in_rub  \n",
       "0                      1.0                   81.0  \n",
       "1                      1.0                   81.0  \n",
       "2                      1.0                   81.0  \n",
       "3                      0.0                    0.0  \n",
       "4                      0.0                    0.0  "
      ]
     },
     "execution_count": 17,
     "metadata": {},
     "output_type": "execute_result"
    }
   ],
   "source": [
    "oneline = oneline.reset_index()\n",
    "oneline.head()"
   ]
  },
  {
   "cell_type": "code",
   "execution_count": 18,
   "metadata": {},
   "outputs": [
    {
     "data": {
      "text/plain": [
       "(274130, 7)"
      ]
     },
     "execution_count": 18,
     "metadata": {},
     "output_type": "execute_result"
    }
   ],
   "source": [
    "#make train dataset out of top50 and their sales\n",
    "train = oneline[oneline['store_item'].isin(flagman['store_item'])]\n",
    "train.shape"
   ]
  },
  {
   "cell_type": "code",
   "execution_count": 19,
   "metadata": {},
   "outputs": [
    {
     "data": {
      "text/html": [
       "<div>\n",
       "<style scoped>\n",
       "    .dataframe tbody tr th:only-of-type {\n",
       "        vertical-align: middle;\n",
       "    }\n",
       "\n",
       "    .dataframe tbody tr th {\n",
       "        vertical-align: top;\n",
       "    }\n",
       "\n",
       "    .dataframe thead th {\n",
       "        text-align: right;\n",
       "    }\n",
       "</style>\n",
       "<table border=\"1\" class=\"dataframe\">\n",
       "  <thead>\n",
       "    <tr style=\"text-align: right;\">\n",
       "      <th></th>\n",
       "      <th>store_item</th>\n",
       "      <th>date</th>\n",
       "      <th>pr_sales_in_units</th>\n",
       "    </tr>\n",
       "  </thead>\n",
       "  <tbody>\n",
       "    <tr>\n",
       "      <th>45</th>\n",
       "      <td>16a5cdae362b8d27a1d8f8c7b78b4330-00661699f5437...</td>\n",
       "      <td>2022-08-01</td>\n",
       "      <td>1.0</td>\n",
       "    </tr>\n",
       "    <tr>\n",
       "      <th>46</th>\n",
       "      <td>16a5cdae362b8d27a1d8f8c7b78b4330-00661699f5437...</td>\n",
       "      <td>2022-08-02</td>\n",
       "      <td>1.0</td>\n",
       "    </tr>\n",
       "    <tr>\n",
       "      <th>47</th>\n",
       "      <td>16a5cdae362b8d27a1d8f8c7b78b4330-00661699f5437...</td>\n",
       "      <td>2022-08-03</td>\n",
       "      <td>1.0</td>\n",
       "    </tr>\n",
       "    <tr>\n",
       "      <th>48</th>\n",
       "      <td>16a5cdae362b8d27a1d8f8c7b78b4330-00661699f5437...</td>\n",
       "      <td>2022-08-12</td>\n",
       "      <td>1.0</td>\n",
       "    </tr>\n",
       "    <tr>\n",
       "      <th>49</th>\n",
       "      <td>16a5cdae362b8d27a1d8f8c7b78b4330-00661699f5437...</td>\n",
       "      <td>2022-08-13</td>\n",
       "      <td>1.0</td>\n",
       "    </tr>\n",
       "  </tbody>\n",
       "</table>\n",
       "</div>"
      ],
      "text/plain": [
       "                                           store_item        date  \\\n",
       "45  16a5cdae362b8d27a1d8f8c7b78b4330-00661699f5437...  2022-08-01   \n",
       "46  16a5cdae362b8d27a1d8f8c7b78b4330-00661699f5437...  2022-08-02   \n",
       "47  16a5cdae362b8d27a1d8f8c7b78b4330-00661699f5437...  2022-08-03   \n",
       "48  16a5cdae362b8d27a1d8f8c7b78b4330-00661699f5437...  2022-08-12   \n",
       "49  16a5cdae362b8d27a1d8f8c7b78b4330-00661699f5437...  2022-08-13   \n",
       "\n",
       "    pr_sales_in_units  \n",
       "45                1.0  \n",
       "46                1.0  \n",
       "47                1.0  \n",
       "48                1.0  \n",
       "49                1.0  "
      ]
     },
     "execution_count": 19,
     "metadata": {},
     "output_type": "execute_result"
    }
   ],
   "source": [
    "train = train[['store_item', 'date', 'pr_sales_in_units']]\n",
    "train.head()"
   ]
  },
  {
   "cell_type": "code",
   "execution_count": 20,
   "metadata": {},
   "outputs": [
    {
     "name": "stdout",
     "output_type": "stream",
     "text": [
      "<class 'pandas.core.frame.DataFrame'>\n",
      "Index: 274130 entries, 45 to 660757\n",
      "Data columns (total 3 columns):\n",
      " #   Column             Non-Null Count   Dtype  \n",
      "---  ------             --------------   -----  \n",
      " 0   store_item         274130 non-null  object \n",
      " 1   date               274130 non-null  object \n",
      " 2   pr_sales_in_units  274130 non-null  float64\n",
      "dtypes: float64(1), object(2)\n",
      "memory usage: 8.4+ MB\n"
     ]
    }
   ],
   "source": [
    "train.info()"
   ]
  },
  {
   "cell_type": "code",
   "execution_count": 21,
   "metadata": {},
   "outputs": [],
   "source": [
    "train['date'] = pd.to_datetime(train['date']).dt.normalize()"
   ]
  },
  {
   "cell_type": "code",
   "execution_count": 22,
   "metadata": {},
   "outputs": [
    {
     "data": {
      "text/plain": [
       "count                           274130\n",
       "mean     2023-01-24 10:26:20.990041344\n",
       "min                2022-08-01 00:00:00\n",
       "25%                2022-10-28 00:00:00\n",
       "50%                2023-01-25 00:00:00\n",
       "75%                2023-04-23 00:00:00\n",
       "max                2023-07-18 00:00:00\n",
       "Name: date, dtype: object"
      ]
     },
     "execution_count": 22,
     "metadata": {},
     "output_type": "execute_result"
    }
   ],
   "source": [
    "train['date'].describe()"
   ]
  },
  {
   "cell_type": "code",
   "execution_count": 23,
   "metadata": {},
   "outputs": [
    {
     "data": {
      "text/html": [
       "<div>\n",
       "<style scoped>\n",
       "    .dataframe tbody tr th:only-of-type {\n",
       "        vertical-align: middle;\n",
       "    }\n",
       "\n",
       "    .dataframe tbody tr th {\n",
       "        vertical-align: top;\n",
       "    }\n",
       "\n",
       "    .dataframe thead th {\n",
       "        text-align: right;\n",
       "    }\n",
       "</style>\n",
       "<table border=\"1\" class=\"dataframe\">\n",
       "  <thead>\n",
       "    <tr style=\"text-align: right;\">\n",
       "      <th></th>\n",
       "      <th>store_item</th>\n",
       "      <th>date</th>\n",
       "      <th>sold</th>\n",
       "    </tr>\n",
       "  </thead>\n",
       "  <tbody>\n",
       "    <tr>\n",
       "      <th>0</th>\n",
       "      <td>16a5cdae362b8d27a1d8f8c7b78b4330-00661699f5437...</td>\n",
       "      <td>2022-08-01</td>\n",
       "      <td>1.0</td>\n",
       "    </tr>\n",
       "    <tr>\n",
       "      <th>1</th>\n",
       "      <td>16a5cdae362b8d27a1d8f8c7b78b4330-00661699f5437...</td>\n",
       "      <td>2022-08-02</td>\n",
       "      <td>1.0</td>\n",
       "    </tr>\n",
       "    <tr>\n",
       "      <th>2</th>\n",
       "      <td>16a5cdae362b8d27a1d8f8c7b78b4330-00661699f5437...</td>\n",
       "      <td>2022-08-03</td>\n",
       "      <td>1.0</td>\n",
       "    </tr>\n",
       "    <tr>\n",
       "      <th>3</th>\n",
       "      <td>16a5cdae362b8d27a1d8f8c7b78b4330-00661699f5437...</td>\n",
       "      <td>2022-08-04</td>\n",
       "      <td>0.0</td>\n",
       "    </tr>\n",
       "    <tr>\n",
       "      <th>4</th>\n",
       "      <td>16a5cdae362b8d27a1d8f8c7b78b4330-00661699f5437...</td>\n",
       "      <td>2022-08-05</td>\n",
       "      <td>0.0</td>\n",
       "    </tr>\n",
       "  </tbody>\n",
       "</table>\n",
       "</div>"
      ],
      "text/plain": [
       "                                          store_item       date  sold\n",
       "0  16a5cdae362b8d27a1d8f8c7b78b4330-00661699f5437... 2022-08-01   1.0\n",
       "1  16a5cdae362b8d27a1d8f8c7b78b4330-00661699f5437... 2022-08-02   1.0\n",
       "2  16a5cdae362b8d27a1d8f8c7b78b4330-00661699f5437... 2022-08-03   1.0\n",
       "3  16a5cdae362b8d27a1d8f8c7b78b4330-00661699f5437... 2022-08-04   0.0\n",
       "4  16a5cdae362b8d27a1d8f8c7b78b4330-00661699f5437... 2022-08-05   0.0"
      ]
     },
     "execution_count": 23,
     "metadata": {},
     "output_type": "execute_result"
    }
   ],
   "source": [
    "#insert zeros for missing dates\n",
    "train = train.sort_values(by='date')\n",
    "train_pivoted = train.pivot(index='store_item', columns='date', values='pr_sales_in_units').fillna(0)\n",
    "\n",
    "train_long = train_pivoted.stack().reset_index()\n",
    "train_long = train_long.rename(columns={'level_1': 'date', 0: 'sold'})\n",
    "train_long.head()"
   ]
  },
  {
   "cell_type": "code",
   "execution_count": 24,
   "metadata": {},
   "outputs": [
    {
     "data": {
      "text/plain": [
       "((301664, 3), 301664)"
      ]
     },
     "execution_count": 24,
     "metadata": {},
     "output_type": "execute_result"
    }
   ],
   "source": [
    "#assert number of lines equals 50 item-stores * 352 days\n",
    "train_long.shape, 857*352"
   ]
  },
  {
   "cell_type": "code",
   "execution_count": 25,
   "metadata": {},
   "outputs": [],
   "source": [
    "#another way to assert the above\n",
    "assert train_long.groupby('store_item').size().describe()['std'] == 0"
   ]
  },
  {
   "cell_type": "code",
   "execution_count": 26,
   "metadata": {},
   "outputs": [],
   "source": [
    "def wape(y_true, y_pred):\n",
    "    return np.abs(y_true - y_pred).sum() / np.abs(y_true).sum()"
   ]
  },
  {
   "cell_type": "code",
   "execution_count": 27,
   "metadata": {},
   "outputs": [
    {
     "data": {
      "text/html": [
       "<div>\n",
       "<style scoped>\n",
       "    .dataframe tbody tr th:only-of-type {\n",
       "        vertical-align: middle;\n",
       "    }\n",
       "\n",
       "    .dataframe tbody tr th {\n",
       "        vertical-align: top;\n",
       "    }\n",
       "\n",
       "    .dataframe thead th {\n",
       "        text-align: right;\n",
       "    }\n",
       "</style>\n",
       "<table border=\"1\" class=\"dataframe\">\n",
       "  <thead>\n",
       "    <tr style=\"text-align: right;\">\n",
       "      <th></th>\n",
       "      <th></th>\n",
       "      <th>sold</th>\n",
       "      <th>sold_lag_1</th>\n",
       "      <th>sold_lag_2</th>\n",
       "      <th>sold_lag_3</th>\n",
       "      <th>sold_lag_4</th>\n",
       "      <th>sold_lag_5</th>\n",
       "      <th>sold_lag_6</th>\n",
       "      <th>sold_lag_7</th>\n",
       "      <th>sold_lag_8</th>\n",
       "      <th>sold_lag_9</th>\n",
       "      <th>...</th>\n",
       "      <th>sold_lag_12</th>\n",
       "      <th>sold_lag_13</th>\n",
       "      <th>sold_lag_14</th>\n",
       "      <th>sold_lag_15</th>\n",
       "      <th>sold_lag_16</th>\n",
       "      <th>sold_lag_17</th>\n",
       "      <th>sold_lag_18</th>\n",
       "      <th>sold_lag_19</th>\n",
       "      <th>sold_lag_20</th>\n",
       "      <th>sold_lag_21</th>\n",
       "    </tr>\n",
       "    <tr>\n",
       "      <th>store_item</th>\n",
       "      <th>date</th>\n",
       "      <th></th>\n",
       "      <th></th>\n",
       "      <th></th>\n",
       "      <th></th>\n",
       "      <th></th>\n",
       "      <th></th>\n",
       "      <th></th>\n",
       "      <th></th>\n",
       "      <th></th>\n",
       "      <th></th>\n",
       "      <th></th>\n",
       "      <th></th>\n",
       "      <th></th>\n",
       "      <th></th>\n",
       "      <th></th>\n",
       "      <th></th>\n",
       "      <th></th>\n",
       "      <th></th>\n",
       "      <th></th>\n",
       "      <th></th>\n",
       "      <th></th>\n",
       "    </tr>\n",
       "  </thead>\n",
       "  <tbody>\n",
       "    <tr>\n",
       "      <th rowspan=\"5\" valign=\"top\">16a5cdae362b8d27a1d8f8c7b78b4330-00661699f543753ec7e911a64b9fd2f6</th>\n",
       "      <th>2022-08-01</th>\n",
       "      <td>1.0</td>\n",
       "      <td>NaN</td>\n",
       "      <td>NaN</td>\n",
       "      <td>NaN</td>\n",
       "      <td>NaN</td>\n",
       "      <td>NaN</td>\n",
       "      <td>NaN</td>\n",
       "      <td>NaN</td>\n",
       "      <td>NaN</td>\n",
       "      <td>NaN</td>\n",
       "      <td>...</td>\n",
       "      <td>NaN</td>\n",
       "      <td>NaN</td>\n",
       "      <td>NaN</td>\n",
       "      <td>NaN</td>\n",
       "      <td>NaN</td>\n",
       "      <td>NaN</td>\n",
       "      <td>NaN</td>\n",
       "      <td>NaN</td>\n",
       "      <td>NaN</td>\n",
       "      <td>NaN</td>\n",
       "    </tr>\n",
       "    <tr>\n",
       "      <th>2022-08-02</th>\n",
       "      <td>1.0</td>\n",
       "      <td>1.0</td>\n",
       "      <td>NaN</td>\n",
       "      <td>NaN</td>\n",
       "      <td>NaN</td>\n",
       "      <td>NaN</td>\n",
       "      <td>NaN</td>\n",
       "      <td>NaN</td>\n",
       "      <td>NaN</td>\n",
       "      <td>NaN</td>\n",
       "      <td>...</td>\n",
       "      <td>NaN</td>\n",
       "      <td>NaN</td>\n",
       "      <td>NaN</td>\n",
       "      <td>NaN</td>\n",
       "      <td>NaN</td>\n",
       "      <td>NaN</td>\n",
       "      <td>NaN</td>\n",
       "      <td>NaN</td>\n",
       "      <td>NaN</td>\n",
       "      <td>NaN</td>\n",
       "    </tr>\n",
       "    <tr>\n",
       "      <th>2022-08-03</th>\n",
       "      <td>1.0</td>\n",
       "      <td>1.0</td>\n",
       "      <td>1.0</td>\n",
       "      <td>NaN</td>\n",
       "      <td>NaN</td>\n",
       "      <td>NaN</td>\n",
       "      <td>NaN</td>\n",
       "      <td>NaN</td>\n",
       "      <td>NaN</td>\n",
       "      <td>NaN</td>\n",
       "      <td>...</td>\n",
       "      <td>NaN</td>\n",
       "      <td>NaN</td>\n",
       "      <td>NaN</td>\n",
       "      <td>NaN</td>\n",
       "      <td>NaN</td>\n",
       "      <td>NaN</td>\n",
       "      <td>NaN</td>\n",
       "      <td>NaN</td>\n",
       "      <td>NaN</td>\n",
       "      <td>NaN</td>\n",
       "    </tr>\n",
       "    <tr>\n",
       "      <th>2022-08-04</th>\n",
       "      <td>0.0</td>\n",
       "      <td>1.0</td>\n",
       "      <td>1.0</td>\n",
       "      <td>1.0</td>\n",
       "      <td>NaN</td>\n",
       "      <td>NaN</td>\n",
       "      <td>NaN</td>\n",
       "      <td>NaN</td>\n",
       "      <td>NaN</td>\n",
       "      <td>NaN</td>\n",
       "      <td>...</td>\n",
       "      <td>NaN</td>\n",
       "      <td>NaN</td>\n",
       "      <td>NaN</td>\n",
       "      <td>NaN</td>\n",
       "      <td>NaN</td>\n",
       "      <td>NaN</td>\n",
       "      <td>NaN</td>\n",
       "      <td>NaN</td>\n",
       "      <td>NaN</td>\n",
       "      <td>NaN</td>\n",
       "    </tr>\n",
       "    <tr>\n",
       "      <th>2022-08-05</th>\n",
       "      <td>0.0</td>\n",
       "      <td>0.0</td>\n",
       "      <td>1.0</td>\n",
       "      <td>1.0</td>\n",
       "      <td>1.0</td>\n",
       "      <td>NaN</td>\n",
       "      <td>NaN</td>\n",
       "      <td>NaN</td>\n",
       "      <td>NaN</td>\n",
       "      <td>NaN</td>\n",
       "      <td>...</td>\n",
       "      <td>NaN</td>\n",
       "      <td>NaN</td>\n",
       "      <td>NaN</td>\n",
       "      <td>NaN</td>\n",
       "      <td>NaN</td>\n",
       "      <td>NaN</td>\n",
       "      <td>NaN</td>\n",
       "      <td>NaN</td>\n",
       "      <td>NaN</td>\n",
       "      <td>NaN</td>\n",
       "    </tr>\n",
       "  </tbody>\n",
       "</table>\n",
       "<p>5 rows × 22 columns</p>\n",
       "</div>"
      ],
      "text/plain": [
       "                                                               sold  \\\n",
       "store_item                                         date               \n",
       "16a5cdae362b8d27a1d8f8c7b78b4330-00661699f54375... 2022-08-01   1.0   \n",
       "                                                   2022-08-02   1.0   \n",
       "                                                   2022-08-03   1.0   \n",
       "                                                   2022-08-04   0.0   \n",
       "                                                   2022-08-05   0.0   \n",
       "\n",
       "                                                               sold_lag_1  \\\n",
       "store_item                                         date                     \n",
       "16a5cdae362b8d27a1d8f8c7b78b4330-00661699f54375... 2022-08-01         NaN   \n",
       "                                                   2022-08-02         1.0   \n",
       "                                                   2022-08-03         1.0   \n",
       "                                                   2022-08-04         1.0   \n",
       "                                                   2022-08-05         0.0   \n",
       "\n",
       "                                                               sold_lag_2  \\\n",
       "store_item                                         date                     \n",
       "16a5cdae362b8d27a1d8f8c7b78b4330-00661699f54375... 2022-08-01         NaN   \n",
       "                                                   2022-08-02         NaN   \n",
       "                                                   2022-08-03         1.0   \n",
       "                                                   2022-08-04         1.0   \n",
       "                                                   2022-08-05         1.0   \n",
       "\n",
       "                                                               sold_lag_3  \\\n",
       "store_item                                         date                     \n",
       "16a5cdae362b8d27a1d8f8c7b78b4330-00661699f54375... 2022-08-01         NaN   \n",
       "                                                   2022-08-02         NaN   \n",
       "                                                   2022-08-03         NaN   \n",
       "                                                   2022-08-04         1.0   \n",
       "                                                   2022-08-05         1.0   \n",
       "\n",
       "                                                               sold_lag_4  \\\n",
       "store_item                                         date                     \n",
       "16a5cdae362b8d27a1d8f8c7b78b4330-00661699f54375... 2022-08-01         NaN   \n",
       "                                                   2022-08-02         NaN   \n",
       "                                                   2022-08-03         NaN   \n",
       "                                                   2022-08-04         NaN   \n",
       "                                                   2022-08-05         1.0   \n",
       "\n",
       "                                                               sold_lag_5  \\\n",
       "store_item                                         date                     \n",
       "16a5cdae362b8d27a1d8f8c7b78b4330-00661699f54375... 2022-08-01         NaN   \n",
       "                                                   2022-08-02         NaN   \n",
       "                                                   2022-08-03         NaN   \n",
       "                                                   2022-08-04         NaN   \n",
       "                                                   2022-08-05         NaN   \n",
       "\n",
       "                                                               sold_lag_6  \\\n",
       "store_item                                         date                     \n",
       "16a5cdae362b8d27a1d8f8c7b78b4330-00661699f54375... 2022-08-01         NaN   \n",
       "                                                   2022-08-02         NaN   \n",
       "                                                   2022-08-03         NaN   \n",
       "                                                   2022-08-04         NaN   \n",
       "                                                   2022-08-05         NaN   \n",
       "\n",
       "                                                               sold_lag_7  \\\n",
       "store_item                                         date                     \n",
       "16a5cdae362b8d27a1d8f8c7b78b4330-00661699f54375... 2022-08-01         NaN   \n",
       "                                                   2022-08-02         NaN   \n",
       "                                                   2022-08-03         NaN   \n",
       "                                                   2022-08-04         NaN   \n",
       "                                                   2022-08-05         NaN   \n",
       "\n",
       "                                                               sold_lag_8  \\\n",
       "store_item                                         date                     \n",
       "16a5cdae362b8d27a1d8f8c7b78b4330-00661699f54375... 2022-08-01         NaN   \n",
       "                                                   2022-08-02         NaN   \n",
       "                                                   2022-08-03         NaN   \n",
       "                                                   2022-08-04         NaN   \n",
       "                                                   2022-08-05         NaN   \n",
       "\n",
       "                                                               sold_lag_9  \\\n",
       "store_item                                         date                     \n",
       "16a5cdae362b8d27a1d8f8c7b78b4330-00661699f54375... 2022-08-01         NaN   \n",
       "                                                   2022-08-02         NaN   \n",
       "                                                   2022-08-03         NaN   \n",
       "                                                   2022-08-04         NaN   \n",
       "                                                   2022-08-05         NaN   \n",
       "\n",
       "                                                               ...  \\\n",
       "store_item                                         date        ...   \n",
       "16a5cdae362b8d27a1d8f8c7b78b4330-00661699f54375... 2022-08-01  ...   \n",
       "                                                   2022-08-02  ...   \n",
       "                                                   2022-08-03  ...   \n",
       "                                                   2022-08-04  ...   \n",
       "                                                   2022-08-05  ...   \n",
       "\n",
       "                                                               sold_lag_12  \\\n",
       "store_item                                         date                      \n",
       "16a5cdae362b8d27a1d8f8c7b78b4330-00661699f54375... 2022-08-01          NaN   \n",
       "                                                   2022-08-02          NaN   \n",
       "                                                   2022-08-03          NaN   \n",
       "                                                   2022-08-04          NaN   \n",
       "                                                   2022-08-05          NaN   \n",
       "\n",
       "                                                               sold_lag_13  \\\n",
       "store_item                                         date                      \n",
       "16a5cdae362b8d27a1d8f8c7b78b4330-00661699f54375... 2022-08-01          NaN   \n",
       "                                                   2022-08-02          NaN   \n",
       "                                                   2022-08-03          NaN   \n",
       "                                                   2022-08-04          NaN   \n",
       "                                                   2022-08-05          NaN   \n",
       "\n",
       "                                                               sold_lag_14  \\\n",
       "store_item                                         date                      \n",
       "16a5cdae362b8d27a1d8f8c7b78b4330-00661699f54375... 2022-08-01          NaN   \n",
       "                                                   2022-08-02          NaN   \n",
       "                                                   2022-08-03          NaN   \n",
       "                                                   2022-08-04          NaN   \n",
       "                                                   2022-08-05          NaN   \n",
       "\n",
       "                                                               sold_lag_15  \\\n",
       "store_item                                         date                      \n",
       "16a5cdae362b8d27a1d8f8c7b78b4330-00661699f54375... 2022-08-01          NaN   \n",
       "                                                   2022-08-02          NaN   \n",
       "                                                   2022-08-03          NaN   \n",
       "                                                   2022-08-04          NaN   \n",
       "                                                   2022-08-05          NaN   \n",
       "\n",
       "                                                               sold_lag_16  \\\n",
       "store_item                                         date                      \n",
       "16a5cdae362b8d27a1d8f8c7b78b4330-00661699f54375... 2022-08-01          NaN   \n",
       "                                                   2022-08-02          NaN   \n",
       "                                                   2022-08-03          NaN   \n",
       "                                                   2022-08-04          NaN   \n",
       "                                                   2022-08-05          NaN   \n",
       "\n",
       "                                                               sold_lag_17  \\\n",
       "store_item                                         date                      \n",
       "16a5cdae362b8d27a1d8f8c7b78b4330-00661699f54375... 2022-08-01          NaN   \n",
       "                                                   2022-08-02          NaN   \n",
       "                                                   2022-08-03          NaN   \n",
       "                                                   2022-08-04          NaN   \n",
       "                                                   2022-08-05          NaN   \n",
       "\n",
       "                                                               sold_lag_18  \\\n",
       "store_item                                         date                      \n",
       "16a5cdae362b8d27a1d8f8c7b78b4330-00661699f54375... 2022-08-01          NaN   \n",
       "                                                   2022-08-02          NaN   \n",
       "                                                   2022-08-03          NaN   \n",
       "                                                   2022-08-04          NaN   \n",
       "                                                   2022-08-05          NaN   \n",
       "\n",
       "                                                               sold_lag_19  \\\n",
       "store_item                                         date                      \n",
       "16a5cdae362b8d27a1d8f8c7b78b4330-00661699f54375... 2022-08-01          NaN   \n",
       "                                                   2022-08-02          NaN   \n",
       "                                                   2022-08-03          NaN   \n",
       "                                                   2022-08-04          NaN   \n",
       "                                                   2022-08-05          NaN   \n",
       "\n",
       "                                                               sold_lag_20  \\\n",
       "store_item                                         date                      \n",
       "16a5cdae362b8d27a1d8f8c7b78b4330-00661699f54375... 2022-08-01          NaN   \n",
       "                                                   2022-08-02          NaN   \n",
       "                                                   2022-08-03          NaN   \n",
       "                                                   2022-08-04          NaN   \n",
       "                                                   2022-08-05          NaN   \n",
       "\n",
       "                                                               sold_lag_21  \n",
       "store_item                                         date                     \n",
       "16a5cdae362b8d27a1d8f8c7b78b4330-00661699f54375... 2022-08-01          NaN  \n",
       "                                                   2022-08-02          NaN  \n",
       "                                                   2022-08-03          NaN  \n",
       "                                                   2022-08-04          NaN  \n",
       "                                                   2022-08-05          NaN  \n",
       "\n",
       "[5 rows x 22 columns]"
      ]
     },
     "execution_count": 27,
     "metadata": {},
     "output_type": "execute_result"
    }
   ],
   "source": [
    "#add lag columns\n",
    "shifted = train_long.set_index(['store_item', 'date'])\n",
    "new = shifted.copy()\n",
    "\n",
    "for i in range(21):\n",
    "    shifted_i = shifted.groupby(level=\"store_item\").shift(i+1)\n",
    "    new = new.join(shifted_i.rename(columns=lambda x: x+f\"_lag_{i+1}\"))\n",
    "new.head()"
   ]
  },
  {
   "cell_type": "code",
   "execution_count": 28,
   "metadata": {},
   "outputs": [
    {
     "data": {
      "text/plain": [
       "(283667, 22)"
      ]
     },
     "execution_count": 28,
     "metadata": {},
     "output_type": "execute_result"
    }
   ],
   "source": [
    "#delete nans where there's no lag data (start of period)\n",
    "new['na_sum'] = new.isna().sum(axis=1)\n",
    "new = new[new['na_sum'] == 0]\n",
    "new = new.drop('na_sum', axis=1)\n",
    "new.shape"
   ]
  },
  {
   "cell_type": "code",
   "execution_count": 29,
   "metadata": {},
   "outputs": [
    {
     "data": {
      "text/html": [
       "<div>\n",
       "<style scoped>\n",
       "    .dataframe tbody tr th:only-of-type {\n",
       "        vertical-align: middle;\n",
       "    }\n",
       "\n",
       "    .dataframe tbody tr th {\n",
       "        vertical-align: top;\n",
       "    }\n",
       "\n",
       "    .dataframe thead th {\n",
       "        text-align: right;\n",
       "    }\n",
       "</style>\n",
       "<table border=\"1\" class=\"dataframe\">\n",
       "  <thead>\n",
       "    <tr style=\"text-align: right;\">\n",
       "      <th></th>\n",
       "      <th></th>\n",
       "      <th>sold</th>\n",
       "      <th>sold_lag_1</th>\n",
       "      <th>sold_lag_2</th>\n",
       "      <th>sold_lag_3</th>\n",
       "      <th>sold_lag_4</th>\n",
       "      <th>sold_lag_5</th>\n",
       "      <th>sold_lag_6</th>\n",
       "      <th>sold_lag_7</th>\n",
       "      <th>sold_lag_8</th>\n",
       "      <th>sold_lag_9</th>\n",
       "      <th>...</th>\n",
       "      <th>sold_lag_12</th>\n",
       "      <th>sold_lag_13</th>\n",
       "      <th>sold_lag_14</th>\n",
       "      <th>sold_lag_15</th>\n",
       "      <th>sold_lag_16</th>\n",
       "      <th>sold_lag_17</th>\n",
       "      <th>sold_lag_18</th>\n",
       "      <th>sold_lag_19</th>\n",
       "      <th>sold_lag_20</th>\n",
       "      <th>sold_lag_21</th>\n",
       "    </tr>\n",
       "    <tr>\n",
       "      <th>store_item</th>\n",
       "      <th>date</th>\n",
       "      <th></th>\n",
       "      <th></th>\n",
       "      <th></th>\n",
       "      <th></th>\n",
       "      <th></th>\n",
       "      <th></th>\n",
       "      <th></th>\n",
       "      <th></th>\n",
       "      <th></th>\n",
       "      <th></th>\n",
       "      <th></th>\n",
       "      <th></th>\n",
       "      <th></th>\n",
       "      <th></th>\n",
       "      <th></th>\n",
       "      <th></th>\n",
       "      <th></th>\n",
       "      <th></th>\n",
       "      <th></th>\n",
       "      <th></th>\n",
       "      <th></th>\n",
       "    </tr>\n",
       "  </thead>\n",
       "  <tbody>\n",
       "    <tr>\n",
       "      <th rowspan=\"3\" valign=\"top\">16a5cdae362b8d27a1d8f8c7b78b4330-00661699f543753ec7e911a64b9fd2f6</th>\n",
       "      <th>2023-07-16</th>\n",
       "      <td>0.0</td>\n",
       "      <td>4.0</td>\n",
       "      <td>0.0</td>\n",
       "      <td>2.0</td>\n",
       "      <td>2.0</td>\n",
       "      <td>4.0</td>\n",
       "      <td>2.0</td>\n",
       "      <td>4.0</td>\n",
       "      <td>0.0</td>\n",
       "      <td>1.0</td>\n",
       "      <td>...</td>\n",
       "      <td>2.0</td>\n",
       "      <td>5.0</td>\n",
       "      <td>0.0</td>\n",
       "      <td>2.0</td>\n",
       "      <td>1.0</td>\n",
       "      <td>1.0</td>\n",
       "      <td>0.0</td>\n",
       "      <td>1.0</td>\n",
       "      <td>1.0</td>\n",
       "      <td>1.0</td>\n",
       "    </tr>\n",
       "    <tr>\n",
       "      <th>2023-07-17</th>\n",
       "      <td>2.0</td>\n",
       "      <td>0.0</td>\n",
       "      <td>4.0</td>\n",
       "      <td>0.0</td>\n",
       "      <td>2.0</td>\n",
       "      <td>2.0</td>\n",
       "      <td>4.0</td>\n",
       "      <td>2.0</td>\n",
       "      <td>4.0</td>\n",
       "      <td>0.0</td>\n",
       "      <td>...</td>\n",
       "      <td>0.0</td>\n",
       "      <td>2.0</td>\n",
       "      <td>5.0</td>\n",
       "      <td>0.0</td>\n",
       "      <td>2.0</td>\n",
       "      <td>1.0</td>\n",
       "      <td>1.0</td>\n",
       "      <td>0.0</td>\n",
       "      <td>1.0</td>\n",
       "      <td>1.0</td>\n",
       "    </tr>\n",
       "    <tr>\n",
       "      <th>2023-07-18</th>\n",
       "      <td>1.0</td>\n",
       "      <td>2.0</td>\n",
       "      <td>0.0</td>\n",
       "      <td>4.0</td>\n",
       "      <td>0.0</td>\n",
       "      <td>2.0</td>\n",
       "      <td>2.0</td>\n",
       "      <td>4.0</td>\n",
       "      <td>2.0</td>\n",
       "      <td>4.0</td>\n",
       "      <td>...</td>\n",
       "      <td>1.0</td>\n",
       "      <td>0.0</td>\n",
       "      <td>2.0</td>\n",
       "      <td>5.0</td>\n",
       "      <td>0.0</td>\n",
       "      <td>2.0</td>\n",
       "      <td>1.0</td>\n",
       "      <td>1.0</td>\n",
       "      <td>0.0</td>\n",
       "      <td>1.0</td>\n",
       "    </tr>\n",
       "    <tr>\n",
       "      <th rowspan=\"3\" valign=\"top\">16a5cdae362b8d27a1d8f8c7b78b4330-0094042bfeae507dc7f62acc8e5ed03a</th>\n",
       "      <th>2022-08-22</th>\n",
       "      <td>5.0</td>\n",
       "      <td>6.0</td>\n",
       "      <td>28.0</td>\n",
       "      <td>22.0</td>\n",
       "      <td>3.0</td>\n",
       "      <td>7.0</td>\n",
       "      <td>4.0</td>\n",
       "      <td>3.0</td>\n",
       "      <td>8.0</td>\n",
       "      <td>26.0</td>\n",
       "      <td>...</td>\n",
       "      <td>1.0</td>\n",
       "      <td>6.0</td>\n",
       "      <td>4.0</td>\n",
       "      <td>5.0</td>\n",
       "      <td>20.0</td>\n",
       "      <td>27.0</td>\n",
       "      <td>16.0</td>\n",
       "      <td>3.0</td>\n",
       "      <td>8.0</td>\n",
       "      <td>6.0</td>\n",
       "    </tr>\n",
       "    <tr>\n",
       "      <th>2022-08-23</th>\n",
       "      <td>7.0</td>\n",
       "      <td>5.0</td>\n",
       "      <td>6.0</td>\n",
       "      <td>28.0</td>\n",
       "      <td>22.0</td>\n",
       "      <td>3.0</td>\n",
       "      <td>7.0</td>\n",
       "      <td>4.0</td>\n",
       "      <td>3.0</td>\n",
       "      <td>8.0</td>\n",
       "      <td>...</td>\n",
       "      <td>7.0</td>\n",
       "      <td>1.0</td>\n",
       "      <td>6.0</td>\n",
       "      <td>4.0</td>\n",
       "      <td>5.0</td>\n",
       "      <td>20.0</td>\n",
       "      <td>27.0</td>\n",
       "      <td>16.0</td>\n",
       "      <td>3.0</td>\n",
       "      <td>8.0</td>\n",
       "    </tr>\n",
       "    <tr>\n",
       "      <th>2022-08-24</th>\n",
       "      <td>4.0</td>\n",
       "      <td>7.0</td>\n",
       "      <td>5.0</td>\n",
       "      <td>6.0</td>\n",
       "      <td>28.0</td>\n",
       "      <td>22.0</td>\n",
       "      <td>3.0</td>\n",
       "      <td>7.0</td>\n",
       "      <td>4.0</td>\n",
       "      <td>3.0</td>\n",
       "      <td>...</td>\n",
       "      <td>7.0</td>\n",
       "      <td>7.0</td>\n",
       "      <td>1.0</td>\n",
       "      <td>6.0</td>\n",
       "      <td>4.0</td>\n",
       "      <td>5.0</td>\n",
       "      <td>20.0</td>\n",
       "      <td>27.0</td>\n",
       "      <td>16.0</td>\n",
       "      <td>3.0</td>\n",
       "    </tr>\n",
       "  </tbody>\n",
       "</table>\n",
       "<p>6 rows × 22 columns</p>\n",
       "</div>"
      ],
      "text/plain": [
       "                                                               sold  \\\n",
       "store_item                                         date               \n",
       "16a5cdae362b8d27a1d8f8c7b78b4330-00661699f54375... 2023-07-16   0.0   \n",
       "                                                   2023-07-17   2.0   \n",
       "                                                   2023-07-18   1.0   \n",
       "16a5cdae362b8d27a1d8f8c7b78b4330-0094042bfeae50... 2022-08-22   5.0   \n",
       "                                                   2022-08-23   7.0   \n",
       "                                                   2022-08-24   4.0   \n",
       "\n",
       "                                                               sold_lag_1  \\\n",
       "store_item                                         date                     \n",
       "16a5cdae362b8d27a1d8f8c7b78b4330-00661699f54375... 2023-07-16         4.0   \n",
       "                                                   2023-07-17         0.0   \n",
       "                                                   2023-07-18         2.0   \n",
       "16a5cdae362b8d27a1d8f8c7b78b4330-0094042bfeae50... 2022-08-22         6.0   \n",
       "                                                   2022-08-23         5.0   \n",
       "                                                   2022-08-24         7.0   \n",
       "\n",
       "                                                               sold_lag_2  \\\n",
       "store_item                                         date                     \n",
       "16a5cdae362b8d27a1d8f8c7b78b4330-00661699f54375... 2023-07-16         0.0   \n",
       "                                                   2023-07-17         4.0   \n",
       "                                                   2023-07-18         0.0   \n",
       "16a5cdae362b8d27a1d8f8c7b78b4330-0094042bfeae50... 2022-08-22        28.0   \n",
       "                                                   2022-08-23         6.0   \n",
       "                                                   2022-08-24         5.0   \n",
       "\n",
       "                                                               sold_lag_3  \\\n",
       "store_item                                         date                     \n",
       "16a5cdae362b8d27a1d8f8c7b78b4330-00661699f54375... 2023-07-16         2.0   \n",
       "                                                   2023-07-17         0.0   \n",
       "                                                   2023-07-18         4.0   \n",
       "16a5cdae362b8d27a1d8f8c7b78b4330-0094042bfeae50... 2022-08-22        22.0   \n",
       "                                                   2022-08-23        28.0   \n",
       "                                                   2022-08-24         6.0   \n",
       "\n",
       "                                                               sold_lag_4  \\\n",
       "store_item                                         date                     \n",
       "16a5cdae362b8d27a1d8f8c7b78b4330-00661699f54375... 2023-07-16         2.0   \n",
       "                                                   2023-07-17         2.0   \n",
       "                                                   2023-07-18         0.0   \n",
       "16a5cdae362b8d27a1d8f8c7b78b4330-0094042bfeae50... 2022-08-22         3.0   \n",
       "                                                   2022-08-23        22.0   \n",
       "                                                   2022-08-24        28.0   \n",
       "\n",
       "                                                               sold_lag_5  \\\n",
       "store_item                                         date                     \n",
       "16a5cdae362b8d27a1d8f8c7b78b4330-00661699f54375... 2023-07-16         4.0   \n",
       "                                                   2023-07-17         2.0   \n",
       "                                                   2023-07-18         2.0   \n",
       "16a5cdae362b8d27a1d8f8c7b78b4330-0094042bfeae50... 2022-08-22         7.0   \n",
       "                                                   2022-08-23         3.0   \n",
       "                                                   2022-08-24        22.0   \n",
       "\n",
       "                                                               sold_lag_6  \\\n",
       "store_item                                         date                     \n",
       "16a5cdae362b8d27a1d8f8c7b78b4330-00661699f54375... 2023-07-16         2.0   \n",
       "                                                   2023-07-17         4.0   \n",
       "                                                   2023-07-18         2.0   \n",
       "16a5cdae362b8d27a1d8f8c7b78b4330-0094042bfeae50... 2022-08-22         4.0   \n",
       "                                                   2022-08-23         7.0   \n",
       "                                                   2022-08-24         3.0   \n",
       "\n",
       "                                                               sold_lag_7  \\\n",
       "store_item                                         date                     \n",
       "16a5cdae362b8d27a1d8f8c7b78b4330-00661699f54375... 2023-07-16         4.0   \n",
       "                                                   2023-07-17         2.0   \n",
       "                                                   2023-07-18         4.0   \n",
       "16a5cdae362b8d27a1d8f8c7b78b4330-0094042bfeae50... 2022-08-22         3.0   \n",
       "                                                   2022-08-23         4.0   \n",
       "                                                   2022-08-24         7.0   \n",
       "\n",
       "                                                               sold_lag_8  \\\n",
       "store_item                                         date                     \n",
       "16a5cdae362b8d27a1d8f8c7b78b4330-00661699f54375... 2023-07-16         0.0   \n",
       "                                                   2023-07-17         4.0   \n",
       "                                                   2023-07-18         2.0   \n",
       "16a5cdae362b8d27a1d8f8c7b78b4330-0094042bfeae50... 2022-08-22         8.0   \n",
       "                                                   2022-08-23         3.0   \n",
       "                                                   2022-08-24         4.0   \n",
       "\n",
       "                                                               sold_lag_9  \\\n",
       "store_item                                         date                     \n",
       "16a5cdae362b8d27a1d8f8c7b78b4330-00661699f54375... 2023-07-16         1.0   \n",
       "                                                   2023-07-17         0.0   \n",
       "                                                   2023-07-18         4.0   \n",
       "16a5cdae362b8d27a1d8f8c7b78b4330-0094042bfeae50... 2022-08-22        26.0   \n",
       "                                                   2022-08-23         8.0   \n",
       "                                                   2022-08-24         3.0   \n",
       "\n",
       "                                                               ...  \\\n",
       "store_item                                         date        ...   \n",
       "16a5cdae362b8d27a1d8f8c7b78b4330-00661699f54375... 2023-07-16  ...   \n",
       "                                                   2023-07-17  ...   \n",
       "                                                   2023-07-18  ...   \n",
       "16a5cdae362b8d27a1d8f8c7b78b4330-0094042bfeae50... 2022-08-22  ...   \n",
       "                                                   2022-08-23  ...   \n",
       "                                                   2022-08-24  ...   \n",
       "\n",
       "                                                               sold_lag_12  \\\n",
       "store_item                                         date                      \n",
       "16a5cdae362b8d27a1d8f8c7b78b4330-00661699f54375... 2023-07-16          2.0   \n",
       "                                                   2023-07-17          0.0   \n",
       "                                                   2023-07-18          1.0   \n",
       "16a5cdae362b8d27a1d8f8c7b78b4330-0094042bfeae50... 2022-08-22          1.0   \n",
       "                                                   2022-08-23          7.0   \n",
       "                                                   2022-08-24          7.0   \n",
       "\n",
       "                                                               sold_lag_13  \\\n",
       "store_item                                         date                      \n",
       "16a5cdae362b8d27a1d8f8c7b78b4330-00661699f54375... 2023-07-16          5.0   \n",
       "                                                   2023-07-17          2.0   \n",
       "                                                   2023-07-18          0.0   \n",
       "16a5cdae362b8d27a1d8f8c7b78b4330-0094042bfeae50... 2022-08-22          6.0   \n",
       "                                                   2022-08-23          1.0   \n",
       "                                                   2022-08-24          7.0   \n",
       "\n",
       "                                                               sold_lag_14  \\\n",
       "store_item                                         date                      \n",
       "16a5cdae362b8d27a1d8f8c7b78b4330-00661699f54375... 2023-07-16          0.0   \n",
       "                                                   2023-07-17          5.0   \n",
       "                                                   2023-07-18          2.0   \n",
       "16a5cdae362b8d27a1d8f8c7b78b4330-0094042bfeae50... 2022-08-22          4.0   \n",
       "                                                   2022-08-23          6.0   \n",
       "                                                   2022-08-24          1.0   \n",
       "\n",
       "                                                               sold_lag_15  \\\n",
       "store_item                                         date                      \n",
       "16a5cdae362b8d27a1d8f8c7b78b4330-00661699f54375... 2023-07-16          2.0   \n",
       "                                                   2023-07-17          0.0   \n",
       "                                                   2023-07-18          5.0   \n",
       "16a5cdae362b8d27a1d8f8c7b78b4330-0094042bfeae50... 2022-08-22          5.0   \n",
       "                                                   2022-08-23          4.0   \n",
       "                                                   2022-08-24          6.0   \n",
       "\n",
       "                                                               sold_lag_16  \\\n",
       "store_item                                         date                      \n",
       "16a5cdae362b8d27a1d8f8c7b78b4330-00661699f54375... 2023-07-16          1.0   \n",
       "                                                   2023-07-17          2.0   \n",
       "                                                   2023-07-18          0.0   \n",
       "16a5cdae362b8d27a1d8f8c7b78b4330-0094042bfeae50... 2022-08-22         20.0   \n",
       "                                                   2022-08-23          5.0   \n",
       "                                                   2022-08-24          4.0   \n",
       "\n",
       "                                                               sold_lag_17  \\\n",
       "store_item                                         date                      \n",
       "16a5cdae362b8d27a1d8f8c7b78b4330-00661699f54375... 2023-07-16          1.0   \n",
       "                                                   2023-07-17          1.0   \n",
       "                                                   2023-07-18          2.0   \n",
       "16a5cdae362b8d27a1d8f8c7b78b4330-0094042bfeae50... 2022-08-22         27.0   \n",
       "                                                   2022-08-23         20.0   \n",
       "                                                   2022-08-24          5.0   \n",
       "\n",
       "                                                               sold_lag_18  \\\n",
       "store_item                                         date                      \n",
       "16a5cdae362b8d27a1d8f8c7b78b4330-00661699f54375... 2023-07-16          0.0   \n",
       "                                                   2023-07-17          1.0   \n",
       "                                                   2023-07-18          1.0   \n",
       "16a5cdae362b8d27a1d8f8c7b78b4330-0094042bfeae50... 2022-08-22         16.0   \n",
       "                                                   2022-08-23         27.0   \n",
       "                                                   2022-08-24         20.0   \n",
       "\n",
       "                                                               sold_lag_19  \\\n",
       "store_item                                         date                      \n",
       "16a5cdae362b8d27a1d8f8c7b78b4330-00661699f54375... 2023-07-16          1.0   \n",
       "                                                   2023-07-17          0.0   \n",
       "                                                   2023-07-18          1.0   \n",
       "16a5cdae362b8d27a1d8f8c7b78b4330-0094042bfeae50... 2022-08-22          3.0   \n",
       "                                                   2022-08-23         16.0   \n",
       "                                                   2022-08-24         27.0   \n",
       "\n",
       "                                                               sold_lag_20  \\\n",
       "store_item                                         date                      \n",
       "16a5cdae362b8d27a1d8f8c7b78b4330-00661699f54375... 2023-07-16          1.0   \n",
       "                                                   2023-07-17          1.0   \n",
       "                                                   2023-07-18          0.0   \n",
       "16a5cdae362b8d27a1d8f8c7b78b4330-0094042bfeae50... 2022-08-22          8.0   \n",
       "                                                   2022-08-23          3.0   \n",
       "                                                   2022-08-24         16.0   \n",
       "\n",
       "                                                               sold_lag_21  \n",
       "store_item                                         date                     \n",
       "16a5cdae362b8d27a1d8f8c7b78b4330-00661699f54375... 2023-07-16          1.0  \n",
       "                                                   2023-07-17          1.0  \n",
       "                                                   2023-07-18          1.0  \n",
       "16a5cdae362b8d27a1d8f8c7b78b4330-0094042bfeae50... 2022-08-22          6.0  \n",
       "                                                   2022-08-23          8.0  \n",
       "                                                   2022-08-24          3.0  \n",
       "\n",
       "[6 rows x 22 columns]"
      ]
     },
     "execution_count": 29,
     "metadata": {},
     "output_type": "execute_result"
    }
   ],
   "source": [
    "#look at the edge between units to make sure lags don't mix up\n",
    "new[328:334]"
   ]
  },
  {
   "cell_type": "code",
   "execution_count": 30,
   "metadata": {},
   "outputs": [
    {
     "data": {
      "text/plain": [
       "0        2022-08-22\n",
       "1        2022-08-23\n",
       "2        2022-08-24\n",
       "3        2022-08-25\n",
       "4        2022-08-26\n",
       "            ...    \n",
       "283662   2023-07-14\n",
       "283663   2023-07-15\n",
       "283664   2023-07-16\n",
       "283665   2023-07-17\n",
       "283666   2023-07-18\n",
       "Name: date, Length: 283667, dtype: datetime64[ns]"
      ]
     },
     "execution_count": 30,
     "metadata": {},
     "output_type": "execute_result"
    }
   ],
   "source": [
    "new = new.reset_index()\n",
    "new['date']"
   ]
  },
  {
   "cell_type": "code",
   "execution_count": 31,
   "metadata": {},
   "outputs": [
    {
     "data": {
      "text/plain": [
       "(283667, 25)"
      ]
     },
     "execution_count": 31,
     "metadata": {},
     "output_type": "execute_result"
    }
   ],
   "source": [
    "#add promo flag\n",
    "promo = oneline[oneline['store_item'].isin(top150.reset_index()['store_item'])][['store_item', 'date', 'pr_sales_type_id']]\n",
    "promo['date'] = pd.to_datetime(promo['date']).dt.normalize()\n",
    "with_promo = new.merge(promo, how='left', on=['store_item', 'date'])\n",
    "with_promo.shape"
   ]
  },
  {
   "cell_type": "code",
   "execution_count": 32,
   "metadata": {},
   "outputs": [
    {
     "data": {
      "text/plain": [
       "store_item          0\n",
       "date                0\n",
       "sold                0\n",
       "sold_lag_1          0\n",
       "sold_lag_2          0\n",
       "sold_lag_3          0\n",
       "sold_lag_4          0\n",
       "sold_lag_5          0\n",
       "sold_lag_6          0\n",
       "sold_lag_7          0\n",
       "sold_lag_8          0\n",
       "sold_lag_9          0\n",
       "sold_lag_10         0\n",
       "sold_lag_11         0\n",
       "sold_lag_12         0\n",
       "sold_lag_13         0\n",
       "sold_lag_14         0\n",
       "sold_lag_15         0\n",
       "sold_lag_16         0\n",
       "sold_lag_17         0\n",
       "sold_lag_18         0\n",
       "sold_lag_19         0\n",
       "sold_lag_20         0\n",
       "sold_lag_21         0\n",
       "pr_sales_type_id    0\n",
       "dtype: int64"
      ]
     },
     "execution_count": 32,
     "metadata": {},
     "output_type": "execute_result"
    }
   ],
   "source": [
    "with_promo.fillna(0, inplace=True)\n",
    "with_promo.isna().sum()"
   ]
  },
  {
   "cell_type": "code",
   "execution_count": 33,
   "metadata": {},
   "outputs": [],
   "source": [
    "#add features of day-of-week, day-of-month, week, month, season\n",
    "with_promo['dow'] = with_promo['date'].dt.dayofweek\n",
    "with_promo['day'] = with_promo['date'].dt.day\n",
    "with_promo['week'] = with_promo['date'].dt.isocalendar().week.astype('int32')\n",
    "with_promo['month'] = with_promo['date'].dt.month\n",
    "with_promo['season'] = with_promo['date'].dt.quarter"
   ]
  },
  {
   "cell_type": "code",
   "execution_count": 34,
   "metadata": {},
   "outputs": [
    {
     "data": {
      "text/plain": [
       "(283667, 32)"
      ]
     },
     "execution_count": 34,
     "metadata": {},
     "output_type": "execute_result"
    }
   ],
   "source": [
    "#add separate features of item and store id\n",
    "items_stores = sales[['store_item', 'st_id', 'pr_sku_id']].drop_duplicates(subset='store_item')\n",
    "with_items_stores = with_promo.merge(items_stores, how='left', on='store_item')\n",
    "with_items_stores.shape"
   ]
  },
  {
   "cell_type": "code",
   "execution_count": 35,
   "metadata": {},
   "outputs": [
    {
     "data": {
      "text/html": [
       "<div>\n",
       "<style scoped>\n",
       "    .dataframe tbody tr th:only-of-type {\n",
       "        vertical-align: middle;\n",
       "    }\n",
       "\n",
       "    .dataframe tbody tr th {\n",
       "        vertical-align: top;\n",
       "    }\n",
       "\n",
       "    .dataframe thead th {\n",
       "        text-align: right;\n",
       "    }\n",
       "</style>\n",
       "<table border=\"1\" class=\"dataframe\">\n",
       "  <thead>\n",
       "    <tr style=\"text-align: right;\">\n",
       "      <th></th>\n",
       "      <th>st_id</th>\n",
       "      <th>st_city_id</th>\n",
       "      <th>st_division_code</th>\n",
       "      <th>st_type_format_id</th>\n",
       "      <th>st_type_loc_id</th>\n",
       "      <th>st_type_size_id</th>\n",
       "      <th>st_is_active</th>\n",
       "    </tr>\n",
       "  </thead>\n",
       "  <tbody>\n",
       "    <tr>\n",
       "      <th>0</th>\n",
       "      <td>1aa057313c28fa4a40c5bc084b11d276</td>\n",
       "      <td>1587965fb4d4b5afe8428a4a024feb0d</td>\n",
       "      <td>81b4dd343f5880df806d4c5d4a846c64</td>\n",
       "      <td>4</td>\n",
       "      <td>3</td>\n",
       "      <td>19</td>\n",
       "      <td>0</td>\n",
       "    </tr>\n",
       "    <tr>\n",
       "      <th>1</th>\n",
       "      <td>bd470ca955d9497bbcb808e59952fffc</td>\n",
       "      <td>955d864a62659945cc9434898e275deb</td>\n",
       "      <td>e26072c92d8fe0738df44d571d5f5e8b</td>\n",
       "      <td>4</td>\n",
       "      <td>3</td>\n",
       "      <td>19</td>\n",
       "      <td>1</td>\n",
       "    </tr>\n",
       "    <tr>\n",
       "      <th>2</th>\n",
       "      <td>6364d3f0f495b6ab9dcf8d3b5c6e0b01</td>\n",
       "      <td>b8b4b727d6f5d1b61fff7be687f7970f</td>\n",
       "      <td>da742b3cfca5388aaf9af28a726a3c30</td>\n",
       "      <td>1</td>\n",
       "      <td>1</td>\n",
       "      <td>12</td>\n",
       "      <td>1</td>\n",
       "    </tr>\n",
       "    <tr>\n",
       "      <th>3</th>\n",
       "      <td>1ecfb463472ec9115b10c292ef8bc986</td>\n",
       "      <td>908c9a564a86426585b29f5335b619bc</td>\n",
       "      <td>429a86ff6336c144ddaf6144f52ab52c</td>\n",
       "      <td>2</td>\n",
       "      <td>1</td>\n",
       "      <td>28</td>\n",
       "      <td>1</td>\n",
       "    </tr>\n",
       "    <tr>\n",
       "      <th>4</th>\n",
       "      <td>16a5cdae362b8d27a1d8f8c7b78b4330</td>\n",
       "      <td>c1f75cc0f7fe269dd0fd9bd5e24f9586</td>\n",
       "      <td>296bd0cc6e735f9d7488ebc8fbc19130</td>\n",
       "      <td>1</td>\n",
       "      <td>2</td>\n",
       "      <td>8</td>\n",
       "      <td>1</td>\n",
       "    </tr>\n",
       "  </tbody>\n",
       "</table>\n",
       "</div>"
      ],
      "text/plain": [
       "                              st_id                        st_city_id  \\\n",
       "0  1aa057313c28fa4a40c5bc084b11d276  1587965fb4d4b5afe8428a4a024feb0d   \n",
       "1  bd470ca955d9497bbcb808e59952fffc  955d864a62659945cc9434898e275deb   \n",
       "2  6364d3f0f495b6ab9dcf8d3b5c6e0b01  b8b4b727d6f5d1b61fff7be687f7970f   \n",
       "3  1ecfb463472ec9115b10c292ef8bc986  908c9a564a86426585b29f5335b619bc   \n",
       "4  16a5cdae362b8d27a1d8f8c7b78b4330  c1f75cc0f7fe269dd0fd9bd5e24f9586   \n",
       "\n",
       "                   st_division_code  st_type_format_id  st_type_loc_id  \\\n",
       "0  81b4dd343f5880df806d4c5d4a846c64                  4               3   \n",
       "1  e26072c92d8fe0738df44d571d5f5e8b                  4               3   \n",
       "2  da742b3cfca5388aaf9af28a726a3c30                  1               1   \n",
       "3  429a86ff6336c144ddaf6144f52ab52c                  2               1   \n",
       "4  296bd0cc6e735f9d7488ebc8fbc19130                  1               2   \n",
       "\n",
       "   st_type_size_id  st_is_active  \n",
       "0               19             0  \n",
       "1               19             1  \n",
       "2               12             1  \n",
       "3               28             1  \n",
       "4                8             1  "
      ]
     },
     "execution_count": 35,
     "metadata": {},
     "output_type": "execute_result"
    }
   ],
   "source": [
    "#add more info on store\n",
    "stores = pd.read_csv('st_df.csv')\n",
    "stores.head()"
   ]
  },
  {
   "cell_type": "code",
   "execution_count": 36,
   "metadata": {},
   "outputs": [
    {
     "data": {
      "text/plain": [
       "Index(['st_id', 'st_city_id', 'st_division_code', 'st_type_format_id',\n",
       "       'st_type_loc_id', 'st_type_size_id', 'st_is_active'],\n",
       "      dtype='object')"
      ]
     },
     "execution_count": 36,
     "metadata": {},
     "output_type": "execute_result"
    }
   ],
   "source": [
    "stores.columns"
   ]
  },
  {
   "cell_type": "code",
   "execution_count": 37,
   "metadata": {},
   "outputs": [
    {
     "data": {
      "text/plain": [
       "(283667, 37)"
      ]
     },
     "execution_count": 37,
     "metadata": {},
     "output_type": "execute_result"
    }
   ],
   "source": [
    "with_stores = with_items_stores.merge(stores[['st_id', \n",
    "                                              'st_city_id', \n",
    "                                              'st_division_code', \n",
    "                                              'st_type_format_id',\n",
    "                                              'st_type_loc_id', \n",
    "                                              'st_type_size_id']], how='left', on='st_id')\n",
    "with_stores.shape"
   ]
  },
  {
   "cell_type": "code",
   "execution_count": 38,
   "metadata": {},
   "outputs": [
    {
     "data": {
      "text/html": [
       "<div>\n",
       "<style scoped>\n",
       "    .dataframe tbody tr th:only-of-type {\n",
       "        vertical-align: middle;\n",
       "    }\n",
       "\n",
       "    .dataframe tbody tr th {\n",
       "        vertical-align: top;\n",
       "    }\n",
       "\n",
       "    .dataframe thead th {\n",
       "        text-align: right;\n",
       "    }\n",
       "</style>\n",
       "<table border=\"1\" class=\"dataframe\">\n",
       "  <thead>\n",
       "    <tr style=\"text-align: right;\">\n",
       "      <th></th>\n",
       "      <th>pr_sku_id</th>\n",
       "      <th>pr_group_id</th>\n",
       "      <th>pr_cat_id</th>\n",
       "      <th>pr_subcat_id</th>\n",
       "      <th>pr_uom_id</th>\n",
       "    </tr>\n",
       "  </thead>\n",
       "  <tbody>\n",
       "    <tr>\n",
       "      <th>0</th>\n",
       "      <td>fd064933250b0bfe4f926b867b0a5ec8</td>\n",
       "      <td>c74d97b01eae257e44aa9d5bade97baf</td>\n",
       "      <td>1bc0249a6412ef49b07fe6f62e6dc8de</td>\n",
       "      <td>ca34f669ae367c87f0e75dcae0f61ee5</td>\n",
       "      <td>17</td>\n",
       "    </tr>\n",
       "    <tr>\n",
       "      <th>1</th>\n",
       "      <td>71c9661741caf40a92a32d1cc8206c04</td>\n",
       "      <td>c74d97b01eae257e44aa9d5bade97baf</td>\n",
       "      <td>c559da2ba967eb820766939a658022c8</td>\n",
       "      <td>e06f5ed77191826c212c30722f2cc5a2</td>\n",
       "      <td>17</td>\n",
       "    </tr>\n",
       "    <tr>\n",
       "      <th>2</th>\n",
       "      <td>00b72c2f01a1512cbb1d3f33319bac93</td>\n",
       "      <td>c74d97b01eae257e44aa9d5bade97baf</td>\n",
       "      <td>1bc0249a6412ef49b07fe6f62e6dc8de</td>\n",
       "      <td>d407a3ebb4ab9b0d68b224486f8b8dad</td>\n",
       "      <td>17</td>\n",
       "    </tr>\n",
       "    <tr>\n",
       "      <th>3</th>\n",
       "      <td>9bc40cd2fe4f188f402bb41548c5e15c</td>\n",
       "      <td>c74d97b01eae257e44aa9d5bade97baf</td>\n",
       "      <td>1bc0249a6412ef49b07fe6f62e6dc8de</td>\n",
       "      <td>ca34f669ae367c87f0e75dcae0f61ee5</td>\n",
       "      <td>17</td>\n",
       "    </tr>\n",
       "    <tr>\n",
       "      <th>4</th>\n",
       "      <td>3a74a370c8eb032acb11ad9119242b8f</td>\n",
       "      <td>c74d97b01eae257e44aa9d5bade97baf</td>\n",
       "      <td>c559da2ba967eb820766939a658022c8</td>\n",
       "      <td>e06f5ed77191826c212c30722f2cc5a2</td>\n",
       "      <td>17</td>\n",
       "    </tr>\n",
       "  </tbody>\n",
       "</table>\n",
       "</div>"
      ],
      "text/plain": [
       "                          pr_sku_id                       pr_group_id  \\\n",
       "0  fd064933250b0bfe4f926b867b0a5ec8  c74d97b01eae257e44aa9d5bade97baf   \n",
       "1  71c9661741caf40a92a32d1cc8206c04  c74d97b01eae257e44aa9d5bade97baf   \n",
       "2  00b72c2f01a1512cbb1d3f33319bac93  c74d97b01eae257e44aa9d5bade97baf   \n",
       "3  9bc40cd2fe4f188f402bb41548c5e15c  c74d97b01eae257e44aa9d5bade97baf   \n",
       "4  3a74a370c8eb032acb11ad9119242b8f  c74d97b01eae257e44aa9d5bade97baf   \n",
       "\n",
       "                          pr_cat_id                      pr_subcat_id  \\\n",
       "0  1bc0249a6412ef49b07fe6f62e6dc8de  ca34f669ae367c87f0e75dcae0f61ee5   \n",
       "1  c559da2ba967eb820766939a658022c8  e06f5ed77191826c212c30722f2cc5a2   \n",
       "2  1bc0249a6412ef49b07fe6f62e6dc8de  d407a3ebb4ab9b0d68b224486f8b8dad   \n",
       "3  1bc0249a6412ef49b07fe6f62e6dc8de  ca34f669ae367c87f0e75dcae0f61ee5   \n",
       "4  c559da2ba967eb820766939a658022c8  e06f5ed77191826c212c30722f2cc5a2   \n",
       "\n",
       "   pr_uom_id  \n",
       "0         17  \n",
       "1         17  \n",
       "2         17  \n",
       "3         17  \n",
       "4         17  "
      ]
     },
     "execution_count": 38,
     "metadata": {},
     "output_type": "execute_result"
    }
   ],
   "source": [
    "#add item classification\n",
    "items = pd.read_csv('pr_df.csv')\n",
    "items.head()"
   ]
  },
  {
   "cell_type": "code",
   "execution_count": 39,
   "metadata": {},
   "outputs": [
    {
     "data": {
      "text/plain": [
       "Index(['pr_sku_id', 'pr_group_id', 'pr_cat_id', 'pr_subcat_id', 'pr_uom_id'], dtype='object')"
      ]
     },
     "execution_count": 39,
     "metadata": {},
     "output_type": "execute_result"
    }
   ],
   "source": [
    "items.columns"
   ]
  },
  {
   "cell_type": "code",
   "execution_count": 40,
   "metadata": {},
   "outputs": [
    {
     "data": {
      "text/plain": [
       "(283667, 36)"
      ]
     },
     "execution_count": 40,
     "metadata": {},
     "output_type": "execute_result"
    }
   ],
   "source": [
    "with_items = with_items_stores.merge(items[['pr_sku_id', \n",
    "                                            'pr_group_id', \n",
    "                                            'pr_cat_id', \n",
    "                                            'pr_subcat_id', \n",
    "                                            'pr_uom_id']], how='left', on='pr_sku_id')\n",
    "with_items.shape"
   ]
  },
  {
   "cell_type": "code",
   "execution_count": 41,
   "metadata": {},
   "outputs": [
    {
     "data": {
      "text/plain": [
       "count    390861.000000\n",
       "mean        142.830733\n",
       "std         133.485941\n",
       "min           0.500000\n",
       "25%          52.000000\n",
       "50%         116.333333\n",
       "75%         190.500000\n",
       "max        4729.000000\n",
       "Name: avg_daily_price, dtype: float64"
      ]
     },
     "execution_count": 41,
     "metadata": {},
     "output_type": "execute_result"
    }
   ],
   "source": [
    "#let's try to calculate prices\n",
    "prices = sales.groupby(['pr_sku_id', 'date', 'pr_sales_type_id'])[['pr_sales_in_units', 'pr_sales_in_rub']].sum()\n",
    "prices = prices.sort_values(by=['pr_sku_id', 'date'])\n",
    "prices = prices.reset_index()\n",
    "prices['avg_daily_price'] = prices['pr_sales_in_rub'] / prices['pr_sales_in_units']\n",
    "prices['avg_daily_price'].describe()"
   ]
  },
  {
   "cell_type": "code",
   "execution_count": 42,
   "metadata": {},
   "outputs": [
    {
     "data": {
      "text/html": [
       "<div>\n",
       "<style scoped>\n",
       "    .dataframe tbody tr th:only-of-type {\n",
       "        vertical-align: middle;\n",
       "    }\n",
       "\n",
       "    .dataframe tbody tr th {\n",
       "        vertical-align: top;\n",
       "    }\n",
       "\n",
       "    .dataframe thead th {\n",
       "        text-align: right;\n",
       "    }\n",
       "</style>\n",
       "<table border=\"1\" class=\"dataframe\">\n",
       "  <thead>\n",
       "    <tr style=\"text-align: right;\">\n",
       "      <th></th>\n",
       "      <th>pr_sku_id</th>\n",
       "      <th>date</th>\n",
       "      <th>pr_sales_type_id</th>\n",
       "      <th>pr_sales_in_units</th>\n",
       "      <th>pr_sales_in_rub</th>\n",
       "      <th>avg_daily_price</th>\n",
       "    </tr>\n",
       "  </thead>\n",
       "  <tbody>\n",
       "    <tr>\n",
       "      <th>151986</th>\n",
       "      <td>62d4af457ba2540ce0898a211c0cd17a</td>\n",
       "      <td>2022-08-01</td>\n",
       "      <td>0</td>\n",
       "      <td>295.0</td>\n",
       "      <td>4249.0</td>\n",
       "      <td>14.403390</td>\n",
       "    </tr>\n",
       "    <tr>\n",
       "      <th>151987</th>\n",
       "      <td>62d4af457ba2540ce0898a211c0cd17a</td>\n",
       "      <td>2022-08-01</td>\n",
       "      <td>1</td>\n",
       "      <td>31.0</td>\n",
       "      <td>411.0</td>\n",
       "      <td>13.258065</td>\n",
       "    </tr>\n",
       "    <tr>\n",
       "      <th>151988</th>\n",
       "      <td>62d4af457ba2540ce0898a211c0cd17a</td>\n",
       "      <td>2022-08-02</td>\n",
       "      <td>0</td>\n",
       "      <td>289.0</td>\n",
       "      <td>4167.0</td>\n",
       "      <td>14.418685</td>\n",
       "    </tr>\n",
       "    <tr>\n",
       "      <th>151989</th>\n",
       "      <td>62d4af457ba2540ce0898a211c0cd17a</td>\n",
       "      <td>2022-08-02</td>\n",
       "      <td>1</td>\n",
       "      <td>30.0</td>\n",
       "      <td>401.0</td>\n",
       "      <td>13.366667</td>\n",
       "    </tr>\n",
       "    <tr>\n",
       "      <th>151990</th>\n",
       "      <td>62d4af457ba2540ce0898a211c0cd17a</td>\n",
       "      <td>2022-08-03</td>\n",
       "      <td>0</td>\n",
       "      <td>351.0</td>\n",
       "      <td>5089.0</td>\n",
       "      <td>14.498575</td>\n",
       "    </tr>\n",
       "  </tbody>\n",
       "</table>\n",
       "</div>"
      ],
      "text/plain": [
       "                               pr_sku_id        date  pr_sales_type_id  \\\n",
       "151986  62d4af457ba2540ce0898a211c0cd17a  2022-08-01                 0   \n",
       "151987  62d4af457ba2540ce0898a211c0cd17a  2022-08-01                 1   \n",
       "151988  62d4af457ba2540ce0898a211c0cd17a  2022-08-02                 0   \n",
       "151989  62d4af457ba2540ce0898a211c0cd17a  2022-08-02                 1   \n",
       "151990  62d4af457ba2540ce0898a211c0cd17a  2022-08-03                 0   \n",
       "\n",
       "        pr_sales_in_units  pr_sales_in_rub  avg_daily_price  \n",
       "151986              295.0           4249.0        14.403390  \n",
       "151987               31.0            411.0        13.258065  \n",
       "151988              289.0           4167.0        14.418685  \n",
       "151989               30.0            401.0        13.366667  \n",
       "151990              351.0           5089.0        14.498575  "
      ]
     },
     "execution_count": 42,
     "metadata": {},
     "output_type": "execute_result"
    }
   ],
   "source": [
    "prices[prices['pr_sku_id'] == '62d4af457ba2540ce0898a211c0cd17a'].head()"
   ]
  },
  {
   "cell_type": "code",
   "execution_count": 43,
   "metadata": {},
   "outputs": [],
   "source": [
    "discounts = prices.copy()\n",
    "discounts = discounts.groupby(['pr_sku_id', 'date'])['avg_daily_price'].transform(lambda x: 1 - (x / x.max()))"
   ]
  },
  {
   "cell_type": "code",
   "execution_count": 44,
   "metadata": {},
   "outputs": [
    {
     "data": {
      "text/html": [
       "<div>\n",
       "<style scoped>\n",
       "    .dataframe tbody tr th:only-of-type {\n",
       "        vertical-align: middle;\n",
       "    }\n",
       "\n",
       "    .dataframe tbody tr th {\n",
       "        vertical-align: top;\n",
       "    }\n",
       "\n",
       "    .dataframe thead th {\n",
       "        text-align: right;\n",
       "    }\n",
       "</style>\n",
       "<table border=\"1\" class=\"dataframe\">\n",
       "  <thead>\n",
       "    <tr style=\"text-align: right;\">\n",
       "      <th></th>\n",
       "      <th>pr_sku_id</th>\n",
       "      <th>date</th>\n",
       "      <th>pr_sales_type_id</th>\n",
       "      <th>pr_sales_in_units</th>\n",
       "      <th>pr_sales_in_rub</th>\n",
       "      <th>avg_daily_price</th>\n",
       "      <th>discount</th>\n",
       "    </tr>\n",
       "  </thead>\n",
       "  <tbody>\n",
       "    <tr>\n",
       "      <th>151986</th>\n",
       "      <td>62d4af457ba2540ce0898a211c0cd17a</td>\n",
       "      <td>2022-08-01</td>\n",
       "      <td>0</td>\n",
       "      <td>295.0</td>\n",
       "      <td>4249.0</td>\n",
       "      <td>14.403390</td>\n",
       "      <td>0.000000</td>\n",
       "    </tr>\n",
       "    <tr>\n",
       "      <th>151987</th>\n",
       "      <td>62d4af457ba2540ce0898a211c0cd17a</td>\n",
       "      <td>2022-08-01</td>\n",
       "      <td>1</td>\n",
       "      <td>31.0</td>\n",
       "      <td>411.0</td>\n",
       "      <td>13.258065</td>\n",
       "      <td>0.079518</td>\n",
       "    </tr>\n",
       "    <tr>\n",
       "      <th>151988</th>\n",
       "      <td>62d4af457ba2540ce0898a211c0cd17a</td>\n",
       "      <td>2022-08-02</td>\n",
       "      <td>0</td>\n",
       "      <td>289.0</td>\n",
       "      <td>4167.0</td>\n",
       "      <td>14.418685</td>\n",
       "      <td>0.000000</td>\n",
       "    </tr>\n",
       "    <tr>\n",
       "      <th>151989</th>\n",
       "      <td>62d4af457ba2540ce0898a211c0cd17a</td>\n",
       "      <td>2022-08-02</td>\n",
       "      <td>1</td>\n",
       "      <td>30.0</td>\n",
       "      <td>401.0</td>\n",
       "      <td>13.366667</td>\n",
       "      <td>0.072962</td>\n",
       "    </tr>\n",
       "    <tr>\n",
       "      <th>151990</th>\n",
       "      <td>62d4af457ba2540ce0898a211c0cd17a</td>\n",
       "      <td>2022-08-03</td>\n",
       "      <td>0</td>\n",
       "      <td>351.0</td>\n",
       "      <td>5089.0</td>\n",
       "      <td>14.498575</td>\n",
       "      <td>0.000000</td>\n",
       "    </tr>\n",
       "  </tbody>\n",
       "</table>\n",
       "</div>"
      ],
      "text/plain": [
       "                               pr_sku_id        date  pr_sales_type_id  \\\n",
       "151986  62d4af457ba2540ce0898a211c0cd17a  2022-08-01                 0   \n",
       "151987  62d4af457ba2540ce0898a211c0cd17a  2022-08-01                 1   \n",
       "151988  62d4af457ba2540ce0898a211c0cd17a  2022-08-02                 0   \n",
       "151989  62d4af457ba2540ce0898a211c0cd17a  2022-08-02                 1   \n",
       "151990  62d4af457ba2540ce0898a211c0cd17a  2022-08-03                 0   \n",
       "\n",
       "        pr_sales_in_units  pr_sales_in_rub  avg_daily_price  discount  \n",
       "151986              295.0           4249.0        14.403390  0.000000  \n",
       "151987               31.0            411.0        13.258065  0.079518  \n",
       "151988              289.0           4167.0        14.418685  0.000000  \n",
       "151989               30.0            401.0        13.366667  0.072962  \n",
       "151990              351.0           5089.0        14.498575  0.000000  "
      ]
     },
     "execution_count": 44,
     "metadata": {},
     "output_type": "execute_result"
    }
   ],
   "source": [
    "discounts.name = 'discount'\n",
    "prices_disc = prices.join(discounts)\n",
    "prices_disc[prices_disc['pr_sku_id'] == '62d4af457ba2540ce0898a211c0cd17a'].head()"
   ]
  },
  {
   "cell_type": "code",
   "execution_count": 45,
   "metadata": {},
   "outputs": [
    {
     "data": {
      "text/plain": [
       "(283667, 36)"
      ]
     },
     "execution_count": 45,
     "metadata": {},
     "output_type": "execute_result"
    }
   ],
   "source": [
    "prices_disc['date'] = pd.to_datetime(prices_disc['date']).dt.normalize()\n",
    "with_prices = with_items_stores.merge(prices_disc[['pr_sku_id',\n",
    "                                                'date',\n",
    "                                                'pr_sales_type_id',\n",
    "                                                'avg_daily_price',\n",
    "                                                'discount']], how='left', on=['pr_sku_id', 'date', 'pr_sales_type_id'])\n",
    "with_items.shape"
   ]
  },
  {
   "cell_type": "code",
   "execution_count": 46,
   "metadata": {},
   "outputs": [
    {
     "data": {
      "text/html": [
       "<div>\n",
       "<style scoped>\n",
       "    .dataframe tbody tr th:only-of-type {\n",
       "        vertical-align: middle;\n",
       "    }\n",
       "\n",
       "    .dataframe tbody tr th {\n",
       "        vertical-align: top;\n",
       "    }\n",
       "\n",
       "    .dataframe thead th {\n",
       "        text-align: right;\n",
       "    }\n",
       "</style>\n",
       "<table border=\"1\" class=\"dataframe\">\n",
       "  <thead>\n",
       "    <tr style=\"text-align: right;\">\n",
       "      <th></th>\n",
       "      <th>date</th>\n",
       "      <th>preholiday</th>\n",
       "    </tr>\n",
       "  </thead>\n",
       "  <tbody>\n",
       "    <tr>\n",
       "      <th>127</th>\n",
       "      <td>2022-12-27</td>\n",
       "      <td>1</td>\n",
       "    </tr>\n",
       "    <tr>\n",
       "      <th>128</th>\n",
       "      <td>2022-12-28</td>\n",
       "      <td>1</td>\n",
       "    </tr>\n",
       "    <tr>\n",
       "      <th>129</th>\n",
       "      <td>2022-12-29</td>\n",
       "      <td>1</td>\n",
       "    </tr>\n",
       "    <tr>\n",
       "      <th>130</th>\n",
       "      <td>2022-12-30</td>\n",
       "      <td>1</td>\n",
       "    </tr>\n",
       "    <tr>\n",
       "      <th>248</th>\n",
       "      <td>2023-04-27</td>\n",
       "      <td>1</td>\n",
       "    </tr>\n",
       "    <tr>\n",
       "      <th>249</th>\n",
       "      <td>2023-04-28</td>\n",
       "      <td>1</td>\n",
       "    </tr>\n",
       "    <tr>\n",
       "      <th>250</th>\n",
       "      <td>2023-04-29</td>\n",
       "      <td>1</td>\n",
       "    </tr>\n",
       "    <tr>\n",
       "      <th>251</th>\n",
       "      <td>2023-04-30</td>\n",
       "      <td>1</td>\n",
       "    </tr>\n",
       "    <tr>\n",
       "      <th>256</th>\n",
       "      <td>2023-05-05</td>\n",
       "      <td>1</td>\n",
       "    </tr>\n",
       "    <tr>\n",
       "      <th>257</th>\n",
       "      <td>2023-05-06</td>\n",
       "      <td>1</td>\n",
       "    </tr>\n",
       "    <tr>\n",
       "      <th>258</th>\n",
       "      <td>2023-05-07</td>\n",
       "      <td>1</td>\n",
       "    </tr>\n",
       "    <tr>\n",
       "      <th>259</th>\n",
       "      <td>2023-05-08</td>\n",
       "      <td>1</td>\n",
       "    </tr>\n",
       "  </tbody>\n",
       "</table>\n",
       "</div>"
      ],
      "text/plain": [
       "          date  preholiday\n",
       "127 2022-12-27           1\n",
       "128 2022-12-28           1\n",
       "129 2022-12-29           1\n",
       "130 2022-12-30           1\n",
       "248 2023-04-27           1\n",
       "249 2023-04-28           1\n",
       "250 2023-04-29           1\n",
       "251 2023-04-30           1\n",
       "256 2023-05-05           1\n",
       "257 2023-05-06           1\n",
       "258 2023-05-07           1\n",
       "259 2023-05-08           1"
      ]
     },
     "execution_count": 46,
     "metadata": {},
     "output_type": "execute_result"
    }
   ],
   "source": [
    "#let's add pre-holiday markers\n",
    "preholiday = pd.DataFrame({'date': sorted(with_items_stores['date'].unique()), 'preholiday': 0})\n",
    "preholiday.loc[[127, 128, 129, 130, 248, 249, 250, 251, 256, 257, 258, 259], 'preholiday'] = 1\n",
    "preholiday[preholiday['date'].isin(['2022-12-27', '2022-12-28', '2022-12-29', '2022-12-30',\n",
    "                                    '2023-04-27', '2023-04-28', '2023-04-29', '2023-04-30',\n",
    "                                    '2023-05-05', '2023-05-06', '2023-05-07', '2023-05-08'])]"
   ]
  },
  {
   "cell_type": "code",
   "execution_count": 47,
   "metadata": {},
   "outputs": [
    {
     "data": {
      "text/plain": [
       "(283667, 36)"
      ]
     },
     "execution_count": 47,
     "metadata": {},
     "output_type": "execute_result"
    }
   ],
   "source": [
    "with_holidays = with_prices.merge(preholiday, how='left', on='date')\n",
    "with_items.shape"
   ]
  },
  {
   "cell_type": "code",
   "execution_count": 48,
   "metadata": {},
   "outputs": [
    {
     "data": {
      "text/html": [
       "<div>\n",
       "<style scoped>\n",
       "    .dataframe tbody tr th:only-of-type {\n",
       "        vertical-align: middle;\n",
       "    }\n",
       "\n",
       "    .dataframe tbody tr th {\n",
       "        vertical-align: top;\n",
       "    }\n",
       "\n",
       "    .dataframe thead th {\n",
       "        text-align: right;\n",
       "    }\n",
       "</style>\n",
       "<table border=\"1\" class=\"dataframe\">\n",
       "  <thead>\n",
       "    <tr style=\"text-align: right;\">\n",
       "      <th></th>\n",
       "      <th>store_item</th>\n",
       "      <th>date</th>\n",
       "      <th>sold</th>\n",
       "      <th>sold_lag_1</th>\n",
       "      <th>sold_lag_2</th>\n",
       "      <th>sold_lag_3</th>\n",
       "      <th>sold_lag_4</th>\n",
       "      <th>sold_lag_5</th>\n",
       "      <th>sold_lag_6</th>\n",
       "      <th>sold_lag_7</th>\n",
       "      <th>...</th>\n",
       "      <th>ma_12</th>\n",
       "      <th>ma_13</th>\n",
       "      <th>ma_14</th>\n",
       "      <th>ma_15</th>\n",
       "      <th>ma_16</th>\n",
       "      <th>ma_17</th>\n",
       "      <th>ma_18</th>\n",
       "      <th>ma_19</th>\n",
       "      <th>ma_20</th>\n",
       "      <th>ma_21</th>\n",
       "    </tr>\n",
       "  </thead>\n",
       "  <tbody>\n",
       "    <tr>\n",
       "      <th>0</th>\n",
       "      <td>16a5cdae362b8d27a1d8f8c7b78b4330-00661699f5437...</td>\n",
       "      <td>2022-08-22</td>\n",
       "      <td>3.0</td>\n",
       "      <td>2.0</td>\n",
       "      <td>3.0</td>\n",
       "      <td>2.0</td>\n",
       "      <td>4.0</td>\n",
       "      <td>3.0</td>\n",
       "      <td>2.0</td>\n",
       "      <td>1.0</td>\n",
       "      <td>...</td>\n",
       "      <td>1.666667</td>\n",
       "      <td>1.538462</td>\n",
       "      <td>1.428571</td>\n",
       "      <td>1.333333</td>\n",
       "      <td>1.2500</td>\n",
       "      <td>1.176471</td>\n",
       "      <td>1.111111</td>\n",
       "      <td>1.105263</td>\n",
       "      <td>1.10</td>\n",
       "      <td>1.095238</td>\n",
       "    </tr>\n",
       "    <tr>\n",
       "      <th>1</th>\n",
       "      <td>16a5cdae362b8d27a1d8f8c7b78b4330-00661699f5437...</td>\n",
       "      <td>2022-08-23</td>\n",
       "      <td>1.0</td>\n",
       "      <td>3.0</td>\n",
       "      <td>2.0</td>\n",
       "      <td>3.0</td>\n",
       "      <td>2.0</td>\n",
       "      <td>4.0</td>\n",
       "      <td>3.0</td>\n",
       "      <td>2.0</td>\n",
       "      <td>...</td>\n",
       "      <td>1.916667</td>\n",
       "      <td>1.769231</td>\n",
       "      <td>1.642857</td>\n",
       "      <td>1.533333</td>\n",
       "      <td>1.4375</td>\n",
       "      <td>1.352941</td>\n",
       "      <td>1.277778</td>\n",
       "      <td>1.210526</td>\n",
       "      <td>1.20</td>\n",
       "      <td>1.190476</td>\n",
       "    </tr>\n",
       "    <tr>\n",
       "      <th>2</th>\n",
       "      <td>16a5cdae362b8d27a1d8f8c7b78b4330-00661699f5437...</td>\n",
       "      <td>2022-08-24</td>\n",
       "      <td>1.0</td>\n",
       "      <td>1.0</td>\n",
       "      <td>3.0</td>\n",
       "      <td>2.0</td>\n",
       "      <td>3.0</td>\n",
       "      <td>2.0</td>\n",
       "      <td>4.0</td>\n",
       "      <td>3.0</td>\n",
       "      <td>...</td>\n",
       "      <td>2.000000</td>\n",
       "      <td>1.846154</td>\n",
       "      <td>1.714286</td>\n",
       "      <td>1.600000</td>\n",
       "      <td>1.5000</td>\n",
       "      <td>1.411765</td>\n",
       "      <td>1.333333</td>\n",
       "      <td>1.263158</td>\n",
       "      <td>1.20</td>\n",
       "      <td>1.190476</td>\n",
       "    </tr>\n",
       "    <tr>\n",
       "      <th>3</th>\n",
       "      <td>16a5cdae362b8d27a1d8f8c7b78b4330-00661699f5437...</td>\n",
       "      <td>2022-08-25</td>\n",
       "      <td>1.0</td>\n",
       "      <td>1.0</td>\n",
       "      <td>1.0</td>\n",
       "      <td>3.0</td>\n",
       "      <td>2.0</td>\n",
       "      <td>3.0</td>\n",
       "      <td>2.0</td>\n",
       "      <td>4.0</td>\n",
       "      <td>...</td>\n",
       "      <td>2.000000</td>\n",
       "      <td>1.923077</td>\n",
       "      <td>1.785714</td>\n",
       "      <td>1.666667</td>\n",
       "      <td>1.5625</td>\n",
       "      <td>1.470588</td>\n",
       "      <td>1.388889</td>\n",
       "      <td>1.315789</td>\n",
       "      <td>1.25</td>\n",
       "      <td>1.190476</td>\n",
       "    </tr>\n",
       "    <tr>\n",
       "      <th>4</th>\n",
       "      <td>16a5cdae362b8d27a1d8f8c7b78b4330-00661699f5437...</td>\n",
       "      <td>2022-08-26</td>\n",
       "      <td>2.0</td>\n",
       "      <td>1.0</td>\n",
       "      <td>1.0</td>\n",
       "      <td>1.0</td>\n",
       "      <td>3.0</td>\n",
       "      <td>2.0</td>\n",
       "      <td>3.0</td>\n",
       "      <td>2.0</td>\n",
       "      <td>...</td>\n",
       "      <td>2.000000</td>\n",
       "      <td>1.923077</td>\n",
       "      <td>1.857143</td>\n",
       "      <td>1.733333</td>\n",
       "      <td>1.6250</td>\n",
       "      <td>1.529412</td>\n",
       "      <td>1.444444</td>\n",
       "      <td>1.368421</td>\n",
       "      <td>1.30</td>\n",
       "      <td>1.238095</td>\n",
       "    </tr>\n",
       "  </tbody>\n",
       "</table>\n",
       "<p>5 rows × 54 columns</p>\n",
       "</div>"
      ],
      "text/plain": [
       "                                          store_item       date  sold  \\\n",
       "0  16a5cdae362b8d27a1d8f8c7b78b4330-00661699f5437... 2022-08-22   3.0   \n",
       "1  16a5cdae362b8d27a1d8f8c7b78b4330-00661699f5437... 2022-08-23   1.0   \n",
       "2  16a5cdae362b8d27a1d8f8c7b78b4330-00661699f5437... 2022-08-24   1.0   \n",
       "3  16a5cdae362b8d27a1d8f8c7b78b4330-00661699f5437... 2022-08-25   1.0   \n",
       "4  16a5cdae362b8d27a1d8f8c7b78b4330-00661699f5437... 2022-08-26   2.0   \n",
       "\n",
       "   sold_lag_1  sold_lag_2  sold_lag_3  sold_lag_4  sold_lag_5  sold_lag_6  \\\n",
       "0         2.0         3.0         2.0         4.0         3.0         2.0   \n",
       "1         3.0         2.0         3.0         2.0         4.0         3.0   \n",
       "2         1.0         3.0         2.0         3.0         2.0         4.0   \n",
       "3         1.0         1.0         3.0         2.0         3.0         2.0   \n",
       "4         1.0         1.0         1.0         3.0         2.0         3.0   \n",
       "\n",
       "   sold_lag_7  ...     ma_12     ma_13     ma_14     ma_15   ma_16     ma_17  \\\n",
       "0         1.0  ...  1.666667  1.538462  1.428571  1.333333  1.2500  1.176471   \n",
       "1         2.0  ...  1.916667  1.769231  1.642857  1.533333  1.4375  1.352941   \n",
       "2         3.0  ...  2.000000  1.846154  1.714286  1.600000  1.5000  1.411765   \n",
       "3         4.0  ...  2.000000  1.923077  1.785714  1.666667  1.5625  1.470588   \n",
       "4         2.0  ...  2.000000  1.923077  1.857143  1.733333  1.6250  1.529412   \n",
       "\n",
       "      ma_18     ma_19  ma_20     ma_21  \n",
       "0  1.111111  1.105263   1.10  1.095238  \n",
       "1  1.277778  1.210526   1.20  1.190476  \n",
       "2  1.333333  1.263158   1.20  1.190476  \n",
       "3  1.388889  1.315789   1.25  1.190476  \n",
       "4  1.444444  1.368421   1.30  1.238095  \n",
       "\n",
       "[5 rows x 54 columns]"
      ]
     },
     "execution_count": 48,
     "metadata": {},
     "output_type": "execute_result"
    }
   ],
   "source": [
    "#add moving averages\n",
    "with_ma = with_prices.copy()\n",
    "for n in range(2, 22):\n",
    "    with_ma['ma_' + str(n)] = with_ma[['sold_lag_' + str(x) for x in range(1, n+1)]].sum(axis=1) / n\n",
    "\n",
    "with_ma.head()"
   ]
  },
  {
   "cell_type": "code",
   "execution_count": 49,
   "metadata": {},
   "outputs": [],
   "source": [
    "def plotImp(model, X , num = 20, fig_size = (15, 5)):\n",
    "    feature_imp = pd.DataFrame({'Value':model.feature_importances_,'Feature':X.columns})\n",
    "    plt.figure(figsize=fig_size)\n",
    "    sns.barplot(x=\"Value\", y=\"Feature\", data=feature_imp.sort_values(by=\"Value\", \n",
    "                                                        ascending=False)[0:num])\n",
    "    plt.title('LightGBM Features importance')\n",
    "    plt.tight_layout()\n",
    "    plt.savefig('lgbm_importances-01.png')\n",
    "    plt.show()"
   ]
  },
  {
   "cell_type": "code",
   "execution_count": 50,
   "metadata": {},
   "outputs": [],
   "source": [
    "def lgbm_cross_val(cat_features, cols_to_drop, df=new, h=14, cv=5):\n",
    "    wapes = []\n",
    "    for i in range(cv):\n",
    "        end_train = df['date'].max() - pd.Timedelta(days=h*(i+1))\n",
    "        end_valid = df['date'].max() - pd.Timedelta(days=h*i)\n",
    "        train = df[df['date'] <= end_train]\n",
    "        valid = df[(df['date'] > end_train) & (df['date'] <= end_valid)]\n",
    "\n",
    "        X_train = train.drop(cols_to_drop, axis=1)\n",
    "        y_train = train['sold']\n",
    "        X_valid = valid.drop(cols_to_drop, axis=1)\n",
    "        y_valid = valid['sold']\n",
    "\n",
    "        eval_set = [(X_valid, y_valid)]\n",
    "\n",
    "        cat_idx = [X_train.columns.get_loc(col) for col in cat_features]\n",
    "\n",
    "        for col in cat_features:\n",
    "            X_train[col] = pd.Categorical(X_train[col])\n",
    "            X_valid[col] = pd.Categorical(X_valid[col])\n",
    "\n",
    "\n",
    "        lgbm_reg = lgbm.LGBMRegressor(n_estimators=10000, random_state=26)\n",
    "        lgbm_reg.fit(\n",
    "                X_train, \n",
    "                y_train,        \n",
    "                categorical_feature=cat_idx,\n",
    "                eval_set=eval_set,\n",
    "                early_stopping_rounds=200,\n",
    "                verbose=100\n",
    "            )\n",
    "\n",
    "        preds = lgbm_reg.predict(X_valid)\n",
    "        lgbm_wape = wape(y_valid, preds)\n",
    "        \n",
    "        plot_df = pd.DataFrame({'date': pd.date_range(start=(end_train+pd.Timedelta(days=1)), end=end_valid), 'y_true': y_valid[:h], 'y_pred': preds[:h]})\n",
    "        \n",
    "        fig, ax = plt.subplots(figsize=(12, 3))\n",
    "        g = sns.lineplot(data=plot_df)\n",
    "        plt.title(f'CV step {i+1}')\n",
    "        plt.show()        \n",
    "        \n",
    "        print(f\"LGBM CV step {i+1} WAPE: {lgbm_wape}\")\n",
    "        wapes.append(lgbm_wape)\n",
    "\n",
    "        \n",
    "    plotImp(lgbm_reg, X_train)\n",
    "\n",
    "    return(wapes)"
   ]
  },
  {
   "cell_type": "code",
   "execution_count": 121,
   "metadata": {},
   "outputs": [
    {
     "name": "stderr",
     "output_type": "stream",
     "text": [
      "c:\\Users\\Lev\\miniconda3\\envs\\ds\\Lib\\site-packages\\lightgbm\\sklearn.py:726: UserWarning: 'early_stopping_rounds' argument is deprecated and will be removed in a future release of LightGBM. Pass 'early_stopping()' callback via 'callbacks' argument instead.\n",
      "  _log_warning(\"'early_stopping_rounds' argument is deprecated and will be removed in a future release of LightGBM. \"\n",
      "c:\\Users\\Lev\\miniconda3\\envs\\ds\\Lib\\site-packages\\lightgbm\\sklearn.py:736: UserWarning: 'verbose' argument is deprecated and will be removed in a future release of LightGBM. Pass 'log_evaluation()' callback via 'callbacks' argument instead.\n",
      "  _log_warning(\"'verbose' argument is deprecated and will be removed in a future release of LightGBM. \"\n",
      "c:\\Users\\Lev\\miniconda3\\envs\\ds\\Lib\\site-packages\\lightgbm\\basic.py:2065: UserWarning: Using categorical_feature in Dataset.\n",
      "  _log_warning('Using categorical_feature in Dataset.')\n",
      "c:\\Users\\Lev\\miniconda3\\envs\\ds\\Lib\\site-packages\\lightgbm\\basic.py:2068: UserWarning: categorical_feature in Dataset is overridden.\n",
      "New categorical_feature is [21, 22, 26]\n",
      "  _log_warning('categorical_feature in Dataset is overridden.\\n'\n",
      "c:\\Users\\Lev\\miniconda3\\envs\\ds\\Lib\\site-packages\\lightgbm\\basic.py:1780: UserWarning: Overriding the parameters from Reference Dataset.\n",
      "  _log_warning('Overriding the parameters from Reference Dataset.')\n",
      "c:\\Users\\Lev\\miniconda3\\envs\\ds\\Lib\\site-packages\\lightgbm\\basic.py:1513: UserWarning: categorical_column in param dict is overridden.\n",
      "  _log_warning(f'{cat_alias} in param dict is overridden.')\n"
     ]
    },
    {
     "name": "stdout",
     "output_type": "stream",
     "text": [
      "[100]\tvalid_0's l2: 109.859\n",
      "[200]\tvalid_0's l2: 110.328\n",
      "[300]\tvalid_0's l2: 110.468\n",
      "[400]\tvalid_0's l2: 110.109\n",
      "[500]\tvalid_0's l2: 110.091\n"
     ]
    },
    {
     "data": {
      "image/png": "[encoded data removed]",
      "text/plain": [
       "<Figure size 1200x300 with 1 Axes>"
      ]
     },
     "metadata": {},
     "output_type": "display_data"
    },
    {
     "name": "stdout",
     "output_type": "stream",
     "text": [
      "LGBM CV step 1 WAPE: 0.384285528294908\n"
     ]
    },
    {
     "name": "stderr",
     "output_type": "stream",
     "text": [
      "c:\\Users\\Lev\\miniconda3\\envs\\ds\\Lib\\site-packages\\lightgbm\\sklearn.py:726: UserWarning: 'early_stopping_rounds' argument is deprecated and will be removed in a future release of LightGBM. Pass 'early_stopping()' callback via 'callbacks' argument instead.\n",
      "  _log_warning(\"'early_stopping_rounds' argument is deprecated and will be removed in a future release of LightGBM. \"\n",
      "c:\\Users\\Lev\\miniconda3\\envs\\ds\\Lib\\site-packages\\lightgbm\\sklearn.py:736: UserWarning: 'verbose' argument is deprecated and will be removed in a future release of LightGBM. Pass 'log_evaluation()' callback via 'callbacks' argument instead.\n",
      "  _log_warning(\"'verbose' argument is deprecated and will be removed in a future release of LightGBM. \"\n",
      "c:\\Users\\Lev\\miniconda3\\envs\\ds\\Lib\\site-packages\\lightgbm\\basic.py:2065: UserWarning: Using categorical_feature in Dataset.\n",
      "  _log_warning('Using categorical_feature in Dataset.')\n",
      "c:\\Users\\Lev\\miniconda3\\envs\\ds\\Lib\\site-packages\\lightgbm\\basic.py:2068: UserWarning: categorical_feature in Dataset is overridden.\n",
      "New categorical_feature is [21, 22, 26]\n",
      "  _log_warning('categorical_feature in Dataset is overridden.\\n'\n",
      "c:\\Users\\Lev\\miniconda3\\envs\\ds\\Lib\\site-packages\\lightgbm\\basic.py:1780: UserWarning: Overriding the parameters from Reference Dataset.\n",
      "  _log_warning('Overriding the parameters from Reference Dataset.')\n",
      "c:\\Users\\Lev\\miniconda3\\envs\\ds\\Lib\\site-packages\\lightgbm\\basic.py:1513: UserWarning: categorical_column in param dict is overridden.\n",
      "  _log_warning(f'{cat_alias} in param dict is overridden.')\n"
     ]
    },
    {
     "name": "stdout",
     "output_type": "stream",
     "text": [
      "[100]\tvalid_0's l2: 54.9856\n",
      "[200]\tvalid_0's l2: 54.4236\n",
      "[300]\tvalid_0's l2: 54.2371\n",
      "[400]\tvalid_0's l2: 54.9643\n"
     ]
    },
    {
     "data": {
      "image/png": "[encoded data removed]",
      "text/plain": [
       "<Figure size 1200x300 with 1 Axes>"
      ]
     },
     "metadata": {},
     "output_type": "display_data"
    },
    {
     "name": "stdout",
     "output_type": "stream",
     "text": [
      "LGBM CV step 2 WAPE: 0.3569939171503536\n"
     ]
    },
    {
     "name": "stderr",
     "output_type": "stream",
     "text": [
      "c:\\Users\\Lev\\miniconda3\\envs\\ds\\Lib\\site-packages\\lightgbm\\sklearn.py:726: UserWarning: 'early_stopping_rounds' argument is deprecated and will be removed in a future release of LightGBM. Pass 'early_stopping()' callback via 'callbacks' argument instead.\n",
      "  _log_warning(\"'early_stopping_rounds' argument is deprecated and will be removed in a future release of LightGBM. \"\n",
      "c:\\Users\\Lev\\miniconda3\\envs\\ds\\Lib\\site-packages\\lightgbm\\sklearn.py:736: UserWarning: 'verbose' argument is deprecated and will be removed in a future release of LightGBM. Pass 'log_evaluation()' callback via 'callbacks' argument instead.\n",
      "  _log_warning(\"'verbose' argument is deprecated and will be removed in a future release of LightGBM. \"\n",
      "c:\\Users\\Lev\\miniconda3\\envs\\ds\\Lib\\site-packages\\lightgbm\\basic.py:2065: UserWarning: Using categorical_feature in Dataset.\n",
      "  _log_warning('Using categorical_feature in Dataset.')\n",
      "c:\\Users\\Lev\\miniconda3\\envs\\ds\\Lib\\site-packages\\lightgbm\\basic.py:2068: UserWarning: categorical_feature in Dataset is overridden.\n",
      "New categorical_feature is [21, 22, 26]\n",
      "  _log_warning('categorical_feature in Dataset is overridden.\\n'\n",
      "c:\\Users\\Lev\\miniconda3\\envs\\ds\\Lib\\site-packages\\lightgbm\\basic.py:1780: UserWarning: Overriding the parameters from Reference Dataset.\n",
      "  _log_warning('Overriding the parameters from Reference Dataset.')\n",
      "c:\\Users\\Lev\\miniconda3\\envs\\ds\\Lib\\site-packages\\lightgbm\\basic.py:1513: UserWarning: categorical_column in param dict is overridden.\n",
      "  _log_warning(f'{cat_alias} in param dict is overridden.')\n"
     ]
    },
    {
     "name": "stdout",
     "output_type": "stream",
     "text": [
      "[100]\tvalid_0's l2: 104.36\n",
      "[200]\tvalid_0's l2: 106.815\n"
     ]
    },
    {
     "data": {
      "image/png": "[encoded data removed]",
      "text/plain": [
       "<Figure size 1200x300 with 1 Axes>"
      ]
     },
     "metadata": {},
     "output_type": "display_data"
    },
    {
     "name": "stdout",
     "output_type": "stream",
     "text": [
      "LGBM CV step 3 WAPE: 0.37638250110963556\n"
     ]
    },
    {
     "name": "stderr",
     "output_type": "stream",
     "text": [
      "c:\\Users\\Lev\\miniconda3\\envs\\ds\\Lib\\site-packages\\lightgbm\\sklearn.py:726: UserWarning: 'early_stopping_rounds' argument is deprecated and will be removed in a future release of LightGBM. Pass 'early_stopping()' callback via 'callbacks' argument instead.\n",
      "  _log_warning(\"'early_stopping_rounds' argument is deprecated and will be removed in a future release of LightGBM. \"\n",
      "c:\\Users\\Lev\\miniconda3\\envs\\ds\\Lib\\site-packages\\lightgbm\\sklearn.py:736: UserWarning: 'verbose' argument is deprecated and will be removed in a future release of LightGBM. Pass 'log_evaluation()' callback via 'callbacks' argument instead.\n",
      "  _log_warning(\"'verbose' argument is deprecated and will be removed in a future release of LightGBM. \"\n",
      "c:\\Users\\Lev\\miniconda3\\envs\\ds\\Lib\\site-packages\\lightgbm\\basic.py:2065: UserWarning: Using categorical_feature in Dataset.\n",
      "  _log_warning('Using categorical_feature in Dataset.')\n",
      "c:\\Users\\Lev\\miniconda3\\envs\\ds\\Lib\\site-packages\\lightgbm\\basic.py:2068: UserWarning: categorical_feature in Dataset is overridden.\n",
      "New categorical_feature is [21, 22, 26]\n",
      "  _log_warning('categorical_feature in Dataset is overridden.\\n'\n",
      "c:\\Users\\Lev\\miniconda3\\envs\\ds\\Lib\\site-packages\\lightgbm\\basic.py:1780: UserWarning: Overriding the parameters from Reference Dataset.\n",
      "  _log_warning('Overriding the parameters from Reference Dataset.')\n",
      "c:\\Users\\Lev\\miniconda3\\envs\\ds\\Lib\\site-packages\\lightgbm\\basic.py:1513: UserWarning: categorical_column in param dict is overridden.\n",
      "  _log_warning(f'{cat_alias} in param dict is overridden.')\n"
     ]
    },
    {
     "name": "stdout",
     "output_type": "stream",
     "text": [
      "[100]\tvalid_0's l2: 92.6984\n",
      "[200]\tvalid_0's l2: 93.3132\n"
     ]
    },
    {
     "data": {
      "image/png": "[encoded data removed]",
      "text/plain": [
       "<Figure size 1200x300 with 1 Axes>"
      ]
     },
     "metadata": {},
     "output_type": "display_data"
    },
    {
     "name": "stdout",
     "output_type": "stream",
     "text": [
      "LGBM CV step 4 WAPE: 0.38349008213236213\n"
     ]
    },
    {
     "name": "stderr",
     "output_type": "stream",
     "text": [
      "c:\\Users\\Lev\\miniconda3\\envs\\ds\\Lib\\site-packages\\lightgbm\\sklearn.py:726: UserWarning: 'early_stopping_rounds' argument is deprecated and will be removed in a future release of LightGBM. Pass 'early_stopping()' callback via 'callbacks' argument instead.\n",
      "  _log_warning(\"'early_stopping_rounds' argument is deprecated and will be removed in a future release of LightGBM. \"\n",
      "c:\\Users\\Lev\\miniconda3\\envs\\ds\\Lib\\site-packages\\lightgbm\\sklearn.py:736: UserWarning: 'verbose' argument is deprecated and will be removed in a future release of LightGBM. Pass 'log_evaluation()' callback via 'callbacks' argument instead.\n",
      "  _log_warning(\"'verbose' argument is deprecated and will be removed in a future release of LightGBM. \"\n",
      "c:\\Users\\Lev\\miniconda3\\envs\\ds\\Lib\\site-packages\\lightgbm\\basic.py:2065: UserWarning: Using categorical_feature in Dataset.\n",
      "  _log_warning('Using categorical_feature in Dataset.')\n",
      "c:\\Users\\Lev\\miniconda3\\envs\\ds\\Lib\\site-packages\\lightgbm\\basic.py:2068: UserWarning: categorical_feature in Dataset is overridden.\n",
      "New categorical_feature is [21, 22, 26]\n",
      "  _log_warning('categorical_feature in Dataset is overridden.\\n'\n",
      "c:\\Users\\Lev\\miniconda3\\envs\\ds\\Lib\\site-packages\\lightgbm\\basic.py:1780: UserWarning: Overriding the parameters from Reference Dataset.\n",
      "  _log_warning('Overriding the parameters from Reference Dataset.')\n",
      "c:\\Users\\Lev\\miniconda3\\envs\\ds\\Lib\\site-packages\\lightgbm\\basic.py:1513: UserWarning: categorical_column in param dict is overridden.\n",
      "  _log_warning(f'{cat_alias} in param dict is overridden.')\n"
     ]
    },
    {
     "name": "stdout",
     "output_type": "stream",
     "text": [
      "[100]\tvalid_0's l2: 180.995\n",
      "[200]\tvalid_0's l2: 188.45\n"
     ]
    },
    {
     "data": {
      "image/png": "[encoded data removed]",
      "text/plain": [
       "<Figure size 1200x300 with 1 Axes>"
      ]
     },
     "metadata": {},
     "output_type": "display_data"
    },
    {
     "name": "stdout",
     "output_type": "stream",
     "text": [
      "LGBM CV step 5 WAPE: 0.4283767999691861\n"
     ]
    },
    {
     "data": {
      "image/png": "[encoded data removed]",
      "text/plain": [
       "<Figure size 1500x500 with 1 Axes>"
      ]
     },
     "metadata": {},
     "output_type": "display_data"
    }
   ],
   "source": [
    "lgbm_wapes = lgbm_cross_val(df=with_ma, cat_features=['store_item', \n",
    "                                                          'pr_sales_type_id', \n",
    "                                                          'dow',  \n",
    "                                                          'season'], \n",
    "                                            cols_to_drop=['date', 'sold', 'pr_sku_id', 'st_id'])"
   ]
  },
  {
   "cell_type": "code",
   "execution_count": 122,
   "metadata": {},
   "outputs": [
    {
     "name": "stdout",
     "output_type": "stream",
     "text": [
      "LGBM mean WAPE = 0.3859057657312891\n"
     ]
    }
   ],
   "source": [
    "print(f'LGBM mean WAPE = {np.mean(lgbm_wapes)}')"
   ]
  },
  {
   "cell_type": "markdown",
   "metadata": {},
   "source": [
    "Итерация 1\n",
    "\n",
    "* Фичи: товар-магазин, 21 лаг\n",
    "* ВЭЙП: 0.31946023074607927\n",
    "* Важное: Лаги 1, 6, 7, 21, 14, 13, товар-магазин\n",
    "\n",
    "Итерация 2\n",
    "\n",
    "* Фичи: товар-магазин, 21 лаг, флаг промо\n",
    "* ВЭЙП: 0.31190542656037545\n",
    "* Важное: Лаги 1, 7, товар-магазин, лаги 6, 21, промо, 14, 13\n",
    "* Вывод: с флажком промо конечно лучше\n",
    "\n",
    "Итерация 3\n",
    "\n",
    "* Фичи: товар-магазин, 21 лаг, флаг промо, календарные (5)\n",
    "* ВЭЙП: 0.29543868373613635\n",
    "* Важное: Лаг 1, товар-магазин, день недели, лаг 7, неделя, промо, лаги 14, 6, 21, день месяца, лаги 13, 2, 4\n",
    "* Вывод: месяц и сезон не важны. День недели, номер недели, день месяца - хорошие признаки\n",
    "\n",
    "Итерация 4\n",
    "\n",
    "* Фичи: товар-магазин, 21 лаг, флаг промо, календарные (5), айди товара и магазина\n",
    "* ВЭЙП: 0.2983241429592106\n",
    "* Важное: Лаг 1, товар-магазин, день недели, лаг 7, промо, неделя, лаги 6, 14, 21, день месяца, лаги 13, 2, 4\n",
    "* Вывод: эта фича не улучшила метрику и не вошла в топ. Я оставлю айдишники, чтобы по ним приджойнить типы и категории\n",
    "\n",
    "Итерация 5\n",
    "\n",
    "* Фичи: товар-магазин, 21 лаг, флаг промо, календарные (5), айди товара и магазина, вся инфа о магазине\n",
    "* ВЭЙП: 0.29772025048047446\n",
    "* Важное: Лаг 1, товар-магазин, день недели, лаг 7, день месяца, промо, неделя, лаги 21, 14, 6, 13, 5, 15\n",
    "* Вывод: вообще ничего полезного в инфо о магазине. Уберу их из датасета\n",
    "\n",
    "Итерация 6\n",
    "\n",
    "* Фичи: товар-магазин, 21 лаг, флаг промо, календарные (5), айди товара и магазина, вся инфа о товаре\n",
    "* ВЭЙП: 0.2972128043054486\n",
    "* Важное: Лаг 1, день недели, товар-магазин, промо, лаг 7, неделя, лаги 6, 14, 21, день месяца, лаги 2, 13, 15\n",
    "* Вывод: категории и подкатегории не важны. можно вернуться на этап 3, когда добавили календарные фичи\n",
    "\n",
    "Итерация 7\n",
    "\n",
    "* Фичи: товар-магазин, 21 лаг, флаг промо, календарные (5), цена\n",
    "* ВЭЙП: 0.29813939400486966\n",
    "* Важное: Лаг 1, товар-магазин, лаг 2, средняя цена, лаги 7, 3, 6, неделя, лаг 15, день месяца, лаги 5, 4, 16, 14\n",
    "* Вывод: средняя цена - важный признак. Почему тогда снизилась метрика??? модель потеряла недельную цикличность: день недели ушел из списка, лаги 7, 14, 21 снизились по важности, в топ вышли лаги последних дней. Еще и промо потерялось. Его можно убрать только на следующей итерации, когда добавим размер скидки\n",
    "\n",
    "Итерация 8\n",
    "\n",
    "* Фичи: товар-магазин, 21 лаг, флаг промо, календарные (5), цена. Минус лаги 2 и 3\n",
    "* ВЭЙП: 0.29239544645625787\n",
    "* Важное: Лаг 1, товар-магазин, средняя цена, лаги 7, 4, неделя, лаг 6, день месяца, лаги 8, 21, 14, 15, день недели\n",
    "* Вывод: я сейчас верну эти лаги, просто хотелось немного подсказать модели. Пока это лучшая метрика. День недели вернулся, правильная сезонность восстановлена\n",
    "\n",
    "Итерация 9\n",
    "\n",
    "* Фичи: товар-магазин, 21 лаг, флаг промо, календарные (5), цена, размер скидки\n",
    "* ВЭЙП: 0.2903170138654366\n",
    "* Важное: Лаг 1, товар-магазин, день недели, лаг 7, промо, средняя цена, неделя, лаги 14, 21, 6, 2, день месяца \n",
    "* Вывод: мне такое распределение больше всего нравится. день неджели поднялся в топ3, флажок промо вернулся. Но она не видит мой процент скидки\n",
    "\n",
    "Итерация 10\n",
    "\n",
    "* Фичи: товар-магазин, 21 лаг, флаг промо, календарные (5), цена, размер скидки\n",
    "* ВЭЙП: 0.32029594697514907\n",
    "* Важное: Лаг 1, товар-магазин, день недели, лаги 2, 7, неделя, средняя цена, день месяца, лаги 14, 21, 8, 6, 13  \n",
    "* Вывод: увеличила набор до топ100. Нельзя масштабировать без потери качества. Вернусь к 50. Хотя это не значит, что так делать не надо: может если мы построим разные модели для топ50 и остальных, после объединения качество упадет сильнее\n",
    "\n",
    "Итерация 11\n",
    "\n",
    "* Фичи: товар-магазин, 21 лаг, флаг промо, календарные (5), цена, размер скидки, канун праздника\n",
    "* ВЭЙП: 0.2903170138654366\n",
    "* Важное: Лаг 1, товар-магазин, день недели, лаги 2, 7, неделя, средняя цена, день месяца, лаги 14, 21, 8, 6, 13  \n",
    "* Вывод: нет влияния на метрику. по-моему праздники просто не попадают в нашу валидацию. сделала больше фолдов кросс-валидации (чтобы выборка дотянулась до майских). тогда без новой фичи метрика чуть лучше, чем с ней\n",
    "\n",
    "Итерация 12\n",
    "\n",
    "* Фичи: товар-магазин, 21 лаг, флаг промо, календарные (5), цена, размер скидки, скользящие средние по продажам\n",
    "* ВЭЙП: 0.29396104069940276\n",
    "* Важное: Лаг 1, товар-магазин, средняя цена, МА2, лаг 2, неделя, лаги 14, 7, день месяца, лаг 16, МА3, день недели, лаги 20, 6, скидка  \n",
    "* Вывод: нет влияния на метрику. по-моему праздники просто не попадают в нашу валидацию. сделала больше фолдов кросс-валидации (чтобы выборка дотянулась до майских). тогда без новой фичи метрика чуть лучше, чем с ней\n",
    "\n"
   ]
  },
  {
   "cell_type": "code",
   "execution_count": 123,
   "metadata": {},
   "outputs": [
    {
     "name": "stderr",
     "output_type": "stream",
     "text": [
      "[I 2023-09-29 16:58:42,471] A new study created in memory with name: no-name-cc9ded7a-8d16-4462-83d6-68a9e0c20796\n",
      "C:\\Users\\Lev\\AppData\\Local\\Temp\\ipykernel_8136\\304466756.py:22: FutureWarning: suggest_loguniform has been deprecated in v3.0.0. This feature will be removed in v6.0.0. See https://github.com/optuna/optuna/releases/tag/v3.0.0. Use suggest_float(..., log=True) instead.\n",
      "  'reg_alpha': trial.suggest_loguniform('reg_alpha', 1e-3, 10.0),\n",
      "C:\\Users\\Lev\\AppData\\Local\\Temp\\ipykernel_8136\\304466756.py:23: FutureWarning: suggest_loguniform has been deprecated in v3.0.0. This feature will be removed in v6.0.0. See https://github.com/optuna/optuna/releases/tag/v3.0.0. Use suggest_float(..., log=True) instead.\n",
      "  'reg_lambda': trial.suggest_loguniform('reg_lambda', 1e-3, 10.0),\n",
      "c:\\Users\\Lev\\miniconda3\\envs\\ds\\Lib\\site-packages\\optuna\\distributions.py:685: UserWarning: The distribution is specified by [0.2, 0.95] and step=0.1, but the range is not divisible by `step`. It will be replaced by [0.2, 0.9].\n",
      "  warnings.warn(\n",
      "c:\\Users\\Lev\\miniconda3\\envs\\ds\\Lib\\site-packages\\lightgbm\\sklearn.py:726: UserWarning: 'early_stopping_rounds' argument is deprecated and will be removed in a future release of LightGBM. Pass 'early_stopping()' callback via 'callbacks' argument instead.\n",
      "  _log_warning(\"'early_stopping_rounds' argument is deprecated and will be removed in a future release of LightGBM. \"\n",
      "c:\\Users\\Lev\\miniconda3\\envs\\ds\\Lib\\site-packages\\lightgbm\\sklearn.py:736: UserWarning: 'verbose' argument is deprecated and will be removed in a future release of LightGBM. Pass 'log_evaluation()' callback via 'callbacks' argument instead.\n",
      "  _log_warning(\"'verbose' argument is deprecated and will be removed in a future release of LightGBM. \"\n",
      "c:\\Users\\Lev\\miniconda3\\envs\\ds\\Lib\\site-packages\\lightgbm\\basic.py:2065: UserWarning: Using categorical_feature in Dataset.\n",
      "  _log_warning('Using categorical_feature in Dataset.')\n",
      "c:\\Users\\Lev\\miniconda3\\envs\\ds\\Lib\\site-packages\\lightgbm\\basic.py:2068: UserWarning: categorical_feature in Dataset is overridden.\n",
      "New categorical_feature is [0, 22, 23, 27]\n",
      "  _log_warning('categorical_feature in Dataset is overridden.\\n'\n"
     ]
    },
    {
     "name": "stdout",
     "output_type": "stream",
     "text": [
      "[LightGBM] [Warning] feature_fraction is set=0.2, colsample_bytree=0.9 will be ignored. Current value: feature_fraction=0.2\n"
     ]
    },
    {
     "name": "stderr",
     "output_type": "stream",
     "text": [
      "c:\\Users\\Lev\\miniconda3\\envs\\ds\\Lib\\site-packages\\lightgbm\\basic.py:1780: UserWarning: Overriding the parameters from Reference Dataset.\n",
      "  _log_warning('Overriding the parameters from Reference Dataset.')\n",
      "c:\\Users\\Lev\\miniconda3\\envs\\ds\\Lib\\site-packages\\lightgbm\\basic.py:1513: UserWarning: categorical_column in param dict is overridden.\n",
      "  _log_warning(f'{cat_alias} in param dict is overridden.')\n"
     ]
    },
    {
     "name": "stdout",
     "output_type": "stream",
     "text": [
      "[500]\tvalid_0's l1: 4.05373\n",
      "[1000]\tvalid_0's l1: 4.041\n"
     ]
    },
    {
     "name": "stderr",
     "output_type": "stream",
     "text": [
      "[I 2023-09-29 16:58:54,940] Trial 0 finished with value: 0.3756271581872545 and parameters: {'reg_alpha': 4.65333290434587, 'reg_lambda': 1.9890735581874817, 'colsample_bytree': 0.9, 'subsample': 0.8, 'learning_rate': 0.014, 'max_depth': 10, 'num_leaves': 440, 'min_child_samples': 179, 'feature_fraction': 0.2}. Best is trial 0 with value: 0.3756271581872545.\n",
      "C:\\Users\\Lev\\AppData\\Local\\Temp\\ipykernel_8136\\304466756.py:22: FutureWarning: suggest_loguniform has been deprecated in v3.0.0. This feature will be removed in v6.0.0. See https://github.com/optuna/optuna/releases/tag/v3.0.0. Use suggest_float(..., log=True) instead.\n",
      "  'reg_alpha': trial.suggest_loguniform('reg_alpha', 1e-3, 10.0),\n",
      "C:\\Users\\Lev\\AppData\\Local\\Temp\\ipykernel_8136\\304466756.py:23: FutureWarning: suggest_loguniform has been deprecated in v3.0.0. This feature will be removed in v6.0.0. See https://github.com/optuna/optuna/releases/tag/v3.0.0. Use suggest_float(..., log=True) instead.\n",
      "  'reg_lambda': trial.suggest_loguniform('reg_lambda', 1e-3, 10.0),\n",
      "c:\\Users\\Lev\\miniconda3\\envs\\ds\\Lib\\site-packages\\optuna\\distributions.py:685: UserWarning: The distribution is specified by [0.2, 0.95] and step=0.1, but the range is not divisible by `step`. It will be replaced by [0.2, 0.9].\n",
      "  warnings.warn(\n",
      "c:\\Users\\Lev\\miniconda3\\envs\\ds\\Lib\\site-packages\\lightgbm\\sklearn.py:726: UserWarning: 'early_stopping_rounds' argument is deprecated and will be removed in a future release of LightGBM. Pass 'early_stopping()' callback via 'callbacks' argument instead.\n",
      "  _log_warning(\"'early_stopping_rounds' argument is deprecated and will be removed in a future release of LightGBM. \"\n",
      "c:\\Users\\Lev\\miniconda3\\envs\\ds\\Lib\\site-packages\\lightgbm\\sklearn.py:736: UserWarning: 'verbose' argument is deprecated and will be removed in a future release of LightGBM. Pass 'log_evaluation()' callback via 'callbacks' argument instead.\n",
      "  _log_warning(\"'verbose' argument is deprecated and will be removed in a future release of LightGBM. \"\n",
      "c:\\Users\\Lev\\miniconda3\\envs\\ds\\Lib\\site-packages\\lightgbm\\basic.py:2065: UserWarning: Using categorical_feature in Dataset.\n",
      "  _log_warning('Using categorical_feature in Dataset.')\n",
      "c:\\Users\\Lev\\miniconda3\\envs\\ds\\Lib\\site-packages\\lightgbm\\basic.py:2068: UserWarning: categorical_feature in Dataset is overridden.\n",
      "New categorical_feature is [0, 22, 23, 27]\n",
      "  _log_warning('categorical_feature in Dataset is overridden.\\n'\n"
     ]
    },
    {
     "name": "stdout",
     "output_type": "stream",
     "text": [
      "[LightGBM] [Warning] feature_fraction is set=0.5, colsample_bytree=0.4 will be ignored. Current value: feature_fraction=0.5\n"
     ]
    },
    {
     "name": "stderr",
     "output_type": "stream",
     "text": [
      "c:\\Users\\Lev\\miniconda3\\envs\\ds\\Lib\\site-packages\\lightgbm\\basic.py:1780: UserWarning: Overriding the parameters from Reference Dataset.\n",
      "  _log_warning('Overriding the parameters from Reference Dataset.')\n",
      "c:\\Users\\Lev\\miniconda3\\envs\\ds\\Lib\\site-packages\\lightgbm\\basic.py:1513: UserWarning: categorical_column in param dict is overridden.\n",
      "  _log_warning(f'{cat_alias} in param dict is overridden.')\n",
      "[I 2023-09-29 16:59:03,568] Trial 1 finished with value: 0.37145494994242384 and parameters: {'reg_alpha': 0.002540480674929846, 'reg_lambda': 6.3516998636294835, 'colsample_bytree': 0.4, 'subsample': 0.6, 'learning_rate': 0.02, 'max_depth': 10, 'num_leaves': 935, 'min_child_samples': 154, 'feature_fraction': 0.5}. Best is trial 1 with value: 0.37145494994242384.\n",
      "C:\\Users\\Lev\\AppData\\Local\\Temp\\ipykernel_8136\\304466756.py:22: FutureWarning: suggest_loguniform has been deprecated in v3.0.0. This feature will be removed in v6.0.0. See https://github.com/optuna/optuna/releases/tag/v3.0.0. Use suggest_float(..., log=True) instead.\n",
      "  'reg_alpha': trial.suggest_loguniform('reg_alpha', 1e-3, 10.0),\n",
      "C:\\Users\\Lev\\AppData\\Local\\Temp\\ipykernel_8136\\304466756.py:23: FutureWarning: suggest_loguniform has been deprecated in v3.0.0. This feature will be removed in v6.0.0. See https://github.com/optuna/optuna/releases/tag/v3.0.0. Use suggest_float(..., log=True) instead.\n",
      "  'reg_lambda': trial.suggest_loguniform('reg_lambda', 1e-3, 10.0),\n",
      "c:\\Users\\Lev\\miniconda3\\envs\\ds\\Lib\\site-packages\\optuna\\distributions.py:685: UserWarning: The distribution is specified by [0.2, 0.95] and step=0.1, but the range is not divisible by `step`. It will be replaced by [0.2, 0.9].\n",
      "  warnings.warn(\n",
      "c:\\Users\\Lev\\miniconda3\\envs\\ds\\Lib\\site-packages\\lightgbm\\sklearn.py:726: UserWarning: 'early_stopping_rounds' argument is deprecated and will be removed in a future release of LightGBM. Pass 'early_stopping()' callback via 'callbacks' argument instead.\n",
      "  _log_warning(\"'early_stopping_rounds' argument is deprecated and will be removed in a future release of LightGBM. \"\n",
      "c:\\Users\\Lev\\miniconda3\\envs\\ds\\Lib\\site-packages\\lightgbm\\sklearn.py:736: UserWarning: 'verbose' argument is deprecated and will be removed in a future release of LightGBM. Pass 'log_evaluation()' callback via 'callbacks' argument instead.\n",
      "  _log_warning(\"'verbose' argument is deprecated and will be removed in a future release of LightGBM. \"\n",
      "c:\\Users\\Lev\\miniconda3\\envs\\ds\\Lib\\site-packages\\lightgbm\\basic.py:2065: UserWarning: Using categorical_feature in Dataset.\n",
      "  _log_warning('Using categorical_feature in Dataset.')\n",
      "c:\\Users\\Lev\\miniconda3\\envs\\ds\\Lib\\site-packages\\lightgbm\\basic.py:2068: UserWarning: categorical_feature in Dataset is overridden.\n",
      "New categorical_feature is [0, 22, 23, 27]\n",
      "  _log_warning('categorical_feature in Dataset is overridden.\\n'\n"
     ]
    },
    {
     "name": "stdout",
     "output_type": "stream",
     "text": [
      "[LightGBM] [Warning] feature_fraction is set=0.4, colsample_bytree=0.3 will be ignored. Current value: feature_fraction=0.4\n"
     ]
    },
    {
     "name": "stderr",
     "output_type": "stream",
     "text": [
      "c:\\Users\\Lev\\miniconda3\\envs\\ds\\Lib\\site-packages\\lightgbm\\basic.py:1780: UserWarning: Overriding the parameters from Reference Dataset.\n",
      "  _log_warning('Overriding the parameters from Reference Dataset.')\n",
      "c:\\Users\\Lev\\miniconda3\\envs\\ds\\Lib\\site-packages\\lightgbm\\basic.py:1513: UserWarning: categorical_column in param dict is overridden.\n",
      "  _log_warning(f'{cat_alias} in param dict is overridden.')\n"
     ]
    },
    {
     "name": "stdout",
     "output_type": "stream",
     "text": [
      "[500]\tvalid_0's l1: 4.01475\n",
      "[1000]\tvalid_0's l1: 3.9842\n",
      "[1500]\tvalid_0's l1: 3.97802\n",
      "[2000]\tvalid_0's l1: 3.97374\n"
     ]
    },
    {
     "name": "stderr",
     "output_type": "stream",
     "text": [
      "[I 2023-09-29 17:00:15,541] Trial 2 finished with value: 0.36941276580442506 and parameters: {'reg_alpha': 3.3133555294265182, 'reg_lambda': 0.0018320651646663122, 'colsample_bytree': 0.3, 'subsample': 0.8, 'learning_rate': 0.008, 'max_depth': 10, 'num_leaves': 494, 'min_child_samples': 3, 'feature_fraction': 0.4}. Best is trial 2 with value: 0.36941276580442506.\n",
      "C:\\Users\\Lev\\AppData\\Local\\Temp\\ipykernel_8136\\304466756.py:22: FutureWarning: suggest_loguniform has been deprecated in v3.0.0. This feature will be removed in v6.0.0. See https://github.com/optuna/optuna/releases/tag/v3.0.0. Use suggest_float(..., log=True) instead.\n",
      "  'reg_alpha': trial.suggest_loguniform('reg_alpha', 1e-3, 10.0),\n",
      "C:\\Users\\Lev\\AppData\\Local\\Temp\\ipykernel_8136\\304466756.py:23: FutureWarning: suggest_loguniform has been deprecated in v3.0.0. This feature will be removed in v6.0.0. See https://github.com/optuna/optuna/releases/tag/v3.0.0. Use suggest_float(..., log=True) instead.\n",
      "  'reg_lambda': trial.suggest_loguniform('reg_lambda', 1e-3, 10.0),\n",
      "c:\\Users\\Lev\\miniconda3\\envs\\ds\\Lib\\site-packages\\optuna\\distributions.py:685: UserWarning: The distribution is specified by [0.2, 0.95] and step=0.1, but the range is not divisible by `step`. It will be replaced by [0.2, 0.9].\n",
      "  warnings.warn(\n",
      "c:\\Users\\Lev\\miniconda3\\envs\\ds\\Lib\\site-packages\\lightgbm\\sklearn.py:726: UserWarning: 'early_stopping_rounds' argument is deprecated and will be removed in a future release of LightGBM. Pass 'early_stopping()' callback via 'callbacks' argument instead.\n",
      "  _log_warning(\"'early_stopping_rounds' argument is deprecated and will be removed in a future release of LightGBM. \"\n",
      "c:\\Users\\Lev\\miniconda3\\envs\\ds\\Lib\\site-packages\\lightgbm\\sklearn.py:736: UserWarning: 'verbose' argument is deprecated and will be removed in a future release of LightGBM. Pass 'log_evaluation()' callback via 'callbacks' argument instead.\n",
      "  _log_warning(\"'verbose' argument is deprecated and will be removed in a future release of LightGBM. \"\n",
      "c:\\Users\\Lev\\miniconda3\\envs\\ds\\Lib\\site-packages\\lightgbm\\basic.py:2065: UserWarning: Using categorical_feature in Dataset.\n",
      "  _log_warning('Using categorical_feature in Dataset.')\n",
      "c:\\Users\\Lev\\miniconda3\\envs\\ds\\Lib\\site-packages\\lightgbm\\basic.py:2068: UserWarning: categorical_feature in Dataset is overridden.\n",
      "New categorical_feature is [0, 22, 23, 27]\n",
      "  _log_warning('categorical_feature in Dataset is overridden.\\n'\n"
     ]
    },
    {
     "name": "stdout",
     "output_type": "stream",
     "text": [
      "[LightGBM] [Warning] feature_fraction is set=0.4, colsample_bytree=1.0 will be ignored. Current value: feature_fraction=0.4\n"
     ]
    },
    {
     "name": "stderr",
     "output_type": "stream",
     "text": [
      "c:\\Users\\Lev\\miniconda3\\envs\\ds\\Lib\\site-packages\\lightgbm\\basic.py:1780: UserWarning: Overriding the parameters from Reference Dataset.\n",
      "  _log_warning('Overriding the parameters from Reference Dataset.')\n",
      "c:\\Users\\Lev\\miniconda3\\envs\\ds\\Lib\\site-packages\\lightgbm\\basic.py:1513: UserWarning: categorical_column in param dict is overridden.\n",
      "  _log_warning(f'{cat_alias} in param dict is overridden.')\n",
      "[I 2023-09-29 17:00:47,108] Trial 3 finished with value: 0.370870184048695 and parameters: {'reg_alpha': 0.5882013363344262, 'reg_lambda': 0.15055437275017736, 'colsample_bytree': 1.0, 'subsample': 0.4, 'learning_rate': 0.02, 'max_depth': 100, 'num_leaves': 692, 'min_child_samples': 17, 'feature_fraction': 0.4}. Best is trial 2 with value: 0.36941276580442506.\n",
      "C:\\Users\\Lev\\AppData\\Local\\Temp\\ipykernel_8136\\304466756.py:22: FutureWarning: suggest_loguniform has been deprecated in v3.0.0. This feature will be removed in v6.0.0. See https://github.com/optuna/optuna/releases/tag/v3.0.0. Use suggest_float(..., log=True) instead.\n",
      "  'reg_alpha': trial.suggest_loguniform('reg_alpha', 1e-3, 10.0),\n",
      "C:\\Users\\Lev\\AppData\\Local\\Temp\\ipykernel_8136\\304466756.py:23: FutureWarning: suggest_loguniform has been deprecated in v3.0.0. This feature will be removed in v6.0.0. See https://github.com/optuna/optuna/releases/tag/v3.0.0. Use suggest_float(..., log=True) instead.\n",
      "  'reg_lambda': trial.suggest_loguniform('reg_lambda', 1e-3, 10.0),\n",
      "c:\\Users\\Lev\\miniconda3\\envs\\ds\\Lib\\site-packages\\optuna\\distributions.py:685: UserWarning: The distribution is specified by [0.2, 0.95] and step=0.1, but the range is not divisible by `step`. It will be replaced by [0.2, 0.9].\n",
      "  warnings.warn(\n",
      "c:\\Users\\Lev\\miniconda3\\envs\\ds\\Lib\\site-packages\\lightgbm\\sklearn.py:726: UserWarning: 'early_stopping_rounds' argument is deprecated and will be removed in a future release of LightGBM. Pass 'early_stopping()' callback via 'callbacks' argument instead.\n",
      "  _log_warning(\"'early_stopping_rounds' argument is deprecated and will be removed in a future release of LightGBM. \"\n",
      "c:\\Users\\Lev\\miniconda3\\envs\\ds\\Lib\\site-packages\\lightgbm\\sklearn.py:736: UserWarning: 'verbose' argument is deprecated and will be removed in a future release of LightGBM. Pass 'log_evaluation()' callback via 'callbacks' argument instead.\n",
      "  _log_warning(\"'verbose' argument is deprecated and will be removed in a future release of LightGBM. \"\n",
      "c:\\Users\\Lev\\miniconda3\\envs\\ds\\Lib\\site-packages\\lightgbm\\basic.py:2065: UserWarning: Using categorical_feature in Dataset.\n",
      "  _log_warning('Using categorical_feature in Dataset.')\n",
      "c:\\Users\\Lev\\miniconda3\\envs\\ds\\Lib\\site-packages\\lightgbm\\basic.py:2068: UserWarning: categorical_feature in Dataset is overridden.\n",
      "New categorical_feature is [0, 22, 23, 27]\n",
      "  _log_warning('categorical_feature in Dataset is overridden.\\n'\n"
     ]
    },
    {
     "name": "stdout",
     "output_type": "stream",
     "text": [
      "[LightGBM] [Warning] feature_fraction is set=0.7, colsample_bytree=0.3 will be ignored. Current value: feature_fraction=0.7\n"
     ]
    },
    {
     "name": "stderr",
     "output_type": "stream",
     "text": [
      "c:\\Users\\Lev\\miniconda3\\envs\\ds\\Lib\\site-packages\\lightgbm\\basic.py:1780: UserWarning: Overriding the parameters from Reference Dataset.\n",
      "  _log_warning('Overriding the parameters from Reference Dataset.')\n",
      "c:\\Users\\Lev\\miniconda3\\envs\\ds\\Lib\\site-packages\\lightgbm\\basic.py:1513: UserWarning: categorical_column in param dict is overridden.\n",
      "  _log_warning(f'{cat_alias} in param dict is overridden.')\n"
     ]
    },
    {
     "name": "stdout",
     "output_type": "stream",
     "text": [
      "[500]\tvalid_0's l1: 4.03552\n"
     ]
    },
    {
     "name": "stderr",
     "output_type": "stream",
     "text": [
      "[I 2023-09-29 17:01:52,207] Trial 4 finished with value: 0.37110246117869056 and parameters: {'reg_alpha': 6.230503010762183, 'reg_lambda': 0.13335865285127987, 'colsample_bytree': 0.3, 'subsample': 0.6, 'learning_rate': 0.006, 'max_depth': 100, 'num_leaves': 448, 'min_child_samples': 249, 'feature_fraction': 0.7}. Best is trial 2 with value: 0.36941276580442506.\n",
      "C:\\Users\\Lev\\AppData\\Local\\Temp\\ipykernel_8136\\304466756.py:22: FutureWarning: suggest_loguniform has been deprecated in v3.0.0. This feature will be removed in v6.0.0. See https://github.com/optuna/optuna/releases/tag/v3.0.0. Use suggest_float(..., log=True) instead.\n",
      "  'reg_alpha': trial.suggest_loguniform('reg_alpha', 1e-3, 10.0),\n",
      "C:\\Users\\Lev\\AppData\\Local\\Temp\\ipykernel_8136\\304466756.py:23: FutureWarning: suggest_loguniform has been deprecated in v3.0.0. This feature will be removed in v6.0.0. See https://github.com/optuna/optuna/releases/tag/v3.0.0. Use suggest_float(..., log=True) instead.\n",
      "  'reg_lambda': trial.suggest_loguniform('reg_lambda', 1e-3, 10.0),\n",
      "c:\\Users\\Lev\\miniconda3\\envs\\ds\\Lib\\site-packages\\optuna\\distributions.py:685: UserWarning: The distribution is specified by [0.2, 0.95] and step=0.1, but the range is not divisible by `step`. It will be replaced by [0.2, 0.9].\n",
      "  warnings.warn(\n",
      "c:\\Users\\Lev\\miniconda3\\envs\\ds\\Lib\\site-packages\\lightgbm\\sklearn.py:726: UserWarning: 'early_stopping_rounds' argument is deprecated and will be removed in a future release of LightGBM. Pass 'early_stopping()' callback via 'callbacks' argument instead.\n",
      "  _log_warning(\"'early_stopping_rounds' argument is deprecated and will be removed in a future release of LightGBM. \"\n",
      "c:\\Users\\Lev\\miniconda3\\envs\\ds\\Lib\\site-packages\\lightgbm\\sklearn.py:736: UserWarning: 'verbose' argument is deprecated and will be removed in a future release of LightGBM. Pass 'log_evaluation()' callback via 'callbacks' argument instead.\n",
      "  _log_warning(\"'verbose' argument is deprecated and will be removed in a future release of LightGBM. \"\n",
      "c:\\Users\\Lev\\miniconda3\\envs\\ds\\Lib\\site-packages\\lightgbm\\basic.py:2065: UserWarning: Using categorical_feature in Dataset.\n",
      "  _log_warning('Using categorical_feature in Dataset.')\n",
      "c:\\Users\\Lev\\miniconda3\\envs\\ds\\Lib\\site-packages\\lightgbm\\basic.py:2068: UserWarning: categorical_feature in Dataset is overridden.\n",
      "New categorical_feature is [0, 22, 23, 27]\n",
      "  _log_warning('categorical_feature in Dataset is overridden.\\n'\n"
     ]
    },
    {
     "name": "stdout",
     "output_type": "stream",
     "text": [
      "[LightGBM] [Warning] feature_fraction is set=0.2, colsample_bytree=0.5 will be ignored. Current value: feature_fraction=0.2\n"
     ]
    },
    {
     "name": "stderr",
     "output_type": "stream",
     "text": [
      "c:\\Users\\Lev\\miniconda3\\envs\\ds\\Lib\\site-packages\\lightgbm\\basic.py:1780: UserWarning: Overriding the parameters from Reference Dataset.\n",
      "  _log_warning('Overriding the parameters from Reference Dataset.')\n",
      "c:\\Users\\Lev\\miniconda3\\envs\\ds\\Lib\\site-packages\\lightgbm\\basic.py:1513: UserWarning: categorical_column in param dict is overridden.\n",
      "  _log_warning(f'{cat_alias} in param dict is overridden.')\n"
     ]
    },
    {
     "name": "stdout",
     "output_type": "stream",
     "text": [
      "[500]\tvalid_0's l1: 4.10509\n",
      "[1000]\tvalid_0's l1: 4.05765\n"
     ]
    },
    {
     "name": "stderr",
     "output_type": "stream",
     "text": [
      "[I 2023-09-29 17:02:17,712] Trial 5 finished with value: 0.3770878744461321 and parameters: {'reg_alpha': 0.008264257453735147, 'reg_lambda': 0.12990068862681203, 'colsample_bytree': 0.5, 'subsample': 0.4, 'learning_rate': 0.008, 'max_depth': 20, 'num_leaves': 65, 'min_child_samples': 219, 'feature_fraction': 0.2}. Best is trial 2 with value: 0.36941276580442506.\n",
      "C:\\Users\\Lev\\AppData\\Local\\Temp\\ipykernel_8136\\304466756.py:22: FutureWarning: suggest_loguniform has been deprecated in v3.0.0. This feature will be removed in v6.0.0. See https://github.com/optuna/optuna/releases/tag/v3.0.0. Use suggest_float(..., log=True) instead.\n",
      "  'reg_alpha': trial.suggest_loguniform('reg_alpha', 1e-3, 10.0),\n",
      "C:\\Users\\Lev\\AppData\\Local\\Temp\\ipykernel_8136\\304466756.py:23: FutureWarning: suggest_loguniform has been deprecated in v3.0.0. This feature will be removed in v6.0.0. See https://github.com/optuna/optuna/releases/tag/v3.0.0. Use suggest_float(..., log=True) instead.\n",
      "  'reg_lambda': trial.suggest_loguniform('reg_lambda', 1e-3, 10.0),\n",
      "c:\\Users\\Lev\\miniconda3\\envs\\ds\\Lib\\site-packages\\optuna\\distributions.py:685: UserWarning: The distribution is specified by [0.2, 0.95] and step=0.1, but the range is not divisible by `step`. It will be replaced by [0.2, 0.9].\n",
      "  warnings.warn(\n",
      "c:\\Users\\Lev\\miniconda3\\envs\\ds\\Lib\\site-packages\\lightgbm\\sklearn.py:726: UserWarning: 'early_stopping_rounds' argument is deprecated and will be removed in a future release of LightGBM. Pass 'early_stopping()' callback via 'callbacks' argument instead.\n",
      "  _log_warning(\"'early_stopping_rounds' argument is deprecated and will be removed in a future release of LightGBM. \"\n",
      "c:\\Users\\Lev\\miniconda3\\envs\\ds\\Lib\\site-packages\\lightgbm\\sklearn.py:736: UserWarning: 'verbose' argument is deprecated and will be removed in a future release of LightGBM. Pass 'log_evaluation()' callback via 'callbacks' argument instead.\n",
      "  _log_warning(\"'verbose' argument is deprecated and will be removed in a future release of LightGBM. \"\n",
      "c:\\Users\\Lev\\miniconda3\\envs\\ds\\Lib\\site-packages\\lightgbm\\basic.py:2065: UserWarning: Using categorical_feature in Dataset.\n",
      "  _log_warning('Using categorical_feature in Dataset.')\n",
      "c:\\Users\\Lev\\miniconda3\\envs\\ds\\Lib\\site-packages\\lightgbm\\basic.py:2068: UserWarning: categorical_feature in Dataset is overridden.\n",
      "New categorical_feature is [0, 22, 23, 27]\n",
      "  _log_warning('categorical_feature in Dataset is overridden.\\n'\n"
     ]
    },
    {
     "name": "stdout",
     "output_type": "stream",
     "text": [
      "[LightGBM] [Warning] feature_fraction is set=0.30000000000000004, colsample_bytree=0.7 will be ignored. Current value: feature_fraction=0.30000000000000004\n"
     ]
    },
    {
     "name": "stderr",
     "output_type": "stream",
     "text": [
      "c:\\Users\\Lev\\miniconda3\\envs\\ds\\Lib\\site-packages\\lightgbm\\basic.py:1780: UserWarning: Overriding the parameters from Reference Dataset.\n",
      "  _log_warning('Overriding the parameters from Reference Dataset.')\n",
      "c:\\Users\\Lev\\miniconda3\\envs\\ds\\Lib\\site-packages\\lightgbm\\basic.py:1513: UserWarning: categorical_column in param dict is overridden.\n",
      "  _log_warning(f'{cat_alias} in param dict is overridden.')\n",
      "[I 2023-09-29 17:02:32,745] Trial 6 finished with value: 0.37235282211109144 and parameters: {'reg_alpha': 0.0062875851786741745, 'reg_lambda': 0.12027619623014227, 'colsample_bytree': 0.7, 'subsample': 0.7, 'learning_rate': 0.017, 'max_depth': 20, 'num_leaves': 267, 'min_child_samples': 222, 'feature_fraction': 0.30000000000000004}. Best is trial 2 with value: 0.36941276580442506.\n",
      "C:\\Users\\Lev\\AppData\\Local\\Temp\\ipykernel_8136\\304466756.py:22: FutureWarning: suggest_loguniform has been deprecated in v3.0.0. This feature will be removed in v6.0.0. See https://github.com/optuna/optuna/releases/tag/v3.0.0. Use suggest_float(..., log=True) instead.\n",
      "  'reg_alpha': trial.suggest_loguniform('reg_alpha', 1e-3, 10.0),\n",
      "C:\\Users\\Lev\\AppData\\Local\\Temp\\ipykernel_8136\\304466756.py:23: FutureWarning: suggest_loguniform has been deprecated in v3.0.0. This feature will be removed in v6.0.0. See https://github.com/optuna/optuna/releases/tag/v3.0.0. Use suggest_float(..., log=True) instead.\n",
      "  'reg_lambda': trial.suggest_loguniform('reg_lambda', 1e-3, 10.0),\n",
      "c:\\Users\\Lev\\miniconda3\\envs\\ds\\Lib\\site-packages\\optuna\\distributions.py:685: UserWarning: The distribution is specified by [0.2, 0.95] and step=0.1, but the range is not divisible by `step`. It will be replaced by [0.2, 0.9].\n",
      "  warnings.warn(\n",
      "c:\\Users\\Lev\\miniconda3\\envs\\ds\\Lib\\site-packages\\lightgbm\\sklearn.py:726: UserWarning: 'early_stopping_rounds' argument is deprecated and will be removed in a future release of LightGBM. Pass 'early_stopping()' callback via 'callbacks' argument instead.\n",
      "  _log_warning(\"'early_stopping_rounds' argument is deprecated and will be removed in a future release of LightGBM. \"\n",
      "c:\\Users\\Lev\\miniconda3\\envs\\ds\\Lib\\site-packages\\lightgbm\\sklearn.py:736: UserWarning: 'verbose' argument is deprecated and will be removed in a future release of LightGBM. Pass 'log_evaluation()' callback via 'callbacks' argument instead.\n",
      "  _log_warning(\"'verbose' argument is deprecated and will be removed in a future release of LightGBM. \"\n",
      "c:\\Users\\Lev\\miniconda3\\envs\\ds\\Lib\\site-packages\\lightgbm\\basic.py:2065: UserWarning: Using categorical_feature in Dataset.\n",
      "  _log_warning('Using categorical_feature in Dataset.')\n",
      "c:\\Users\\Lev\\miniconda3\\envs\\ds\\Lib\\site-packages\\lightgbm\\basic.py:2068: UserWarning: categorical_feature in Dataset is overridden.\n",
      "New categorical_feature is [0, 22, 23, 27]\n",
      "  _log_warning('categorical_feature in Dataset is overridden.\\n'\n"
     ]
    },
    {
     "name": "stdout",
     "output_type": "stream",
     "text": [
      "[LightGBM] [Warning] feature_fraction is set=0.8, colsample_bytree=0.4 will be ignored. Current value: feature_fraction=0.8\n"
     ]
    },
    {
     "name": "stderr",
     "output_type": "stream",
     "text": [
      "c:\\Users\\Lev\\miniconda3\\envs\\ds\\Lib\\site-packages\\lightgbm\\basic.py:1780: UserWarning: Overriding the parameters from Reference Dataset.\n",
      "  _log_warning('Overriding the parameters from Reference Dataset.')\n",
      "c:\\Users\\Lev\\miniconda3\\envs\\ds\\Lib\\site-packages\\lightgbm\\basic.py:1513: UserWarning: categorical_column in param dict is overridden.\n",
      "  _log_warning(f'{cat_alias} in param dict is overridden.')\n"
     ]
    },
    {
     "name": "stdout",
     "output_type": "stream",
     "text": [
      "[500]\tvalid_0's l1: 4.05393\n",
      "[1000]\tvalid_0's l1: 4.00811\n"
     ]
    },
    {
     "name": "stderr",
     "output_type": "stream",
     "text": [
      "[I 2023-09-29 17:03:14,750] Trial 7 finished with value: 0.3727176367573116 and parameters: {'reg_alpha': 0.8276024362016298, 'reg_lambda': 0.17099514798112708, 'colsample_bytree': 0.4, 'subsample': 0.6, 'learning_rate': 0.006, 'max_depth': 10, 'num_leaves': 319, 'min_child_samples': 5, 'feature_fraction': 0.8}. Best is trial 2 with value: 0.36941276580442506.\n",
      "C:\\Users\\Lev\\AppData\\Local\\Temp\\ipykernel_8136\\304466756.py:22: FutureWarning: suggest_loguniform has been deprecated in v3.0.0. This feature will be removed in v6.0.0. See https://github.com/optuna/optuna/releases/tag/v3.0.0. Use suggest_float(..., log=True) instead.\n",
      "  'reg_alpha': trial.suggest_loguniform('reg_alpha', 1e-3, 10.0),\n",
      "C:\\Users\\Lev\\AppData\\Local\\Temp\\ipykernel_8136\\304466756.py:23: FutureWarning: suggest_loguniform has been deprecated in v3.0.0. This feature will be removed in v6.0.0. See https://github.com/optuna/optuna/releases/tag/v3.0.0. Use suggest_float(..., log=True) instead.\n",
      "  'reg_lambda': trial.suggest_loguniform('reg_lambda', 1e-3, 10.0),\n",
      "c:\\Users\\Lev\\miniconda3\\envs\\ds\\Lib\\site-packages\\optuna\\distributions.py:685: UserWarning: The distribution is specified by [0.2, 0.95] and step=0.1, but the range is not divisible by `step`. It will be replaced by [0.2, 0.9].\n",
      "  warnings.warn(\n",
      "c:\\Users\\Lev\\miniconda3\\envs\\ds\\Lib\\site-packages\\lightgbm\\sklearn.py:726: UserWarning: 'early_stopping_rounds' argument is deprecated and will be removed in a future release of LightGBM. Pass 'early_stopping()' callback via 'callbacks' argument instead.\n",
      "  _log_warning(\"'early_stopping_rounds' argument is deprecated and will be removed in a future release of LightGBM. \"\n",
      "c:\\Users\\Lev\\miniconda3\\envs\\ds\\Lib\\site-packages\\lightgbm\\sklearn.py:736: UserWarning: 'verbose' argument is deprecated and will be removed in a future release of LightGBM. Pass 'log_evaluation()' callback via 'callbacks' argument instead.\n",
      "  _log_warning(\"'verbose' argument is deprecated and will be removed in a future release of LightGBM. \"\n",
      "c:\\Users\\Lev\\miniconda3\\envs\\ds\\Lib\\site-packages\\lightgbm\\basic.py:2065: UserWarning: Using categorical_feature in Dataset.\n",
      "  _log_warning('Using categorical_feature in Dataset.')\n",
      "c:\\Users\\Lev\\miniconda3\\envs\\ds\\Lib\\site-packages\\lightgbm\\basic.py:2068: UserWarning: categorical_feature in Dataset is overridden.\n",
      "New categorical_feature is [0, 22, 23, 27]\n",
      "  _log_warning('categorical_feature in Dataset is overridden.\\n'\n"
     ]
    },
    {
     "name": "stdout",
     "output_type": "stream",
     "text": [
      "[LightGBM] [Warning] feature_fraction is set=0.5, colsample_bytree=0.5 will be ignored. Current value: feature_fraction=0.5\n"
     ]
    },
    {
     "name": "stderr",
     "output_type": "stream",
     "text": [
      "c:\\Users\\Lev\\miniconda3\\envs\\ds\\Lib\\site-packages\\lightgbm\\basic.py:1780: UserWarning: Overriding the parameters from Reference Dataset.\n",
      "  _log_warning('Overriding the parameters from Reference Dataset.')\n",
      "c:\\Users\\Lev\\miniconda3\\envs\\ds\\Lib\\site-packages\\lightgbm\\basic.py:1513: UserWarning: categorical_column in param dict is overridden.\n",
      "  _log_warning(f'{cat_alias} in param dict is overridden.')\n",
      "[I 2023-09-29 17:03:29,565] Trial 8 finished with value: 0.37058401281502396 and parameters: {'reg_alpha': 0.12501803902835032, 'reg_lambda': 0.07340971392833118, 'colsample_bytree': 0.5, 'subsample': 0.4, 'learning_rate': 0.014, 'max_depth': 10, 'num_leaves': 454, 'min_child_samples': 71, 'feature_fraction': 0.5}. Best is trial 2 with value: 0.36941276580442506.\n",
      "C:\\Users\\Lev\\AppData\\Local\\Temp\\ipykernel_8136\\304466756.py:22: FutureWarning: suggest_loguniform has been deprecated in v3.0.0. This feature will be removed in v6.0.0. See https://github.com/optuna/optuna/releases/tag/v3.0.0. Use suggest_float(..., log=True) instead.\n",
      "  'reg_alpha': trial.suggest_loguniform('reg_alpha', 1e-3, 10.0),\n",
      "C:\\Users\\Lev\\AppData\\Local\\Temp\\ipykernel_8136\\304466756.py:23: FutureWarning: suggest_loguniform has been deprecated in v3.0.0. This feature will be removed in v6.0.0. See https://github.com/optuna/optuna/releases/tag/v3.0.0. Use suggest_float(..., log=True) instead.\n",
      "  'reg_lambda': trial.suggest_loguniform('reg_lambda', 1e-3, 10.0),\n",
      "c:\\Users\\Lev\\miniconda3\\envs\\ds\\Lib\\site-packages\\optuna\\distributions.py:685: UserWarning: The distribution is specified by [0.2, 0.95] and step=0.1, but the range is not divisible by `step`. It will be replaced by [0.2, 0.9].\n",
      "  warnings.warn(\n",
      "c:\\Users\\Lev\\miniconda3\\envs\\ds\\Lib\\site-packages\\lightgbm\\sklearn.py:726: UserWarning: 'early_stopping_rounds' argument is deprecated and will be removed in a future release of LightGBM. Pass 'early_stopping()' callback via 'callbacks' argument instead.\n",
      "  _log_warning(\"'early_stopping_rounds' argument is deprecated and will be removed in a future release of LightGBM. \"\n",
      "c:\\Users\\Lev\\miniconda3\\envs\\ds\\Lib\\site-packages\\lightgbm\\sklearn.py:736: UserWarning: 'verbose' argument is deprecated and will be removed in a future release of LightGBM. Pass 'log_evaluation()' callback via 'callbacks' argument instead.\n",
      "  _log_warning(\"'verbose' argument is deprecated and will be removed in a future release of LightGBM. \"\n",
      "c:\\Users\\Lev\\miniconda3\\envs\\ds\\Lib\\site-packages\\lightgbm\\basic.py:2065: UserWarning: Using categorical_feature in Dataset.\n",
      "  _log_warning('Using categorical_feature in Dataset.')\n",
      "c:\\Users\\Lev\\miniconda3\\envs\\ds\\Lib\\site-packages\\lightgbm\\basic.py:2068: UserWarning: categorical_feature in Dataset is overridden.\n",
      "New categorical_feature is [0, 22, 23, 27]\n",
      "  _log_warning('categorical_feature in Dataset is overridden.\\n'\n"
     ]
    },
    {
     "name": "stdout",
     "output_type": "stream",
     "text": [
      "[LightGBM] [Warning] feature_fraction is set=0.9, colsample_bytree=0.6 will be ignored. Current value: feature_fraction=0.9\n"
     ]
    },
    {
     "name": "stderr",
     "output_type": "stream",
     "text": [
      "c:\\Users\\Lev\\miniconda3\\envs\\ds\\Lib\\site-packages\\lightgbm\\basic.py:1780: UserWarning: Overriding the parameters from Reference Dataset.\n",
      "  _log_warning('Overriding the parameters from Reference Dataset.')\n",
      "c:\\Users\\Lev\\miniconda3\\envs\\ds\\Lib\\site-packages\\lightgbm\\basic.py:1513: UserWarning: categorical_column in param dict is overridden.\n",
      "  _log_warning(f'{cat_alias} in param dict is overridden.')\n",
      "[I 2023-09-29 17:04:13,711] Trial 9 finished with value: 0.3721404841486742 and parameters: {'reg_alpha': 0.01835150174225656, 'reg_lambda': 0.008934341265675137, 'colsample_bytree': 0.6, 'subsample': 0.8, 'learning_rate': 0.02, 'max_depth': 100, 'num_leaves': 857, 'min_child_samples': 209, 'feature_fraction': 0.9}. Best is trial 2 with value: 0.36941276580442506.\n"
     ]
    },
    {
     "name": "stdout",
     "output_type": "stream",
     "text": [
      "Number of finished trials: 10\n",
      "Best trial: {'reg_alpha': 3.3133555294265182, 'reg_lambda': 0.0018320651646663122, 'colsample_bytree': 0.3, 'subsample': 0.8, 'learning_rate': 0.008, 'max_depth': 10, 'num_leaves': 494, 'min_child_samples': 3, 'feature_fraction': 0.4}\n"
     ]
    }
   ],
   "source": [
    "def objective(trial, data=with_ma, cols_to_drop=['sold', 'date', 'pr_sku_id', 'st_id'], cat_features=['store_item', 'pr_sales_type_id', 'dow', 'season']):\n",
    "    \n",
    "    end_train = data['date'].max() - pd.Timedelta(days=14)\n",
    "    train = data[data['date'] <= end_train]\n",
    "    valid = data[data['date'] > end_train]\n",
    "\n",
    "    train_x = train.drop(cols_to_drop, axis=1)\n",
    "    train_y = train['sold']\n",
    "    test_x = valid.drop(cols_to_drop, axis=1)\n",
    "    test_y = valid['sold']\n",
    "\n",
    "    cat_idx = [train_x.columns.get_loc(col) for col in cat_features]\n",
    "\n",
    "    for col in cat_features:\n",
    "        train_x[col] = pd.Categorical(train_x[col])\n",
    "        test_x[col] = pd.Categorical(test_x[col])\n",
    "\n",
    "    param = {\n",
    "        'metric': 'mae', \n",
    "        'random_state': 26,\n",
    "        'n_estimators': 20000,\n",
    "        'reg_alpha': trial.suggest_loguniform('reg_alpha', 1e-3, 10.0),\n",
    "        'reg_lambda': trial.suggest_loguniform('reg_lambda', 1e-3, 10.0),\n",
    "        'colsample_bytree': trial.suggest_categorical('colsample_bytree', [0.3,0.4,0.5,0.6,0.7,0.8,0.9, 1.0]),\n",
    "        'subsample': trial.suggest_categorical('subsample', [0.4,0.5,0.6,0.7,0.8,1.0]),\n",
    "        'learning_rate': trial.suggest_categorical('learning_rate', [0.006,0.008,0.01,0.014,0.017,0.02]),\n",
    "        'max_depth': trial.suggest_categorical('max_depth', [10,20,100]),\n",
    "        'num_leaves' : trial.suggest_int('num_leaves', 1, 1000),\n",
    "        'min_child_samples': trial.suggest_int('min_child_samples', 1, 300),\n",
    "        'feature_fraction': trial.suggest_float('feature_fraction', 0.2, 0.95, step=0.1)\n",
    "    }\n",
    "    model = lgbm.LGBMRegressor(**param)  \n",
    "    \n",
    "    model.fit(train_x,train_y,categorical_feature=cat_idx,eval_set=[(test_x,test_y)],early_stopping_rounds=100,verbose=500)\n",
    "    \n",
    "    preds = model.predict(test_x)\n",
    "\n",
    "    trial.set_user_attr(key=\"best_booster\", value=model)\n",
    "    \n",
    "    return wape(test_y, preds)\n",
    "\n",
    "def callback(study, trial):\n",
    "    if study.best_trial.number == trial.number:\n",
    "        study.set_user_attr(key=\"best_booster\", value=trial.user_attrs[\"best_booster\"])\n",
    "\n",
    "\n",
    "if __name__ == \"__main__\":\n",
    "    study = optuna.create_study(\n",
    "        pruner=optuna.pruners.MedianPruner(n_warmup_steps=10), direction='minimize'\n",
    "    )\n",
    "    study.optimize(objective, n_trials=10, callbacks=[callback])\n",
    "    best_model=study.user_attrs[\"best_booster\"]\n",
    "\n",
    "print('Number of finished trials:', len(study.trials))\n",
    "print('Best trial:', study.best_trial.params)"
   ]
  },
  {
   "cell_type": "code",
   "execution_count": 124,
   "metadata": {},
   "outputs": [
    {
     "name": "stderr",
     "output_type": "stream",
     "text": [
      "C:\\Users\\Lev\\AppData\\Local\\Temp\\ipykernel_8136\\304466756.py:22: FutureWarning: suggest_loguniform has been deprecated in v3.0.0. This feature will be removed in v6.0.0. See https://github.com/optuna/optuna/releases/tag/v3.0.0. Use suggest_float(..., log=True) instead.\n",
      "  'reg_alpha': trial.suggest_loguniform('reg_alpha', 1e-3, 10.0),\n",
      "C:\\Users\\Lev\\AppData\\Local\\Temp\\ipykernel_8136\\304466756.py:23: FutureWarning: suggest_loguniform has been deprecated in v3.0.0. This feature will be removed in v6.0.0. See https://github.com/optuna/optuna/releases/tag/v3.0.0. Use suggest_float(..., log=True) instead.\n",
      "  'reg_lambda': trial.suggest_loguniform('reg_lambda', 1e-3, 10.0),\n",
      "c:\\Users\\Lev\\miniconda3\\envs\\ds\\Lib\\site-packages\\optuna\\distributions.py:685: UserWarning: The distribution is specified by [0.2, 0.95] and step=0.1, but the range is not divisible by `step`. It will be replaced by [0.2, 0.9].\n",
      "  warnings.warn(\n",
      "c:\\Users\\Lev\\miniconda3\\envs\\ds\\Lib\\site-packages\\lightgbm\\sklearn.py:726: UserWarning: 'early_stopping_rounds' argument is deprecated and will be removed in a future release of LightGBM. Pass 'early_stopping()' callback via 'callbacks' argument instead.\n",
      "  _log_warning(\"'early_stopping_rounds' argument is deprecated and will be removed in a future release of LightGBM. \"\n",
      "c:\\Users\\Lev\\miniconda3\\envs\\ds\\Lib\\site-packages\\lightgbm\\sklearn.py:736: UserWarning: 'verbose' argument is deprecated and will be removed in a future release of LightGBM. Pass 'log_evaluation()' callback via 'callbacks' argument instead.\n",
      "  _log_warning(\"'verbose' argument is deprecated and will be removed in a future release of LightGBM. \"\n",
      "c:\\Users\\Lev\\miniconda3\\envs\\ds\\Lib\\site-packages\\lightgbm\\basic.py:2065: UserWarning: Using categorical_feature in Dataset.\n",
      "  _log_warning('Using categorical_feature in Dataset.')\n",
      "c:\\Users\\Lev\\miniconda3\\envs\\ds\\Lib\\site-packages\\lightgbm\\basic.py:2068: UserWarning: categorical_feature in Dataset is overridden.\n",
      "New categorical_feature is [0, 22, 23, 27]\n",
      "  _log_warning('categorical_feature in Dataset is overridden.\\n'\n"
     ]
    },
    {
     "name": "stdout",
     "output_type": "stream",
     "text": [
      "[LightGBM] [Warning] feature_fraction is set=0.6000000000000001, colsample_bytree=0.3 will be ignored. Current value: feature_fraction=0.6000000000000001\n"
     ]
    },
    {
     "name": "stderr",
     "output_type": "stream",
     "text": [
      "c:\\Users\\Lev\\miniconda3\\envs\\ds\\Lib\\site-packages\\lightgbm\\basic.py:1780: UserWarning: Overriding the parameters from Reference Dataset.\n",
      "  _log_warning('Overriding the parameters from Reference Dataset.')\n",
      "c:\\Users\\Lev\\miniconda3\\envs\\ds\\Lib\\site-packages\\lightgbm\\basic.py:1513: UserWarning: categorical_column in param dict is overridden.\n",
      "  _log_warning(f'{cat_alias} in param dict is overridden.')\n"
     ]
    },
    {
     "name": "stdout",
     "output_type": "stream",
     "text": [
      "[500]\tvalid_0's l1: 3.98643\n"
     ]
    },
    {
     "name": "stderr",
     "output_type": "stream",
     "text": [
      "[I 2023-09-29 17:04:45,641] Trial 10 finished with value: 0.3705056154568687 and parameters: {'reg_alpha': 9.7540913180648, 'reg_lambda': 0.001170793938553175, 'colsample_bytree': 0.3, 'subsample': 0.5, 'learning_rate': 0.008, 'max_depth': 10, 'num_leaves': 715, 'min_child_samples': 89, 'feature_fraction': 0.6000000000000001}. Best is trial 2 with value: 0.36941276580442506.\n",
      "C:\\Users\\Lev\\AppData\\Local\\Temp\\ipykernel_8136\\304466756.py:22: FutureWarning: suggest_loguniform has been deprecated in v3.0.0. This feature will be removed in v6.0.0. See https://github.com/optuna/optuna/releases/tag/v3.0.0. Use suggest_float(..., log=True) instead.\n",
      "  'reg_alpha': trial.suggest_loguniform('reg_alpha', 1e-3, 10.0),\n",
      "C:\\Users\\Lev\\AppData\\Local\\Temp\\ipykernel_8136\\304466756.py:23: FutureWarning: suggest_loguniform has been deprecated in v3.0.0. This feature will be removed in v6.0.0. See https://github.com/optuna/optuna/releases/tag/v3.0.0. Use suggest_float(..., log=True) instead.\n",
      "  'reg_lambda': trial.suggest_loguniform('reg_lambda', 1e-3, 10.0),\n",
      "c:\\Users\\Lev\\miniconda3\\envs\\ds\\Lib\\site-packages\\optuna\\distributions.py:685: UserWarning: The distribution is specified by [0.2, 0.95] and step=0.1, but the range is not divisible by `step`. It will be replaced by [0.2, 0.9].\n",
      "  warnings.warn(\n",
      "c:\\Users\\Lev\\miniconda3\\envs\\ds\\Lib\\site-packages\\lightgbm\\sklearn.py:726: UserWarning: 'early_stopping_rounds' argument is deprecated and will be removed in a future release of LightGBM. Pass 'early_stopping()' callback via 'callbacks' argument instead.\n",
      "  _log_warning(\"'early_stopping_rounds' argument is deprecated and will be removed in a future release of LightGBM. \"\n",
      "c:\\Users\\Lev\\miniconda3\\envs\\ds\\Lib\\site-packages\\lightgbm\\sklearn.py:736: UserWarning: 'verbose' argument is deprecated and will be removed in a future release of LightGBM. Pass 'log_evaluation()' callback via 'callbacks' argument instead.\n",
      "  _log_warning(\"'verbose' argument is deprecated and will be removed in a future release of LightGBM. \"\n",
      "c:\\Users\\Lev\\miniconda3\\envs\\ds\\Lib\\site-packages\\lightgbm\\basic.py:2065: UserWarning: Using categorical_feature in Dataset.\n",
      "  _log_warning('Using categorical_feature in Dataset.')\n",
      "c:\\Users\\Lev\\miniconda3\\envs\\ds\\Lib\\site-packages\\lightgbm\\basic.py:2068: UserWarning: categorical_feature in Dataset is overridden.\n",
      "New categorical_feature is [0, 22, 23, 27]\n",
      "  _log_warning('categorical_feature in Dataset is overridden.\\n'\n"
     ]
    },
    {
     "name": "stdout",
     "output_type": "stream",
     "text": [
      "[LightGBM] [Warning] feature_fraction is set=0.6000000000000001, colsample_bytree=0.3 will be ignored. Current value: feature_fraction=0.6000000000000001\n"
     ]
    },
    {
     "name": "stderr",
     "output_type": "stream",
     "text": [
      "c:\\Users\\Lev\\miniconda3\\envs\\ds\\Lib\\site-packages\\lightgbm\\basic.py:1780: UserWarning: Overriding the parameters from Reference Dataset.\n",
      "  _log_warning('Overriding the parameters from Reference Dataset.')\n",
      "c:\\Users\\Lev\\miniconda3\\envs\\ds\\Lib\\site-packages\\lightgbm\\basic.py:1513: UserWarning: categorical_column in param dict is overridden.\n",
      "  _log_warning(f'{cat_alias} in param dict is overridden.')\n"
     ]
    },
    {
     "name": "stdout",
     "output_type": "stream",
     "text": [
      "[500]\tvalid_0's l1: 3.9839\n"
     ]
    },
    {
     "name": "stderr",
     "output_type": "stream",
     "text": [
      "[I 2023-09-29 17:05:09,036] Trial 11 finished with value: 0.37027313975395026 and parameters: {'reg_alpha': 9.741443859909666, 'reg_lambda': 0.0012456885996145423, 'colsample_bytree': 0.3, 'subsample': 0.5, 'learning_rate': 0.008, 'max_depth': 10, 'num_leaves': 681, 'min_child_samples': 83, 'feature_fraction': 0.6000000000000001}. Best is trial 2 with value: 0.36941276580442506.\n",
      "C:\\Users\\Lev\\AppData\\Local\\Temp\\ipykernel_8136\\304466756.py:22: FutureWarning: suggest_loguniform has been deprecated in v3.0.0. This feature will be removed in v6.0.0. See https://github.com/optuna/optuna/releases/tag/v3.0.0. Use suggest_float(..., log=True) instead.\n",
      "  'reg_alpha': trial.suggest_loguniform('reg_alpha', 1e-3, 10.0),\n",
      "C:\\Users\\Lev\\AppData\\Local\\Temp\\ipykernel_8136\\304466756.py:23: FutureWarning: suggest_loguniform has been deprecated in v3.0.0. This feature will be removed in v6.0.0. See https://github.com/optuna/optuna/releases/tag/v3.0.0. Use suggest_float(..., log=True) instead.\n",
      "  'reg_lambda': trial.suggest_loguniform('reg_lambda', 1e-3, 10.0),\n",
      "c:\\Users\\Lev\\miniconda3\\envs\\ds\\Lib\\site-packages\\optuna\\distributions.py:685: UserWarning: The distribution is specified by [0.2, 0.95] and step=0.1, but the range is not divisible by `step`. It will be replaced by [0.2, 0.9].\n",
      "  warnings.warn(\n",
      "c:\\Users\\Lev\\miniconda3\\envs\\ds\\Lib\\site-packages\\lightgbm\\sklearn.py:726: UserWarning: 'early_stopping_rounds' argument is deprecated and will be removed in a future release of LightGBM. Pass 'early_stopping()' callback via 'callbacks' argument instead.\n",
      "  _log_warning(\"'early_stopping_rounds' argument is deprecated and will be removed in a future release of LightGBM. \"\n",
      "c:\\Users\\Lev\\miniconda3\\envs\\ds\\Lib\\site-packages\\lightgbm\\sklearn.py:736: UserWarning: 'verbose' argument is deprecated and will be removed in a future release of LightGBM. Pass 'log_evaluation()' callback via 'callbacks' argument instead.\n",
      "  _log_warning(\"'verbose' argument is deprecated and will be removed in a future release of LightGBM. \"\n",
      "c:\\Users\\Lev\\miniconda3\\envs\\ds\\Lib\\site-packages\\lightgbm\\basic.py:2065: UserWarning: Using categorical_feature in Dataset.\n",
      "  _log_warning('Using categorical_feature in Dataset.')\n",
      "c:\\Users\\Lev\\miniconda3\\envs\\ds\\Lib\\site-packages\\lightgbm\\basic.py:2068: UserWarning: categorical_feature in Dataset is overridden.\n",
      "New categorical_feature is [0, 22, 23, 27]\n",
      "  _log_warning('categorical_feature in Dataset is overridden.\\n'\n"
     ]
    },
    {
     "name": "stdout",
     "output_type": "stream",
     "text": [
      "[LightGBM] [Warning] feature_fraction is set=0.6000000000000001, colsample_bytree=0.3 will be ignored. Current value: feature_fraction=0.6000000000000001\n"
     ]
    },
    {
     "name": "stderr",
     "output_type": "stream",
     "text": [
      "c:\\Users\\Lev\\miniconda3\\envs\\ds\\Lib\\site-packages\\lightgbm\\basic.py:1780: UserWarning: Overriding the parameters from Reference Dataset.\n",
      "  _log_warning('Overriding the parameters from Reference Dataset.')\n",
      "c:\\Users\\Lev\\miniconda3\\envs\\ds\\Lib\\site-packages\\lightgbm\\basic.py:1513: UserWarning: categorical_column in param dict is overridden.\n",
      "  _log_warning(f'{cat_alias} in param dict is overridden.')\n"
     ]
    },
    {
     "name": "stdout",
     "output_type": "stream",
     "text": [
      "[500]\tvalid_0's l1: 3.98266\n"
     ]
    },
    {
     "name": "stderr",
     "output_type": "stream",
     "text": [
      "[I 2023-09-29 17:05:31,846] Trial 12 finished with value: 0.37017206232153227 and parameters: {'reg_alpha': 1.773170871749567, 'reg_lambda': 0.0010331131525172126, 'colsample_bytree': 0.3, 'subsample': 0.5, 'learning_rate': 0.008, 'max_depth': 10, 'num_leaves': 615, 'min_child_samples': 88, 'feature_fraction': 0.6000000000000001}. Best is trial 2 with value: 0.36941276580442506.\n",
      "C:\\Users\\Lev\\AppData\\Local\\Temp\\ipykernel_8136\\304466756.py:22: FutureWarning: suggest_loguniform has been deprecated in v3.0.0. This feature will be removed in v6.0.0. See https://github.com/optuna/optuna/releases/tag/v3.0.0. Use suggest_float(..., log=True) instead.\n",
      "  'reg_alpha': trial.suggest_loguniform('reg_alpha', 1e-3, 10.0),\n",
      "C:\\Users\\Lev\\AppData\\Local\\Temp\\ipykernel_8136\\304466756.py:23: FutureWarning: suggest_loguniform has been deprecated in v3.0.0. This feature will be removed in v6.0.0. See https://github.com/optuna/optuna/releases/tag/v3.0.0. Use suggest_float(..., log=True) instead.\n",
      "  'reg_lambda': trial.suggest_loguniform('reg_lambda', 1e-3, 10.0),\n",
      "c:\\Users\\Lev\\miniconda3\\envs\\ds\\Lib\\site-packages\\optuna\\distributions.py:685: UserWarning: The distribution is specified by [0.2, 0.95] and step=0.1, but the range is not divisible by `step`. It will be replaced by [0.2, 0.9].\n",
      "  warnings.warn(\n",
      "c:\\Users\\Lev\\miniconda3\\envs\\ds\\Lib\\site-packages\\lightgbm\\sklearn.py:726: UserWarning: 'early_stopping_rounds' argument is deprecated and will be removed in a future release of LightGBM. Pass 'early_stopping()' callback via 'callbacks' argument instead.\n",
      "  _log_warning(\"'early_stopping_rounds' argument is deprecated and will be removed in a future release of LightGBM. \"\n",
      "c:\\Users\\Lev\\miniconda3\\envs\\ds\\Lib\\site-packages\\lightgbm\\sklearn.py:736: UserWarning: 'verbose' argument is deprecated and will be removed in a future release of LightGBM. Pass 'log_evaluation()' callback via 'callbacks' argument instead.\n",
      "  _log_warning(\"'verbose' argument is deprecated and will be removed in a future release of LightGBM. \"\n",
      "c:\\Users\\Lev\\miniconda3\\envs\\ds\\Lib\\site-packages\\lightgbm\\basic.py:2065: UserWarning: Using categorical_feature in Dataset.\n",
      "  _log_warning('Using categorical_feature in Dataset.')\n",
      "c:\\Users\\Lev\\miniconda3\\envs\\ds\\Lib\\site-packages\\lightgbm\\basic.py:2068: UserWarning: categorical_feature in Dataset is overridden.\n",
      "New categorical_feature is [0, 22, 23, 27]\n",
      "  _log_warning('categorical_feature in Dataset is overridden.\\n'\n"
     ]
    },
    {
     "name": "stdout",
     "output_type": "stream",
     "text": [
      "[LightGBM] [Warning] feature_fraction is set=0.4, colsample_bytree=0.8 will be ignored. Current value: feature_fraction=0.4\n"
     ]
    },
    {
     "name": "stderr",
     "output_type": "stream",
     "text": [
      "c:\\Users\\Lev\\miniconda3\\envs\\ds\\Lib\\site-packages\\lightgbm\\basic.py:1780: UserWarning: Overriding the parameters from Reference Dataset.\n",
      "  _log_warning('Overriding the parameters from Reference Dataset.')\n",
      "c:\\Users\\Lev\\miniconda3\\envs\\ds\\Lib\\site-packages\\lightgbm\\basic.py:1513: UserWarning: categorical_column in param dict is overridden.\n",
      "  _log_warning(f'{cat_alias} in param dict is overridden.')\n"
     ]
    },
    {
     "name": "stdout",
     "output_type": "stream",
     "text": [
      "[500]\tvalid_0's l1: 3.9955\n"
     ]
    },
    {
     "name": "stderr",
     "output_type": "stream",
     "text": [
      "[I 2023-09-29 17:05:50,281] Trial 13 finished with value: 0.37143270551859303 and parameters: {'reg_alpha': 1.2620767059532771, 'reg_lambda': 0.0057659661527139465, 'colsample_bytree': 0.8, 'subsample': 1.0, 'learning_rate': 0.01, 'max_depth': 10, 'num_leaves': 587, 'min_child_samples': 50, 'feature_fraction': 0.4}. Best is trial 2 with value: 0.36941276580442506.\n",
      "C:\\Users\\Lev\\AppData\\Local\\Temp\\ipykernel_8136\\304466756.py:22: FutureWarning: suggest_loguniform has been deprecated in v3.0.0. This feature will be removed in v6.0.0. See https://github.com/optuna/optuna/releases/tag/v3.0.0. Use suggest_float(..., log=True) instead.\n",
      "  'reg_alpha': trial.suggest_loguniform('reg_alpha', 1e-3, 10.0),\n",
      "C:\\Users\\Lev\\AppData\\Local\\Temp\\ipykernel_8136\\304466756.py:23: FutureWarning: suggest_loguniform has been deprecated in v3.0.0. This feature will be removed in v6.0.0. See https://github.com/optuna/optuna/releases/tag/v3.0.0. Use suggest_float(..., log=True) instead.\n",
      "  'reg_lambda': trial.suggest_loguniform('reg_lambda', 1e-3, 10.0),\n",
      "c:\\Users\\Lev\\miniconda3\\envs\\ds\\Lib\\site-packages\\optuna\\distributions.py:685: UserWarning: The distribution is specified by [0.2, 0.95] and step=0.1, but the range is not divisible by `step`. It will be replaced by [0.2, 0.9].\n",
      "  warnings.warn(\n",
      "c:\\Users\\Lev\\miniconda3\\envs\\ds\\Lib\\site-packages\\lightgbm\\sklearn.py:726: UserWarning: 'early_stopping_rounds' argument is deprecated and will be removed in a future release of LightGBM. Pass 'early_stopping()' callback via 'callbacks' argument instead.\n",
      "  _log_warning(\"'early_stopping_rounds' argument is deprecated and will be removed in a future release of LightGBM. \"\n",
      "c:\\Users\\Lev\\miniconda3\\envs\\ds\\Lib\\site-packages\\lightgbm\\sklearn.py:736: UserWarning: 'verbose' argument is deprecated and will be removed in a future release of LightGBM. Pass 'log_evaluation()' callback via 'callbacks' argument instead.\n",
      "  _log_warning(\"'verbose' argument is deprecated and will be removed in a future release of LightGBM. \"\n",
      "c:\\Users\\Lev\\miniconda3\\envs\\ds\\Lib\\site-packages\\lightgbm\\basic.py:2065: UserWarning: Using categorical_feature in Dataset.\n",
      "  _log_warning('Using categorical_feature in Dataset.')\n",
      "c:\\Users\\Lev\\miniconda3\\envs\\ds\\Lib\\site-packages\\lightgbm\\basic.py:2068: UserWarning: categorical_feature in Dataset is overridden.\n",
      "New categorical_feature is [0, 22, 23, 27]\n",
      "  _log_warning('categorical_feature in Dataset is overridden.\\n'\n"
     ]
    },
    {
     "name": "stdout",
     "output_type": "stream",
     "text": [
      "[LightGBM] [Warning] feature_fraction is set=0.7, colsample_bytree=0.3 will be ignored. Current value: feature_fraction=0.7\n"
     ]
    },
    {
     "name": "stderr",
     "output_type": "stream",
     "text": [
      "c:\\Users\\Lev\\miniconda3\\envs\\ds\\Lib\\site-packages\\lightgbm\\basic.py:1780: UserWarning: Overriding the parameters from Reference Dataset.\n",
      "  _log_warning('Overriding the parameters from Reference Dataset.')\n",
      "c:\\Users\\Lev\\miniconda3\\envs\\ds\\Lib\\site-packages\\lightgbm\\basic.py:1513: UserWarning: categorical_column in param dict is overridden.\n",
      "  _log_warning(f'{cat_alias} in param dict is overridden.')\n"
     ]
    },
    {
     "name": "stdout",
     "output_type": "stream",
     "text": [
      "[500]\tvalid_0's l1: 4.00424\n"
     ]
    },
    {
     "name": "stderr",
     "output_type": "stream",
     "text": [
      "[I 2023-09-29 17:06:13,079] Trial 14 finished with value: 0.37211315656808236 and parameters: {'reg_alpha': 0.2028209012301825, 'reg_lambda': 0.004554610766939688, 'colsample_bytree': 0.3, 'subsample': 0.8, 'learning_rate': 0.008, 'max_depth': 10, 'num_leaves': 231, 'min_child_samples': 125, 'feature_fraction': 0.7}. Best is trial 2 with value: 0.36941276580442506.\n",
      "C:\\Users\\Lev\\AppData\\Local\\Temp\\ipykernel_8136\\304466756.py:22: FutureWarning: suggest_loguniform has been deprecated in v3.0.0. This feature will be removed in v6.0.0. See https://github.com/optuna/optuna/releases/tag/v3.0.0. Use suggest_float(..., log=True) instead.\n",
      "  'reg_alpha': trial.suggest_loguniform('reg_alpha', 1e-3, 10.0),\n",
      "C:\\Users\\Lev\\AppData\\Local\\Temp\\ipykernel_8136\\304466756.py:23: FutureWarning: suggest_loguniform has been deprecated in v3.0.0. This feature will be removed in v6.0.0. See https://github.com/optuna/optuna/releases/tag/v3.0.0. Use suggest_float(..., log=True) instead.\n",
      "  'reg_lambda': trial.suggest_loguniform('reg_lambda', 1e-3, 10.0),\n",
      "c:\\Users\\Lev\\miniconda3\\envs\\ds\\Lib\\site-packages\\optuna\\distributions.py:685: UserWarning: The distribution is specified by [0.2, 0.95] and step=0.1, but the range is not divisible by `step`. It will be replaced by [0.2, 0.9].\n",
      "  warnings.warn(\n",
      "c:\\Users\\Lev\\miniconda3\\envs\\ds\\Lib\\site-packages\\lightgbm\\sklearn.py:726: UserWarning: 'early_stopping_rounds' argument is deprecated and will be removed in a future release of LightGBM. Pass 'early_stopping()' callback via 'callbacks' argument instead.\n",
      "  _log_warning(\"'early_stopping_rounds' argument is deprecated and will be removed in a future release of LightGBM. \"\n",
      "c:\\Users\\Lev\\miniconda3\\envs\\ds\\Lib\\site-packages\\lightgbm\\sklearn.py:736: UserWarning: 'verbose' argument is deprecated and will be removed in a future release of LightGBM. Pass 'log_evaluation()' callback via 'callbacks' argument instead.\n",
      "  _log_warning(\"'verbose' argument is deprecated and will be removed in a future release of LightGBM. \"\n",
      "c:\\Users\\Lev\\miniconda3\\envs\\ds\\Lib\\site-packages\\lightgbm\\basic.py:2065: UserWarning: Using categorical_feature in Dataset.\n",
      "  _log_warning('Using categorical_feature in Dataset.')\n",
      "c:\\Users\\Lev\\miniconda3\\envs\\ds\\Lib\\site-packages\\lightgbm\\basic.py:2068: UserWarning: categorical_feature in Dataset is overridden.\n",
      "New categorical_feature is [0, 22, 23, 27]\n",
      "  _log_warning('categorical_feature in Dataset is overridden.\\n'\n"
     ]
    },
    {
     "name": "stdout",
     "output_type": "stream",
     "text": [
      "[LightGBM] [Warning] feature_fraction is set=0.4, colsample_bytree=0.3 will be ignored. Current value: feature_fraction=0.4\n"
     ]
    },
    {
     "name": "stderr",
     "output_type": "stream",
     "text": [
      "c:\\Users\\Lev\\miniconda3\\envs\\ds\\Lib\\site-packages\\lightgbm\\basic.py:1780: UserWarning: Overriding the parameters from Reference Dataset.\n",
      "  _log_warning('Overriding the parameters from Reference Dataset.')\n",
      "c:\\Users\\Lev\\miniconda3\\envs\\ds\\Lib\\site-packages\\lightgbm\\basic.py:1513: UserWarning: categorical_column in param dict is overridden.\n",
      "  _log_warning(f'{cat_alias} in param dict is overridden.')\n"
     ]
    },
    {
     "name": "stdout",
     "output_type": "stream",
     "text": [
      "[500]\tvalid_0's l1: 4.01852\n"
     ]
    },
    {
     "name": "stderr",
     "output_type": "stream",
     "text": [
      "[I 2023-09-29 17:06:45,427] Trial 15 finished with value: 0.3728525260642656 and parameters: {'reg_alpha': 2.174639539128314, 'reg_lambda': 0.0010660564316517583, 'colsample_bytree': 0.3, 'subsample': 0.5, 'learning_rate': 0.008, 'max_depth': 20, 'num_leaves': 817, 'min_child_samples': 296, 'feature_fraction': 0.4}. Best is trial 2 with value: 0.36941276580442506.\n",
      "C:\\Users\\Lev\\AppData\\Local\\Temp\\ipykernel_8136\\304466756.py:22: FutureWarning: suggest_loguniform has been deprecated in v3.0.0. This feature will be removed in v6.0.0. See https://github.com/optuna/optuna/releases/tag/v3.0.0. Use suggest_float(..., log=True) instead.\n",
      "  'reg_alpha': trial.suggest_loguniform('reg_alpha', 1e-3, 10.0),\n",
      "C:\\Users\\Lev\\AppData\\Local\\Temp\\ipykernel_8136\\304466756.py:23: FutureWarning: suggest_loguniform has been deprecated in v3.0.0. This feature will be removed in v6.0.0. See https://github.com/optuna/optuna/releases/tag/v3.0.0. Use suggest_float(..., log=True) instead.\n",
      "  'reg_lambda': trial.suggest_loguniform('reg_lambda', 1e-3, 10.0),\n",
      "c:\\Users\\Lev\\miniconda3\\envs\\ds\\Lib\\site-packages\\optuna\\distributions.py:685: UserWarning: The distribution is specified by [0.2, 0.95] and step=0.1, but the range is not divisible by `step`. It will be replaced by [0.2, 0.9].\n",
      "  warnings.warn(\n",
      "c:\\Users\\Lev\\miniconda3\\envs\\ds\\Lib\\site-packages\\lightgbm\\sklearn.py:726: UserWarning: 'early_stopping_rounds' argument is deprecated and will be removed in a future release of LightGBM. Pass 'early_stopping()' callback via 'callbacks' argument instead.\n",
      "  _log_warning(\"'early_stopping_rounds' argument is deprecated and will be removed in a future release of LightGBM. \"\n",
      "c:\\Users\\Lev\\miniconda3\\envs\\ds\\Lib\\site-packages\\lightgbm\\sklearn.py:736: UserWarning: 'verbose' argument is deprecated and will be removed in a future release of LightGBM. Pass 'log_evaluation()' callback via 'callbacks' argument instead.\n",
      "  _log_warning(\"'verbose' argument is deprecated and will be removed in a future release of LightGBM. \"\n",
      "c:\\Users\\Lev\\miniconda3\\envs\\ds\\Lib\\site-packages\\lightgbm\\basic.py:2065: UserWarning: Using categorical_feature in Dataset.\n",
      "  _log_warning('Using categorical_feature in Dataset.')\n",
      "c:\\Users\\Lev\\miniconda3\\envs\\ds\\Lib\\site-packages\\lightgbm\\basic.py:2068: UserWarning: categorical_feature in Dataset is overridden.\n",
      "New categorical_feature is [0, 22, 23, 27]\n",
      "  _log_warning('categorical_feature in Dataset is overridden.\\n'\n"
     ]
    },
    {
     "name": "stdout",
     "output_type": "stream",
     "text": [
      "[LightGBM] [Warning] feature_fraction is set=0.30000000000000004, colsample_bytree=1.0 will be ignored. Current value: feature_fraction=0.30000000000000004\n"
     ]
    },
    {
     "name": "stderr",
     "output_type": "stream",
     "text": [
      "c:\\Users\\Lev\\miniconda3\\envs\\ds\\Lib\\site-packages\\lightgbm\\basic.py:1780: UserWarning: Overriding the parameters from Reference Dataset.\n",
      "  _log_warning('Overriding the parameters from Reference Dataset.')\n",
      "c:\\Users\\Lev\\miniconda3\\envs\\ds\\Lib\\site-packages\\lightgbm\\basic.py:1513: UserWarning: categorical_column in param dict is overridden.\n",
      "  _log_warning(f'{cat_alias} in param dict is overridden.')\n"
     ]
    },
    {
     "name": "stdout",
     "output_type": "stream",
     "text": [
      "[500]\tvalid_0's l1: 4.00982\n"
     ]
    },
    {
     "name": "stderr",
     "output_type": "stream",
     "text": [
      "[I 2023-09-29 17:07:02,816] Trial 16 finished with value: 0.3724919611677012 and parameters: {'reg_alpha': 0.41502187759467263, 'reg_lambda': 0.013973988245823781, 'colsample_bytree': 1.0, 'subsample': 1.0, 'learning_rate': 0.01, 'max_depth': 10, 'num_leaves': 550, 'min_child_samples': 38, 'feature_fraction': 0.30000000000000004}. Best is trial 2 with value: 0.36941276580442506.\n",
      "C:\\Users\\Lev\\AppData\\Local\\Temp\\ipykernel_8136\\304466756.py:22: FutureWarning: suggest_loguniform has been deprecated in v3.0.0. This feature will be removed in v6.0.0. See https://github.com/optuna/optuna/releases/tag/v3.0.0. Use suggest_float(..., log=True) instead.\n",
      "  'reg_alpha': trial.suggest_loguniform('reg_alpha', 1e-3, 10.0),\n",
      "C:\\Users\\Lev\\AppData\\Local\\Temp\\ipykernel_8136\\304466756.py:23: FutureWarning: suggest_loguniform has been deprecated in v3.0.0. This feature will be removed in v6.0.0. See https://github.com/optuna/optuna/releases/tag/v3.0.0. Use suggest_float(..., log=True) instead.\n",
      "  'reg_lambda': trial.suggest_loguniform('reg_lambda', 1e-3, 10.0),\n",
      "c:\\Users\\Lev\\miniconda3\\envs\\ds\\Lib\\site-packages\\optuna\\distributions.py:685: UserWarning: The distribution is specified by [0.2, 0.95] and step=0.1, but the range is not divisible by `step`. It will be replaced by [0.2, 0.9].\n",
      "  warnings.warn(\n",
      "c:\\Users\\Lev\\miniconda3\\envs\\ds\\Lib\\site-packages\\lightgbm\\sklearn.py:726: UserWarning: 'early_stopping_rounds' argument is deprecated and will be removed in a future release of LightGBM. Pass 'early_stopping()' callback via 'callbacks' argument instead.\n",
      "  _log_warning(\"'early_stopping_rounds' argument is deprecated and will be removed in a future release of LightGBM. \"\n",
      "c:\\Users\\Lev\\miniconda3\\envs\\ds\\Lib\\site-packages\\lightgbm\\sklearn.py:736: UserWarning: 'verbose' argument is deprecated and will be removed in a future release of LightGBM. Pass 'log_evaluation()' callback via 'callbacks' argument instead.\n",
      "  _log_warning(\"'verbose' argument is deprecated and will be removed in a future release of LightGBM. \"\n",
      "c:\\Users\\Lev\\miniconda3\\envs\\ds\\Lib\\site-packages\\lightgbm\\basic.py:2065: UserWarning: Using categorical_feature in Dataset.\n",
      "  _log_warning('Using categorical_feature in Dataset.')\n",
      "c:\\Users\\Lev\\miniconda3\\envs\\ds\\Lib\\site-packages\\lightgbm\\basic.py:2068: UserWarning: categorical_feature in Dataset is overridden.\n",
      "New categorical_feature is [0, 22, 23, 27]\n",
      "  _log_warning('categorical_feature in Dataset is overridden.\\n'\n"
     ]
    },
    {
     "name": "stdout",
     "output_type": "stream",
     "text": [
      "[LightGBM] [Warning] feature_fraction is set=0.7, colsample_bytree=0.7 will be ignored. Current value: feature_fraction=0.7\n"
     ]
    },
    {
     "name": "stderr",
     "output_type": "stream",
     "text": [
      "c:\\Users\\Lev\\miniconda3\\envs\\ds\\Lib\\site-packages\\lightgbm\\basic.py:1780: UserWarning: Overriding the parameters from Reference Dataset.\n",
      "  _log_warning('Overriding the parameters from Reference Dataset.')\n",
      "c:\\Users\\Lev\\miniconda3\\envs\\ds\\Lib\\site-packages\\lightgbm\\basic.py:1513: UserWarning: categorical_column in param dict is overridden.\n",
      "  _log_warning(f'{cat_alias} in param dict is overridden.')\n",
      "[I 2023-09-29 17:07:15,529] Trial 17 finished with value: 0.37535739199089824 and parameters: {'reg_alpha': 2.2340880680683104, 'reg_lambda': 0.0030992166987722203, 'colsample_bytree': 0.7, 'subsample': 0.7, 'learning_rate': 0.017, 'max_depth': 10, 'num_leaves': 99, 'min_child_samples': 117, 'feature_fraction': 0.7}. Best is trial 2 with value: 0.36941276580442506.\n",
      "C:\\Users\\Lev\\AppData\\Local\\Temp\\ipykernel_8136\\304466756.py:22: FutureWarning: suggest_loguniform has been deprecated in v3.0.0. This feature will be removed in v6.0.0. See https://github.com/optuna/optuna/releases/tag/v3.0.0. Use suggest_float(..., log=True) instead.\n",
      "  'reg_alpha': trial.suggest_loguniform('reg_alpha', 1e-3, 10.0),\n",
      "C:\\Users\\Lev\\AppData\\Local\\Temp\\ipykernel_8136\\304466756.py:23: FutureWarning: suggest_loguniform has been deprecated in v3.0.0. This feature will be removed in v6.0.0. See https://github.com/optuna/optuna/releases/tag/v3.0.0. Use suggest_float(..., log=True) instead.\n",
      "  'reg_lambda': trial.suggest_loguniform('reg_lambda', 1e-3, 10.0),\n",
      "c:\\Users\\Lev\\miniconda3\\envs\\ds\\Lib\\site-packages\\optuna\\distributions.py:685: UserWarning: The distribution is specified by [0.2, 0.95] and step=0.1, but the range is not divisible by `step`. It will be replaced by [0.2, 0.9].\n",
      "  warnings.warn(\n",
      "c:\\Users\\Lev\\miniconda3\\envs\\ds\\Lib\\site-packages\\lightgbm\\sklearn.py:726: UserWarning: 'early_stopping_rounds' argument is deprecated and will be removed in a future release of LightGBM. Pass 'early_stopping()' callback via 'callbacks' argument instead.\n",
      "  _log_warning(\"'early_stopping_rounds' argument is deprecated and will be removed in a future release of LightGBM. \"\n",
      "c:\\Users\\Lev\\miniconda3\\envs\\ds\\Lib\\site-packages\\lightgbm\\sklearn.py:736: UserWarning: 'verbose' argument is deprecated and will be removed in a future release of LightGBM. Pass 'log_evaluation()' callback via 'callbacks' argument instead.\n",
      "  _log_warning(\"'verbose' argument is deprecated and will be removed in a future release of LightGBM. \"\n",
      "c:\\Users\\Lev\\miniconda3\\envs\\ds\\Lib\\site-packages\\lightgbm\\basic.py:2065: UserWarning: Using categorical_feature in Dataset.\n",
      "  _log_warning('Using categorical_feature in Dataset.')\n",
      "c:\\Users\\Lev\\miniconda3\\envs\\ds\\Lib\\site-packages\\lightgbm\\basic.py:2068: UserWarning: categorical_feature in Dataset is overridden.\n",
      "New categorical_feature is [0, 22, 23, 27]\n",
      "  _log_warning('categorical_feature in Dataset is overridden.\\n'\n"
     ]
    },
    {
     "name": "stdout",
     "output_type": "stream",
     "text": [
      "[LightGBM] [Warning] feature_fraction is set=0.5, colsample_bytree=0.9 will be ignored. Current value: feature_fraction=0.5\n"
     ]
    },
    {
     "name": "stderr",
     "output_type": "stream",
     "text": [
      "c:\\Users\\Lev\\miniconda3\\envs\\ds\\Lib\\site-packages\\lightgbm\\basic.py:1780: UserWarning: Overriding the parameters from Reference Dataset.\n",
      "  _log_warning('Overriding the parameters from Reference Dataset.')\n",
      "c:\\Users\\Lev\\miniconda3\\envs\\ds\\Lib\\site-packages\\lightgbm\\basic.py:1513: UserWarning: categorical_column in param dict is overridden.\n",
      "  _log_warning(f'{cat_alias} in param dict is overridden.')\n"
     ]
    },
    {
     "name": "stdout",
     "output_type": "stream",
     "text": [
      "[500]\tvalid_0's l1: 3.99795\n"
     ]
    },
    {
     "name": "stderr",
     "output_type": "stream",
     "text": [
      "[I 2023-09-29 17:07:49,120] Trial 18 finished with value: 0.3704512977730157 and parameters: {'reg_alpha': 0.059449540792182363, 'reg_lambda': 0.023596672462162557, 'colsample_bytree': 0.9, 'subsample': 0.8, 'learning_rate': 0.008, 'max_depth': 100, 'num_leaves': 356, 'min_child_samples': 45, 'feature_fraction': 0.5}. Best is trial 2 with value: 0.36941276580442506.\n",
      "C:\\Users\\Lev\\AppData\\Local\\Temp\\ipykernel_8136\\304466756.py:22: FutureWarning: suggest_loguniform has been deprecated in v3.0.0. This feature will be removed in v6.0.0. See https://github.com/optuna/optuna/releases/tag/v3.0.0. Use suggest_float(..., log=True) instead.\n",
      "  'reg_alpha': trial.suggest_loguniform('reg_alpha', 1e-3, 10.0),\n",
      "C:\\Users\\Lev\\AppData\\Local\\Temp\\ipykernel_8136\\304466756.py:23: FutureWarning: suggest_loguniform has been deprecated in v3.0.0. This feature will be removed in v6.0.0. See https://github.com/optuna/optuna/releases/tag/v3.0.0. Use suggest_float(..., log=True) instead.\n",
      "  'reg_lambda': trial.suggest_loguniform('reg_lambda', 1e-3, 10.0),\n",
      "c:\\Users\\Lev\\miniconda3\\envs\\ds\\Lib\\site-packages\\optuna\\distributions.py:685: UserWarning: The distribution is specified by [0.2, 0.95] and step=0.1, but the range is not divisible by `step`. It will be replaced by [0.2, 0.9].\n",
      "  warnings.warn(\n",
      "c:\\Users\\Lev\\miniconda3\\envs\\ds\\Lib\\site-packages\\lightgbm\\sklearn.py:726: UserWarning: 'early_stopping_rounds' argument is deprecated and will be removed in a future release of LightGBM. Pass 'early_stopping()' callback via 'callbacks' argument instead.\n",
      "  _log_warning(\"'early_stopping_rounds' argument is deprecated and will be removed in a future release of LightGBM. \"\n",
      "c:\\Users\\Lev\\miniconda3\\envs\\ds\\Lib\\site-packages\\lightgbm\\sklearn.py:736: UserWarning: 'verbose' argument is deprecated and will be removed in a future release of LightGBM. Pass 'log_evaluation()' callback via 'callbacks' argument instead.\n",
      "  _log_warning(\"'verbose' argument is deprecated and will be removed in a future release of LightGBM. \"\n",
      "c:\\Users\\Lev\\miniconda3\\envs\\ds\\Lib\\site-packages\\lightgbm\\basic.py:2065: UserWarning: Using categorical_feature in Dataset.\n",
      "  _log_warning('Using categorical_feature in Dataset.')\n",
      "c:\\Users\\Lev\\miniconda3\\envs\\ds\\Lib\\site-packages\\lightgbm\\basic.py:2068: UserWarning: categorical_feature in Dataset is overridden.\n",
      "New categorical_feature is [0, 22, 23, 27]\n",
      "  _log_warning('categorical_feature in Dataset is overridden.\\n'\n"
     ]
    },
    {
     "name": "stdout",
     "output_type": "stream",
     "text": [
      "[LightGBM] [Warning] feature_fraction is set=0.6000000000000001, colsample_bytree=0.8 will be ignored. Current value: feature_fraction=0.6000000000000001\n"
     ]
    },
    {
     "name": "stderr",
     "output_type": "stream",
     "text": [
      "c:\\Users\\Lev\\miniconda3\\envs\\ds\\Lib\\site-packages\\lightgbm\\basic.py:1780: UserWarning: Overriding the parameters from Reference Dataset.\n",
      "  _log_warning('Overriding the parameters from Reference Dataset.')\n",
      "c:\\Users\\Lev\\miniconda3\\envs\\ds\\Lib\\site-packages\\lightgbm\\basic.py:1513: UserWarning: categorical_column in param dict is overridden.\n",
      "  _log_warning(f'{cat_alias} in param dict is overridden.')\n"
     ]
    },
    {
     "name": "stdout",
     "output_type": "stream",
     "text": [
      "[500]\tvalid_0's l1: 3.95722\n"
     ]
    },
    {
     "name": "stderr",
     "output_type": "stream",
     "text": [
      "[I 2023-09-29 17:08:28,361] Trial 19 finished with value: 0.3677937733328069 and parameters: {'reg_alpha': 2.902983991404626, 'reg_lambda': 0.0031181995004849255, 'colsample_bytree': 0.8, 'subsample': 0.5, 'learning_rate': 0.008, 'max_depth': 20, 'num_leaves': 618, 'min_child_samples': 99, 'feature_fraction': 0.6000000000000001}. Best is trial 19 with value: 0.3677937733328069.\n"
     ]
    }
   ],
   "source": [
    "study.optimize(objective, n_trials=10, callbacks=[callback])\n",
    "best_model=study.user_attrs[\"best_booster\"]"
   ]
  },
  {
   "cell_type": "code",
   "execution_count": 125,
   "metadata": {},
   "outputs": [
    {
     "name": "stdout",
     "output_type": "stream",
     "text": [
      "LGBM WAPE: 0.3677937733328069\n"
     ]
    },
    {
     "data": {
      "image/png": "[encoded data removed]",
      "text/plain": [
       "<Figure size 1500x500 with 1 Axes>"
      ]
     },
     "metadata": {},
     "output_type": "display_data"
    }
   ],
   "source": [
    "data=with_ma\n",
    "cols_to_drop=['sold', 'date', 'pr_sku_id', 'st_id']\n",
    "cat_features=['store_item', 'pr_sales_type_id', 'dow', 'season']\n",
    "\n",
    "end_train = data['date'].max() - pd.Timedelta(days=14)\n",
    "train = data[data['date'] <= end_train]\n",
    "valid = data[data['date'] > end_train]\n",
    "\n",
    "X_train = train.drop(cols_to_drop, axis=1)\n",
    "y_train = train['sold']\n",
    "X_valid = valid.drop(cols_to_drop, axis=1)\n",
    "y_valid = valid['sold']\n",
    "\n",
    "cat_idx = [X_train.columns.get_loc(col) for col in cat_features]\n",
    "\n",
    "for col in cat_features:\n",
    "    X_train[col] = pd.Categorical(X_train[col])\n",
    "    X_valid[col] = pd.Categorical(X_valid[col])\n",
    "\n",
    "lgbm_reg = best_model\n",
    "preds = lgbm_reg.predict(X_valid)\n",
    "lgbm_wape = wape(y_valid, preds)\n",
    "print(f\"LGBM WAPE: {lgbm_wape}\")\n",
    "\n",
    "plotImp(lgbm_reg, X_train)"
   ]
  },
  {
   "cell_type": "markdown",
   "metadata": {},
   "source": [
    "LGBM WAPE: 0.28035633797758186\n",
    "После оптимизации оптуной\n",
    "\n",
    "Feature importance\n",
    "1. store_item\n",
    "2. lag 1\n",
    "3. avg daily price\n",
    "4. dow\n",
    "5. ma2\n",
    "6. lag 7\n",
    "7. lag 21\n",
    "8. day of month\n",
    "9. week number \n",
    "10. lag 6\n",
    "11. lag 14\n",
    "12. discount %\n",
    "13. lag 13\n",
    "14. lag 20\n",
    "15. lag 9\n",
    "16. ma3\n",
    "17. lag 2\n",
    "18. lag 16\n",
    "19. lag 11\n",
    "20. lag 10"
   ]
  },
  {
   "cell_type": "code",
   "execution_count": 116,
   "metadata": {},
   "outputs": [
    {
     "data": {
      "text/plain": [
       "(780, 4)"
      ]
     },
     "execution_count": 116,
     "metadata": {},
     "output_type": "execute_result"
    }
   ],
   "source": [
    "#rewrite forecast algorythm so that the model could handle test with only store/sku/date\n",
    "#get lines from submission form\n",
    "sample_sub = pd.read_csv('sales_submission.csv')\n",
    "sample_sub['date'] = pd.to_datetime(sample_sub['date']).dt.normalize()\n",
    "sample_sub['store_item'] = sample_sub['st_id'].str.cat(sample_sub['pr_sku_id'], sep='-')\n",
    "flagman_sub = sample_sub[sample_sub['store_item'].isin(flagman['store_item'])]\n",
    "flagman_sub = flagman_sub.drop('store_item', axis=1)\n",
    "flagman_sub[flagman_sub['date'] == flagman_sub['date'].min()].shape"
   ]
  },
  {
   "cell_type": "code",
   "execution_count": 117,
   "metadata": {},
   "outputs": [],
   "source": [
    "def preprocess_test(pred_with_history):    \n",
    "    #index needs to be reset, as for non-first lines in a forecast they are equal\n",
    "    pred_with_history = pred_with_history.reset_index(drop=True)\n",
    "\n",
    "    #add lags\n",
    "    pred_with_history[['sold_lag_' + str(n) for n in range(1, 22)]] = pred_with_history[['sold_lag_' + str(n) for n in range(1, 22)]].fillna(method='ffill')\n",
    "    pred_with_history[['sold_lag_' + str(n) for n in range(1, 22)]] = pred_with_history[['sold_lag_' + str(n) for n in range(1, 22)]].shift(1, axis=1)\n",
    "    pred_with_history.loc[pred_with_history.index[-1], 'sold_lag_1'] = pred_with_history.loc[pred_with_history.index[0], 'sold']\n",
    "        \n",
    "    #no promo by default\n",
    "    pred_with_history['pr_sales_type_id'] = 0\n",
    "    pred_with_history['discount'] = 0    \n",
    "    \n",
    "    #add features of day-of-week, day-of-month, week, month, season\n",
    "    pred_with_history['dow'] = pred_with_history['date'].dt.dayofweek\n",
    "    pred_with_history['day'] = pred_with_history['date'].dt.day\n",
    "    pred_with_history['week'] = pred_with_history['date'].dt.isocalendar().week.astype('int32')\n",
    "    pred_with_history['month'] = pred_with_history['date'].dt.month\n",
    "    pred_with_history['season'] = pred_with_history['date'].dt.quarter    \n",
    "    \n",
    "    #take daily price from yesterday. replace with ARIMA counted later\n",
    "    pred_with_history['avg_daily_price'] = pred_with_history['avg_daily_price'].shift(1, axis=0)    \n",
    "    \n",
    "    #add moving averages\n",
    "    for n in range(2, 22):\n",
    "        pred_with_history['ma_' + str(n)] = pred_with_history[['sold_lag_' + str(x) for x in range(1, n+1)]].sum(axis=1) / n\n",
    "\n",
    "    #drop upper row\n",
    "    pred_with_history = pred_with_history.drop(pred_with_history.index[0], axis=0)    \n",
    "\n",
    "    return(pred_with_history)"
   ]
  },
  {
   "cell_type": "code",
   "execution_count": 118,
   "metadata": {},
   "outputs": [
    {
     "data": {
      "text/html": [
       "<div>\n",
       "<style scoped>\n",
       "    .dataframe tbody tr th:only-of-type {\n",
       "        vertical-align: middle;\n",
       "    }\n",
       "\n",
       "    .dataframe tbody tr th {\n",
       "        vertical-align: top;\n",
       "    }\n",
       "\n",
       "    .dataframe thead th {\n",
       "        text-align: right;\n",
       "    }\n",
       "</style>\n",
       "<table border=\"1\" class=\"dataframe\">\n",
       "  <thead>\n",
       "    <tr style=\"text-align: right;\">\n",
       "      <th></th>\n",
       "      <th>st_id</th>\n",
       "      <th>pr_sku_id</th>\n",
       "      <th>date</th>\n",
       "      <th>target</th>\n",
       "    </tr>\n",
       "  </thead>\n",
       "  <tbody>\n",
       "    <tr>\n",
       "      <th>25351</th>\n",
       "      <td>16a5cdae362b8d27a1d8f8c7b78b4330</td>\n",
       "      <td>b75c7cbf7accdaea8a1a14781bb29870</td>\n",
       "      <td>2023-07-19</td>\n",
       "      <td>0</td>\n",
       "    </tr>\n",
       "  </tbody>\n",
       "</table>\n",
       "</div>"
      ],
      "text/plain": [
       "                                  st_id                         pr_sku_id  \\\n",
       "25351  16a5cdae362b8d27a1d8f8c7b78b4330  b75c7cbf7accdaea8a1a14781bb29870   \n",
       "\n",
       "            date  target  \n",
       "25351 2023-07-19       0  "
      ]
     },
     "execution_count": 118,
     "metadata": {},
     "output_type": "execute_result"
    }
   ],
   "source": [
    "#this is what we'll get as input\n",
    "first_pred = flagman_sub[flagman_sub['date'] == flagman_sub['date'].min()].sample(1)\n",
    "first_pred"
   ]
  },
  {
   "cell_type": "code",
   "execution_count": 119,
   "metadata": {},
   "outputs": [
    {
     "data": {
      "text/html": [
       "<div>\n",
       "<style scoped>\n",
       "    .dataframe tbody tr th:only-of-type {\n",
       "        vertical-align: middle;\n",
       "    }\n",
       "\n",
       "    .dataframe tbody tr th {\n",
       "        vertical-align: top;\n",
       "    }\n",
       "\n",
       "    .dataframe thead th {\n",
       "        text-align: right;\n",
       "    }\n",
       "</style>\n",
       "<table border=\"1\" class=\"dataframe\">\n",
       "  <thead>\n",
       "    <tr style=\"text-align: right;\">\n",
       "      <th></th>\n",
       "      <th>st_id</th>\n",
       "      <th>pr_sku_id</th>\n",
       "      <th>date</th>\n",
       "      <th>target</th>\n",
       "    </tr>\n",
       "  </thead>\n",
       "  <tbody>\n",
       "    <tr>\n",
       "      <th>25351</th>\n",
       "      <td>16a5cdae362b8d27a1d8f8c7b78b4330</td>\n",
       "      <td>b75c7cbf7accdaea8a1a14781bb29870</td>\n",
       "      <td>2023-07-19</td>\n",
       "      <td>3</td>\n",
       "    </tr>\n",
       "    <tr>\n",
       "      <th>25351</th>\n",
       "      <td>16a5cdae362b8d27a1d8f8c7b78b4330</td>\n",
       "      <td>b75c7cbf7accdaea8a1a14781bb29870</td>\n",
       "      <td>2023-07-20</td>\n",
       "      <td>3</td>\n",
       "    </tr>\n",
       "    <tr>\n",
       "      <th>25351</th>\n",
       "      <td>16a5cdae362b8d27a1d8f8c7b78b4330</td>\n",
       "      <td>b75c7cbf7accdaea8a1a14781bb29870</td>\n",
       "      <td>2023-07-21</td>\n",
       "      <td>5</td>\n",
       "    </tr>\n",
       "    <tr>\n",
       "      <th>25351</th>\n",
       "      <td>16a5cdae362b8d27a1d8f8c7b78b4330</td>\n",
       "      <td>b75c7cbf7accdaea8a1a14781bb29870</td>\n",
       "      <td>2023-07-22</td>\n",
       "      <td>5</td>\n",
       "    </tr>\n",
       "    <tr>\n",
       "      <th>25351</th>\n",
       "      <td>16a5cdae362b8d27a1d8f8c7b78b4330</td>\n",
       "      <td>b75c7cbf7accdaea8a1a14781bb29870</td>\n",
       "      <td>2023-07-23</td>\n",
       "      <td>4</td>\n",
       "    </tr>\n",
       "    <tr>\n",
       "      <th>25351</th>\n",
       "      <td>16a5cdae362b8d27a1d8f8c7b78b4330</td>\n",
       "      <td>b75c7cbf7accdaea8a1a14781bb29870</td>\n",
       "      <td>2023-07-24</td>\n",
       "      <td>3</td>\n",
       "    </tr>\n",
       "    <tr>\n",
       "      <th>25351</th>\n",
       "      <td>16a5cdae362b8d27a1d8f8c7b78b4330</td>\n",
       "      <td>b75c7cbf7accdaea8a1a14781bb29870</td>\n",
       "      <td>2023-07-25</td>\n",
       "      <td>3</td>\n",
       "    </tr>\n",
       "    <tr>\n",
       "      <th>25351</th>\n",
       "      <td>16a5cdae362b8d27a1d8f8c7b78b4330</td>\n",
       "      <td>b75c7cbf7accdaea8a1a14781bb29870</td>\n",
       "      <td>2023-07-26</td>\n",
       "      <td>3</td>\n",
       "    </tr>\n",
       "    <tr>\n",
       "      <th>25351</th>\n",
       "      <td>16a5cdae362b8d27a1d8f8c7b78b4330</td>\n",
       "      <td>b75c7cbf7accdaea8a1a14781bb29870</td>\n",
       "      <td>2023-07-27</td>\n",
       "      <td>3</td>\n",
       "    </tr>\n",
       "    <tr>\n",
       "      <th>25351</th>\n",
       "      <td>16a5cdae362b8d27a1d8f8c7b78b4330</td>\n",
       "      <td>b75c7cbf7accdaea8a1a14781bb29870</td>\n",
       "      <td>2023-07-28</td>\n",
       "      <td>5</td>\n",
       "    </tr>\n",
       "    <tr>\n",
       "      <th>25351</th>\n",
       "      <td>16a5cdae362b8d27a1d8f8c7b78b4330</td>\n",
       "      <td>b75c7cbf7accdaea8a1a14781bb29870</td>\n",
       "      <td>2023-07-29</td>\n",
       "      <td>5</td>\n",
       "    </tr>\n",
       "    <tr>\n",
       "      <th>25351</th>\n",
       "      <td>16a5cdae362b8d27a1d8f8c7b78b4330</td>\n",
       "      <td>b75c7cbf7accdaea8a1a14781bb29870</td>\n",
       "      <td>2023-07-30</td>\n",
       "      <td>4</td>\n",
       "    </tr>\n",
       "    <tr>\n",
       "      <th>25351</th>\n",
       "      <td>16a5cdae362b8d27a1d8f8c7b78b4330</td>\n",
       "      <td>b75c7cbf7accdaea8a1a14781bb29870</td>\n",
       "      <td>2023-07-31</td>\n",
       "      <td>3</td>\n",
       "    </tr>\n",
       "    <tr>\n",
       "      <th>25351</th>\n",
       "      <td>16a5cdae362b8d27a1d8f8c7b78b4330</td>\n",
       "      <td>b75c7cbf7accdaea8a1a14781bb29870</td>\n",
       "      <td>2023-08-01</td>\n",
       "      <td>3</td>\n",
       "    </tr>\n",
       "  </tbody>\n",
       "</table>\n",
       "</div>"
      ],
      "text/plain": [
       "                                  st_id                         pr_sku_id  \\\n",
       "25351  16a5cdae362b8d27a1d8f8c7b78b4330  b75c7cbf7accdaea8a1a14781bb29870   \n",
       "25351  16a5cdae362b8d27a1d8f8c7b78b4330  b75c7cbf7accdaea8a1a14781bb29870   \n",
       "25351  16a5cdae362b8d27a1d8f8c7b78b4330  b75c7cbf7accdaea8a1a14781bb29870   \n",
       "25351  16a5cdae362b8d27a1d8f8c7b78b4330  b75c7cbf7accdaea8a1a14781bb29870   \n",
       "25351  16a5cdae362b8d27a1d8f8c7b78b4330  b75c7cbf7accdaea8a1a14781bb29870   \n",
       "25351  16a5cdae362b8d27a1d8f8c7b78b4330  b75c7cbf7accdaea8a1a14781bb29870   \n",
       "25351  16a5cdae362b8d27a1d8f8c7b78b4330  b75c7cbf7accdaea8a1a14781bb29870   \n",
       "25351  16a5cdae362b8d27a1d8f8c7b78b4330  b75c7cbf7accdaea8a1a14781bb29870   \n",
       "25351  16a5cdae362b8d27a1d8f8c7b78b4330  b75c7cbf7accdaea8a1a14781bb29870   \n",
       "25351  16a5cdae362b8d27a1d8f8c7b78b4330  b75c7cbf7accdaea8a1a14781bb29870   \n",
       "25351  16a5cdae362b8d27a1d8f8c7b78b4330  b75c7cbf7accdaea8a1a14781bb29870   \n",
       "25351  16a5cdae362b8d27a1d8f8c7b78b4330  b75c7cbf7accdaea8a1a14781bb29870   \n",
       "25351  16a5cdae362b8d27a1d8f8c7b78b4330  b75c7cbf7accdaea8a1a14781bb29870   \n",
       "25351  16a5cdae362b8d27a1d8f8c7b78b4330  b75c7cbf7accdaea8a1a14781bb29870   \n",
       "\n",
       "            date  target  \n",
       "25351 2023-07-19       3  \n",
       "25351 2023-07-20       3  \n",
       "25351 2023-07-21       5  \n",
       "25351 2023-07-22       5  \n",
       "25351 2023-07-23       4  \n",
       "25351 2023-07-24       3  \n",
       "25351 2023-07-25       3  \n",
       "25351 2023-07-26       3  \n",
       "25351 2023-07-27       3  \n",
       "25351 2023-07-28       5  \n",
       "25351 2023-07-29       5  \n",
       "25351 2023-07-30       4  \n",
       "25351 2023-07-31       3  \n",
       "25351 2023-08-01       3  "
      ]
     },
     "execution_count": 119,
     "metadata": {},
     "output_type": "execute_result"
    }
   ],
   "source": [
    "def make_forecast_for_sample_row(line_from_submission, h=14):\n",
    "    forecast = pd.DataFrame()\n",
    "    row = line_from_submission.copy()\n",
    "    start_date = row['date']\n",
    "    \n",
    "    for i in range(h):\n",
    "        row['date'] = start_date + pd.Timedelta(days=1*i)\n",
    "        lower_row = row.copy()\n",
    "\n",
    "        lower_row['store_item'] = lower_row['st_id'].str.cat(lower_row['pr_sku_id'], sep='-')\n",
    "\n",
    "        #if first line take lags from the last line of train. otherwise from previous predicted line\n",
    "        if i == 0:\n",
    "            last_train_date = with_ma['date'].max()\n",
    "            upper_row = with_ma[(with_ma['store_item'] == lower_row['store_item'].item()) & (with_ma['date'] == last_train_date)]\n",
    "        else:\n",
    "            upper_row = last_preprocessed\n",
    "        \n",
    "        #glue two lines together, the full and the empty that needs features to be added\n",
    "        pred_with_history = pd.concat([upper_row, lower_row])\n",
    "        last_preprocessed = preprocess_test(pred_with_history)\n",
    "        \n",
    "        #drop columns before model\n",
    "        X_test = last_preprocessed.drop(['sold', 'target', 'date', 'pr_sku_id', 'st_id'], axis=1)\n",
    "\n",
    "        #fix categorical\n",
    "        for col in cat_features:\n",
    "            X_test[col] = pd.Categorical(X_test[col])\n",
    "            \n",
    "        pred = lgbm_reg.predict(X_test)\n",
    "\n",
    "        #prediction becomes \"fact\" of the day we forecast to become lag_1 for the next day. also it goes to forecast table as target\n",
    "        last_preprocessed['sold'] = round(pred.item())\n",
    "        row['target'] = round(pred.item())\n",
    "        \n",
    "        forecast = pd.concat([forecast, row])\n",
    "        \n",
    "    return forecast\n",
    "\n",
    "make_forecast_for_sample_row(first_pred)"
   ]
  },
  {
   "cell_type": "code",
   "execution_count": 120,
   "metadata": {},
   "outputs": [
    {
     "data": {
      "text/html": [
       "<div>\n",
       "<style scoped>\n",
       "    .dataframe tbody tr th:only-of-type {\n",
       "        vertical-align: middle;\n",
       "    }\n",
       "\n",
       "    .dataframe tbody tr th {\n",
       "        vertical-align: top;\n",
       "    }\n",
       "\n",
       "    .dataframe thead th {\n",
       "        text-align: right;\n",
       "    }\n",
       "</style>\n",
       "<table border=\"1\" class=\"dataframe\">\n",
       "  <thead>\n",
       "    <tr style=\"text-align: right;\">\n",
       "      <th></th>\n",
       "      <th>sold</th>\n",
       "      <th>target</th>\n",
       "    </tr>\n",
       "    <tr>\n",
       "      <th>date</th>\n",
       "      <th></th>\n",
       "      <th></th>\n",
       "    </tr>\n",
       "  </thead>\n",
       "  <tbody>\n",
       "    <tr>\n",
       "      <th>2023-07-05</th>\n",
       "      <td>1.0</td>\n",
       "      <td>NaN</td>\n",
       "    </tr>\n",
       "    <tr>\n",
       "      <th>2023-07-06</th>\n",
       "      <td>2.0</td>\n",
       "      <td>NaN</td>\n",
       "    </tr>\n",
       "    <tr>\n",
       "      <th>2023-07-07</th>\n",
       "      <td>5.0</td>\n",
       "      <td>NaN</td>\n",
       "    </tr>\n",
       "    <tr>\n",
       "      <th>2023-07-08</th>\n",
       "      <td>4.0</td>\n",
       "      <td>NaN</td>\n",
       "    </tr>\n",
       "    <tr>\n",
       "      <th>2023-07-09</th>\n",
       "      <td>3.0</td>\n",
       "      <td>NaN</td>\n",
       "    </tr>\n",
       "    <tr>\n",
       "      <th>2023-07-10</th>\n",
       "      <td>3.0</td>\n",
       "      <td>NaN</td>\n",
       "    </tr>\n",
       "    <tr>\n",
       "      <th>2023-07-11</th>\n",
       "      <td>6.0</td>\n",
       "      <td>NaN</td>\n",
       "    </tr>\n",
       "    <tr>\n",
       "      <th>2023-07-12</th>\n",
       "      <td>3.0</td>\n",
       "      <td>NaN</td>\n",
       "    </tr>\n",
       "    <tr>\n",
       "      <th>2023-07-13</th>\n",
       "      <td>5.0</td>\n",
       "      <td>NaN</td>\n",
       "    </tr>\n",
       "    <tr>\n",
       "      <th>2023-07-14</th>\n",
       "      <td>7.0</td>\n",
       "      <td>NaN</td>\n",
       "    </tr>\n",
       "    <tr>\n",
       "      <th>2023-07-15</th>\n",
       "      <td>5.0</td>\n",
       "      <td>NaN</td>\n",
       "    </tr>\n",
       "    <tr>\n",
       "      <th>2023-07-16</th>\n",
       "      <td>4.0</td>\n",
       "      <td>NaN</td>\n",
       "    </tr>\n",
       "    <tr>\n",
       "      <th>2023-07-17</th>\n",
       "      <td>3.0</td>\n",
       "      <td>NaN</td>\n",
       "    </tr>\n",
       "    <tr>\n",
       "      <th>2023-07-18</th>\n",
       "      <td>4.0</td>\n",
       "      <td>NaN</td>\n",
       "    </tr>\n",
       "    <tr>\n",
       "      <th>2023-07-19</th>\n",
       "      <td>NaN</td>\n",
       "      <td>3.0</td>\n",
       "    </tr>\n",
       "    <tr>\n",
       "      <th>2023-07-20</th>\n",
       "      <td>NaN</td>\n",
       "      <td>3.0</td>\n",
       "    </tr>\n",
       "    <tr>\n",
       "      <th>2023-07-21</th>\n",
       "      <td>NaN</td>\n",
       "      <td>5.0</td>\n",
       "    </tr>\n",
       "    <tr>\n",
       "      <th>2023-07-22</th>\n",
       "      <td>NaN</td>\n",
       "      <td>5.0</td>\n",
       "    </tr>\n",
       "    <tr>\n",
       "      <th>2023-07-23</th>\n",
       "      <td>NaN</td>\n",
       "      <td>4.0</td>\n",
       "    </tr>\n",
       "    <tr>\n",
       "      <th>2023-07-24</th>\n",
       "      <td>NaN</td>\n",
       "      <td>3.0</td>\n",
       "    </tr>\n",
       "    <tr>\n",
       "      <th>2023-07-25</th>\n",
       "      <td>NaN</td>\n",
       "      <td>3.0</td>\n",
       "    </tr>\n",
       "    <tr>\n",
       "      <th>2023-07-26</th>\n",
       "      <td>NaN</td>\n",
       "      <td>3.0</td>\n",
       "    </tr>\n",
       "    <tr>\n",
       "      <th>2023-07-27</th>\n",
       "      <td>NaN</td>\n",
       "      <td>3.0</td>\n",
       "    </tr>\n",
       "    <tr>\n",
       "      <th>2023-07-28</th>\n",
       "      <td>NaN</td>\n",
       "      <td>5.0</td>\n",
       "    </tr>\n",
       "    <tr>\n",
       "      <th>2023-07-29</th>\n",
       "      <td>NaN</td>\n",
       "      <td>5.0</td>\n",
       "    </tr>\n",
       "    <tr>\n",
       "      <th>2023-07-30</th>\n",
       "      <td>NaN</td>\n",
       "      <td>4.0</td>\n",
       "    </tr>\n",
       "    <tr>\n",
       "      <th>2023-07-31</th>\n",
       "      <td>NaN</td>\n",
       "      <td>3.0</td>\n",
       "    </tr>\n",
       "    <tr>\n",
       "      <th>2023-08-01</th>\n",
       "      <td>NaN</td>\n",
       "      <td>3.0</td>\n",
       "    </tr>\n",
       "  </tbody>\n",
       "</table>\n",
       "</div>"
      ],
      "text/plain": [
       "            sold  target\n",
       "date                    \n",
       "2023-07-05   1.0     NaN\n",
       "2023-07-06   2.0     NaN\n",
       "2023-07-07   5.0     NaN\n",
       "2023-07-08   4.0     NaN\n",
       "2023-07-09   3.0     NaN\n",
       "2023-07-10   3.0     NaN\n",
       "2023-07-11   6.0     NaN\n",
       "2023-07-12   3.0     NaN\n",
       "2023-07-13   5.0     NaN\n",
       "2023-07-14   7.0     NaN\n",
       "2023-07-15   5.0     NaN\n",
       "2023-07-16   4.0     NaN\n",
       "2023-07-17   3.0     NaN\n",
       "2023-07-18   4.0     NaN\n",
       "2023-07-19   NaN     3.0\n",
       "2023-07-20   NaN     3.0\n",
       "2023-07-21   NaN     5.0\n",
       "2023-07-22   NaN     5.0\n",
       "2023-07-23   NaN     4.0\n",
       "2023-07-24   NaN     3.0\n",
       "2023-07-25   NaN     3.0\n",
       "2023-07-26   NaN     3.0\n",
       "2023-07-27   NaN     3.0\n",
       "2023-07-28   NaN     5.0\n",
       "2023-07-29   NaN     5.0\n",
       "2023-07-30   NaN     4.0\n",
       "2023-07-31   NaN     3.0\n",
       "2023-08-01   NaN     3.0"
      ]
     },
     "metadata": {},
     "output_type": "display_data"
    },
    {
     "data": {
      "image/png": "[encoded data removed]",
      "text/plain": [
       "<Figure size 1200x300 with 1 Axes>"
      ]
     },
     "metadata": {},
     "output_type": "display_data"
    }
   ],
   "source": [
    "# same as previous function but plots fact-forecast\n",
    "def forecast_and_plot(row, h=14):\n",
    "\n",
    "    first_pred['store_item'] = first_pred['st_id'].str.cat(first_pred['pr_sku_id'], sep='-')\n",
    "    last_train_date = with_ma['date'].max()\n",
    "    \n",
    "    fact = pd.DataFrame()    \n",
    "    for i in range(14):\n",
    "        line = with_ma[(with_ma['store_item'] == first_pred['store_item'].item()) & (with_ma['date'] == last_train_date - pd.Timedelta(days=(13-i)))]\n",
    "        fact = pd.concat([fact, line[['st_id', 'pr_sku_id', 'date', 'sold']]])\n",
    "\n",
    "    forecast = make_forecast_for_sample_row(first_pred)\n",
    "\n",
    "    total = pd.concat([fact, forecast])[['date', 'sold', 'target']].set_index('date')\n",
    "    display(total)\n",
    "\n",
    "    fig, ax = plt.subplots(figsize=(12, 3))\n",
    "    g = sns.lineplot(data=total)\n",
    "    plt.title(f\"Fact and forecast for product {first_pred['pr_sku_id'].item()} in store {first_pred['st_id'].item()}\")\n",
    "    plt.show()\n",
    "\n",
    "    \n",
    "\n",
    "forecast_and_plot(first_pred)\n"
   ]
  },
  {
   "cell_type": "code",
   "execution_count": null,
   "metadata": {},
   "outputs": [],
   "source": []
  }
 ],
 "metadata": {
  "kernelspec": {
   "display_name": "ds",
   "language": "python",
   "name": "python3"
  },
  "language_info": {
   "codemirror_mode": {
    "name": "ipython",
    "version": 3
   },
   "file_extension": ".py",
   "mimetype": "text/x-python",
   "name": "python",
   "nbconvert_exporter": "python",
   "pygments_lexer": "ipython3",
   "version": "3.11.5"
  },
  "orig_nbformat": 4
 },
 "nbformat": 4,
 "nbformat_minor": 2
}
